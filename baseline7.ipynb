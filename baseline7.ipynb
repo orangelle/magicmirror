{
 "cells": [
  {
   "cell_type": "code",
   "execution_count": 1,
   "metadata": {},
   "outputs": [],
   "source": [
    "import pandas as pd\n",
    "import numpy as np\n",
    "import lightgbm as lgb\n",
    "from sklearn.model_selection import StratifiedKFold\n",
    "from lightgbm.sklearn import LGBMClassifier\n",
    "from sklearn.metrics import mean_squared_error, mean_absolute_error, log_loss, accuracy_score\n",
    "from sklearn.feature_extraction.text import CountVectorizer\n",
    "from scipy import sparse\n",
    "from scipy.stats import kurtosis\n",
    "import time\n",
    "import warnings\n",
    "warnings.filterwarnings('ignore')\n",
    "pd.set_option('display.max_columns', None)\n",
    "pd.set_option('display.max_rows', 100)\n",
    "import datetime"
   ]
  },
  {
   "cell_type": "code",
   "execution_count": 2,
   "metadata": {},
   "outputs": [
    {
     "name": "stdout",
     "output_type": "stream",
     "text": [
      "New pandarallel memory created - Size: 10000 MB\n",
      "Pandarallel will run on 88 workers\n"
     ]
    }
   ],
   "source": [
    "import pandarallel as pdl\n",
    "pdl.pandarallel.initialize(10000)"
   ]
  },
  {
   "cell_type": "code",
   "execution_count": 3,
   "metadata": {},
   "outputs": [
    {
     "data": {
      "application/vnd.jupyter.widget-view+json": {
       "model_id": "863772e27a774f71bf218804b159a158",
       "version_major": 2,
       "version_minor": 0
      },
      "text/plain": [
       "HBox(children=(IntProgress(value=1, bar_style='info', max=1), HTML(value='')))"
      ]
     },
     "metadata": {},
     "output_type": "display_data"
    },
    {
     "name": "stdout",
     "output_type": "stream",
     "text": [
      "\n"
     ]
    }
   ],
   "source": [
    "from tqdm import tqdm, tqdm_notebook\n",
    "tqdm_notebook().pandas()"
   ]
  },
  {
   "cell_type": "code",
   "execution_count": 4,
   "metadata": {},
   "outputs": [],
   "source": [
    "train_df = pd.read_csv('dataset/train.csv', parse_dates=['auditing_date', 'due_date', 'repay_date'])"
   ]
  },
  {
   "cell_type": "code",
   "execution_count": 5,
   "metadata": {},
   "outputs": [
    {
     "data": {
      "text/html": [
       "<div>\n",
       "<style scoped>\n",
       "    .dataframe tbody tr th:only-of-type {\n",
       "        vertical-align: middle;\n",
       "    }\n",
       "\n",
       "    .dataframe tbody tr th {\n",
       "        vertical-align: top;\n",
       "    }\n",
       "\n",
       "    .dataframe thead th {\n",
       "        text-align: right;\n",
       "    }\n",
       "</style>\n",
       "<table border=\"1\" class=\"dataframe\">\n",
       "  <thead>\n",
       "    <tr style=\"text-align: right;\">\n",
       "      <th></th>\n",
       "      <th>user_id</th>\n",
       "      <th>listing_id</th>\n",
       "      <th>auditing_date</th>\n",
       "      <th>due_date</th>\n",
       "      <th>due_amt</th>\n",
       "      <th>repay_date</th>\n",
       "      <th>repay_amt</th>\n",
       "    </tr>\n",
       "  </thead>\n",
       "  <tbody>\n",
       "    <tr>\n",
       "      <th>0</th>\n",
       "      <td>748147</td>\n",
       "      <td>3163926</td>\n",
       "      <td>2018-04-25</td>\n",
       "      <td>2018-05-25</td>\n",
       "      <td>72.1167</td>\n",
       "      <td>2018-05-25</td>\n",
       "      <td>72.1167</td>\n",
       "    </tr>\n",
       "    <tr>\n",
       "      <th>1</th>\n",
       "      <td>672952</td>\n",
       "      <td>3698760</td>\n",
       "      <td>2018-06-09</td>\n",
       "      <td>2018-07-09</td>\n",
       "      <td>258.7045</td>\n",
       "      <td>2018-07-08</td>\n",
       "      <td>258.7045</td>\n",
       "    </tr>\n",
       "    <tr>\n",
       "      <th>2</th>\n",
       "      <td>404196</td>\n",
       "      <td>2355665</td>\n",
       "      <td>2018-02-18</td>\n",
       "      <td>2018-03-18</td>\n",
       "      <td>307.9270</td>\n",
       "      <td>\\N</td>\n",
       "      <td>\\N</td>\n",
       "    </tr>\n",
       "    <tr>\n",
       "      <th>3</th>\n",
       "      <td>342769</td>\n",
       "      <td>1994522</td>\n",
       "      <td>2018-01-13</td>\n",
       "      <td>2018-02-13</td>\n",
       "      <td>252.9809</td>\n",
       "      <td>2018-02-13</td>\n",
       "      <td>252.9809</td>\n",
       "    </tr>\n",
       "    <tr>\n",
       "      <th>4</th>\n",
       "      <td>828139</td>\n",
       "      <td>3602352</td>\n",
       "      <td>2018-06-01</td>\n",
       "      <td>2018-07-01</td>\n",
       "      <td>107.6503</td>\n",
       "      <td>2018-06-25</td>\n",
       "      <td>107.6503</td>\n",
       "    </tr>\n",
       "  </tbody>\n",
       "</table>\n",
       "</div>"
      ],
      "text/plain": [
       "   user_id  listing_id auditing_date   due_date   due_amt  repay_date  \\\n",
       "0   748147     3163926    2018-04-25 2018-05-25   72.1167  2018-05-25   \n",
       "1   672952     3698760    2018-06-09 2018-07-09  258.7045  2018-07-08   \n",
       "2   404196     2355665    2018-02-18 2018-03-18  307.9270          \\N   \n",
       "3   342769     1994522    2018-01-13 2018-02-13  252.9809  2018-02-13   \n",
       "4   828139     3602352    2018-06-01 2018-07-01  107.6503  2018-06-25   \n",
       "\n",
       "  repay_amt  \n",
       "0   72.1167  \n",
       "1  258.7045  \n",
       "2        \\N  \n",
       "3  252.9809  \n",
       "4  107.6503  "
      ]
     },
     "execution_count": 5,
     "metadata": {},
     "output_type": "execute_result"
    }
   ],
   "source": [
    "train_df.head()"
   ]
  },
  {
   "cell_type": "code",
   "execution_count": 6,
   "metadata": {},
   "outputs": [],
   "source": [
    "def plus_1_day(s):\n",
    "    return s + datetime.timedelta(days=1)"
   ]
  },
  {
   "cell_type": "code",
   "execution_count": 7,
   "metadata": {},
   "outputs": [],
   "source": [
    "# 如果违约,还款日期为due_date的后一天\n",
    "train_df['repay_date'] = train_df[['due_date', 'repay_date']].apply(\n",
    "    lambda x: x['repay_date'] if x['repay_date'] != '\\\\N' else plus_1_day(x['due_date']), axis=1\n",
    ")"
   ]
  },
  {
   "cell_type": "code",
   "execution_count": 8,
   "metadata": {},
   "outputs": [],
   "source": [
    "# 如果违约,还款金额为0\n",
    "train_df['repay_amt'] = train_df['repay_amt'].apply(lambda x: x if x != '\\\\N' else 0).astype('float32')"
   ]
  },
  {
   "cell_type": "code",
   "execution_count": 9,
   "metadata": {},
   "outputs": [],
   "source": [
    "# 设定label\n",
    "train_df['label'] = (train_df['due_date'] - train_df['repay_date']).dt.days"
   ]
  },
  {
   "cell_type": "code",
   "execution_count": 10,
   "metadata": {},
   "outputs": [
    {
     "data": {
      "text/html": [
       "<div>\n",
       "<style scoped>\n",
       "    .dataframe tbody tr th:only-of-type {\n",
       "        vertical-align: middle;\n",
       "    }\n",
       "\n",
       "    .dataframe tbody tr th {\n",
       "        vertical-align: top;\n",
       "    }\n",
       "\n",
       "    .dataframe thead th {\n",
       "        text-align: right;\n",
       "    }\n",
       "</style>\n",
       "<table border=\"1\" class=\"dataframe\">\n",
       "  <thead>\n",
       "    <tr style=\"text-align: right;\">\n",
       "      <th></th>\n",
       "      <th>user_id</th>\n",
       "      <th>listing_id</th>\n",
       "      <th>auditing_date</th>\n",
       "      <th>due_date</th>\n",
       "      <th>due_amt</th>\n",
       "      <th>repay_date</th>\n",
       "      <th>repay_amt</th>\n",
       "      <th>label</th>\n",
       "    </tr>\n",
       "  </thead>\n",
       "  <tbody>\n",
       "    <tr>\n",
       "      <th>0</th>\n",
       "      <td>748147</td>\n",
       "      <td>3163926</td>\n",
       "      <td>2018-04-25</td>\n",
       "      <td>2018-05-25</td>\n",
       "      <td>72.1167</td>\n",
       "      <td>2018-05-25</td>\n",
       "      <td>72.116699</td>\n",
       "      <td>0</td>\n",
       "    </tr>\n",
       "    <tr>\n",
       "      <th>1</th>\n",
       "      <td>672952</td>\n",
       "      <td>3698760</td>\n",
       "      <td>2018-06-09</td>\n",
       "      <td>2018-07-09</td>\n",
       "      <td>258.7045</td>\n",
       "      <td>2018-07-08</td>\n",
       "      <td>258.704498</td>\n",
       "      <td>1</td>\n",
       "    </tr>\n",
       "    <tr>\n",
       "      <th>2</th>\n",
       "      <td>404196</td>\n",
       "      <td>2355665</td>\n",
       "      <td>2018-02-18</td>\n",
       "      <td>2018-03-18</td>\n",
       "      <td>307.9270</td>\n",
       "      <td>2018-03-19</td>\n",
       "      <td>0.000000</td>\n",
       "      <td>-1</td>\n",
       "    </tr>\n",
       "    <tr>\n",
       "      <th>3</th>\n",
       "      <td>342769</td>\n",
       "      <td>1994522</td>\n",
       "      <td>2018-01-13</td>\n",
       "      <td>2018-02-13</td>\n",
       "      <td>252.9809</td>\n",
       "      <td>2018-02-13</td>\n",
       "      <td>252.980896</td>\n",
       "      <td>0</td>\n",
       "    </tr>\n",
       "    <tr>\n",
       "      <th>4</th>\n",
       "      <td>828139</td>\n",
       "      <td>3602352</td>\n",
       "      <td>2018-06-01</td>\n",
       "      <td>2018-07-01</td>\n",
       "      <td>107.6503</td>\n",
       "      <td>2018-06-25</td>\n",
       "      <td>107.650299</td>\n",
       "      <td>6</td>\n",
       "    </tr>\n",
       "  </tbody>\n",
       "</table>\n",
       "</div>"
      ],
      "text/plain": [
       "   user_id  listing_id auditing_date   due_date   due_amt repay_date  \\\n",
       "0   748147     3163926    2018-04-25 2018-05-25   72.1167 2018-05-25   \n",
       "1   672952     3698760    2018-06-09 2018-07-09  258.7045 2018-07-08   \n",
       "2   404196     2355665    2018-02-18 2018-03-18  307.9270 2018-03-19   \n",
       "3   342769     1994522    2018-01-13 2018-02-13  252.9809 2018-02-13   \n",
       "4   828139     3602352    2018-06-01 2018-07-01  107.6503 2018-06-25   \n",
       "\n",
       "    repay_amt  label  \n",
       "0   72.116699      0  \n",
       "1  258.704498      1  \n",
       "2    0.000000     -1  \n",
       "3  252.980896      0  \n",
       "4  107.650299      6  "
      ]
     },
     "execution_count": 10,
     "metadata": {},
     "output_type": "execute_result"
    }
   ],
   "source": [
    "train_df.head()"
   ]
  },
  {
   "cell_type": "code",
   "execution_count": 11,
   "metadata": {},
   "outputs": [
    {
     "data": {
      "text/plain": [
       " 0     408187\n",
       " 1     121085\n",
       " 2      59430\n",
       " 3      56404\n",
       " 4      26425\n",
       " 5      21380\n",
       " 6      17568\n",
       " 7      14797\n",
       " 8      12993\n",
       " 9      11393\n",
       " 10      9984\n",
       " 11      9002\n",
       " 12      8219\n",
       " 13      7688\n",
       " 14      6920\n",
       " 15      6443\n",
       " 16      6231\n",
       " 17      5832\n",
       " 18      5492\n",
       " 19      5108\n",
       " 20      4788\n",
       " 21      4504\n",
       " 22      4295\n",
       " 23      4197\n",
       " 24      3922\n",
       " 25      3934\n",
       " 26      3930\n",
       " 27      4102\n",
       " 28      4677\n",
       " 29      5645\n",
       " 30      9865\n",
       " 31      8368\n",
       "-1     117192\n",
       "Name: label, dtype: int64"
      ]
     },
     "execution_count": 11,
     "metadata": {},
     "output_type": "execute_result"
    }
   ],
   "source": [
    "train_df['label'].value_counts(sort=False)"
   ]
  },
  {
   "cell_type": "code",
   "execution_count": 12,
   "metadata": {},
   "outputs": [
    {
     "data": {
      "text/plain": [
       "33"
      ]
     },
     "execution_count": 12,
     "metadata": {},
     "output_type": "execute_result"
    }
   ],
   "source": [
    "train_df['label'].nunique()"
   ]
  },
  {
   "cell_type": "code",
   "execution_count": 13,
   "metadata": {},
   "outputs": [],
   "source": [
    "# 为什么要把-1换作32:方便分类编号和日期对应\n",
    "# train_df.loc[train_df['repay_amt'] == -1, 'label'] = 32 错误写法\n",
    "train_df['label'].replace(-1, 32, inplace=True)"
   ]
  },
  {
   "cell_type": "code",
   "execution_count": 14,
   "metadata": {},
   "outputs": [],
   "source": [
    "clf_labels = train_df['label'].values"
   ]
  },
  {
   "cell_type": "code",
   "execution_count": 15,
   "metadata": {},
   "outputs": [
    {
     "data": {
      "text/plain": [
       "(1000000,)"
      ]
     },
     "execution_count": 15,
     "metadata": {},
     "output_type": "execute_result"
    }
   ],
   "source": [
    "clf_labels.shape"
   ]
  },
  {
   "cell_type": "code",
   "execution_count": 16,
   "metadata": {},
   "outputs": [],
   "source": [
    "amt_labels = train_df['repay_amt'].values"
   ]
  },
  {
   "cell_type": "code",
   "execution_count": 17,
   "metadata": {},
   "outputs": [],
   "source": [
    "del train_df['label'], train_df['repay_amt'], train_df['repay_date']"
   ]
  },
  {
   "cell_type": "code",
   "execution_count": 18,
   "metadata": {},
   "outputs": [],
   "source": [
    "train_due_amt_df = train_df[['due_amt']]"
   ]
  },
  {
   "cell_type": "code",
   "execution_count": 19,
   "metadata": {},
   "outputs": [],
   "source": [
    "train_num = train_df.shape[0]"
   ]
  },
  {
   "cell_type": "code",
   "execution_count": 20,
   "metadata": {},
   "outputs": [],
   "source": [
    "test_df = pd.read_csv('dataset/test.csv', parse_dates=['auditing_date', 'due_date'])"
   ]
  },
  {
   "cell_type": "code",
   "execution_count": 21,
   "metadata": {},
   "outputs": [
    {
     "data": {
      "text/html": [
       "<div>\n",
       "<style scoped>\n",
       "    .dataframe tbody tr th:only-of-type {\n",
       "        vertical-align: middle;\n",
       "    }\n",
       "\n",
       "    .dataframe tbody tr th {\n",
       "        vertical-align: top;\n",
       "    }\n",
       "\n",
       "    .dataframe thead th {\n",
       "        text-align: right;\n",
       "    }\n",
       "</style>\n",
       "<table border=\"1\" class=\"dataframe\">\n",
       "  <thead>\n",
       "    <tr style=\"text-align: right;\">\n",
       "      <th></th>\n",
       "      <th>user_id</th>\n",
       "      <th>listing_id</th>\n",
       "      <th>auditing_date</th>\n",
       "      <th>due_date</th>\n",
       "      <th>due_amt</th>\n",
       "    </tr>\n",
       "  </thead>\n",
       "  <tbody>\n",
       "    <tr>\n",
       "      <th>0</th>\n",
       "      <td>498765</td>\n",
       "      <td>5431438</td>\n",
       "      <td>2019-03-12</td>\n",
       "      <td>2019-04-12</td>\n",
       "      <td>138.5903</td>\n",
       "    </tr>\n",
       "    <tr>\n",
       "      <th>1</th>\n",
       "      <td>34524</td>\n",
       "      <td>5443211</td>\n",
       "      <td>2019-03-15</td>\n",
       "      <td>2019-04-15</td>\n",
       "      <td>208.0805</td>\n",
       "    </tr>\n",
       "    <tr>\n",
       "      <th>2</th>\n",
       "      <td>821741</td>\n",
       "      <td>5461707</td>\n",
       "      <td>2019-03-22</td>\n",
       "      <td>2019-04-22</td>\n",
       "      <td>421.2097</td>\n",
       "    </tr>\n",
       "    <tr>\n",
       "      <th>3</th>\n",
       "      <td>263534</td>\n",
       "      <td>5472320</td>\n",
       "      <td>2019-03-26</td>\n",
       "      <td>2019-04-26</td>\n",
       "      <td>212.6537</td>\n",
       "    </tr>\n",
       "    <tr>\n",
       "      <th>4</th>\n",
       "      <td>238853</td>\n",
       "      <td>5459750</td>\n",
       "      <td>2019-03-21</td>\n",
       "      <td>2019-04-21</td>\n",
       "      <td>817.4593</td>\n",
       "    </tr>\n",
       "  </tbody>\n",
       "</table>\n",
       "</div>"
      ],
      "text/plain": [
       "   user_id  listing_id auditing_date   due_date   due_amt\n",
       "0   498765     5431438    2019-03-12 2019-04-12  138.5903\n",
       "1    34524     5443211    2019-03-15 2019-04-15  208.0805\n",
       "2   821741     5461707    2019-03-22 2019-04-22  421.2097\n",
       "3   263534     5472320    2019-03-26 2019-04-26  212.6537\n",
       "4   238853     5459750    2019-03-21 2019-04-21  817.4593"
      ]
     },
     "execution_count": 21,
     "metadata": {},
     "output_type": "execute_result"
    }
   ],
   "source": [
    "test_df.head()"
   ]
  },
  {
   "cell_type": "code",
   "execution_count": 22,
   "metadata": {},
   "outputs": [],
   "source": [
    "sub = test_df[['user_id', 'listing_id', 'auditing_date', 'due_amt', 'due_date']]"
   ]
  },
  {
   "cell_type": "code",
   "execution_count": 23,
   "metadata": {},
   "outputs": [
    {
     "data": {
      "text/html": [
       "<div>\n",
       "<style scoped>\n",
       "    .dataframe tbody tr th:only-of-type {\n",
       "        vertical-align: middle;\n",
       "    }\n",
       "\n",
       "    .dataframe tbody tr th {\n",
       "        vertical-align: top;\n",
       "    }\n",
       "\n",
       "    .dataframe thead th {\n",
       "        text-align: right;\n",
       "    }\n",
       "</style>\n",
       "<table border=\"1\" class=\"dataframe\">\n",
       "  <thead>\n",
       "    <tr style=\"text-align: right;\">\n",
       "      <th></th>\n",
       "      <th>user_id</th>\n",
       "      <th>listing_id</th>\n",
       "      <th>auditing_date</th>\n",
       "      <th>due_amt</th>\n",
       "      <th>due_date</th>\n",
       "    </tr>\n",
       "  </thead>\n",
       "  <tbody>\n",
       "    <tr>\n",
       "      <th>0</th>\n",
       "      <td>498765</td>\n",
       "      <td>5431438</td>\n",
       "      <td>2019-03-12</td>\n",
       "      <td>138.5903</td>\n",
       "      <td>2019-04-12</td>\n",
       "    </tr>\n",
       "    <tr>\n",
       "      <th>1</th>\n",
       "      <td>34524</td>\n",
       "      <td>5443211</td>\n",
       "      <td>2019-03-15</td>\n",
       "      <td>208.0805</td>\n",
       "      <td>2019-04-15</td>\n",
       "    </tr>\n",
       "    <tr>\n",
       "      <th>2</th>\n",
       "      <td>821741</td>\n",
       "      <td>5461707</td>\n",
       "      <td>2019-03-22</td>\n",
       "      <td>421.2097</td>\n",
       "      <td>2019-04-22</td>\n",
       "    </tr>\n",
       "    <tr>\n",
       "      <th>3</th>\n",
       "      <td>263534</td>\n",
       "      <td>5472320</td>\n",
       "      <td>2019-03-26</td>\n",
       "      <td>212.6537</td>\n",
       "      <td>2019-04-26</td>\n",
       "    </tr>\n",
       "    <tr>\n",
       "      <th>4</th>\n",
       "      <td>238853</td>\n",
       "      <td>5459750</td>\n",
       "      <td>2019-03-21</td>\n",
       "      <td>817.4593</td>\n",
       "      <td>2019-04-21</td>\n",
       "    </tr>\n",
       "  </tbody>\n",
       "</table>\n",
       "</div>"
      ],
      "text/plain": [
       "   user_id  listing_id auditing_date   due_amt   due_date\n",
       "0   498765     5431438    2019-03-12  138.5903 2019-04-12\n",
       "1    34524     5443211    2019-03-15  208.0805 2019-04-15\n",
       "2   821741     5461707    2019-03-22  421.2097 2019-04-22\n",
       "3   263534     5472320    2019-03-26  212.6537 2019-04-26\n",
       "4   238853     5459750    2019-03-21  817.4593 2019-04-21"
      ]
     },
     "execution_count": 23,
     "metadata": {},
     "output_type": "execute_result"
    }
   ],
   "source": [
    "sub.head()"
   ]
  },
  {
   "cell_type": "code",
   "execution_count": 24,
   "metadata": {},
   "outputs": [
    {
     "data": {
      "text/plain": [
       "(130000, 5)"
      ]
     },
     "execution_count": 24,
     "metadata": {},
     "output_type": "execute_result"
    }
   ],
   "source": [
    "test_df.shape"
   ]
  },
  {
   "cell_type": "code",
   "execution_count": 25,
   "metadata": {},
   "outputs": [],
   "source": [
    "df = pd.concat([train_df, test_df], axis=0, ignore_index=True)"
   ]
  },
  {
   "cell_type": "code",
   "execution_count": 26,
   "metadata": {},
   "outputs": [
    {
     "data": {
      "text/plain": [
       "(1130000, 5)"
      ]
     },
     "execution_count": 26,
     "metadata": {},
     "output_type": "execute_result"
    }
   ],
   "source": [
    "df.shape"
   ]
  },
  {
   "cell_type": "code",
   "execution_count": 27,
   "metadata": {},
   "outputs": [],
   "source": [
    "df_listing_id = df['listing_id']"
   ]
  },
  {
   "cell_type": "code",
   "execution_count": 43,
   "metadata": {},
   "outputs": [],
   "source": [
    "# 时间对比控制不用未来的数据\n",
    "def merge_before_auditing(df, df2, df2_time='info_insert_date', on='user_id'):\n",
    "    df3 = df.merge(df2, on=on, how='left')\n",
    "    df4 = df3[(df3['auditing_date']>df3[df2_time])]\n",
    "    df5 = df.merge(df4, on=df.columns.tolist(), how='left')\n",
    "    return df5"
   ]
  },
  {
   "cell_type": "markdown",
   "metadata": {},
   "source": [
    "# *listing_info*"
   ]
  },
  {
   "cell_type": "code",
   "execution_count": 28,
   "metadata": {},
   "outputs": [],
   "source": [
    "listing_info_df = pd.read_csv('dataset/listing_info.csv')"
   ]
  },
  {
   "cell_type": "code",
   "execution_count": 29,
   "metadata": {},
   "outputs": [
    {
     "data": {
      "text/html": [
       "<div>\n",
       "<style scoped>\n",
       "    .dataframe tbody tr th:only-of-type {\n",
       "        vertical-align: middle;\n",
       "    }\n",
       "\n",
       "    .dataframe tbody tr th {\n",
       "        vertical-align: top;\n",
       "    }\n",
       "\n",
       "    .dataframe thead th {\n",
       "        text-align: right;\n",
       "    }\n",
       "</style>\n",
       "<table border=\"1\" class=\"dataframe\">\n",
       "  <thead>\n",
       "    <tr style=\"text-align: right;\">\n",
       "      <th></th>\n",
       "      <th>user_id</th>\n",
       "      <th>listing_id</th>\n",
       "      <th>auditing_date</th>\n",
       "      <th>term</th>\n",
       "      <th>rate</th>\n",
       "      <th>principal</th>\n",
       "    </tr>\n",
       "  </thead>\n",
       "  <tbody>\n",
       "    <tr>\n",
       "      <th>0</th>\n",
       "      <td>316610</td>\n",
       "      <td>1556649</td>\n",
       "      <td>2017-11-26</td>\n",
       "      <td>9</td>\n",
       "      <td>7.6</td>\n",
       "      <td>4800</td>\n",
       "    </tr>\n",
       "    <tr>\n",
       "      <th>1</th>\n",
       "      <td>62002</td>\n",
       "      <td>1556633</td>\n",
       "      <td>2017-11-26</td>\n",
       "      <td>6</td>\n",
       "      <td>7.6</td>\n",
       "      <td>4000</td>\n",
       "    </tr>\n",
       "    <tr>\n",
       "      <th>2</th>\n",
       "      <td>192135</td>\n",
       "      <td>1556629</td>\n",
       "      <td>2017-11-26</td>\n",
       "      <td>12</td>\n",
       "      <td>8.0</td>\n",
       "      <td>8660</td>\n",
       "    </tr>\n",
       "    <tr>\n",
       "      <th>3</th>\n",
       "      <td>487382</td>\n",
       "      <td>1556628</td>\n",
       "      <td>2017-11-26</td>\n",
       "      <td>9</td>\n",
       "      <td>7.6</td>\n",
       "      <td>4780</td>\n",
       "    </tr>\n",
       "    <tr>\n",
       "      <th>4</th>\n",
       "      <td>235186</td>\n",
       "      <td>1556627</td>\n",
       "      <td>2017-11-26</td>\n",
       "      <td>9</td>\n",
       "      <td>7.6</td>\n",
       "      <td>1480</td>\n",
       "    </tr>\n",
       "  </tbody>\n",
       "</table>\n",
       "</div>"
      ],
      "text/plain": [
       "   user_id  listing_id auditing_date  term  rate  principal\n",
       "0   316610     1556649    2017-11-26     9   7.6       4800\n",
       "1    62002     1556633    2017-11-26     6   7.6       4000\n",
       "2   192135     1556629    2017-11-26    12   8.0       8660\n",
       "3   487382     1556628    2017-11-26     9   7.6       4780\n",
       "4   235186     1556627    2017-11-26     9   7.6       1480"
      ]
     },
     "execution_count": 29,
     "metadata": {},
     "output_type": "execute_result"
    }
   ],
   "source": [
    "listing_info_df.head()"
   ]
  },
  {
   "cell_type": "markdown",
   "metadata": {},
   "source": [
    "## 历史贷款信息的统计特征"
   ]
  },
  {
   "cell_type": "code",
   "execution_count": null,
   "metadata": {},
   "outputs": [],
   "source": [
    "listing_hist_df = listing_info_df.drop(columns=['listing_id'])\n",
    "listing_hist_df.rename({'auditing_date': 'hist_auditing_date'},axis=1)"
   ]
  },
  {
   "cell_type": "code",
   "execution_count": null,
   "metadata": {},
   "outputs": [],
   "source": [
    "df = merge_before_auditing(df, listing_hist_df, df2_time='hist_auditing_date', on=\"user_id\")"
   ]
  },
  {
   "cell_type": "code",
   "execution_count": null,
   "metadata": {},
   "outputs": [],
   "source": [
    "groups = df.groupby('listing_id', as_index=False)"
   ]
  },
  {
   "cell_type": "code",
   "execution_count": null,
   "metadata": {},
   "outputs": [],
   "source": [
    "df = df.merge(groups.index.agg({'hist_loans': len}))\n",
    "df['hist_loans'].fillna(0, inplace=True)"
   ]
  },
  {
   "cell_type": "code",
   "execution_count": null,
   "metadata": {},
   "outputs": [],
   "source": [
    "# 总利息估算\n",
    "df['interest']=(1+df['term'])*df['principal']*df['rate']/24"
   ]
  },
  {
   "cell_type": "code",
   "execution_count": null,
   "metadata": {},
   "outputs": [],
   "source": [
    "df = df.merge(groups['interest'].agg({\n",
    "    'hist_interest_mean':'mean', 'hist_interest_median':'median', 'hist_interest_std':'std', 'hist_interest_max':'max', \n",
    "    'hist_interest_min':'min', 'hist_interest_skew':'skew', 'hist_interest_sum':'sum'\n",
    "}))"
   ]
  },
  {
   "cell_type": "code",
   "execution_count": null,
   "metadata": {},
   "outputs": [],
   "source": [
    "df = df.merge(groups['pricipal'].agg({\n",
    "    'hist_principal_mean':'mean', 'hist_principal_median':'median', 'hist_pricipal_std':'std', 'hist_pricipal_max':'max', \n",
    "    'hist_pricipal_min':'min', 'hist_principal_skew':'skew', 'hist_principal_sum':'sum'\n",
    "}))"
   ]
  },
  {
   "cell_type": "code",
   "execution_count": null,
   "metadata": {},
   "outputs": [],
   "source": [
    "df = df.merge(groups['term'].agg({\n",
    "    'hist_term_mean':'mean', 'hist_term_median':'median', 'hist_term_std':'std', 'hist_term_max':'max', \n",
    "    'hist_term_min':'min', 'hist_term_skew':'skew'， 'hist_term_sum':'sum'\n",
    "}))"
   ]
  },
  {
   "cell_type": "code",
   "execution_count": null,
   "metadata": {},
   "outputs": [],
   "source": [
    "df = df.drop_duplicates('listing_id').reset_index(drop=True)"
   ]
  },
  {
   "cell_type": "code",
   "execution_count": null,
   "metadata": {},
   "outputs": [],
   "source": [
    "del df['hist_auditin_date'], dt['term'], dt['rate'], dt['principle'], dt['interest']"
   ]
  },
  {
   "cell_type": "markdown",
   "metadata": {},
   "source": [
    "## 当前贷款信息的特征"
   ]
  },
  {
   "cell_type": "code",
   "execution_count": 30,
   "metadata": {},
   "outputs": [],
   "source": [
    "del listing_info_df['user_id'], listing_info_df['auditing_date']"
   ]
  },
  {
   "cell_type": "code",
   "execution_count": 31,
   "metadata": {},
   "outputs": [
    {
     "data": {
      "text/html": [
       "<div>\n",
       "<style scoped>\n",
       "    .dataframe tbody tr th:only-of-type {\n",
       "        vertical-align: middle;\n",
       "    }\n",
       "\n",
       "    .dataframe tbody tr th {\n",
       "        vertical-align: top;\n",
       "    }\n",
       "\n",
       "    .dataframe thead th {\n",
       "        text-align: right;\n",
       "    }\n",
       "</style>\n",
       "<table border=\"1\" class=\"dataframe\">\n",
       "  <thead>\n",
       "    <tr style=\"text-align: right;\">\n",
       "      <th></th>\n",
       "      <th>listing_id</th>\n",
       "      <th>term</th>\n",
       "      <th>rate</th>\n",
       "      <th>principal</th>\n",
       "    </tr>\n",
       "  </thead>\n",
       "  <tbody>\n",
       "    <tr>\n",
       "      <th>0</th>\n",
       "      <td>1556649</td>\n",
       "      <td>9</td>\n",
       "      <td>7.6</td>\n",
       "      <td>4800</td>\n",
       "    </tr>\n",
       "    <tr>\n",
       "      <th>1</th>\n",
       "      <td>1556633</td>\n",
       "      <td>6</td>\n",
       "      <td>7.6</td>\n",
       "      <td>4000</td>\n",
       "    </tr>\n",
       "    <tr>\n",
       "      <th>2</th>\n",
       "      <td>1556629</td>\n",
       "      <td>12</td>\n",
       "      <td>8.0</td>\n",
       "      <td>8660</td>\n",
       "    </tr>\n",
       "    <tr>\n",
       "      <th>3</th>\n",
       "      <td>1556628</td>\n",
       "      <td>9</td>\n",
       "      <td>7.6</td>\n",
       "      <td>4780</td>\n",
       "    </tr>\n",
       "    <tr>\n",
       "      <th>4</th>\n",
       "      <td>1556627</td>\n",
       "      <td>9</td>\n",
       "      <td>7.6</td>\n",
       "      <td>1480</td>\n",
       "    </tr>\n",
       "  </tbody>\n",
       "</table>\n",
       "</div>"
      ],
      "text/plain": [
       "   listing_id  term  rate  principal\n",
       "0     1556649     9   7.6       4800\n",
       "1     1556633     6   7.6       4000\n",
       "2     1556629    12   8.0       8660\n",
       "3     1556628     9   7.6       4780\n",
       "4     1556627     9   7.6       1480"
      ]
     },
     "execution_count": 31,
     "metadata": {},
     "output_type": "execute_result"
    }
   ],
   "source": [
    "listing_info_df.head()"
   ]
  },
  {
   "cell_type": "code",
   "execution_count": 32,
   "metadata": {},
   "outputs": [],
   "source": [
    "listing_info_df['平均每月借款金额'] = listing_info_df['principal'] / listing_info_df['term']"
   ]
  },
  {
   "cell_type": "code",
   "execution_count": 33,
   "metadata": {},
   "outputs": [
    {
     "data": {
      "text/html": [
       "<div>\n",
       "<style scoped>\n",
       "    .dataframe tbody tr th:only-of-type {\n",
       "        vertical-align: middle;\n",
       "    }\n",
       "\n",
       "    .dataframe tbody tr th {\n",
       "        vertical-align: top;\n",
       "    }\n",
       "\n",
       "    .dataframe thead th {\n",
       "        text-align: right;\n",
       "    }\n",
       "</style>\n",
       "<table border=\"1\" class=\"dataframe\">\n",
       "  <thead>\n",
       "    <tr style=\"text-align: right;\">\n",
       "      <th></th>\n",
       "      <th>listing_id</th>\n",
       "      <th>term</th>\n",
       "      <th>rate</th>\n",
       "      <th>principal</th>\n",
       "      <th>平均每月借款金额</th>\n",
       "    </tr>\n",
       "  </thead>\n",
       "  <tbody>\n",
       "    <tr>\n",
       "      <th>0</th>\n",
       "      <td>1556649</td>\n",
       "      <td>9</td>\n",
       "      <td>7.6</td>\n",
       "      <td>4800</td>\n",
       "      <td>533.333333</td>\n",
       "    </tr>\n",
       "    <tr>\n",
       "      <th>1</th>\n",
       "      <td>1556633</td>\n",
       "      <td>6</td>\n",
       "      <td>7.6</td>\n",
       "      <td>4000</td>\n",
       "      <td>666.666667</td>\n",
       "    </tr>\n",
       "    <tr>\n",
       "      <th>2</th>\n",
       "      <td>1556629</td>\n",
       "      <td>12</td>\n",
       "      <td>8.0</td>\n",
       "      <td>8660</td>\n",
       "      <td>721.666667</td>\n",
       "    </tr>\n",
       "    <tr>\n",
       "      <th>3</th>\n",
       "      <td>1556628</td>\n",
       "      <td>9</td>\n",
       "      <td>7.6</td>\n",
       "      <td>4780</td>\n",
       "      <td>531.111111</td>\n",
       "    </tr>\n",
       "    <tr>\n",
       "      <th>4</th>\n",
       "      <td>1556627</td>\n",
       "      <td>9</td>\n",
       "      <td>7.6</td>\n",
       "      <td>1480</td>\n",
       "      <td>164.444444</td>\n",
       "    </tr>\n",
       "  </tbody>\n",
       "</table>\n",
       "</div>"
      ],
      "text/plain": [
       "   listing_id  term  rate  principal    平均每月借款金额\n",
       "0     1556649     9   7.6       4800  533.333333\n",
       "1     1556633     6   7.6       4000  666.666667\n",
       "2     1556629    12   8.0       8660  721.666667\n",
       "3     1556628     9   7.6       4780  531.111111\n",
       "4     1556627     9   7.6       1480  164.444444"
      ]
     },
     "execution_count": 33,
     "metadata": {},
     "output_type": "execute_result"
    }
   ],
   "source": [
    "listing_info_df.head()"
   ]
  },
  {
   "cell_type": "code",
   "execution_count": 34,
   "metadata": {},
   "outputs": [],
   "source": [
    "df = df.merge(listing_info_df, on='listing_id', how='left')"
   ]
  },
  {
   "cell_type": "code",
   "execution_count": 35,
   "metadata": {},
   "outputs": [
    {
     "data": {
      "text/html": [
       "<div>\n",
       "<style scoped>\n",
       "    .dataframe tbody tr th:only-of-type {\n",
       "        vertical-align: middle;\n",
       "    }\n",
       "\n",
       "    .dataframe tbody tr th {\n",
       "        vertical-align: top;\n",
       "    }\n",
       "\n",
       "    .dataframe thead th {\n",
       "        text-align: right;\n",
       "    }\n",
       "</style>\n",
       "<table border=\"1\" class=\"dataframe\">\n",
       "  <thead>\n",
       "    <tr style=\"text-align: right;\">\n",
       "      <th></th>\n",
       "      <th>user_id</th>\n",
       "      <th>listing_id</th>\n",
       "      <th>auditing_date</th>\n",
       "      <th>due_date</th>\n",
       "      <th>due_amt</th>\n",
       "      <th>term</th>\n",
       "      <th>rate</th>\n",
       "      <th>principal</th>\n",
       "      <th>平均每月借款金额</th>\n",
       "    </tr>\n",
       "  </thead>\n",
       "  <tbody>\n",
       "    <tr>\n",
       "      <th>0</th>\n",
       "      <td>748147</td>\n",
       "      <td>3163926</td>\n",
       "      <td>2018-04-25</td>\n",
       "      <td>2018-05-25</td>\n",
       "      <td>72.1167</td>\n",
       "      <td>9</td>\n",
       "      <td>7.2</td>\n",
       "      <td>630</td>\n",
       "      <td>70.000000</td>\n",
       "    </tr>\n",
       "    <tr>\n",
       "      <th>1</th>\n",
       "      <td>672952</td>\n",
       "      <td>3698760</td>\n",
       "      <td>2018-06-09</td>\n",
       "      <td>2018-07-09</td>\n",
       "      <td>258.7045</td>\n",
       "      <td>9</td>\n",
       "      <td>7.2</td>\n",
       "      <td>2260</td>\n",
       "      <td>251.111111</td>\n",
       "    </tr>\n",
       "    <tr>\n",
       "      <th>2</th>\n",
       "      <td>404196</td>\n",
       "      <td>2355665</td>\n",
       "      <td>2018-02-18</td>\n",
       "      <td>2018-03-18</td>\n",
       "      <td>307.9270</td>\n",
       "      <td>9</td>\n",
       "      <td>7.2</td>\n",
       "      <td>2690</td>\n",
       "      <td>298.888889</td>\n",
       "    </tr>\n",
       "    <tr>\n",
       "      <th>3</th>\n",
       "      <td>342769</td>\n",
       "      <td>1994522</td>\n",
       "      <td>2018-01-13</td>\n",
       "      <td>2018-02-13</td>\n",
       "      <td>252.9809</td>\n",
       "      <td>9</td>\n",
       "      <td>7.2</td>\n",
       "      <td>2210</td>\n",
       "      <td>245.555556</td>\n",
       "    </tr>\n",
       "    <tr>\n",
       "      <th>4</th>\n",
       "      <td>828139</td>\n",
       "      <td>3602352</td>\n",
       "      <td>2018-06-01</td>\n",
       "      <td>2018-07-01</td>\n",
       "      <td>107.6503</td>\n",
       "      <td>6</td>\n",
       "      <td>8.6</td>\n",
       "      <td>630</td>\n",
       "      <td>105.000000</td>\n",
       "    </tr>\n",
       "  </tbody>\n",
       "</table>\n",
       "</div>"
      ],
      "text/plain": [
       "   user_id  listing_id auditing_date   due_date   due_amt  term  rate  \\\n",
       "0   748147     3163926    2018-04-25 2018-05-25   72.1167     9   7.2   \n",
       "1   672952     3698760    2018-06-09 2018-07-09  258.7045     9   7.2   \n",
       "2   404196     2355665    2018-02-18 2018-03-18  307.9270     9   7.2   \n",
       "3   342769     1994522    2018-01-13 2018-02-13  252.9809     9   7.2   \n",
       "4   828139     3602352    2018-06-01 2018-07-01  107.6503     6   8.6   \n",
       "\n",
       "   principal    平均每月借款金额  \n",
       "0        630   70.000000  \n",
       "1       2260  251.111111  \n",
       "2       2690  298.888889  \n",
       "3       2210  245.555556  \n",
       "4        630  105.000000  "
      ]
     },
     "execution_count": 35,
     "metadata": {},
     "output_type": "execute_result"
    }
   ],
   "source": [
    "df.head()"
   ]
  },
  {
   "cell_type": "code",
   "execution_count": 36,
   "metadata": {},
   "outputs": [],
   "source": [
    "cate_cols2 = []"
   ]
  },
  {
   "cell_type": "code",
   "execution_count": 37,
   "metadata": {},
   "outputs": [],
   "source": [
    "df['总还款金额'] = df['term'] * df['due_amt']\n",
    "df['总利息'] = df['总还款金额'] - df['principal']\n",
    "df['每月利息'] = df['总利息'] / df['term']\n",
    "df['总利息/总还款金额'] = df['总利息'] / df['总还款金额']\n",
    "df['平均每月借款金额/due_amt'] = df['平均每月借款金额'] / df['due_amt']\n",
    "df['总利息/principal'] = df['总利息'] / df['principal']\n",
    "df['总利息/总还款金额'] = df['总利息'] / df['总还款金额']\n",
    "df['还款期限'] = (df['due_date'] - df['auditing_date']).dt.days\n",
    "df['首期平均每日还款'] = df['due_amt'] / df['还款期限']\n",
    "df['due_date星期几'] = df['due_date'].dt.dayofweek\n",
    "df['auditing_date星期几'] = df['auditing_date'].dt.dayofweek\n",
    "# 这2个特征下面有处理\n",
    "# df['due_date是当月第几日'] = df['due_date'].dt.day\n",
    "# df['auditing_date是当月第几日'] = df['auditing_date'].dt.day"
   ]
  },
  {
   "cell_type": "code",
   "execution_count": 38,
   "metadata": {},
   "outputs": [],
   "source": [
    "cate_cols2.append('due_date星期几')\n",
    "cate_cols2.append('auditing_date星期几')\n",
    "cate_cols2.append('还款期限')"
   ]
  },
  {
   "cell_type": "code",
   "execution_count": null,
   "metadata": {},
   "outputs": [],
   "source": [
    "list_info_list.drop(columns=['listing_id'])"
   ]
  },
  {
   "cell_type": "code",
   "execution_count": 39,
   "metadata": {},
   "outputs": [
    {
     "data": {
      "text/html": [
       "<div>\n",
       "<style scoped>\n",
       "    .dataframe tbody tr th:only-of-type {\n",
       "        vertical-align: middle;\n",
       "    }\n",
       "\n",
       "    .dataframe tbody tr th {\n",
       "        vertical-align: top;\n",
       "    }\n",
       "\n",
       "    .dataframe thead th {\n",
       "        text-align: right;\n",
       "    }\n",
       "</style>\n",
       "<table border=\"1\" class=\"dataframe\">\n",
       "  <thead>\n",
       "    <tr style=\"text-align: right;\">\n",
       "      <th></th>\n",
       "      <th>user_id</th>\n",
       "      <th>listing_id</th>\n",
       "      <th>auditing_date</th>\n",
       "      <th>due_date</th>\n",
       "      <th>due_amt</th>\n",
       "      <th>term</th>\n",
       "      <th>rate</th>\n",
       "      <th>principal</th>\n",
       "      <th>平均每月借款金额</th>\n",
       "      <th>总还款金额</th>\n",
       "      <th>总利息</th>\n",
       "      <th>每月利息</th>\n",
       "      <th>总利息/总还款金额</th>\n",
       "      <th>平均每月借款金额/due_amt</th>\n",
       "      <th>总利息/principal</th>\n",
       "      <th>还款期限</th>\n",
       "      <th>首期平均每日还款</th>\n",
       "      <th>due_date星期几</th>\n",
       "      <th>auditing_date星期几</th>\n",
       "    </tr>\n",
       "  </thead>\n",
       "  <tbody>\n",
       "    <tr>\n",
       "      <th>0</th>\n",
       "      <td>748147</td>\n",
       "      <td>3163926</td>\n",
       "      <td>2018-04-25</td>\n",
       "      <td>2018-05-25</td>\n",
       "      <td>72.1167</td>\n",
       "      <td>9</td>\n",
       "      <td>7.2</td>\n",
       "      <td>630</td>\n",
       "      <td>70.000000</td>\n",
       "      <td>649.0503</td>\n",
       "      <td>19.0503</td>\n",
       "      <td>2.116700</td>\n",
       "      <td>0.029351</td>\n",
       "      <td>0.970649</td>\n",
       "      <td>0.030239</td>\n",
       "      <td>30</td>\n",
       "      <td>2.403890</td>\n",
       "      <td>4</td>\n",
       "      <td>2</td>\n",
       "    </tr>\n",
       "    <tr>\n",
       "      <th>1</th>\n",
       "      <td>672952</td>\n",
       "      <td>3698760</td>\n",
       "      <td>2018-06-09</td>\n",
       "      <td>2018-07-09</td>\n",
       "      <td>258.7045</td>\n",
       "      <td>9</td>\n",
       "      <td>7.2</td>\n",
       "      <td>2260</td>\n",
       "      <td>251.111111</td>\n",
       "      <td>2328.3405</td>\n",
       "      <td>68.3405</td>\n",
       "      <td>7.593389</td>\n",
       "      <td>0.029352</td>\n",
       "      <td>0.970648</td>\n",
       "      <td>0.030239</td>\n",
       "      <td>30</td>\n",
       "      <td>8.623483</td>\n",
       "      <td>0</td>\n",
       "      <td>5</td>\n",
       "    </tr>\n",
       "    <tr>\n",
       "      <th>2</th>\n",
       "      <td>404196</td>\n",
       "      <td>2355665</td>\n",
       "      <td>2018-02-18</td>\n",
       "      <td>2018-03-18</td>\n",
       "      <td>307.9270</td>\n",
       "      <td>9</td>\n",
       "      <td>7.2</td>\n",
       "      <td>2690</td>\n",
       "      <td>298.888889</td>\n",
       "      <td>2771.3430</td>\n",
       "      <td>81.3430</td>\n",
       "      <td>9.038111</td>\n",
       "      <td>0.029351</td>\n",
       "      <td>0.970649</td>\n",
       "      <td>0.030239</td>\n",
       "      <td>28</td>\n",
       "      <td>10.997393</td>\n",
       "      <td>6</td>\n",
       "      <td>6</td>\n",
       "    </tr>\n",
       "    <tr>\n",
       "      <th>3</th>\n",
       "      <td>342769</td>\n",
       "      <td>1994522</td>\n",
       "      <td>2018-01-13</td>\n",
       "      <td>2018-02-13</td>\n",
       "      <td>252.9809</td>\n",
       "      <td>9</td>\n",
       "      <td>7.2</td>\n",
       "      <td>2210</td>\n",
       "      <td>245.555556</td>\n",
       "      <td>2276.8281</td>\n",
       "      <td>66.8281</td>\n",
       "      <td>7.425344</td>\n",
       "      <td>0.029351</td>\n",
       "      <td>0.970649</td>\n",
       "      <td>0.030239</td>\n",
       "      <td>31</td>\n",
       "      <td>8.160674</td>\n",
       "      <td>1</td>\n",
       "      <td>5</td>\n",
       "    </tr>\n",
       "    <tr>\n",
       "      <th>4</th>\n",
       "      <td>828139</td>\n",
       "      <td>3602352</td>\n",
       "      <td>2018-06-01</td>\n",
       "      <td>2018-07-01</td>\n",
       "      <td>107.6503</td>\n",
       "      <td>6</td>\n",
       "      <td>8.6</td>\n",
       "      <td>630</td>\n",
       "      <td>105.000000</td>\n",
       "      <td>645.9018</td>\n",
       "      <td>15.9018</td>\n",
       "      <td>2.650300</td>\n",
       "      <td>0.024620</td>\n",
       "      <td>0.975380</td>\n",
       "      <td>0.025241</td>\n",
       "      <td>30</td>\n",
       "      <td>3.588343</td>\n",
       "      <td>6</td>\n",
       "      <td>4</td>\n",
       "    </tr>\n",
       "  </tbody>\n",
       "</table>\n",
       "</div>"
      ],
      "text/plain": [
       "   user_id  listing_id auditing_date   due_date   due_amt  term  rate  \\\n",
       "0   748147     3163926    2018-04-25 2018-05-25   72.1167     9   7.2   \n",
       "1   672952     3698760    2018-06-09 2018-07-09  258.7045     9   7.2   \n",
       "2   404196     2355665    2018-02-18 2018-03-18  307.9270     9   7.2   \n",
       "3   342769     1994522    2018-01-13 2018-02-13  252.9809     9   7.2   \n",
       "4   828139     3602352    2018-06-01 2018-07-01  107.6503     6   8.6   \n",
       "\n",
       "   principal    平均每月借款金额      总还款金额      总利息      每月利息  总利息/总还款金额  \\\n",
       "0        630   70.000000   649.0503  19.0503  2.116700   0.029351   \n",
       "1       2260  251.111111  2328.3405  68.3405  7.593389   0.029352   \n",
       "2       2690  298.888889  2771.3430  81.3430  9.038111   0.029351   \n",
       "3       2210  245.555556  2276.8281  66.8281  7.425344   0.029351   \n",
       "4        630  105.000000   645.9018  15.9018  2.650300   0.024620   \n",
       "\n",
       "   平均每月借款金额/due_amt  总利息/principal  还款期限   首期平均每日还款  due_date星期几  \\\n",
       "0          0.970649       0.030239    30   2.403890            4   \n",
       "1          0.970648       0.030239    30   8.623483            0   \n",
       "2          0.970649       0.030239    28  10.997393            6   \n",
       "3          0.970649       0.030239    31   8.160674            1   \n",
       "4          0.975380       0.025241    30   3.588343            6   \n",
       "\n",
       "   auditing_date星期几  \n",
       "0                 2  \n",
       "1                 5  \n",
       "2                 6  \n",
       "3                 5  \n",
       "4                 4  "
      ]
     },
     "execution_count": 39,
     "metadata": {},
     "output_type": "execute_result"
    }
   ],
   "source": [
    "df.head()"
   ]
  },
  {
   "cell_type": "markdown",
   "metadata": {},
   "source": [
    "# *user_info*"
   ]
  },
  {
   "cell_type": "code",
   "execution_count": 40,
   "metadata": {},
   "outputs": [],
   "source": [
    "user_info_df = pd.read_csv('dataset/user_info.csv', parse_dates=['reg_mon', 'insertdate'])"
   ]
  },
  {
   "cell_type": "code",
   "execution_count": 41,
   "metadata": {},
   "outputs": [
    {
     "data": {
      "text/html": [
       "<div>\n",
       "<style scoped>\n",
       "    .dataframe tbody tr th:only-of-type {\n",
       "        vertical-align: middle;\n",
       "    }\n",
       "\n",
       "    .dataframe tbody tr th {\n",
       "        vertical-align: top;\n",
       "    }\n",
       "\n",
       "    .dataframe thead th {\n",
       "        text-align: right;\n",
       "    }\n",
       "</style>\n",
       "<table border=\"1\" class=\"dataframe\">\n",
       "  <thead>\n",
       "    <tr style=\"text-align: right;\">\n",
       "      <th></th>\n",
       "      <th>user_id</th>\n",
       "      <th>reg_mon</th>\n",
       "      <th>gender</th>\n",
       "      <th>age</th>\n",
       "      <th>cell_province</th>\n",
       "      <th>id_province</th>\n",
       "      <th>id_city</th>\n",
       "      <th>insertdate</th>\n",
       "    </tr>\n",
       "  </thead>\n",
       "  <tbody>\n",
       "    <tr>\n",
       "      <th>0</th>\n",
       "      <td>483833</td>\n",
       "      <td>2017-04-01</td>\n",
       "      <td>男</td>\n",
       "      <td>19</td>\n",
       "      <td>c29</td>\n",
       "      <td>c26</td>\n",
       "      <td>c26241</td>\n",
       "      <td>2018-12-11</td>\n",
       "    </tr>\n",
       "    <tr>\n",
       "      <th>1</th>\n",
       "      <td>156772</td>\n",
       "      <td>2016-05-01</td>\n",
       "      <td>男</td>\n",
       "      <td>31</td>\n",
       "      <td>c11</td>\n",
       "      <td>c11</td>\n",
       "      <td>c11159</td>\n",
       "      <td>2018-02-13</td>\n",
       "    </tr>\n",
       "    <tr>\n",
       "      <th>2</th>\n",
       "      <td>173388</td>\n",
       "      <td>2016-05-01</td>\n",
       "      <td>男</td>\n",
       "      <td>34</td>\n",
       "      <td>c02</td>\n",
       "      <td>c02</td>\n",
       "      <td>c02182</td>\n",
       "      <td>2018-08-21</td>\n",
       "    </tr>\n",
       "    <tr>\n",
       "      <th>3</th>\n",
       "      <td>199107</td>\n",
       "      <td>2016-07-01</td>\n",
       "      <td>女</td>\n",
       "      <td>25</td>\n",
       "      <td>c09</td>\n",
       "      <td>c09</td>\n",
       "      <td>c09046</td>\n",
       "      <td>2018-06-05</td>\n",
       "    </tr>\n",
       "    <tr>\n",
       "      <th>4</th>\n",
       "      <td>122560</td>\n",
       "      <td>2016-03-01</td>\n",
       "      <td>男</td>\n",
       "      <td>23</td>\n",
       "      <td>c05</td>\n",
       "      <td>c05</td>\n",
       "      <td>c05193</td>\n",
       "      <td>2018-04-02</td>\n",
       "    </tr>\n",
       "  </tbody>\n",
       "</table>\n",
       "</div>"
      ],
      "text/plain": [
       "   user_id    reg_mon gender  age cell_province id_province id_city insertdate\n",
       "0   483833 2017-04-01      男   19           c29         c26  c26241 2018-12-11\n",
       "1   156772 2016-05-01      男   31           c11         c11  c11159 2018-02-13\n",
       "2   173388 2016-05-01      男   34           c02         c02  c02182 2018-08-21\n",
       "3   199107 2016-07-01      女   25           c09         c09  c09046 2018-06-05\n",
       "4   122560 2016-03-01      男   23           c05         c05  c05193 2018-04-02"
      ]
     },
     "execution_count": 41,
     "metadata": {},
     "output_type": "execute_result"
    }
   ],
   "source": [
    "user_info_df.head()"
   ]
  },
  {
   "cell_type": "code",
   "execution_count": 42,
   "metadata": {},
   "outputs": [],
   "source": [
    "user_info_df.rename(columns={'insertdate': 'info_insert_date'}, inplace=True)"
   ]
  },
  {
   "cell_type": "code",
   "execution_count": 44,
   "metadata": {},
   "outputs": [],
   "source": [
    "df = merge_before_auditing(df, user_info_df, df2_time='info_insert_date', on='user_id')"
   ]
  },
  {
   "cell_type": "code",
   "execution_count": 45,
   "metadata": {},
   "outputs": [],
   "source": [
    "df = df.sort_values(by='info_insert_date', ascending=False).drop_duplicates('listing_id').sort_index().reset_index(drop=True)"
   ]
  },
  {
   "cell_type": "code",
   "execution_count": 46,
   "metadata": {},
   "outputs": [],
   "source": [
    "df['注册时间距离贷款'] = (df['auditing_date'] - df['reg_mon']).dt.days"
   ]
  },
  {
   "cell_type": "code",
   "execution_count": 47,
   "metadata": {},
   "outputs": [],
   "source": [
    "df['注册时间距个人信息更新时间'] = (df['info_insert_date'] - df['reg_mon']).dt.days"
   ]
  },
  {
   "cell_type": "code",
   "execution_count": 48,
   "metadata": {},
   "outputs": [],
   "source": [
    "df['手机号和身份证是否同意城市'] = (df['cell_province'] == df['id_province']).apply(lambda s: 1 if s is True else 0)"
   ]
  },
  {
   "cell_type": "code",
   "execution_count": 49,
   "metadata": {},
   "outputs": [
    {
     "data": {
      "text/plain": [
       "(1130000, 29)"
      ]
     },
     "execution_count": 49,
     "metadata": {},
     "output_type": "execute_result"
    }
   ],
   "source": [
    "df.shape"
   ]
  },
  {
   "cell_type": "code",
   "execution_count": 50,
   "metadata": {},
   "outputs": [
    {
     "data": {
      "text/plain": [
       "(array([], dtype=int64),)"
      ]
     },
     "execution_count": 50,
     "metadata": {},
     "output_type": "execute_result"
    }
   ],
   "source": [
    "np.where((df['listing_id'] == df_listing_id)==False)"
   ]
  },
  {
   "cell_type": "markdown",
   "metadata": {},
   "source": [
    "# *user_taglist*"
   ]
  },
  {
   "cell_type": "code",
   "execution_count": 51,
   "metadata": {},
   "outputs": [],
   "source": [
    "user_tag_df = pd.read_csv('dataset/user_taglist.csv', parse_dates=['insertdate'])"
   ]
  },
  {
   "cell_type": "code",
   "execution_count": 52,
   "metadata": {},
   "outputs": [
    {
     "data": {
      "text/html": [
       "<div>\n",
       "<style scoped>\n",
       "    .dataframe tbody tr th:only-of-type {\n",
       "        vertical-align: middle;\n",
       "    }\n",
       "\n",
       "    .dataframe tbody tr th {\n",
       "        vertical-align: top;\n",
       "    }\n",
       "\n",
       "    .dataframe thead th {\n",
       "        text-align: right;\n",
       "    }\n",
       "</style>\n",
       "<table border=\"1\" class=\"dataframe\">\n",
       "  <thead>\n",
       "    <tr style=\"text-align: right;\">\n",
       "      <th></th>\n",
       "      <th>user_id</th>\n",
       "      <th>taglist</th>\n",
       "      <th>insertdate</th>\n",
       "    </tr>\n",
       "  </thead>\n",
       "  <tbody>\n",
       "    <tr>\n",
       "      <th>0</th>\n",
       "      <td>113401</td>\n",
       "      <td>4707|473|3498|4759|1654|298|2869|1164|212|1885...</td>\n",
       "      <td>2018-10-03</td>\n",
       "    </tr>\n",
       "    <tr>\n",
       "      <th>1</th>\n",
       "      <td>378358</td>\n",
       "      <td>751|2207|1100|2099|1832|1911|5347|2254|171|360...</td>\n",
       "      <td>2018-11-30</td>\n",
       "    </tr>\n",
       "    <tr>\n",
       "      <th>2</th>\n",
       "      <td>434838</td>\n",
       "      <td>877|3795|5628|70|2684|691|719|4228|631|1541|12...</td>\n",
       "      <td>2018-03-25</td>\n",
       "    </tr>\n",
       "    <tr>\n",
       "      <th>3</th>\n",
       "      <td>577061</td>\n",
       "      <td>2431|3242|340|1823|4020|4357|164|620|2168|1192...</td>\n",
       "      <td>2018-05-25</td>\n",
       "    </tr>\n",
       "    <tr>\n",
       "      <th>4</th>\n",
       "      <td>566753</td>\n",
       "      <td>3980|3125|1819|1333|1177|3972|621|5800|3632|16...</td>\n",
       "      <td>2018-12-02</td>\n",
       "    </tr>\n",
       "  </tbody>\n",
       "</table>\n",
       "</div>"
      ],
      "text/plain": [
       "   user_id                                            taglist insertdate\n",
       "0   113401  4707|473|3498|4759|1654|298|2869|1164|212|1885... 2018-10-03\n",
       "1   378358  751|2207|1100|2099|1832|1911|5347|2254|171|360... 2018-11-30\n",
       "2   434838  877|3795|5628|70|2684|691|719|4228|631|1541|12... 2018-03-25\n",
       "3   577061  2431|3242|340|1823|4020|4357|164|620|2168|1192... 2018-05-25\n",
       "4   566753  3980|3125|1819|1333|1177|3972|621|5800|3632|16... 2018-12-02"
      ]
     },
     "execution_count": 52,
     "metadata": {},
     "output_type": "execute_result"
    }
   ],
   "source": [
    "user_tag_df.head()"
   ]
  },
  {
   "cell_type": "code",
   "execution_count": 53,
   "metadata": {},
   "outputs": [],
   "source": [
    "user_tag_df.rename(columns={'insertdate': 'tag_insert_date'}, inplace=True)"
   ]
  },
  {
   "cell_type": "code",
   "execution_count": 54,
   "metadata": {},
   "outputs": [],
   "source": [
    "df = merge_before_auditing(df, user_tag_df, df2_time='tag_insert_date', on='user_id')"
   ]
  },
  {
   "cell_type": "code",
   "execution_count": 55,
   "metadata": {},
   "outputs": [],
   "source": [
    "df = df.sort_values(by='tag_insert_date', ascending=False).drop_duplicates('listing_id').sort_index().reset_index(drop=True)"
   ]
  },
  {
   "cell_type": "code",
   "execution_count": 56,
   "metadata": {},
   "outputs": [
    {
     "data": {
      "text/plain": [
       "(1130000, 31)"
      ]
     },
     "execution_count": 56,
     "metadata": {},
     "output_type": "execute_result"
    }
   ],
   "source": [
    "df.shape"
   ]
  },
  {
   "cell_type": "code",
   "execution_count": 57,
   "metadata": {},
   "outputs": [
    {
     "data": {
      "text/plain": [
       "(array([], dtype=int64),)"
      ]
     },
     "execution_count": 57,
     "metadata": {},
     "output_type": "execute_result"
    }
   ],
   "source": [
    "np.where((df['listing_id'] == df_listing_id)==False)"
   ]
  },
  {
   "cell_type": "markdown",
   "metadata": {},
   "source": [
    "# *user_behavior_logs*"
   ]
  },
  {
   "cell_type": "code",
   "execution_count": 58,
   "metadata": {},
   "outputs": [],
   "source": [
    "user_behavior_df = pd.read_csv('dataset/user_behavior_logs.csv', parse_dates=['behavior_time'])"
   ]
  },
  {
   "cell_type": "code",
   "execution_count": 59,
   "metadata": {},
   "outputs": [
    {
     "data": {
      "text/html": [
       "<div>\n",
       "<style scoped>\n",
       "    .dataframe tbody tr th:only-of-type {\n",
       "        vertical-align: middle;\n",
       "    }\n",
       "\n",
       "    .dataframe tbody tr th {\n",
       "        vertical-align: top;\n",
       "    }\n",
       "\n",
       "    .dataframe thead th {\n",
       "        text-align: right;\n",
       "    }\n",
       "</style>\n",
       "<table border=\"1\" class=\"dataframe\">\n",
       "  <thead>\n",
       "    <tr style=\"text-align: right;\">\n",
       "      <th></th>\n",
       "      <th>user_id</th>\n",
       "      <th>behavior_time</th>\n",
       "      <th>behavior_type</th>\n",
       "    </tr>\n",
       "  </thead>\n",
       "  <tbody>\n",
       "    <tr>\n",
       "      <th>0</th>\n",
       "      <td>842439</td>\n",
       "      <td>2018-09-13 23:17:21</td>\n",
       "      <td>3</td>\n",
       "    </tr>\n",
       "    <tr>\n",
       "      <th>1</th>\n",
       "      <td>842439</td>\n",
       "      <td>2018-09-13 23:17:21</td>\n",
       "      <td>3</td>\n",
       "    </tr>\n",
       "    <tr>\n",
       "      <th>2</th>\n",
       "      <td>905214</td>\n",
       "      <td>2018-09-13 15:19:30</td>\n",
       "      <td>3</td>\n",
       "    </tr>\n",
       "    <tr>\n",
       "      <th>3</th>\n",
       "      <td>905214</td>\n",
       "      <td>2018-09-13 15:19:30</td>\n",
       "      <td>3</td>\n",
       "    </tr>\n",
       "    <tr>\n",
       "      <th>4</th>\n",
       "      <td>842439</td>\n",
       "      <td>2018-09-13 23:17:21</td>\n",
       "      <td>3</td>\n",
       "    </tr>\n",
       "  </tbody>\n",
       "</table>\n",
       "</div>"
      ],
      "text/plain": [
       "   user_id       behavior_time  behavior_type\n",
       "0   842439 2018-09-13 23:17:21              3\n",
       "1   842439 2018-09-13 23:17:21              3\n",
       "2   905214 2018-09-13 15:19:30              3\n",
       "3   905214 2018-09-13 15:19:30              3\n",
       "4   842439 2018-09-13 23:17:21              3"
      ]
     },
     "execution_count": 59,
     "metadata": {},
     "output_type": "execute_result"
    }
   ],
   "source": [
    "user_behavior_df.head()"
   ]
  },
  {
   "cell_type": "code",
   "execution_count": 60,
   "metadata": {},
   "outputs": [],
   "source": [
    "user_bh_df = user_behavior_df.set_index('user_id')"
   ]
  },
  {
   "cell_type": "code",
   "execution_count": 61,
   "metadata": {},
   "outputs": [],
   "source": [
    "df2 = df[['user_id', 'listing_id', 'auditing_date']].copy()"
   ]
  },
  {
   "cell_type": "code",
   "execution_count": 62,
   "metadata": {},
   "outputs": [],
   "source": [
    "df3 = merge_before_auditing(df2, user_behavior_df, df2_time='behavior_time', on = 'user_id' )"
   ]
  },
  {
   "cell_type": "code",
   "execution_count": 63,
   "metadata": {},
   "outputs": [
    {
     "data": {
      "text/html": [
       "<div>\n",
       "<style scoped>\n",
       "    .dataframe tbody tr th:only-of-type {\n",
       "        vertical-align: middle;\n",
       "    }\n",
       "\n",
       "    .dataframe tbody tr th {\n",
       "        vertical-align: top;\n",
       "    }\n",
       "\n",
       "    .dataframe thead th {\n",
       "        text-align: right;\n",
       "    }\n",
       "</style>\n",
       "<table border=\"1\" class=\"dataframe\">\n",
       "  <thead>\n",
       "    <tr style=\"text-align: right;\">\n",
       "      <th></th>\n",
       "      <th>user_id</th>\n",
       "      <th>listing_id</th>\n",
       "      <th>auditing_date</th>\n",
       "      <th>behavior_time</th>\n",
       "      <th>behavior_type</th>\n",
       "    </tr>\n",
       "  </thead>\n",
       "  <tbody>\n",
       "    <tr>\n",
       "      <th>0</th>\n",
       "      <td>748147</td>\n",
       "      <td>3163926</td>\n",
       "      <td>2018-04-25</td>\n",
       "      <td>2018-04-22 21:29:09</td>\n",
       "      <td>1.0</td>\n",
       "    </tr>\n",
       "    <tr>\n",
       "      <th>1</th>\n",
       "      <td>748147</td>\n",
       "      <td>3163926</td>\n",
       "      <td>2018-04-25</td>\n",
       "      <td>2018-04-22 21:05:09</td>\n",
       "      <td>1.0</td>\n",
       "    </tr>\n",
       "    <tr>\n",
       "      <th>2</th>\n",
       "      <td>748147</td>\n",
       "      <td>3163926</td>\n",
       "      <td>2018-04-25</td>\n",
       "      <td>2018-04-22 20:57:50</td>\n",
       "      <td>1.0</td>\n",
       "    </tr>\n",
       "    <tr>\n",
       "      <th>3</th>\n",
       "      <td>748147</td>\n",
       "      <td>3163926</td>\n",
       "      <td>2018-04-25</td>\n",
       "      <td>2018-04-22 20:58:19</td>\n",
       "      <td>2.0</td>\n",
       "    </tr>\n",
       "    <tr>\n",
       "      <th>4</th>\n",
       "      <td>748147</td>\n",
       "      <td>3163926</td>\n",
       "      <td>2018-04-25</td>\n",
       "      <td>2018-02-24 08:20:35</td>\n",
       "      <td>1.0</td>\n",
       "    </tr>\n",
       "  </tbody>\n",
       "</table>\n",
       "</div>"
      ],
      "text/plain": [
       "   user_id  listing_id auditing_date       behavior_time  behavior_type\n",
       "0   748147     3163926    2018-04-25 2018-04-22 21:29:09            1.0\n",
       "1   748147     3163926    2018-04-25 2018-04-22 21:05:09            1.0\n",
       "2   748147     3163926    2018-04-25 2018-04-22 20:57:50            1.0\n",
       "3   748147     3163926    2018-04-25 2018-04-22 20:58:19            2.0\n",
       "4   748147     3163926    2018-04-25 2018-02-24 08:20:35            1.0"
      ]
     },
     "execution_count": 63,
     "metadata": {},
     "output_type": "execute_result"
    }
   ],
   "source": [
    "df3.head()"
   ]
  },
  {
   "cell_type": "code",
   "execution_count": 64,
   "metadata": {},
   "outputs": [],
   "source": [
    "df.set_index('listing_id', inplace = True)"
   ]
  },
  {
   "cell_type": "code",
   "execution_count": 65,
   "metadata": {},
   "outputs": [],
   "source": [
    "def length(a):\n",
    "    return len(a)"
   ]
  },
  {
   "cell_type": "code",
   "execution_count": 66,
   "metadata": {},
   "outputs": [
    {
     "data": {
      "application/vnd.jupyter.widget-view+json": {
       "model_id": "b4a4c3484f674d1295c3b73e65a5a3b6",
       "version_major": 2,
       "version_minor": 0
      },
      "text/plain": [
       "HBox(children=(IntProgress(value=0, max=1130000), HTML(value='')))"
      ]
     },
     "metadata": {},
     "output_type": "display_data"
    },
    {
     "name": "stdout",
     "output_type": "stream",
     "text": [
      "\n"
     ]
    },
    {
     "data": {
      "application/vnd.jupyter.widget-view+json": {
       "model_id": "eccb5176aa314236b455b9f011ec5bd1",
       "version_major": 2,
       "version_minor": 0
      },
      "text/plain": [
       "HBox(children=(IntProgress(value=0, max=1121205), HTML(value='')))"
      ]
     },
     "metadata": {},
     "output_type": "display_data"
    },
    {
     "name": "stdout",
     "output_type": "stream",
     "text": [
      "\n"
     ]
    },
    {
     "data": {
      "application/vnd.jupyter.widget-view+json": {
       "model_id": "e81830220dc84226a542435bbca80e0f",
       "version_major": 2,
       "version_minor": 0
      },
      "text/plain": [
       "HBox(children=(IntProgress(value=0, max=477107), HTML(value='')))"
      ]
     },
     "metadata": {},
     "output_type": "display_data"
    },
    {
     "name": "stdout",
     "output_type": "stream",
     "text": [
      "\n"
     ]
    },
    {
     "data": {
      "application/vnd.jupyter.widget-view+json": {
       "model_id": "c8cf481816d9417dade50f5d470481c3",
       "version_major": 2,
       "version_minor": 0
      },
      "text/plain": [
       "HBox(children=(IntProgress(value=0, max=805114), HTML(value='')))"
      ]
     },
     "metadata": {},
     "output_type": "display_data"
    },
    {
     "name": "stdout",
     "output_type": "stream",
     "text": [
      "\n",
      "CPU times: user 1min 13s, sys: 38.7 s, total: 1min 52s\n",
      "Wall time: 28.9 s\n"
     ]
    }
   ],
   "source": [
    "%%time\n",
    "df['behavior的个数'] = df3.groupby('listing_id').progress_apply(length)\n",
    "\n",
    "# df5['behavior为1的个数'] = df3.groupby('listing_id').progress_apply(lambda s: len(s[s['behavior_type']==1]))\n",
    "df['behavior为1的个数'] = df3[df3['behavior_type']==1].groupby('listing_id').progress_apply(length)\n",
    "df['behavior为2的个数'] = df3[df3['behavior_type']==2].groupby('listing_id').progress_apply(length)\n",
    "df['behavior为3的个数'] = df3[df3['behavior_type']==3].groupby('listing_id').progress_apply(length)\n",
    "\n",
    "\n",
    "# df5['behavior为2的个数'] = df3.groupby('listing_id').progress_apply(lambda s: len(s[s['behavior_type']==2]))\n",
    "# df5['behavior为3的个数'] = df3.groupby('listing_id').progress_apply(lambda s: len(s[s['behavior_type']==3]))\n",
    "df['behavior的个数'].fillna(0, inplace=True)\n",
    "df['behavior为1的个数'].fillna(0, inplace=True)\n",
    "df['behavior为2的个数'].fillna(0, inplace=True)                                                                 \n",
    "df['behavior为3的个数'].fillna(0, inplace=True)"
   ]
  },
  {
   "cell_type": "code",
   "execution_count": 67,
   "metadata": {},
   "outputs": [
    {
     "data": {
      "text/html": [
       "<div>\n",
       "<style scoped>\n",
       "    .dataframe tbody tr th:only-of-type {\n",
       "        vertical-align: middle;\n",
       "    }\n",
       "\n",
       "    .dataframe tbody tr th {\n",
       "        vertical-align: top;\n",
       "    }\n",
       "\n",
       "    .dataframe thead th {\n",
       "        text-align: right;\n",
       "    }\n",
       "</style>\n",
       "<table border=\"1\" class=\"dataframe\">\n",
       "  <thead>\n",
       "    <tr style=\"text-align: right;\">\n",
       "      <th></th>\n",
       "      <th>user_id</th>\n",
       "      <th>auditing_date</th>\n",
       "      <th>due_date</th>\n",
       "      <th>due_amt</th>\n",
       "      <th>term</th>\n",
       "      <th>rate</th>\n",
       "      <th>principal</th>\n",
       "      <th>平均每月借款金额</th>\n",
       "      <th>总还款金额</th>\n",
       "      <th>总利息</th>\n",
       "      <th>每月利息</th>\n",
       "      <th>总利息/总还款金额</th>\n",
       "      <th>平均每月借款金额/due_amt</th>\n",
       "      <th>总利息/principal</th>\n",
       "      <th>还款期限</th>\n",
       "      <th>首期平均每日还款</th>\n",
       "      <th>due_date星期几</th>\n",
       "      <th>auditing_date星期几</th>\n",
       "      <th>reg_mon</th>\n",
       "      <th>gender</th>\n",
       "      <th>age</th>\n",
       "      <th>cell_province</th>\n",
       "      <th>id_province</th>\n",
       "      <th>id_city</th>\n",
       "      <th>info_insert_date</th>\n",
       "      <th>注册时间距离贷款</th>\n",
       "      <th>注册时间距个人信息更新时间</th>\n",
       "      <th>手机号和身份证是否同意城市</th>\n",
       "      <th>taglist</th>\n",
       "      <th>tag_insert_date</th>\n",
       "      <th>behavior的个数</th>\n",
       "      <th>behavior为1的个数</th>\n",
       "      <th>behavior为2的个数</th>\n",
       "      <th>behavior为3的个数</th>\n",
       "    </tr>\n",
       "    <tr>\n",
       "      <th>listing_id</th>\n",
       "      <th></th>\n",
       "      <th></th>\n",
       "      <th></th>\n",
       "      <th></th>\n",
       "      <th></th>\n",
       "      <th></th>\n",
       "      <th></th>\n",
       "      <th></th>\n",
       "      <th></th>\n",
       "      <th></th>\n",
       "      <th></th>\n",
       "      <th></th>\n",
       "      <th></th>\n",
       "      <th></th>\n",
       "      <th></th>\n",
       "      <th></th>\n",
       "      <th></th>\n",
       "      <th></th>\n",
       "      <th></th>\n",
       "      <th></th>\n",
       "      <th></th>\n",
       "      <th></th>\n",
       "      <th></th>\n",
       "      <th></th>\n",
       "      <th></th>\n",
       "      <th></th>\n",
       "      <th></th>\n",
       "      <th></th>\n",
       "      <th></th>\n",
       "      <th></th>\n",
       "      <th></th>\n",
       "      <th></th>\n",
       "      <th></th>\n",
       "      <th></th>\n",
       "    </tr>\n",
       "  </thead>\n",
       "  <tbody>\n",
       "    <tr>\n",
       "      <th>3163926</th>\n",
       "      <td>748147</td>\n",
       "      <td>2018-04-25</td>\n",
       "      <td>2018-05-25</td>\n",
       "      <td>72.1167</td>\n",
       "      <td>9</td>\n",
       "      <td>7.2</td>\n",
       "      <td>630</td>\n",
       "      <td>70.000000</td>\n",
       "      <td>649.0503</td>\n",
       "      <td>19.0503</td>\n",
       "      <td>2.116700</td>\n",
       "      <td>0.029351</td>\n",
       "      <td>0.970649</td>\n",
       "      <td>0.030239</td>\n",
       "      <td>30</td>\n",
       "      <td>2.403890</td>\n",
       "      <td>4</td>\n",
       "      <td>2</td>\n",
       "      <td>2017-12-01</td>\n",
       "      <td>男</td>\n",
       "      <td>21</td>\n",
       "      <td>c20</td>\n",
       "      <td>c20</td>\n",
       "      <td>c20089</td>\n",
       "      <td>2018-04-24</td>\n",
       "      <td>145</td>\n",
       "      <td>144</td>\n",
       "      <td>1</td>\n",
       "      <td>4706|3778|1058|3067|4481|1654|956|1478|2540|11...</td>\n",
       "      <td>2018-04-24</td>\n",
       "      <td>52</td>\n",
       "      <td>11.0</td>\n",
       "      <td>2.0</td>\n",
       "      <td>39.0</td>\n",
       "    </tr>\n",
       "    <tr>\n",
       "      <th>3698760</th>\n",
       "      <td>672952</td>\n",
       "      <td>2018-06-09</td>\n",
       "      <td>2018-07-09</td>\n",
       "      <td>258.7045</td>\n",
       "      <td>9</td>\n",
       "      <td>7.2</td>\n",
       "      <td>2260</td>\n",
       "      <td>251.111111</td>\n",
       "      <td>2328.3405</td>\n",
       "      <td>68.3405</td>\n",
       "      <td>7.593389</td>\n",
       "      <td>0.029352</td>\n",
       "      <td>0.970648</td>\n",
       "      <td>0.030239</td>\n",
       "      <td>30</td>\n",
       "      <td>8.623483</td>\n",
       "      <td>0</td>\n",
       "      <td>5</td>\n",
       "      <td>2017-09-01</td>\n",
       "      <td>男</td>\n",
       "      <td>37</td>\n",
       "      <td>c14</td>\n",
       "      <td>c17</td>\n",
       "      <td>c17250</td>\n",
       "      <td>2018-06-04</td>\n",
       "      <td>281</td>\n",
       "      <td>276</td>\n",
       "      <td>0</td>\n",
       "      <td>1421|3116|5145|5201|2785|1812|4671|3125|1058|2...</td>\n",
       "      <td>2018-06-04</td>\n",
       "      <td>52</td>\n",
       "      <td>29.0</td>\n",
       "      <td>0.0</td>\n",
       "      <td>23.0</td>\n",
       "    </tr>\n",
       "    <tr>\n",
       "      <th>2355665</th>\n",
       "      <td>404196</td>\n",
       "      <td>2018-02-18</td>\n",
       "      <td>2018-03-18</td>\n",
       "      <td>307.9270</td>\n",
       "      <td>9</td>\n",
       "      <td>7.2</td>\n",
       "      <td>2690</td>\n",
       "      <td>298.888889</td>\n",
       "      <td>2771.3430</td>\n",
       "      <td>81.3430</td>\n",
       "      <td>9.038111</td>\n",
       "      <td>0.029351</td>\n",
       "      <td>0.970649</td>\n",
       "      <td>0.030239</td>\n",
       "      <td>28</td>\n",
       "      <td>10.997393</td>\n",
       "      <td>6</td>\n",
       "      <td>6</td>\n",
       "      <td>2017-02-01</td>\n",
       "      <td>男</td>\n",
       "      <td>24</td>\n",
       "      <td>c04</td>\n",
       "      <td>c04</td>\n",
       "      <td>c04251</td>\n",
       "      <td>2018-02-17</td>\n",
       "      <td>382</td>\n",
       "      <td>381</td>\n",
       "      <td>1</td>\n",
       "      <td>4617|436|1338|3871|1667|2828|4121|1478|1654|30...</td>\n",
       "      <td>2018-02-17</td>\n",
       "      <td>8</td>\n",
       "      <td>8.0</td>\n",
       "      <td>0.0</td>\n",
       "      <td>0.0</td>\n",
       "    </tr>\n",
       "    <tr>\n",
       "      <th>1994522</th>\n",
       "      <td>342769</td>\n",
       "      <td>2018-01-13</td>\n",
       "      <td>2018-02-13</td>\n",
       "      <td>252.9809</td>\n",
       "      <td>9</td>\n",
       "      <td>7.2</td>\n",
       "      <td>2210</td>\n",
       "      <td>245.555556</td>\n",
       "      <td>2276.8281</td>\n",
       "      <td>66.8281</td>\n",
       "      <td>7.425344</td>\n",
       "      <td>0.029351</td>\n",
       "      <td>0.970649</td>\n",
       "      <td>0.030239</td>\n",
       "      <td>31</td>\n",
       "      <td>8.160674</td>\n",
       "      <td>1</td>\n",
       "      <td>5</td>\n",
       "      <td>2016-12-01</td>\n",
       "      <td>男</td>\n",
       "      <td>23</td>\n",
       "      <td>c17</td>\n",
       "      <td>c17</td>\n",
       "      <td>c17246</td>\n",
       "      <td>2018-01-12</td>\n",
       "      <td>408</td>\n",
       "      <td>407</td>\n",
       "      <td>1</td>\n",
       "      <td>1100|472|3422|3296|4949|4025|3328|974|4092|218...</td>\n",
       "      <td>2018-01-12</td>\n",
       "      <td>30</td>\n",
       "      <td>30.0</td>\n",
       "      <td>0.0</td>\n",
       "      <td>0.0</td>\n",
       "    </tr>\n",
       "    <tr>\n",
       "      <th>3602352</th>\n",
       "      <td>828139</td>\n",
       "      <td>2018-06-01</td>\n",
       "      <td>2018-07-01</td>\n",
       "      <td>107.6503</td>\n",
       "      <td>6</td>\n",
       "      <td>8.6</td>\n",
       "      <td>630</td>\n",
       "      <td>105.000000</td>\n",
       "      <td>645.9018</td>\n",
       "      <td>15.9018</td>\n",
       "      <td>2.650300</td>\n",
       "      <td>0.024620</td>\n",
       "      <td>0.975380</td>\n",
       "      <td>0.025241</td>\n",
       "      <td>30</td>\n",
       "      <td>3.588343</td>\n",
       "      <td>6</td>\n",
       "      <td>4</td>\n",
       "      <td>2018-04-01</td>\n",
       "      <td>男</td>\n",
       "      <td>23</td>\n",
       "      <td>c02</td>\n",
       "      <td>c17</td>\n",
       "      <td>c17096</td>\n",
       "      <td>2018-05-31</td>\n",
       "      <td>61</td>\n",
       "      <td>60</td>\n",
       "      <td>0</td>\n",
       "      <td>5784|3643|2017|3432|469|5151|1625|1753|2762|15...</td>\n",
       "      <td>2018-05-31</td>\n",
       "      <td>37</td>\n",
       "      <td>12.0</td>\n",
       "      <td>1.0</td>\n",
       "      <td>24.0</td>\n",
       "    </tr>\n",
       "  </tbody>\n",
       "</table>\n",
       "</div>"
      ],
      "text/plain": [
       "            user_id auditing_date   due_date   due_amt  term  rate  principal  \\\n",
       "listing_id                                                                      \n",
       "3163926      748147    2018-04-25 2018-05-25   72.1167     9   7.2        630   \n",
       "3698760      672952    2018-06-09 2018-07-09  258.7045     9   7.2       2260   \n",
       "2355665      404196    2018-02-18 2018-03-18  307.9270     9   7.2       2690   \n",
       "1994522      342769    2018-01-13 2018-02-13  252.9809     9   7.2       2210   \n",
       "3602352      828139    2018-06-01 2018-07-01  107.6503     6   8.6        630   \n",
       "\n",
       "              平均每月借款金额      总还款金额      总利息      每月利息  总利息/总还款金额  \\\n",
       "listing_id                                                        \n",
       "3163926      70.000000   649.0503  19.0503  2.116700   0.029351   \n",
       "3698760     251.111111  2328.3405  68.3405  7.593389   0.029352   \n",
       "2355665     298.888889  2771.3430  81.3430  9.038111   0.029351   \n",
       "1994522     245.555556  2276.8281  66.8281  7.425344   0.029351   \n",
       "3602352     105.000000   645.9018  15.9018  2.650300   0.024620   \n",
       "\n",
       "            平均每月借款金额/due_amt  总利息/principal  还款期限   首期平均每日还款  due_date星期几  \\\n",
       "listing_id                                                                  \n",
       "3163926             0.970649       0.030239    30   2.403890            4   \n",
       "3698760             0.970648       0.030239    30   8.623483            0   \n",
       "2355665             0.970649       0.030239    28  10.997393            6   \n",
       "1994522             0.970649       0.030239    31   8.160674            1   \n",
       "3602352             0.975380       0.025241    30   3.588343            6   \n",
       "\n",
       "            auditing_date星期几    reg_mon gender  age cell_province id_province  \\\n",
       "listing_id                                                                      \n",
       "3163926                    2 2017-12-01      男   21           c20         c20   \n",
       "3698760                    5 2017-09-01      男   37           c14         c17   \n",
       "2355665                    6 2017-02-01      男   24           c04         c04   \n",
       "1994522                    5 2016-12-01      男   23           c17         c17   \n",
       "3602352                    4 2018-04-01      男   23           c02         c17   \n",
       "\n",
       "           id_city info_insert_date  注册时间距离贷款  注册时间距个人信息更新时间  手机号和身份证是否同意城市  \\\n",
       "listing_id                                                                    \n",
       "3163926     c20089       2018-04-24       145            144              1   \n",
       "3698760     c17250       2018-06-04       281            276              0   \n",
       "2355665     c04251       2018-02-17       382            381              1   \n",
       "1994522     c17246       2018-01-12       408            407              1   \n",
       "3602352     c17096       2018-05-31        61             60              0   \n",
       "\n",
       "                                                      taglist tag_insert_date  \\\n",
       "listing_id                                                                      \n",
       "3163926     4706|3778|1058|3067|4481|1654|956|1478|2540|11...      2018-04-24   \n",
       "3698760     1421|3116|5145|5201|2785|1812|4671|3125|1058|2...      2018-06-04   \n",
       "2355665     4617|436|1338|3871|1667|2828|4121|1478|1654|30...      2018-02-17   \n",
       "1994522     1100|472|3422|3296|4949|4025|3328|974|4092|218...      2018-01-12   \n",
       "3602352     5784|3643|2017|3432|469|5151|1625|1753|2762|15...      2018-05-31   \n",
       "\n",
       "            behavior的个数  behavior为1的个数  behavior为2的个数  behavior为3的个数  \n",
       "listing_id                                                            \n",
       "3163926              52           11.0            2.0           39.0  \n",
       "3698760              52           29.0            0.0           23.0  \n",
       "2355665               8            8.0            0.0            0.0  \n",
       "1994522              30           30.0            0.0            0.0  \n",
       "3602352              37           12.0            1.0           24.0  "
      ]
     },
     "execution_count": 67,
     "metadata": {},
     "output_type": "execute_result"
    }
   ],
   "source": [
    "df.head()"
   ]
  },
  {
   "cell_type": "code",
   "execution_count": 68,
   "metadata": {},
   "outputs": [],
   "source": [
    "df3['dayofmonth'] = df3['behavior_time'].dt.day"
   ]
  },
  {
   "cell_type": "code",
   "execution_count": 69,
   "metadata": {},
   "outputs": [
    {
     "data": {
      "text/html": [
       "<div>\n",
       "<style scoped>\n",
       "    .dataframe tbody tr th:only-of-type {\n",
       "        vertical-align: middle;\n",
       "    }\n",
       "\n",
       "    .dataframe tbody tr th {\n",
       "        vertical-align: top;\n",
       "    }\n",
       "\n",
       "    .dataframe thead th {\n",
       "        text-align: right;\n",
       "    }\n",
       "</style>\n",
       "<table border=\"1\" class=\"dataframe\">\n",
       "  <thead>\n",
       "    <tr style=\"text-align: right;\">\n",
       "      <th></th>\n",
       "      <th>user_id</th>\n",
       "      <th>listing_id</th>\n",
       "      <th>auditing_date</th>\n",
       "      <th>behavior_time</th>\n",
       "      <th>behavior_type</th>\n",
       "      <th>dayofmonth</th>\n",
       "    </tr>\n",
       "  </thead>\n",
       "  <tbody>\n",
       "    <tr>\n",
       "      <th>0</th>\n",
       "      <td>748147</td>\n",
       "      <td>3163926</td>\n",
       "      <td>2018-04-25</td>\n",
       "      <td>2018-04-22 21:29:09</td>\n",
       "      <td>1.0</td>\n",
       "      <td>22.0</td>\n",
       "    </tr>\n",
       "    <tr>\n",
       "      <th>1</th>\n",
       "      <td>748147</td>\n",
       "      <td>3163926</td>\n",
       "      <td>2018-04-25</td>\n",
       "      <td>2018-04-22 21:05:09</td>\n",
       "      <td>1.0</td>\n",
       "      <td>22.0</td>\n",
       "    </tr>\n",
       "    <tr>\n",
       "      <th>2</th>\n",
       "      <td>748147</td>\n",
       "      <td>3163926</td>\n",
       "      <td>2018-04-25</td>\n",
       "      <td>2018-04-22 20:57:50</td>\n",
       "      <td>1.0</td>\n",
       "      <td>22.0</td>\n",
       "    </tr>\n",
       "    <tr>\n",
       "      <th>3</th>\n",
       "      <td>748147</td>\n",
       "      <td>3163926</td>\n",
       "      <td>2018-04-25</td>\n",
       "      <td>2018-04-22 20:58:19</td>\n",
       "      <td>2.0</td>\n",
       "      <td>22.0</td>\n",
       "    </tr>\n",
       "    <tr>\n",
       "      <th>4</th>\n",
       "      <td>748147</td>\n",
       "      <td>3163926</td>\n",
       "      <td>2018-04-25</td>\n",
       "      <td>2018-02-24 08:20:35</td>\n",
       "      <td>1.0</td>\n",
       "      <td>24.0</td>\n",
       "    </tr>\n",
       "  </tbody>\n",
       "</table>\n",
       "</div>"
      ],
      "text/plain": [
       "   user_id  listing_id auditing_date       behavior_time  behavior_type  \\\n",
       "0   748147     3163926    2018-04-25 2018-04-22 21:29:09            1.0   \n",
       "1   748147     3163926    2018-04-25 2018-04-22 21:05:09            1.0   \n",
       "2   748147     3163926    2018-04-25 2018-04-22 20:57:50            1.0   \n",
       "3   748147     3163926    2018-04-25 2018-04-22 20:58:19            2.0   \n",
       "4   748147     3163926    2018-04-25 2018-02-24 08:20:35            1.0   \n",
       "\n",
       "   dayofmonth  \n",
       "0        22.0  \n",
       "1        22.0  \n",
       "2        22.0  \n",
       "3        22.0  \n",
       "4        24.0  "
      ]
     },
     "execution_count": 69,
     "metadata": {},
     "output_type": "execute_result"
    }
   ],
   "source": [
    "df3.head()"
   ]
  },
  {
   "cell_type": "code",
   "execution_count": 70,
   "metadata": {},
   "outputs": [],
   "source": [
    "df3['days'] = (df3['auditing_date']-df3['behavior_time']).dt.days"
   ]
  },
  {
   "cell_type": "code",
   "execution_count": 71,
   "metadata": {},
   "outputs": [],
   "source": [
    "df7 = df3[(df3['days']>=0)&(df3['days']<30)]"
   ]
  },
  {
   "cell_type": "code",
   "execution_count": 72,
   "metadata": {},
   "outputs": [
    {
     "data": {
      "text/plain": [
       "(12945727, 7)"
      ]
     },
     "execution_count": 72,
     "metadata": {},
     "output_type": "execute_result"
    }
   ],
   "source": [
    "df7.shape"
   ]
  },
  {
   "cell_type": "code",
   "execution_count": 73,
   "metadata": {},
   "outputs": [
    {
     "data": {
      "application/vnd.jupyter.widget-view+json": {
       "model_id": "8e8e8e18fdaf4f36b87938e70ed309da",
       "version_major": 2,
       "version_minor": 0
      },
      "text/plain": [
       "HBox(children=(IntProgress(value=0, max=1056084), HTML(value='')))"
      ]
     },
     "metadata": {},
     "output_type": "display_data"
    },
    {
     "name": "stdout",
     "output_type": "stream",
     "text": [
      "\n"
     ]
    },
    {
     "data": {
      "application/vnd.jupyter.widget-view+json": {
       "model_id": "cf914ff29106440dbfb911d52416bd30",
       "version_major": 2,
       "version_minor": 0
      },
      "text/plain": [
       "HBox(children=(IntProgress(value=0, max=1052999), HTML(value='')))"
      ]
     },
     "metadata": {},
     "output_type": "display_data"
    },
    {
     "name": "stdout",
     "output_type": "stream",
     "text": [
      "\n"
     ]
    },
    {
     "data": {
      "application/vnd.jupyter.widget-view+json": {
       "model_id": "6dd19c2d9e914e43ab563828ed786812",
       "version_major": 2,
       "version_minor": 0
      },
      "text/plain": [
       "HBox(children=(IntProgress(value=0, max=78354), HTML(value='')))"
      ]
     },
     "metadata": {},
     "output_type": "display_data"
    },
    {
     "name": "stdout",
     "output_type": "stream",
     "text": [
      "\n"
     ]
    },
    {
     "data": {
      "application/vnd.jupyter.widget-view+json": {
       "model_id": "f54c4933808842e696d030129a0f6154",
       "version_major": 2,
       "version_minor": 0
      },
      "text/plain": [
       "HBox(children=(IntProgress(value=0, max=207991), HTML(value='')))"
      ]
     },
     "metadata": {},
     "output_type": "display_data"
    },
    {
     "name": "stdout",
     "output_type": "stream",
     "text": [
      "\n",
      "CPU times: user 33 s, sys: 15.2 s, total: 48.3 s\n",
      "Wall time: 13.4 s\n"
     ]
    }
   ],
   "source": [
    "%%time\n",
    "df['1月内behavior的个数'] = df7.groupby('listing_id').progress_apply(length)\n",
    "# df5['behavior为1的个数'] = df3.groupby('listing_id').progress_apply(lambda s: len(s[s['behavior_type']==1]))\n",
    "df['1月内behavior为1的个数'] = df7[df7['behavior_type']==1].groupby('listing_id').progress_apply(length)                                                    \n",
    "df['1月内behavior为2的个数'] = df7[df7['behavior_type']==2].groupby('listing_id').progress_apply(length)                                                 \n",
    "df['1月内behavior为3的个数'] = df7[df7['behavior_type']==3].groupby('listing_id').progress_apply(length)\n",
    "df['1月内behavior的个数'].fillna(0, inplace=True)\n",
    "df['1月内behavior为1的个数'].fillna(0, inplace=True)\n",
    "df['1月内behavior为2的个数'].fillna(0, inplace=True)                                                                 \n",
    "df['1月内behavior为3的个数'].fillna(0, inplace=True)"
   ]
  },
  {
   "cell_type": "code",
   "execution_count": 74,
   "metadata": {},
   "outputs": [],
   "source": [
    "df.reset_index(inplace=True)"
   ]
  },
  {
   "cell_type": "code",
   "execution_count": 75,
   "metadata": {},
   "outputs": [
    {
     "data": {
      "text/html": [
       "<div>\n",
       "<style scoped>\n",
       "    .dataframe tbody tr th:only-of-type {\n",
       "        vertical-align: middle;\n",
       "    }\n",
       "\n",
       "    .dataframe tbody tr th {\n",
       "        vertical-align: top;\n",
       "    }\n",
       "\n",
       "    .dataframe thead th {\n",
       "        text-align: right;\n",
       "    }\n",
       "</style>\n",
       "<table border=\"1\" class=\"dataframe\">\n",
       "  <thead>\n",
       "    <tr style=\"text-align: right;\">\n",
       "      <th></th>\n",
       "      <th>listing_id</th>\n",
       "      <th>user_id</th>\n",
       "      <th>auditing_date</th>\n",
       "      <th>due_date</th>\n",
       "      <th>due_amt</th>\n",
       "      <th>term</th>\n",
       "      <th>rate</th>\n",
       "      <th>principal</th>\n",
       "      <th>平均每月借款金额</th>\n",
       "      <th>总还款金额</th>\n",
       "      <th>总利息</th>\n",
       "      <th>每月利息</th>\n",
       "      <th>总利息/总还款金额</th>\n",
       "      <th>平均每月借款金额/due_amt</th>\n",
       "      <th>总利息/principal</th>\n",
       "      <th>还款期限</th>\n",
       "      <th>首期平均每日还款</th>\n",
       "      <th>due_date星期几</th>\n",
       "      <th>auditing_date星期几</th>\n",
       "      <th>reg_mon</th>\n",
       "      <th>gender</th>\n",
       "      <th>age</th>\n",
       "      <th>cell_province</th>\n",
       "      <th>id_province</th>\n",
       "      <th>id_city</th>\n",
       "      <th>info_insert_date</th>\n",
       "      <th>注册时间距离贷款</th>\n",
       "      <th>注册时间距个人信息更新时间</th>\n",
       "      <th>手机号和身份证是否同意城市</th>\n",
       "      <th>taglist</th>\n",
       "      <th>tag_insert_date</th>\n",
       "      <th>behavior的个数</th>\n",
       "      <th>behavior为1的个数</th>\n",
       "      <th>behavior为2的个数</th>\n",
       "      <th>behavior为3的个数</th>\n",
       "      <th>1月内behavior的个数</th>\n",
       "      <th>1月内behavior为1的个数</th>\n",
       "      <th>1月内behavior为2的个数</th>\n",
       "      <th>1月内behavior为3的个数</th>\n",
       "    </tr>\n",
       "  </thead>\n",
       "  <tbody>\n",
       "    <tr>\n",
       "      <th>0</th>\n",
       "      <td>3163926</td>\n",
       "      <td>748147</td>\n",
       "      <td>2018-04-25</td>\n",
       "      <td>2018-05-25</td>\n",
       "      <td>72.1167</td>\n",
       "      <td>9</td>\n",
       "      <td>7.2</td>\n",
       "      <td>630</td>\n",
       "      <td>70.000000</td>\n",
       "      <td>649.0503</td>\n",
       "      <td>19.0503</td>\n",
       "      <td>2.116700</td>\n",
       "      <td>0.029351</td>\n",
       "      <td>0.970649</td>\n",
       "      <td>0.030239</td>\n",
       "      <td>30</td>\n",
       "      <td>2.403890</td>\n",
       "      <td>4</td>\n",
       "      <td>2</td>\n",
       "      <td>2017-12-01</td>\n",
       "      <td>男</td>\n",
       "      <td>21</td>\n",
       "      <td>c20</td>\n",
       "      <td>c20</td>\n",
       "      <td>c20089</td>\n",
       "      <td>2018-04-24</td>\n",
       "      <td>145</td>\n",
       "      <td>144</td>\n",
       "      <td>1</td>\n",
       "      <td>4706|3778|1058|3067|4481|1654|956|1478|2540|11...</td>\n",
       "      <td>2018-04-24</td>\n",
       "      <td>52</td>\n",
       "      <td>11.0</td>\n",
       "      <td>2.0</td>\n",
       "      <td>39.0</td>\n",
       "      <td>18.0</td>\n",
       "      <td>5.0</td>\n",
       "      <td>1.0</td>\n",
       "      <td>12.0</td>\n",
       "    </tr>\n",
       "    <tr>\n",
       "      <th>1</th>\n",
       "      <td>3698760</td>\n",
       "      <td>672952</td>\n",
       "      <td>2018-06-09</td>\n",
       "      <td>2018-07-09</td>\n",
       "      <td>258.7045</td>\n",
       "      <td>9</td>\n",
       "      <td>7.2</td>\n",
       "      <td>2260</td>\n",
       "      <td>251.111111</td>\n",
       "      <td>2328.3405</td>\n",
       "      <td>68.3405</td>\n",
       "      <td>7.593389</td>\n",
       "      <td>0.029352</td>\n",
       "      <td>0.970648</td>\n",
       "      <td>0.030239</td>\n",
       "      <td>30</td>\n",
       "      <td>8.623483</td>\n",
       "      <td>0</td>\n",
       "      <td>5</td>\n",
       "      <td>2017-09-01</td>\n",
       "      <td>男</td>\n",
       "      <td>37</td>\n",
       "      <td>c14</td>\n",
       "      <td>c17</td>\n",
       "      <td>c17250</td>\n",
       "      <td>2018-06-04</td>\n",
       "      <td>281</td>\n",
       "      <td>276</td>\n",
       "      <td>0</td>\n",
       "      <td>1421|3116|5145|5201|2785|1812|4671|3125|1058|2...</td>\n",
       "      <td>2018-06-04</td>\n",
       "      <td>52</td>\n",
       "      <td>29.0</td>\n",
       "      <td>0.0</td>\n",
       "      <td>23.0</td>\n",
       "      <td>2.0</td>\n",
       "      <td>2.0</td>\n",
       "      <td>0.0</td>\n",
       "      <td>0.0</td>\n",
       "    </tr>\n",
       "    <tr>\n",
       "      <th>2</th>\n",
       "      <td>2355665</td>\n",
       "      <td>404196</td>\n",
       "      <td>2018-02-18</td>\n",
       "      <td>2018-03-18</td>\n",
       "      <td>307.9270</td>\n",
       "      <td>9</td>\n",
       "      <td>7.2</td>\n",
       "      <td>2690</td>\n",
       "      <td>298.888889</td>\n",
       "      <td>2771.3430</td>\n",
       "      <td>81.3430</td>\n",
       "      <td>9.038111</td>\n",
       "      <td>0.029351</td>\n",
       "      <td>0.970649</td>\n",
       "      <td>0.030239</td>\n",
       "      <td>28</td>\n",
       "      <td>10.997393</td>\n",
       "      <td>6</td>\n",
       "      <td>6</td>\n",
       "      <td>2017-02-01</td>\n",
       "      <td>男</td>\n",
       "      <td>24</td>\n",
       "      <td>c04</td>\n",
       "      <td>c04</td>\n",
       "      <td>c04251</td>\n",
       "      <td>2018-02-17</td>\n",
       "      <td>382</td>\n",
       "      <td>381</td>\n",
       "      <td>1</td>\n",
       "      <td>4617|436|1338|3871|1667|2828|4121|1478|1654|30...</td>\n",
       "      <td>2018-02-17</td>\n",
       "      <td>8</td>\n",
       "      <td>8.0</td>\n",
       "      <td>0.0</td>\n",
       "      <td>0.0</td>\n",
       "      <td>3.0</td>\n",
       "      <td>3.0</td>\n",
       "      <td>0.0</td>\n",
       "      <td>0.0</td>\n",
       "    </tr>\n",
       "    <tr>\n",
       "      <th>3</th>\n",
       "      <td>1994522</td>\n",
       "      <td>342769</td>\n",
       "      <td>2018-01-13</td>\n",
       "      <td>2018-02-13</td>\n",
       "      <td>252.9809</td>\n",
       "      <td>9</td>\n",
       "      <td>7.2</td>\n",
       "      <td>2210</td>\n",
       "      <td>245.555556</td>\n",
       "      <td>2276.8281</td>\n",
       "      <td>66.8281</td>\n",
       "      <td>7.425344</td>\n",
       "      <td>0.029351</td>\n",
       "      <td>0.970649</td>\n",
       "      <td>0.030239</td>\n",
       "      <td>31</td>\n",
       "      <td>8.160674</td>\n",
       "      <td>1</td>\n",
       "      <td>5</td>\n",
       "      <td>2016-12-01</td>\n",
       "      <td>男</td>\n",
       "      <td>23</td>\n",
       "      <td>c17</td>\n",
       "      <td>c17</td>\n",
       "      <td>c17246</td>\n",
       "      <td>2018-01-12</td>\n",
       "      <td>408</td>\n",
       "      <td>407</td>\n",
       "      <td>1</td>\n",
       "      <td>1100|472|3422|3296|4949|4025|3328|974|4092|218...</td>\n",
       "      <td>2018-01-12</td>\n",
       "      <td>30</td>\n",
       "      <td>30.0</td>\n",
       "      <td>0.0</td>\n",
       "      <td>0.0</td>\n",
       "      <td>2.0</td>\n",
       "      <td>2.0</td>\n",
       "      <td>0.0</td>\n",
       "      <td>0.0</td>\n",
       "    </tr>\n",
       "    <tr>\n",
       "      <th>4</th>\n",
       "      <td>3602352</td>\n",
       "      <td>828139</td>\n",
       "      <td>2018-06-01</td>\n",
       "      <td>2018-07-01</td>\n",
       "      <td>107.6503</td>\n",
       "      <td>6</td>\n",
       "      <td>8.6</td>\n",
       "      <td>630</td>\n",
       "      <td>105.000000</td>\n",
       "      <td>645.9018</td>\n",
       "      <td>15.9018</td>\n",
       "      <td>2.650300</td>\n",
       "      <td>0.024620</td>\n",
       "      <td>0.975380</td>\n",
       "      <td>0.025241</td>\n",
       "      <td>30</td>\n",
       "      <td>3.588343</td>\n",
       "      <td>6</td>\n",
       "      <td>4</td>\n",
       "      <td>2018-04-01</td>\n",
       "      <td>男</td>\n",
       "      <td>23</td>\n",
       "      <td>c02</td>\n",
       "      <td>c17</td>\n",
       "      <td>c17096</td>\n",
       "      <td>2018-05-31</td>\n",
       "      <td>61</td>\n",
       "      <td>60</td>\n",
       "      <td>0</td>\n",
       "      <td>5784|3643|2017|3432|469|5151|1625|1753|2762|15...</td>\n",
       "      <td>2018-05-31</td>\n",
       "      <td>37</td>\n",
       "      <td>12.0</td>\n",
       "      <td>1.0</td>\n",
       "      <td>24.0</td>\n",
       "      <td>2.0</td>\n",
       "      <td>2.0</td>\n",
       "      <td>0.0</td>\n",
       "      <td>0.0</td>\n",
       "    </tr>\n",
       "  </tbody>\n",
       "</table>\n",
       "</div>"
      ],
      "text/plain": [
       "   listing_id  user_id auditing_date   due_date   due_amt  term  rate  \\\n",
       "0     3163926   748147    2018-04-25 2018-05-25   72.1167     9   7.2   \n",
       "1     3698760   672952    2018-06-09 2018-07-09  258.7045     9   7.2   \n",
       "2     2355665   404196    2018-02-18 2018-03-18  307.9270     9   7.2   \n",
       "3     1994522   342769    2018-01-13 2018-02-13  252.9809     9   7.2   \n",
       "4     3602352   828139    2018-06-01 2018-07-01  107.6503     6   8.6   \n",
       "\n",
       "   principal    平均每月借款金额      总还款金额      总利息      每月利息  总利息/总还款金额  \\\n",
       "0        630   70.000000   649.0503  19.0503  2.116700   0.029351   \n",
       "1       2260  251.111111  2328.3405  68.3405  7.593389   0.029352   \n",
       "2       2690  298.888889  2771.3430  81.3430  9.038111   0.029351   \n",
       "3       2210  245.555556  2276.8281  66.8281  7.425344   0.029351   \n",
       "4        630  105.000000   645.9018  15.9018  2.650300   0.024620   \n",
       "\n",
       "   平均每月借款金额/due_amt  总利息/principal  还款期限   首期平均每日还款  due_date星期几  \\\n",
       "0          0.970649       0.030239    30   2.403890            4   \n",
       "1          0.970648       0.030239    30   8.623483            0   \n",
       "2          0.970649       0.030239    28  10.997393            6   \n",
       "3          0.970649       0.030239    31   8.160674            1   \n",
       "4          0.975380       0.025241    30   3.588343            6   \n",
       "\n",
       "   auditing_date星期几    reg_mon gender  age cell_province id_province id_city  \\\n",
       "0                 2 2017-12-01      男   21           c20         c20  c20089   \n",
       "1                 5 2017-09-01      男   37           c14         c17  c17250   \n",
       "2                 6 2017-02-01      男   24           c04         c04  c04251   \n",
       "3                 5 2016-12-01      男   23           c17         c17  c17246   \n",
       "4                 4 2018-04-01      男   23           c02         c17  c17096   \n",
       "\n",
       "  info_insert_date  注册时间距离贷款  注册时间距个人信息更新时间  手机号和身份证是否同意城市  \\\n",
       "0       2018-04-24       145            144              1   \n",
       "1       2018-06-04       281            276              0   \n",
       "2       2018-02-17       382            381              1   \n",
       "3       2018-01-12       408            407              1   \n",
       "4       2018-05-31        61             60              0   \n",
       "\n",
       "                                             taglist tag_insert_date  \\\n",
       "0  4706|3778|1058|3067|4481|1654|956|1478|2540|11...      2018-04-24   \n",
       "1  1421|3116|5145|5201|2785|1812|4671|3125|1058|2...      2018-06-04   \n",
       "2  4617|436|1338|3871|1667|2828|4121|1478|1654|30...      2018-02-17   \n",
       "3  1100|472|3422|3296|4949|4025|3328|974|4092|218...      2018-01-12   \n",
       "4  5784|3643|2017|3432|469|5151|1625|1753|2762|15...      2018-05-31   \n",
       "\n",
       "   behavior的个数  behavior为1的个数  behavior为2的个数  behavior为3的个数  1月内behavior的个数  \\\n",
       "0           52           11.0            2.0           39.0            18.0   \n",
       "1           52           29.0            0.0           23.0             2.0   \n",
       "2            8            8.0            0.0            0.0             3.0   \n",
       "3           30           30.0            0.0            0.0             2.0   \n",
       "4           37           12.0            1.0           24.0             2.0   \n",
       "\n",
       "   1月内behavior为1的个数  1月内behavior为2的个数  1月内behavior为3的个数  \n",
       "0               5.0               1.0              12.0  \n",
       "1               2.0               0.0               0.0  \n",
       "2               3.0               0.0               0.0  \n",
       "3               2.0               0.0               0.0  \n",
       "4               2.0               0.0               0.0  "
      ]
     },
     "execution_count": 75,
     "metadata": {},
     "output_type": "execute_result"
    }
   ],
   "source": [
    "df.head()"
   ]
  },
  {
   "cell_type": "code",
   "execution_count": 76,
   "metadata": {},
   "outputs": [
    {
     "data": {
      "text/plain": [
       "(1130000, 39)"
      ]
     },
     "execution_count": 76,
     "metadata": {},
     "output_type": "execute_result"
    }
   ],
   "source": [
    "df.shape"
   ]
  },
  {
   "cell_type": "code",
   "execution_count": 77,
   "metadata": {},
   "outputs": [
    {
     "data": {
      "text/plain": [
       "(array([], dtype=int64),)"
      ]
     },
     "execution_count": 77,
     "metadata": {},
     "output_type": "execute_result"
    }
   ],
   "source": [
    "np.where((df['listing_id'] == df_listing_id)==False)"
   ]
  },
  {
   "cell_type": "markdown",
   "metadata": {},
   "source": [
    "# *user_repay_logs*"
   ]
  },
  {
   "cell_type": "code",
   "execution_count": 78,
   "metadata": {},
   "outputs": [],
   "source": [
    "repay_log_df = pd.read_csv('dataset/user_repay_logs.csv', parse_dates=['due_date', 'repay_date'])"
   ]
  },
  {
   "cell_type": "code",
   "execution_count": 79,
   "metadata": {},
   "outputs": [],
   "source": [
    "repay_log_df = repay_log_df[repay_log_df['order_id'] == 1].reset_index(drop=True)"
   ]
  },
  {
   "cell_type": "code",
   "execution_count": 80,
   "metadata": {
    "scrolled": true
   },
   "outputs": [
    {
     "data": {
      "text/html": [
       "<div>\n",
       "<style scoped>\n",
       "    .dataframe tbody tr th:only-of-type {\n",
       "        vertical-align: middle;\n",
       "    }\n",
       "\n",
       "    .dataframe tbody tr th {\n",
       "        vertical-align: top;\n",
       "    }\n",
       "\n",
       "    .dataframe thead th {\n",
       "        text-align: right;\n",
       "    }\n",
       "</style>\n",
       "<table border=\"1\" class=\"dataframe\">\n",
       "  <thead>\n",
       "    <tr style=\"text-align: right;\">\n",
       "      <th></th>\n",
       "      <th>user_id</th>\n",
       "      <th>listing_id</th>\n",
       "      <th>order_id</th>\n",
       "      <th>due_date</th>\n",
       "      <th>due_amt</th>\n",
       "      <th>repay_date</th>\n",
       "      <th>repay_amt</th>\n",
       "    </tr>\n",
       "  </thead>\n",
       "  <tbody>\n",
       "    <tr>\n",
       "      <th>2544012</th>\n",
       "      <td>882692</td>\n",
       "      <td>5482798</td>\n",
       "      <td>1</td>\n",
       "      <td>2019-04-30</td>\n",
       "      <td>576.0161</td>\n",
       "      <td>2019-03-30</td>\n",
       "      <td>576.0161</td>\n",
       "    </tr>\n",
       "    <tr>\n",
       "      <th>2117425</th>\n",
       "      <td>785337</td>\n",
       "      <td>5481718</td>\n",
       "      <td>1</td>\n",
       "      <td>2019-04-30</td>\n",
       "      <td>144.3660</td>\n",
       "      <td>2019-03-30</td>\n",
       "      <td>144.3660</td>\n",
       "    </tr>\n",
       "    <tr>\n",
       "      <th>1459650</th>\n",
       "      <td>882692</td>\n",
       "      <td>5482750</td>\n",
       "      <td>1</td>\n",
       "      <td>2019-04-30</td>\n",
       "      <td>195.7588</td>\n",
       "      <td>2019-03-30</td>\n",
       "      <td>195.7588</td>\n",
       "    </tr>\n",
       "    <tr>\n",
       "      <th>2143042</th>\n",
       "      <td>920572</td>\n",
       "      <td>5481601</td>\n",
       "      <td>1</td>\n",
       "      <td>2019-04-30</td>\n",
       "      <td>107.0008</td>\n",
       "      <td>2019-03-30</td>\n",
       "      <td>107.0008</td>\n",
       "    </tr>\n",
       "    <tr>\n",
       "      <th>2339237</th>\n",
       "      <td>882692</td>\n",
       "      <td>5482707</td>\n",
       "      <td>1</td>\n",
       "      <td>2019-04-30</td>\n",
       "      <td>195.7588</td>\n",
       "      <td>2019-03-30</td>\n",
       "      <td>195.7588</td>\n",
       "    </tr>\n",
       "  </tbody>\n",
       "</table>\n",
       "</div>"
      ],
      "text/plain": [
       "         user_id  listing_id  order_id   due_date   due_amt repay_date  \\\n",
       "2544012   882692     5482798         1 2019-04-30  576.0161 2019-03-30   \n",
       "2117425   785337     5481718         1 2019-04-30  144.3660 2019-03-30   \n",
       "1459650   882692     5482750         1 2019-04-30  195.7588 2019-03-30   \n",
       "2143042   920572     5481601         1 2019-04-30  107.0008 2019-03-30   \n",
       "2339237   882692     5482707         1 2019-04-30  195.7588 2019-03-30   \n",
       "\n",
       "         repay_amt  \n",
       "2544012   576.0161  \n",
       "2117425   144.3660  \n",
       "1459650   195.7588  \n",
       "2143042   107.0008  \n",
       "2339237   195.7588  "
      ]
     },
     "execution_count": 80,
     "metadata": {},
     "output_type": "execute_result"
    }
   ],
   "source": [
    "repay_log_df.sort_values(by='due_date',ascending=False).head()"
   ]
  },
  {
   "cell_type": "code",
   "execution_count": 81,
   "metadata": {},
   "outputs": [],
   "source": [
    "def getRepay(date):\n",
    "    if date!='2200-01-01':\n",
    "        return 1\n",
    "    else:\n",
    "        return 0\n",
    "\n",
    "# repay: 0[expired] 1[on time]\n",
    "repay_log_df['repay'] = repay_log_df['repay_date'].astype('str').parallel_apply(getRepay)"
   ]
  },
  {
   "cell_type": "code",
   "execution_count": 82,
   "metadata": {},
   "outputs": [],
   "source": [
    "repay_log_df['early_repay_days'] = (repay_log_df['due_date'] - repay_log_df['repay_date']).dt.days"
   ]
  },
  {
   "cell_type": "code",
   "execution_count": 83,
   "metadata": {},
   "outputs": [],
   "source": [
    "repay_log_df['early_repay_days'] = repay_log_df['early_repay_days'].apply(lambda x: x if x >= 0 else -1)"
   ]
  },
  {
   "cell_type": "code",
   "execution_count": 84,
   "metadata": {},
   "outputs": [],
   "source": [
    "def adjustDate(df):\n",
    "    if df['repay_date']!=datetime.datetime(2200,1,1):\n",
    "        return df['repay_date']\n",
    "    else:\n",
    "        return df['due_date']\n",
    "\n",
    "repay_log_df['repay_date'] = repay_log_df[['repay_date','due_date']].parallel_apply(adjustDate, axis=1)"
   ]
  },
  {
   "cell_type": "code",
   "execution_count": 85,
   "metadata": {},
   "outputs": [],
   "source": [
    "def divide(df):\n",
    "    if df['early_repay_days'] < 0:\n",
    "        return df['due_amt']/df['early_repay_days']\n",
    "    else:\n",
    "        return df['due_amt']/(df['early_repay_days']+1)\n",
    "\n",
    "repay_log_df['due_amt/early_repay_date'] = repay_log_df[['due_amt','early_repay_days']].parallel_apply(divide, axis=1)"
   ]
  },
  {
   "cell_type": "code",
   "execution_count": 86,
   "metadata": {},
   "outputs": [
    {
     "data": {
      "text/html": [
       "<div>\n",
       "<style scoped>\n",
       "    .dataframe tbody tr th:only-of-type {\n",
       "        vertical-align: middle;\n",
       "    }\n",
       "\n",
       "    .dataframe tbody tr th {\n",
       "        vertical-align: top;\n",
       "    }\n",
       "\n",
       "    .dataframe thead th {\n",
       "        text-align: right;\n",
       "    }\n",
       "</style>\n",
       "<table border=\"1\" class=\"dataframe\">\n",
       "  <thead>\n",
       "    <tr style=\"text-align: right;\">\n",
       "      <th></th>\n",
       "      <th>user_id</th>\n",
       "      <th>listing_id</th>\n",
       "      <th>order_id</th>\n",
       "      <th>due_date</th>\n",
       "      <th>due_amt</th>\n",
       "      <th>repay_date</th>\n",
       "      <th>repay_amt</th>\n",
       "      <th>repay</th>\n",
       "      <th>early_repay_days</th>\n",
       "      <th>due_amt/early_repay_date</th>\n",
       "    </tr>\n",
       "  </thead>\n",
       "  <tbody>\n",
       "    <tr>\n",
       "      <th>0</th>\n",
       "      <td>748483</td>\n",
       "      <td>1858122</td>\n",
       "      <td>1</td>\n",
       "      <td>2018-01-29</td>\n",
       "      <td>528.6365</td>\n",
       "      <td>2018-01-28</td>\n",
       "      <td>528.6365</td>\n",
       "      <td>1</td>\n",
       "      <td>1</td>\n",
       "      <td>264.318250</td>\n",
       "    </tr>\n",
       "    <tr>\n",
       "      <th>1</th>\n",
       "      <td>369368</td>\n",
       "      <td>3900565</td>\n",
       "      <td>1</td>\n",
       "      <td>2018-08-03</td>\n",
       "      <td>385.5078</td>\n",
       "      <td>2018-07-22</td>\n",
       "      <td>385.5078</td>\n",
       "      <td>1</td>\n",
       "      <td>12</td>\n",
       "      <td>29.654446</td>\n",
       "    </tr>\n",
       "    <tr>\n",
       "      <th>2</th>\n",
       "      <td>749102</td>\n",
       "      <td>1699160</td>\n",
       "      <td>1</td>\n",
       "      <td>2018-01-11</td>\n",
       "      <td>338.5357</td>\n",
       "      <td>2017-12-11</td>\n",
       "      <td>338.5357</td>\n",
       "      <td>1</td>\n",
       "      <td>31</td>\n",
       "      <td>10.579241</td>\n",
       "    </tr>\n",
       "    <tr>\n",
       "      <th>3</th>\n",
       "      <td>385257</td>\n",
       "      <td>2204015</td>\n",
       "      <td>1</td>\n",
       "      <td>2018-03-03</td>\n",
       "      <td>1106.1967</td>\n",
       "      <td>2018-03-02</td>\n",
       "      <td>1106.1967</td>\n",
       "      <td>1</td>\n",
       "      <td>1</td>\n",
       "      <td>553.098350</td>\n",
       "    </tr>\n",
       "    <tr>\n",
       "      <th>4</th>\n",
       "      <td>648677</td>\n",
       "      <td>3811960</td>\n",
       "      <td>1</td>\n",
       "      <td>2018-07-23</td>\n",
       "      <td>385.5078</td>\n",
       "      <td>2018-07-04</td>\n",
       "      <td>385.5078</td>\n",
       "      <td>1</td>\n",
       "      <td>19</td>\n",
       "      <td>19.275390</td>\n",
       "    </tr>\n",
       "    <tr>\n",
       "      <th>5</th>\n",
       "      <td>46421</td>\n",
       "      <td>3493073</td>\n",
       "      <td>1</td>\n",
       "      <td>2018-06-22</td>\n",
       "      <td>423.7665</td>\n",
       "      <td>2018-06-21</td>\n",
       "      <td>423.7665</td>\n",
       "      <td>1</td>\n",
       "      <td>1</td>\n",
       "      <td>211.883250</td>\n",
       "    </tr>\n",
       "    <tr>\n",
       "      <th>6</th>\n",
       "      <td>237430</td>\n",
       "      <td>4058618</td>\n",
       "      <td>1</td>\n",
       "      <td>2018-08-23</td>\n",
       "      <td>212.5250</td>\n",
       "      <td>2018-08-23</td>\n",
       "      <td>212.5250</td>\n",
       "      <td>0</td>\n",
       "      <td>-1</td>\n",
       "      <td>-212.525000</td>\n",
       "    </tr>\n",
       "    <tr>\n",
       "      <th>7</th>\n",
       "      <td>391438</td>\n",
       "      <td>3266118</td>\n",
       "      <td>1</td>\n",
       "      <td>2018-06-03</td>\n",
       "      <td>385.8409</td>\n",
       "      <td>2018-06-03</td>\n",
       "      <td>385.8409</td>\n",
       "      <td>1</td>\n",
       "      <td>0</td>\n",
       "      <td>385.840900</td>\n",
       "    </tr>\n",
       "    <tr>\n",
       "      <th>8</th>\n",
       "      <td>289893</td>\n",
       "      <td>1114293</td>\n",
       "      <td>1</td>\n",
       "      <td>2017-11-06</td>\n",
       "      <td>1020.1285</td>\n",
       "      <td>2017-11-06</td>\n",
       "      <td>1020.1285</td>\n",
       "      <td>1</td>\n",
       "      <td>0</td>\n",
       "      <td>1020.128500</td>\n",
       "    </tr>\n",
       "    <tr>\n",
       "      <th>9</th>\n",
       "      <td>106403</td>\n",
       "      <td>1152391</td>\n",
       "      <td>1</td>\n",
       "      <td>2017-11-10</td>\n",
       "      <td>425.6166</td>\n",
       "      <td>2017-11-10</td>\n",
       "      <td>425.6166</td>\n",
       "      <td>1</td>\n",
       "      <td>0</td>\n",
       "      <td>425.616600</td>\n",
       "    </tr>\n",
       "  </tbody>\n",
       "</table>\n",
       "</div>"
      ],
      "text/plain": [
       "   user_id  listing_id  order_id   due_date    due_amt repay_date  repay_amt  \\\n",
       "0   748483     1858122         1 2018-01-29   528.6365 2018-01-28   528.6365   \n",
       "1   369368     3900565         1 2018-08-03   385.5078 2018-07-22   385.5078   \n",
       "2   749102     1699160         1 2018-01-11   338.5357 2017-12-11   338.5357   \n",
       "3   385257     2204015         1 2018-03-03  1106.1967 2018-03-02  1106.1967   \n",
       "4   648677     3811960         1 2018-07-23   385.5078 2018-07-04   385.5078   \n",
       "5    46421     3493073         1 2018-06-22   423.7665 2018-06-21   423.7665   \n",
       "6   237430     4058618         1 2018-08-23   212.5250 2018-08-23   212.5250   \n",
       "7   391438     3266118         1 2018-06-03   385.8409 2018-06-03   385.8409   \n",
       "8   289893     1114293         1 2017-11-06  1020.1285 2017-11-06  1020.1285   \n",
       "9   106403     1152391         1 2017-11-10   425.6166 2017-11-10   425.6166   \n",
       "\n",
       "   repay  early_repay_days  due_amt/early_repay_date  \n",
       "0      1                 1                264.318250  \n",
       "1      1                12                 29.654446  \n",
       "2      1                31                 10.579241  \n",
       "3      1                 1                553.098350  \n",
       "4      1                19                 19.275390  \n",
       "5      1                 1                211.883250  \n",
       "6      0                -1               -212.525000  \n",
       "7      1                 0                385.840900  \n",
       "8      1                 0               1020.128500  \n",
       "9      1                 0                425.616600  "
      ]
     },
     "execution_count": 86,
     "metadata": {},
     "output_type": "execute_result"
    }
   ],
   "source": [
    "repay_log_df.head(10)"
   ]
  },
  {
   "cell_type": "code",
   "execution_count": 87,
   "metadata": {},
   "outputs": [],
   "source": [
    "# 删除'listing_id', 'order_id', 'due_date','repay_amt'，保留'repay_date'以便之后的时间对比\n",
    "for f in ['listing_id', 'order_id', 'due_date','repay_amt']:\n",
    "    del repay_log_df[f]"
   ]
  },
  {
   "cell_type": "code",
   "execution_count": 88,
   "metadata": {},
   "outputs": [],
   "source": [
    "repay_log_df = repay_log_df.rename(columns={'due_amt':'log_due_amt', 'repay_date':'log_repay_date'})"
   ]
  },
  {
   "cell_type": "code",
   "execution_count": 89,
   "metadata": {},
   "outputs": [
    {
     "data": {
      "text/html": [
       "<div>\n",
       "<style scoped>\n",
       "    .dataframe tbody tr th:only-of-type {\n",
       "        vertical-align: middle;\n",
       "    }\n",
       "\n",
       "    .dataframe tbody tr th {\n",
       "        vertical-align: top;\n",
       "    }\n",
       "\n",
       "    .dataframe thead th {\n",
       "        text-align: right;\n",
       "    }\n",
       "</style>\n",
       "<table border=\"1\" class=\"dataframe\">\n",
       "  <thead>\n",
       "    <tr style=\"text-align: right;\">\n",
       "      <th></th>\n",
       "      <th>user_id</th>\n",
       "      <th>log_due_amt</th>\n",
       "      <th>log_repay_date</th>\n",
       "      <th>repay</th>\n",
       "      <th>early_repay_days</th>\n",
       "      <th>due_amt/early_repay_date</th>\n",
       "    </tr>\n",
       "  </thead>\n",
       "  <tbody>\n",
       "    <tr>\n",
       "      <th>0</th>\n",
       "      <td>748483</td>\n",
       "      <td>528.6365</td>\n",
       "      <td>2018-01-28</td>\n",
       "      <td>1</td>\n",
       "      <td>1</td>\n",
       "      <td>264.318250</td>\n",
       "    </tr>\n",
       "    <tr>\n",
       "      <th>1</th>\n",
       "      <td>369368</td>\n",
       "      <td>385.5078</td>\n",
       "      <td>2018-07-22</td>\n",
       "      <td>1</td>\n",
       "      <td>12</td>\n",
       "      <td>29.654446</td>\n",
       "    </tr>\n",
       "    <tr>\n",
       "      <th>2</th>\n",
       "      <td>749102</td>\n",
       "      <td>338.5357</td>\n",
       "      <td>2017-12-11</td>\n",
       "      <td>1</td>\n",
       "      <td>31</td>\n",
       "      <td>10.579241</td>\n",
       "    </tr>\n",
       "    <tr>\n",
       "      <th>3</th>\n",
       "      <td>385257</td>\n",
       "      <td>1106.1967</td>\n",
       "      <td>2018-03-02</td>\n",
       "      <td>1</td>\n",
       "      <td>1</td>\n",
       "      <td>553.098350</td>\n",
       "    </tr>\n",
       "    <tr>\n",
       "      <th>4</th>\n",
       "      <td>648677</td>\n",
       "      <td>385.5078</td>\n",
       "      <td>2018-07-04</td>\n",
       "      <td>1</td>\n",
       "      <td>19</td>\n",
       "      <td>19.275390</td>\n",
       "    </tr>\n",
       "  </tbody>\n",
       "</table>\n",
       "</div>"
      ],
      "text/plain": [
       "   user_id  log_due_amt log_repay_date  repay  early_repay_days  \\\n",
       "0   748483     528.6365     2018-01-28      1                 1   \n",
       "1   369368     385.5078     2018-07-22      1                12   \n",
       "2   749102     338.5357     2017-12-11      1                31   \n",
       "3   385257    1106.1967     2018-03-02      1                 1   \n",
       "4   648677     385.5078     2018-07-04      1                19   \n",
       "\n",
       "   due_amt/early_repay_date  \n",
       "0                264.318250  \n",
       "1                 29.654446  \n",
       "2                 10.579241  \n",
       "3                553.098350  \n",
       "4                 19.275390  "
      ]
     },
     "execution_count": 89,
     "metadata": {},
     "output_type": "execute_result"
    }
   ],
   "source": [
    "repay_log_df.head()"
   ]
  },
  {
   "cell_type": "code",
   "execution_count": 90,
   "metadata": {},
   "outputs": [
    {
     "data": {
      "text/plain": [
       "(1130000, 39)"
      ]
     },
     "execution_count": 90,
     "metadata": {},
     "output_type": "execute_result"
    }
   ],
   "source": [
    "df.shape"
   ]
  },
  {
   "cell_type": "code",
   "execution_count": 91,
   "metadata": {},
   "outputs": [],
   "source": [
    " df = merge_before_auditing(df, repay_log_df, df2_time='log_repay_date', on='user_id')"
   ]
  },
  {
   "cell_type": "code",
   "execution_count": 92,
   "metadata": {},
   "outputs": [],
   "source": [
    "group = df.groupby('listing_id', as_index=False)"
   ]
  },
  {
   "cell_type": "code",
   "execution_count": 93,
   "metadata": {},
   "outputs": [
    {
     "data": {
      "text/plain": [
       "1130000"
      ]
     },
     "execution_count": 93,
     "metadata": {},
     "output_type": "execute_result"
    }
   ],
   "source": [
    "group.ngroups"
   ]
  },
  {
   "cell_type": "code",
   "execution_count": 94,
   "metadata": {},
   "outputs": [],
   "source": [
    "df = df.merge(\n",
    "    group['repay'].agg({'repay_mean': 'mean'}), on='listing_id', how='left'\n",
    ")"
   ]
  },
  {
   "cell_type": "code",
   "execution_count": 95,
   "metadata": {},
   "outputs": [],
   "source": [
    "df = df.merge(\n",
    "    group['due_amt/early_repay_date'].agg({\n",
    "        'due_amt/early_repay_date_mean': 'mean', 'due_amt/early_repay_date_std': 'std', \n",
    "        'due_amt/early_repay_date_median': 'median', 'due_amt/early_repay_date_median': 'skew',\n",
    "        'due_amt/early_repay_date_max':'max', 'due_amt/early_repay_date_min': 'min'}), on='listing_id', how='left'\n",
    ")"
   ]
  },
  {
   "cell_type": "code",
   "execution_count": 96,
   "metadata": {},
   "outputs": [],
   "source": [
    "df = df.merge(\n",
    "    group['early_repay_days'].agg({\n",
    "        'early_repay_days_max': 'max', 'early_repay_days_min': 'min', 'early_repay_days_median': 'median', \n",
    "        'early_repay_days_sum': 'sum', 'early_repay_days_mean': 'mean', 'early_repay_days_std': 'std'\n",
    "    }), on='listing_id', how='left'\n",
    ")"
   ]
  },
  {
   "cell_type": "code",
   "execution_count": 98,
   "metadata": {},
   "outputs": [],
   "source": [
    "df = df.merge(\n",
    "    group['log_due_amt'].agg({\n",
    "        'due_amt_max': 'max', 'due_amt_min': 'min', 'due_amt_median': 'median',\n",
    "        'due_amt_mean': 'mean', 'due_amt_sum': 'sum', 'due_amt_std': 'std',\n",
    "        'due_amt_skew': 'skew', 'due_amt_kurt': kurtosis, 'due_amt_ptp': np.ptp\n",
    "    }), on='listing_id', how='left'\n",
    ")"
   ]
  },
  {
   "cell_type": "code",
   "execution_count": 99,
   "metadata": {},
   "outputs": [],
   "source": [
    "df = df.drop_duplicates('listing_id').reset_index(drop=True)"
   ]
  },
  {
   "cell_type": "code",
   "execution_count": 100,
   "metadata": {},
   "outputs": [
    {
     "data": {
      "text/html": [
       "<div>\n",
       "<style scoped>\n",
       "    .dataframe tbody tr th:only-of-type {\n",
       "        vertical-align: middle;\n",
       "    }\n",
       "\n",
       "    .dataframe tbody tr th {\n",
       "        vertical-align: top;\n",
       "    }\n",
       "\n",
       "    .dataframe thead th {\n",
       "        text-align: right;\n",
       "    }\n",
       "</style>\n",
       "<table border=\"1\" class=\"dataframe\">\n",
       "  <thead>\n",
       "    <tr style=\"text-align: right;\">\n",
       "      <th></th>\n",
       "      <th>listing_id</th>\n",
       "      <th>user_id</th>\n",
       "      <th>auditing_date</th>\n",
       "      <th>due_date</th>\n",
       "      <th>due_amt</th>\n",
       "      <th>term</th>\n",
       "      <th>rate</th>\n",
       "      <th>principal</th>\n",
       "      <th>平均每月借款金额</th>\n",
       "      <th>总还款金额</th>\n",
       "      <th>总利息</th>\n",
       "      <th>每月利息</th>\n",
       "      <th>总利息/总还款金额</th>\n",
       "      <th>平均每月借款金额/due_amt</th>\n",
       "      <th>总利息/principal</th>\n",
       "      <th>还款期限</th>\n",
       "      <th>首期平均每日还款</th>\n",
       "      <th>due_date星期几</th>\n",
       "      <th>auditing_date星期几</th>\n",
       "      <th>reg_mon</th>\n",
       "      <th>gender</th>\n",
       "      <th>age</th>\n",
       "      <th>cell_province</th>\n",
       "      <th>id_province</th>\n",
       "      <th>id_city</th>\n",
       "      <th>info_insert_date</th>\n",
       "      <th>注册时间距离贷款</th>\n",
       "      <th>注册时间距个人信息更新时间</th>\n",
       "      <th>手机号和身份证是否同意城市</th>\n",
       "      <th>taglist</th>\n",
       "      <th>tag_insert_date</th>\n",
       "      <th>behavior的个数</th>\n",
       "      <th>behavior为1的个数</th>\n",
       "      <th>behavior为2的个数</th>\n",
       "      <th>behavior为3的个数</th>\n",
       "      <th>1月内behavior的个数</th>\n",
       "      <th>1月内behavior为1的个数</th>\n",
       "      <th>1月内behavior为2的个数</th>\n",
       "      <th>1月内behavior为3的个数</th>\n",
       "      <th>log_due_amt</th>\n",
       "      <th>log_repay_date</th>\n",
       "      <th>repay</th>\n",
       "      <th>early_repay_days</th>\n",
       "      <th>due_amt/early_repay_date</th>\n",
       "      <th>repay_mean</th>\n",
       "      <th>due_amt/early_repay_date_mean</th>\n",
       "      <th>due_amt/early_repay_date_std</th>\n",
       "      <th>due_amt/early_repay_date_median</th>\n",
       "      <th>due_amt/early_repay_date_max</th>\n",
       "      <th>due_amt/early_repay_date_min</th>\n",
       "      <th>early_repay_days_max</th>\n",
       "      <th>early_repay_days_min</th>\n",
       "      <th>early_repay_days_median</th>\n",
       "      <th>early_repay_days_sum</th>\n",
       "      <th>early_repay_days_mean</th>\n",
       "      <th>early_repay_days_std</th>\n",
       "      <th>due_amt_max</th>\n",
       "      <th>due_amt_min</th>\n",
       "      <th>due_amt_median</th>\n",
       "      <th>due_amt_mean</th>\n",
       "      <th>due_amt_sum</th>\n",
       "      <th>due_amt_std</th>\n",
       "      <th>due_amt_skew</th>\n",
       "      <th>due_amt_kurt</th>\n",
       "      <th>due_amt_ptp</th>\n",
       "    </tr>\n",
       "  </thead>\n",
       "  <tbody>\n",
       "    <tr>\n",
       "      <th>0</th>\n",
       "      <td>3163926</td>\n",
       "      <td>748147</td>\n",
       "      <td>2018-04-25</td>\n",
       "      <td>2018-05-25</td>\n",
       "      <td>72.1167</td>\n",
       "      <td>9</td>\n",
       "      <td>7.2</td>\n",
       "      <td>630</td>\n",
       "      <td>70.000000</td>\n",
       "      <td>649.0503</td>\n",
       "      <td>19.0503</td>\n",
       "      <td>2.116700</td>\n",
       "      <td>0.029351</td>\n",
       "      <td>0.970649</td>\n",
       "      <td>0.030239</td>\n",
       "      <td>30</td>\n",
       "      <td>2.403890</td>\n",
       "      <td>4</td>\n",
       "      <td>2</td>\n",
       "      <td>2017-12-01</td>\n",
       "      <td>男</td>\n",
       "      <td>21</td>\n",
       "      <td>c20</td>\n",
       "      <td>c20</td>\n",
       "      <td>c20089</td>\n",
       "      <td>2018-04-24</td>\n",
       "      <td>145</td>\n",
       "      <td>144</td>\n",
       "      <td>1</td>\n",
       "      <td>4706|3778|1058|3067|4481|1654|956|1478|2540|11...</td>\n",
       "      <td>2018-04-24</td>\n",
       "      <td>52</td>\n",
       "      <td>11.0</td>\n",
       "      <td>2.0</td>\n",
       "      <td>39.0</td>\n",
       "      <td>18.0</td>\n",
       "      <td>5.0</td>\n",
       "      <td>1.0</td>\n",
       "      <td>12.0</td>\n",
       "      <td>102.1022</td>\n",
       "      <td>2018-04-24</td>\n",
       "      <td>1.0</td>\n",
       "      <td>28.0</td>\n",
       "      <td>3.520766</td>\n",
       "      <td>1.0</td>\n",
       "      <td>3.520766</td>\n",
       "      <td>NaN</td>\n",
       "      <td>3.520766</td>\n",
       "      <td>3.520766</td>\n",
       "      <td>3.520766</td>\n",
       "      <td>28.0</td>\n",
       "      <td>28.0</td>\n",
       "      <td>28.0</td>\n",
       "      <td>28.0</td>\n",
       "      <td>28.0</td>\n",
       "      <td>NaN</td>\n",
       "      <td>102.1022</td>\n",
       "      <td>102.1022</td>\n",
       "      <td>102.1022</td>\n",
       "      <td>102.102200</td>\n",
       "      <td>102.1022</td>\n",
       "      <td>NaN</td>\n",
       "      <td>NaN</td>\n",
       "      <td>-3.000000</td>\n",
       "      <td>0.0000</td>\n",
       "    </tr>\n",
       "    <tr>\n",
       "      <th>1</th>\n",
       "      <td>3698760</td>\n",
       "      <td>672952</td>\n",
       "      <td>2018-06-09</td>\n",
       "      <td>2018-07-09</td>\n",
       "      <td>258.7045</td>\n",
       "      <td>9</td>\n",
       "      <td>7.2</td>\n",
       "      <td>2260</td>\n",
       "      <td>251.111111</td>\n",
       "      <td>2328.3405</td>\n",
       "      <td>68.3405</td>\n",
       "      <td>7.593389</td>\n",
       "      <td>0.029352</td>\n",
       "      <td>0.970648</td>\n",
       "      <td>0.030239</td>\n",
       "      <td>30</td>\n",
       "      <td>8.623483</td>\n",
       "      <td>0</td>\n",
       "      <td>5</td>\n",
       "      <td>2017-09-01</td>\n",
       "      <td>男</td>\n",
       "      <td>37</td>\n",
       "      <td>c14</td>\n",
       "      <td>c17</td>\n",
       "      <td>c17250</td>\n",
       "      <td>2018-06-04</td>\n",
       "      <td>281</td>\n",
       "      <td>276</td>\n",
       "      <td>0</td>\n",
       "      <td>1421|3116|5145|5201|2785|1812|4671|3125|1058|2...</td>\n",
       "      <td>2018-06-04</td>\n",
       "      <td>52</td>\n",
       "      <td>29.0</td>\n",
       "      <td>0.0</td>\n",
       "      <td>23.0</td>\n",
       "      <td>2.0</td>\n",
       "      <td>2.0</td>\n",
       "      <td>0.0</td>\n",
       "      <td>0.0</td>\n",
       "      <td>133.9311</td>\n",
       "      <td>2018-06-05</td>\n",
       "      <td>1.0</td>\n",
       "      <td>1.0</td>\n",
       "      <td>66.965550</td>\n",
       "      <td>1.0</td>\n",
       "      <td>235.094905</td>\n",
       "      <td>397.869326</td>\n",
       "      <td>66.965550</td>\n",
       "      <td>945.006200</td>\n",
       "      <td>10.302392</td>\n",
       "      <td>12.0</td>\n",
       "      <td>0.0</td>\n",
       "      <td>1.0</td>\n",
       "      <td>16.0</td>\n",
       "      <td>3.2</td>\n",
       "      <td>4.969909</td>\n",
       "      <td>945.0062</td>\n",
       "      <td>133.9311</td>\n",
       "      <td>133.9311</td>\n",
       "      <td>321.100800</td>\n",
       "      <td>1605.5040</td>\n",
       "      <td>352.933682</td>\n",
       "      <td>2.113048</td>\n",
       "      <td>0.126236</td>\n",
       "      <td>811.0751</td>\n",
       "    </tr>\n",
       "    <tr>\n",
       "      <th>2</th>\n",
       "      <td>2355665</td>\n",
       "      <td>404196</td>\n",
       "      <td>2018-02-18</td>\n",
       "      <td>2018-03-18</td>\n",
       "      <td>307.9270</td>\n",
       "      <td>9</td>\n",
       "      <td>7.2</td>\n",
       "      <td>2690</td>\n",
       "      <td>298.888889</td>\n",
       "      <td>2771.3430</td>\n",
       "      <td>81.3430</td>\n",
       "      <td>9.038111</td>\n",
       "      <td>0.029351</td>\n",
       "      <td>0.970649</td>\n",
       "      <td>0.030239</td>\n",
       "      <td>28</td>\n",
       "      <td>10.997393</td>\n",
       "      <td>6</td>\n",
       "      <td>6</td>\n",
       "      <td>2017-02-01</td>\n",
       "      <td>男</td>\n",
       "      <td>24</td>\n",
       "      <td>c04</td>\n",
       "      <td>c04</td>\n",
       "      <td>c04251</td>\n",
       "      <td>2018-02-17</td>\n",
       "      <td>382</td>\n",
       "      <td>381</td>\n",
       "      <td>1</td>\n",
       "      <td>4617|436|1338|3871|1667|2828|4121|1478|1654|30...</td>\n",
       "      <td>2018-02-17</td>\n",
       "      <td>8</td>\n",
       "      <td>8.0</td>\n",
       "      <td>0.0</td>\n",
       "      <td>0.0</td>\n",
       "      <td>3.0</td>\n",
       "      <td>3.0</td>\n",
       "      <td>0.0</td>\n",
       "      <td>0.0</td>\n",
       "      <td>307.9270</td>\n",
       "      <td>2018-02-04</td>\n",
       "      <td>1.0</td>\n",
       "      <td>24.0</td>\n",
       "      <td>12.317080</td>\n",
       "      <td>0.5</td>\n",
       "      <td>-45.081960</td>\n",
       "      <td>81.174501</td>\n",
       "      <td>-45.081960</td>\n",
       "      <td>12.317080</td>\n",
       "      <td>-102.481000</td>\n",
       "      <td>24.0</td>\n",
       "      <td>-1.0</td>\n",
       "      <td>11.5</td>\n",
       "      <td>23.0</td>\n",
       "      <td>11.5</td>\n",
       "      <td>17.677670</td>\n",
       "      <td>307.9270</td>\n",
       "      <td>102.4810</td>\n",
       "      <td>205.2040</td>\n",
       "      <td>205.204000</td>\n",
       "      <td>410.4080</td>\n",
       "      <td>145.272260</td>\n",
       "      <td>NaN</td>\n",
       "      <td>-2.000000</td>\n",
       "      <td>205.4460</td>\n",
       "    </tr>\n",
       "    <tr>\n",
       "      <th>3</th>\n",
       "      <td>1994522</td>\n",
       "      <td>342769</td>\n",
       "      <td>2018-01-13</td>\n",
       "      <td>2018-02-13</td>\n",
       "      <td>252.9809</td>\n",
       "      <td>9</td>\n",
       "      <td>7.2</td>\n",
       "      <td>2210</td>\n",
       "      <td>245.555556</td>\n",
       "      <td>2276.8281</td>\n",
       "      <td>66.8281</td>\n",
       "      <td>7.425344</td>\n",
       "      <td>0.029351</td>\n",
       "      <td>0.970649</td>\n",
       "      <td>0.030239</td>\n",
       "      <td>31</td>\n",
       "      <td>8.160674</td>\n",
       "      <td>1</td>\n",
       "      <td>5</td>\n",
       "      <td>2016-12-01</td>\n",
       "      <td>男</td>\n",
       "      <td>23</td>\n",
       "      <td>c17</td>\n",
       "      <td>c17</td>\n",
       "      <td>c17246</td>\n",
       "      <td>2018-01-12</td>\n",
       "      <td>408</td>\n",
       "      <td>407</td>\n",
       "      <td>1</td>\n",
       "      <td>1100|472|3422|3296|4949|4025|3328|974|4092|218...</td>\n",
       "      <td>2018-01-12</td>\n",
       "      <td>30</td>\n",
       "      <td>30.0</td>\n",
       "      <td>0.0</td>\n",
       "      <td>0.0</td>\n",
       "      <td>2.0</td>\n",
       "      <td>2.0</td>\n",
       "      <td>0.0</td>\n",
       "      <td>0.0</td>\n",
       "      <td>622.6028</td>\n",
       "      <td>2017-10-12</td>\n",
       "      <td>1.0</td>\n",
       "      <td>1.0</td>\n",
       "      <td>311.301400</td>\n",
       "      <td>1.0</td>\n",
       "      <td>230.637147</td>\n",
       "      <td>79.844025</td>\n",
       "      <td>228.970600</td>\n",
       "      <td>311.301400</td>\n",
       "      <td>151.639440</td>\n",
       "      <td>4.0</td>\n",
       "      <td>1.0</td>\n",
       "      <td>1.0</td>\n",
       "      <td>6.0</td>\n",
       "      <td>2.0</td>\n",
       "      <td>1.732051</td>\n",
       "      <td>758.1972</td>\n",
       "      <td>457.9412</td>\n",
       "      <td>622.6028</td>\n",
       "      <td>612.913733</td>\n",
       "      <td>1838.7412</td>\n",
       "      <td>150.362312</td>\n",
       "      <td>-0.288768</td>\n",
       "      <td>-1.500000</td>\n",
       "      <td>300.2560</td>\n",
       "    </tr>\n",
       "    <tr>\n",
       "      <th>4</th>\n",
       "      <td>3602352</td>\n",
       "      <td>828139</td>\n",
       "      <td>2018-06-01</td>\n",
       "      <td>2018-07-01</td>\n",
       "      <td>107.6503</td>\n",
       "      <td>6</td>\n",
       "      <td>8.6</td>\n",
       "      <td>630</td>\n",
       "      <td>105.000000</td>\n",
       "      <td>645.9018</td>\n",
       "      <td>15.9018</td>\n",
       "      <td>2.650300</td>\n",
       "      <td>0.024620</td>\n",
       "      <td>0.975380</td>\n",
       "      <td>0.025241</td>\n",
       "      <td>30</td>\n",
       "      <td>3.588343</td>\n",
       "      <td>6</td>\n",
       "      <td>4</td>\n",
       "      <td>2018-04-01</td>\n",
       "      <td>男</td>\n",
       "      <td>23</td>\n",
       "      <td>c02</td>\n",
       "      <td>c17</td>\n",
       "      <td>c17096</td>\n",
       "      <td>2018-05-31</td>\n",
       "      <td>61</td>\n",
       "      <td>60</td>\n",
       "      <td>0</td>\n",
       "      <td>5784|3643|2017|3432|469|5151|1625|1753|2762|15...</td>\n",
       "      <td>2018-05-31</td>\n",
       "      <td>37</td>\n",
       "      <td>12.0</td>\n",
       "      <td>1.0</td>\n",
       "      <td>24.0</td>\n",
       "      <td>2.0</td>\n",
       "      <td>2.0</td>\n",
       "      <td>0.0</td>\n",
       "      <td>0.0</td>\n",
       "      <td>148.9888</td>\n",
       "      <td>2018-05-04</td>\n",
       "      <td>1.0</td>\n",
       "      <td>0.0</td>\n",
       "      <td>148.988800</td>\n",
       "      <td>1.0</td>\n",
       "      <td>148.988800</td>\n",
       "      <td>NaN</td>\n",
       "      <td>148.988800</td>\n",
       "      <td>148.988800</td>\n",
       "      <td>148.988800</td>\n",
       "      <td>0.0</td>\n",
       "      <td>0.0</td>\n",
       "      <td>0.0</td>\n",
       "      <td>0.0</td>\n",
       "      <td>0.0</td>\n",
       "      <td>NaN</td>\n",
       "      <td>148.9888</td>\n",
       "      <td>148.9888</td>\n",
       "      <td>148.9888</td>\n",
       "      <td>148.988800</td>\n",
       "      <td>148.9888</td>\n",
       "      <td>NaN</td>\n",
       "      <td>NaN</td>\n",
       "      <td>-3.000000</td>\n",
       "      <td>0.0000</td>\n",
       "    </tr>\n",
       "  </tbody>\n",
       "</table>\n",
       "</div>"
      ],
      "text/plain": [
       "   listing_id  user_id auditing_date   due_date   due_amt  term  rate  \\\n",
       "0     3163926   748147    2018-04-25 2018-05-25   72.1167     9   7.2   \n",
       "1     3698760   672952    2018-06-09 2018-07-09  258.7045     9   7.2   \n",
       "2     2355665   404196    2018-02-18 2018-03-18  307.9270     9   7.2   \n",
       "3     1994522   342769    2018-01-13 2018-02-13  252.9809     9   7.2   \n",
       "4     3602352   828139    2018-06-01 2018-07-01  107.6503     6   8.6   \n",
       "\n",
       "   principal    平均每月借款金额      总还款金额      总利息      每月利息  总利息/总还款金额  \\\n",
       "0        630   70.000000   649.0503  19.0503  2.116700   0.029351   \n",
       "1       2260  251.111111  2328.3405  68.3405  7.593389   0.029352   \n",
       "2       2690  298.888889  2771.3430  81.3430  9.038111   0.029351   \n",
       "3       2210  245.555556  2276.8281  66.8281  7.425344   0.029351   \n",
       "4        630  105.000000   645.9018  15.9018  2.650300   0.024620   \n",
       "\n",
       "   平均每月借款金额/due_amt  总利息/principal  还款期限   首期平均每日还款  due_date星期几  \\\n",
       "0          0.970649       0.030239    30   2.403890            4   \n",
       "1          0.970648       0.030239    30   8.623483            0   \n",
       "2          0.970649       0.030239    28  10.997393            6   \n",
       "3          0.970649       0.030239    31   8.160674            1   \n",
       "4          0.975380       0.025241    30   3.588343            6   \n",
       "\n",
       "   auditing_date星期几    reg_mon gender  age cell_province id_province id_city  \\\n",
       "0                 2 2017-12-01      男   21           c20         c20  c20089   \n",
       "1                 5 2017-09-01      男   37           c14         c17  c17250   \n",
       "2                 6 2017-02-01      男   24           c04         c04  c04251   \n",
       "3                 5 2016-12-01      男   23           c17         c17  c17246   \n",
       "4                 4 2018-04-01      男   23           c02         c17  c17096   \n",
       "\n",
       "  info_insert_date  注册时间距离贷款  注册时间距个人信息更新时间  手机号和身份证是否同意城市  \\\n",
       "0       2018-04-24       145            144              1   \n",
       "1       2018-06-04       281            276              0   \n",
       "2       2018-02-17       382            381              1   \n",
       "3       2018-01-12       408            407              1   \n",
       "4       2018-05-31        61             60              0   \n",
       "\n",
       "                                             taglist tag_insert_date  \\\n",
       "0  4706|3778|1058|3067|4481|1654|956|1478|2540|11...      2018-04-24   \n",
       "1  1421|3116|5145|5201|2785|1812|4671|3125|1058|2...      2018-06-04   \n",
       "2  4617|436|1338|3871|1667|2828|4121|1478|1654|30...      2018-02-17   \n",
       "3  1100|472|3422|3296|4949|4025|3328|974|4092|218...      2018-01-12   \n",
       "4  5784|3643|2017|3432|469|5151|1625|1753|2762|15...      2018-05-31   \n",
       "\n",
       "   behavior的个数  behavior为1的个数  behavior为2的个数  behavior为3的个数  1月内behavior的个数  \\\n",
       "0           52           11.0            2.0           39.0            18.0   \n",
       "1           52           29.0            0.0           23.0             2.0   \n",
       "2            8            8.0            0.0            0.0             3.0   \n",
       "3           30           30.0            0.0            0.0             2.0   \n",
       "4           37           12.0            1.0           24.0             2.0   \n",
       "\n",
       "   1月内behavior为1的个数  1月内behavior为2的个数  1月内behavior为3的个数  log_due_amt  \\\n",
       "0               5.0               1.0              12.0     102.1022   \n",
       "1               2.0               0.0               0.0     133.9311   \n",
       "2               3.0               0.0               0.0     307.9270   \n",
       "3               2.0               0.0               0.0     622.6028   \n",
       "4               2.0               0.0               0.0     148.9888   \n",
       "\n",
       "  log_repay_date  repay  early_repay_days  due_amt/early_repay_date  \\\n",
       "0     2018-04-24    1.0              28.0                  3.520766   \n",
       "1     2018-06-05    1.0               1.0                 66.965550   \n",
       "2     2018-02-04    1.0              24.0                 12.317080   \n",
       "3     2017-10-12    1.0               1.0                311.301400   \n",
       "4     2018-05-04    1.0               0.0                148.988800   \n",
       "\n",
       "   repay_mean  due_amt/early_repay_date_mean  due_amt/early_repay_date_std  \\\n",
       "0         1.0                       3.520766                           NaN   \n",
       "1         1.0                     235.094905                    397.869326   \n",
       "2         0.5                     -45.081960                     81.174501   \n",
       "3         1.0                     230.637147                     79.844025   \n",
       "4         1.0                     148.988800                           NaN   \n",
       "\n",
       "   due_amt/early_repay_date_median  due_amt/early_repay_date_max  \\\n",
       "0                         3.520766                      3.520766   \n",
       "1                        66.965550                    945.006200   \n",
       "2                       -45.081960                     12.317080   \n",
       "3                       228.970600                    311.301400   \n",
       "4                       148.988800                    148.988800   \n",
       "\n",
       "   due_amt/early_repay_date_min  early_repay_days_max  early_repay_days_min  \\\n",
       "0                      3.520766                  28.0                  28.0   \n",
       "1                     10.302392                  12.0                   0.0   \n",
       "2                   -102.481000                  24.0                  -1.0   \n",
       "3                    151.639440                   4.0                   1.0   \n",
       "4                    148.988800                   0.0                   0.0   \n",
       "\n",
       "   early_repay_days_median  early_repay_days_sum  early_repay_days_mean  \\\n",
       "0                     28.0                  28.0                   28.0   \n",
       "1                      1.0                  16.0                    3.2   \n",
       "2                     11.5                  23.0                   11.5   \n",
       "3                      1.0                   6.0                    2.0   \n",
       "4                      0.0                   0.0                    0.0   \n",
       "\n",
       "   early_repay_days_std  due_amt_max  due_amt_min  due_amt_median  \\\n",
       "0                   NaN     102.1022     102.1022        102.1022   \n",
       "1              4.969909     945.0062     133.9311        133.9311   \n",
       "2             17.677670     307.9270     102.4810        205.2040   \n",
       "3              1.732051     758.1972     457.9412        622.6028   \n",
       "4                   NaN     148.9888     148.9888        148.9888   \n",
       "\n",
       "   due_amt_mean  due_amt_sum  due_amt_std  due_amt_skew  due_amt_kurt  \\\n",
       "0    102.102200     102.1022          NaN           NaN     -3.000000   \n",
       "1    321.100800    1605.5040   352.933682      2.113048      0.126236   \n",
       "2    205.204000     410.4080   145.272260           NaN     -2.000000   \n",
       "3    612.913733    1838.7412   150.362312     -0.288768     -1.500000   \n",
       "4    148.988800     148.9888          NaN           NaN     -3.000000   \n",
       "\n",
       "   due_amt_ptp  \n",
       "0       0.0000  \n",
       "1     811.0751  \n",
       "2     205.4460  \n",
       "3     300.2560  \n",
       "4       0.0000  "
      ]
     },
     "execution_count": 100,
     "metadata": {},
     "output_type": "execute_result"
    }
   ],
   "source": [
    "df.head()"
   ]
  },
  {
   "cell_type": "code",
   "execution_count": 101,
   "metadata": {},
   "outputs": [],
   "source": [
    "del df['repay'], df['early_repay_days'], df['log_due_amt'],df['log_repay_date'],df['due_amt/early_repay_date']"
   ]
  },
  {
   "cell_type": "code",
   "execution_count": 102,
   "metadata": {},
   "outputs": [
    {
     "data": {
      "text/plain": [
       "(1130000, 60)"
      ]
     },
     "execution_count": 102,
     "metadata": {},
     "output_type": "execute_result"
    }
   ],
   "source": [
    "df.shape"
   ]
  },
  {
   "cell_type": "code",
   "execution_count": 103,
   "metadata": {},
   "outputs": [
    {
     "data": {
      "text/plain": [
       "(array([], dtype=int64),)"
      ]
     },
     "execution_count": 103,
     "metadata": {},
     "output_type": "execute_result"
    }
   ],
   "source": [
    "np.where((df['listing_id'] == df_listing_id)==False)"
   ]
  },
  {
   "cell_type": "code",
   "execution_count": 104,
   "metadata": {},
   "outputs": [],
   "source": [
    "cate_cols = ['gender', 'cell_province', 'id_province', 'id_city']"
   ]
  },
  {
   "cell_type": "code",
   "execution_count": 105,
   "metadata": {},
   "outputs": [],
   "source": [
    "# 这个lgb应该有参数可以直接传 lgb.train(categorical_feature=cate_cols)\n",
    "for f in cate_cols:\n",
    "    df[f] = df[f].map(dict(zip(df[f].unique(), range(df[f].nunique())))).astype('int32')"
   ]
  },
  {
   "cell_type": "code",
   "execution_count": 106,
   "metadata": {},
   "outputs": [],
   "source": [
    "df['due_amt_per_days'] = df['due_amt'] / (train_df['due_date'] - train_df['auditing_date']).dt.days"
   ]
  },
  {
   "cell_type": "code",
   "execution_count": 107,
   "metadata": {},
   "outputs": [],
   "source": [
    "date_cols = ['auditing_date', 'due_date', 'reg_mon', 'info_insert_date', 'tag_insert_date']"
   ]
  },
  {
   "cell_type": "code",
   "execution_count": 108,
   "metadata": {},
   "outputs": [],
   "source": [
    "for f in date_cols:\n",
    "    if f in ['reg_mon', 'info_insert_date', 'tag_insert_date']:\n",
    "        df[f + '_year'] = df[f].dt.year\n",
    "    df[f + '_month'] = df[f].dt.month\n",
    "    if f in ['auditing_date', 'due_date', 'info_insert_date', 'tag_insert_date']:\n",
    "        df[f + '_day'] = df[f].dt.day\n",
    "        df[f + '_dayofweek'] = df[f].dt.dayofweek"
   ]
  },
  {
   "cell_type": "code",
   "execution_count": 109,
   "metadata": {},
   "outputs": [],
   "source": [
    "df.drop(columns=date_cols, axis=1, inplace=True)"
   ]
  },
  {
   "cell_type": "code",
   "execution_count": 110,
   "metadata": {},
   "outputs": [],
   "source": [
    "df['big_month'] = df['auditing_date_month'].apply(lambda x: 1 if x in [1,3,5,7,8,10,12] else 0)\n",
    "df['February'] = df['auditing_date_month'].apply(lambda x: 1 if x==2 else 0)"
   ]
  },
  {
   "cell_type": "code",
   "execution_count": 111,
   "metadata": {},
   "outputs": [],
   "source": [
    "# one-hot encoding for tags\n",
    "df['taglist'] = df['taglist'].astype('str').apply(lambda x: x.strip().replace('|', ' ').strip())"
   ]
  },
  {
   "cell_type": "code",
   "execution_count": 112,
   "metadata": {},
   "outputs": [],
   "source": [
    "vectorizer = CountVectorizer(min_df=10, max_df=0.9)\n",
    "tag_cv = vectorizer.fit_transform(df['taglist'])"
   ]
  },
  {
   "cell_type": "code",
   "execution_count": 113,
   "metadata": {},
   "outputs": [],
   "source": [
    "del df['user_id'], df['listing_id'], df['taglist']"
   ]
  },
  {
   "cell_type": "code",
   "execution_count": 114,
   "metadata": {},
   "outputs": [],
   "source": [
    "# 也可以用lgb.train(categorical_features=cate_cols)\n",
    "df = pd.get_dummies(df, columns=cate_cols)\n",
    "df = pd.get_dummies(df, columns=cate_cols2)"
   ]
  },
  {
   "cell_type": "code",
   "execution_count": 115,
   "metadata": {},
   "outputs": [],
   "source": [
    "feature_name = np.concatenate((df.keys(),vectorizer.get_feature_names()))"
   ]
  },
  {
   "cell_type": "code",
   "execution_count": 116,
   "metadata": {},
   "outputs": [],
   "source": [
    "df = sparse.hstack((df.values, tag_cv), format='csr', dtype='float32')"
   ]
  },
  {
   "cell_type": "code",
   "execution_count": 117,
   "metadata": {},
   "outputs": [],
   "source": [
    "train_values, test_values = df[:train_num], df[train_num:]"
   ]
  },
  {
   "cell_type": "code",
   "execution_count": null,
   "metadata": {},
   "outputs": [
    {
     "name": "stdout",
     "output_type": "stream",
     "text": [
      "0 fold...\n",
      "Training until validation scores don't improve for 100 rounds.\n",
      "[5]\tvalid_0's multi_logloss: 2.95328\tvalid_1's multi_logloss: 2.95586\n",
      "[10]\tvalid_0's multi_logloss: 2.71521\tvalid_1's multi_logloss: 2.72023\n",
      "[15]\tvalid_0's multi_logloss: 2.5645\tvalid_1's multi_logloss: 2.57185\n",
      "[20]\tvalid_0's multi_logloss: 2.45895\tvalid_1's multi_logloss: 2.46867\n",
      "[25]\tvalid_0's multi_logloss: 2.3811\tvalid_1's multi_logloss: 2.39316\n",
      "[30]\tvalid_0's multi_logloss: 2.32191\tvalid_1's multi_logloss: 2.33633\n",
      "[35]\tvalid_0's multi_logloss: 2.27583\tvalid_1's multi_logloss: 2.29266\n",
      "[40]\tvalid_0's multi_logloss: 2.23933\tvalid_1's multi_logloss: 2.25861\n",
      "[45]\tvalid_0's multi_logloss: 2.21003\tvalid_1's multi_logloss: 2.23181\n",
      "[50]\tvalid_0's multi_logloss: 2.18617\tvalid_1's multi_logloss: 2.21056\n",
      "[55]\tvalid_0's multi_logloss: 2.16659\tvalid_1's multi_logloss: 2.19357\n",
      "[60]\tvalid_0's multi_logloss: 2.15025\tvalid_1's multi_logloss: 2.17987\n",
      "[65]\tvalid_0's multi_logloss: 2.13643\tvalid_1's multi_logloss: 2.16884\n",
      "[70]\tvalid_0's multi_logloss: 2.12461\tvalid_1's multi_logloss: 2.15987\n",
      "[75]\tvalid_0's multi_logloss: 2.1144\tvalid_1's multi_logloss: 2.15257\n",
      "[80]\tvalid_0's multi_logloss: 2.10546\tvalid_1's multi_logloss: 2.1466\n",
      "[85]\tvalid_0's multi_logloss: 2.09751\tvalid_1's multi_logloss: 2.14167\n",
      "[90]\tvalid_0's multi_logloss: 2.09032\tvalid_1's multi_logloss: 2.13766\n",
      "[95]\tvalid_0's multi_logloss: 2.0838\tvalid_1's multi_logloss: 2.13435\n",
      "[100]\tvalid_0's multi_logloss: 2.07779\tvalid_1's multi_logloss: 2.13163\n",
      "[105]\tvalid_0's multi_logloss: 2.07221\tvalid_1's multi_logloss: 2.12932\n",
      "[110]\tvalid_0's multi_logloss: 2.06701\tvalid_1's multi_logloss: 2.12737\n",
      "[115]\tvalid_0's multi_logloss: 2.06206\tvalid_1's multi_logloss: 2.12577\n",
      "[120]\tvalid_0's multi_logloss: 2.0574\tvalid_1's multi_logloss: 2.12439\n",
      "[125]\tvalid_0's multi_logloss: 2.05292\tvalid_1's multi_logloss: 2.12325\n",
      "[130]\tvalid_0's multi_logloss: 2.04867\tvalid_1's multi_logloss: 2.12223\n",
      "[135]\tvalid_0's multi_logloss: 2.04452\tvalid_1's multi_logloss: 2.12144\n",
      "[140]\tvalid_0's multi_logloss: 2.04048\tvalid_1's multi_logloss: 2.12074\n",
      "[145]\tvalid_0's multi_logloss: 2.03658\tvalid_1's multi_logloss: 2.12015\n",
      "[150]\tvalid_0's multi_logloss: 2.03279\tvalid_1's multi_logloss: 2.11958\n",
      "[155]\tvalid_0's multi_logloss: 2.02907\tvalid_1's multi_logloss: 2.11916\n",
      "[160]\tvalid_0's multi_logloss: 2.02544\tvalid_1's multi_logloss: 2.11876\n",
      "[165]\tvalid_0's multi_logloss: 2.02186\tvalid_1's multi_logloss: 2.11843\n",
      "[170]\tvalid_0's multi_logloss: 2.01839\tvalid_1's multi_logloss: 2.1181\n",
      "[175]\tvalid_0's multi_logloss: 2.01497\tvalid_1's multi_logloss: 2.11789\n",
      "[180]\tvalid_0's multi_logloss: 2.01165\tvalid_1's multi_logloss: 2.11762\n",
      "[185]\tvalid_0's multi_logloss: 2.00842\tvalid_1's multi_logloss: 2.11741\n",
      "[190]\tvalid_0's multi_logloss: 2.00523\tvalid_1's multi_logloss: 2.11722\n",
      "[195]\tvalid_0's multi_logloss: 2.00209\tvalid_1's multi_logloss: 2.11706\n",
      "[200]\tvalid_0's multi_logloss: 1.99903\tvalid_1's multi_logloss: 2.11696\n",
      "[205]\tvalid_0's multi_logloss: 1.9959\tvalid_1's multi_logloss: 2.11684\n",
      "[210]\tvalid_0's multi_logloss: 1.99292\tvalid_1's multi_logloss: 2.11668\n",
      "[215]\tvalid_0's multi_logloss: 1.98993\tvalid_1's multi_logloss: 2.11659\n",
      "[220]\tvalid_0's multi_logloss: 1.98705\tvalid_1's multi_logloss: 2.1165\n",
      "[225]\tvalid_0's multi_logloss: 1.98422\tvalid_1's multi_logloss: 2.11639\n",
      "[230]\tvalid_0's multi_logloss: 1.98141\tvalid_1's multi_logloss: 2.1163\n",
      "[235]\tvalid_0's multi_logloss: 1.97858\tvalid_1's multi_logloss: 2.11623\n",
      "[240]\tvalid_0's multi_logloss: 1.97584\tvalid_1's multi_logloss: 2.11615\n",
      "[245]\tvalid_0's multi_logloss: 1.97311\tvalid_1's multi_logloss: 2.11609\n",
      "[250]\tvalid_0's multi_logloss: 1.97044\tvalid_1's multi_logloss: 2.11603\n",
      "[255]\tvalid_0's multi_logloss: 1.96781\tvalid_1's multi_logloss: 2.11598\n",
      "[260]\tvalid_0's multi_logloss: 1.96519\tvalid_1's multi_logloss: 2.11598\n",
      "[265]\tvalid_0's multi_logloss: 1.96259\tvalid_1's multi_logloss: 2.11596\n",
      "[270]\tvalid_0's multi_logloss: 1.95994\tvalid_1's multi_logloss: 2.1159\n",
      "[275]\tvalid_0's multi_logloss: 1.9574\tvalid_1's multi_logloss: 2.11584\n",
      "[280]\tvalid_0's multi_logloss: 1.95481\tvalid_1's multi_logloss: 2.11579\n",
      "[285]\tvalid_0's multi_logloss: 1.9523\tvalid_1's multi_logloss: 2.11574\n",
      "[290]\tvalid_0's multi_logloss: 1.94985\tvalid_1's multi_logloss: 2.11574\n",
      "[295]\tvalid_0's multi_logloss: 1.94741\tvalid_1's multi_logloss: 2.11572\n",
      "[300]\tvalid_0's multi_logloss: 1.94501\tvalid_1's multi_logloss: 2.11575\n",
      "[305]\tvalid_0's multi_logloss: 1.94253\tvalid_1's multi_logloss: 2.11574\n",
      "[310]\tvalid_0's multi_logloss: 1.94012\tvalid_1's multi_logloss: 2.11571\n",
      "[315]\tvalid_0's multi_logloss: 1.93775\tvalid_1's multi_logloss: 2.11569\n",
      "[320]\tvalid_0's multi_logloss: 1.93539\tvalid_1's multi_logloss: 2.11567\n",
      "[325]\tvalid_0's multi_logloss: 1.93305\tvalid_1's multi_logloss: 2.11561\n",
      "[330]\tvalid_0's multi_logloss: 1.93074\tvalid_1's multi_logloss: 2.11563\n",
      "[335]\tvalid_0's multi_logloss: 1.92843\tvalid_1's multi_logloss: 2.11559\n",
      "[340]\tvalid_0's multi_logloss: 1.92616\tvalid_1's multi_logloss: 2.11558\n",
      "[345]\tvalid_0's multi_logloss: 1.92392\tvalid_1's multi_logloss: 2.11559\n",
      "[350]\tvalid_0's multi_logloss: 1.92166\tvalid_1's multi_logloss: 2.11556\n",
      "[355]\tvalid_0's multi_logloss: 1.91937\tvalid_1's multi_logloss: 2.11554\n",
      "[360]\tvalid_0's multi_logloss: 1.91713\tvalid_1's multi_logloss: 2.11553\n",
      "[365]\tvalid_0's multi_logloss: 1.91495\tvalid_1's multi_logloss: 2.11551\n",
      "[370]\tvalid_0's multi_logloss: 1.91282\tvalid_1's multi_logloss: 2.11549\n",
      "[375]\tvalid_0's multi_logloss: 1.91067\tvalid_1's multi_logloss: 2.11545\n",
      "[380]\tvalid_0's multi_logloss: 1.90854\tvalid_1's multi_logloss: 2.11544\n",
      "[385]\tvalid_0's multi_logloss: 1.90644\tvalid_1's multi_logloss: 2.11543\n",
      "[390]\tvalid_0's multi_logloss: 1.90431\tvalid_1's multi_logloss: 2.11544\n",
      "[395]\tvalid_0's multi_logloss: 1.90226\tvalid_1's multi_logloss: 2.11544\n",
      "[400]\tvalid_0's multi_logloss: 1.90012\tvalid_1's multi_logloss: 2.11544\n",
      "[405]\tvalid_0's multi_logloss: 1.89799\tvalid_1's multi_logloss: 2.11543\n",
      "[410]\tvalid_0's multi_logloss: 1.89594\tvalid_1's multi_logloss: 2.11545\n",
      "[415]\tvalid_0's multi_logloss: 1.89383\tvalid_1's multi_logloss: 2.1155\n",
      "[420]\tvalid_0's multi_logloss: 1.89176\tvalid_1's multi_logloss: 2.11552\n",
      "[425]\tvalid_0's multi_logloss: 1.88967\tvalid_1's multi_logloss: 2.11552\n",
      "[430]\tvalid_0's multi_logloss: 1.88761\tvalid_1's multi_logloss: 2.11552\n",
      "[435]\tvalid_0's multi_logloss: 1.88557\tvalid_1's multi_logloss: 2.11556\n",
      "[440]\tvalid_0's multi_logloss: 1.88361\tvalid_1's multi_logloss: 2.11558\n",
      "[445]\tvalid_0's multi_logloss: 1.88161\tvalid_1's multi_logloss: 2.11561\n",
      "[450]\tvalid_0's multi_logloss: 1.8796\tvalid_1's multi_logloss: 2.11559\n",
      "[455]\tvalid_0's multi_logloss: 1.87766\tvalid_1's multi_logloss: 2.11558\n",
      "[460]\tvalid_0's multi_logloss: 1.87574\tvalid_1's multi_logloss: 2.11562\n",
      "[465]\tvalid_0's multi_logloss: 1.87383\tvalid_1's multi_logloss: 2.11564\n",
      "[470]\tvalid_0's multi_logloss: 1.87193\tvalid_1's multi_logloss: 2.11566\n",
      "[475]\tvalid_0's multi_logloss: 1.86998\tvalid_1's multi_logloss: 2.1157\n",
      "[480]\tvalid_0's multi_logloss: 1.86804\tvalid_1's multi_logloss: 2.11572\n",
      "[485]\tvalid_0's multi_logloss: 1.86608\tvalid_1's multi_logloss: 2.11576\n",
      "[490]\tvalid_0's multi_logloss: 1.86417\tvalid_1's multi_logloss: 2.11577\n",
      "Early stopping, best iteration is:\n",
      "[394]\tvalid_0's multi_logloss: 1.90266\tvalid_1's multi_logloss: 2.11542\n",
      "val rmse: 467.4216903983124\n",
      "val mae: 289.3950091492607\n",
      "runtime: 1303.0892522335052\n",
      "\n",
      "1 fold...\n",
      "Training until validation scores don't improve for 100 rounds.\n",
      "[5]\tvalid_0's multi_logloss: 2.95312\tvalid_1's multi_logloss: 2.95605\n",
      "[10]\tvalid_0's multi_logloss: 2.71474\tvalid_1's multi_logloss: 2.72017\n",
      "[15]\tvalid_0's multi_logloss: 2.56415\tvalid_1's multi_logloss: 2.57198\n",
      "[20]\tvalid_0's multi_logloss: 2.45864\tvalid_1's multi_logloss: 2.46876\n",
      "[25]\tvalid_0's multi_logloss: 2.38079\tvalid_1's multi_logloss: 2.39324\n",
      "[30]\tvalid_0's multi_logloss: 2.32157\tvalid_1's multi_logloss: 2.33635\n",
      "[35]\tvalid_0's multi_logloss: 2.2755\tvalid_1's multi_logloss: 2.29266\n",
      "[40]\tvalid_0's multi_logloss: 2.23905\tvalid_1's multi_logloss: 2.25865\n",
      "[45]\tvalid_0's multi_logloss: 2.20981\tvalid_1's multi_logloss: 2.23187\n",
      "[50]\tvalid_0's multi_logloss: 2.18601\tvalid_1's multi_logloss: 2.21063\n",
      "[55]\tvalid_0's multi_logloss: 2.16638\tvalid_1's multi_logloss: 2.19365\n",
      "[60]\tvalid_0's multi_logloss: 2.15\tvalid_1's multi_logloss: 2.17999\n"
     ]
    },
    {
     "name": "stdout",
     "output_type": "stream",
     "text": [
      "[65]\tvalid_0's multi_logloss: 2.13619\tvalid_1's multi_logloss: 2.16898\n",
      "[70]\tvalid_0's multi_logloss: 2.12441\tvalid_1's multi_logloss: 2.16004\n",
      "[75]\tvalid_0's multi_logloss: 2.1142\tvalid_1's multi_logloss: 2.15276\n",
      "[80]\tvalid_0's multi_logloss: 2.1052\tvalid_1's multi_logloss: 2.14676\n",
      "[85]\tvalid_0's multi_logloss: 2.09723\tvalid_1's multi_logloss: 2.14186\n",
      "[90]\tvalid_0's multi_logloss: 2.09009\tvalid_1's multi_logloss: 2.13783\n",
      "[95]\tvalid_0's multi_logloss: 2.08358\tvalid_1's multi_logloss: 2.13451\n",
      "[100]\tvalid_0's multi_logloss: 2.07757\tvalid_1's multi_logloss: 2.1318\n",
      "[105]\tvalid_0's multi_logloss: 2.07199\tvalid_1's multi_logloss: 2.12951\n",
      "[110]\tvalid_0's multi_logloss: 2.06679\tvalid_1's multi_logloss: 2.12763\n",
      "[115]\tvalid_0's multi_logloss: 2.06186\tvalid_1's multi_logloss: 2.12603\n",
      "[120]\tvalid_0's multi_logloss: 2.05721\tvalid_1's multi_logloss: 2.12472\n",
      "[125]\tvalid_0's multi_logloss: 2.05271\tvalid_1's multi_logloss: 2.1236\n",
      "[130]\tvalid_0's multi_logloss: 2.04841\tvalid_1's multi_logloss: 2.12268\n",
      "[135]\tvalid_0's multi_logloss: 2.04426\tvalid_1's multi_logloss: 2.12184\n",
      "[140]\tvalid_0's multi_logloss: 2.04025\tvalid_1's multi_logloss: 2.12118\n",
      "[145]\tvalid_0's multi_logloss: 2.03638\tvalid_1's multi_logloss: 2.12057\n",
      "[150]\tvalid_0's multi_logloss: 2.03256\tvalid_1's multi_logloss: 2.12006\n",
      "[155]\tvalid_0's multi_logloss: 2.02886\tvalid_1's multi_logloss: 2.11961\n",
      "[160]\tvalid_0's multi_logloss: 2.02526\tvalid_1's multi_logloss: 2.11924\n",
      "[165]\tvalid_0's multi_logloss: 2.02176\tvalid_1's multi_logloss: 2.11891\n",
      "[170]\tvalid_0's multi_logloss: 2.01829\tvalid_1's multi_logloss: 2.11863\n",
      "[175]\tvalid_0's multi_logloss: 2.01492\tvalid_1's multi_logloss: 2.11837\n",
      "[180]\tvalid_0's multi_logloss: 2.0116\tvalid_1's multi_logloss: 2.11815\n",
      "[185]\tvalid_0's multi_logloss: 2.00828\tvalid_1's multi_logloss: 2.11794\n",
      "[190]\tvalid_0's multi_logloss: 2.00509\tvalid_1's multi_logloss: 2.11775\n",
      "[195]\tvalid_0's multi_logloss: 2.00193\tvalid_1's multi_logloss: 2.11763\n",
      "[200]\tvalid_0's multi_logloss: 1.99887\tvalid_1's multi_logloss: 2.11749\n",
      "[205]\tvalid_0's multi_logloss: 1.99579\tvalid_1's multi_logloss: 2.11737\n",
      "[210]\tvalid_0's multi_logloss: 1.99282\tvalid_1's multi_logloss: 2.11727\n",
      "[215]\tvalid_0's multi_logloss: 1.98987\tvalid_1's multi_logloss: 2.11718\n",
      "[220]\tvalid_0's multi_logloss: 1.98698\tvalid_1's multi_logloss: 2.11711\n",
      "[225]\tvalid_0's multi_logloss: 1.98414\tvalid_1's multi_logloss: 2.11703\n",
      "[230]\tvalid_0's multi_logloss: 1.98134\tvalid_1's multi_logloss: 2.117\n",
      "[235]\tvalid_0's multi_logloss: 1.97853\tvalid_1's multi_logloss: 2.11692\n",
      "[240]\tvalid_0's multi_logloss: 1.9758\tvalid_1's multi_logloss: 2.11683\n",
      "[245]\tvalid_0's multi_logloss: 1.97308\tvalid_1's multi_logloss: 2.11676\n",
      "[250]\tvalid_0's multi_logloss: 1.97039\tvalid_1's multi_logloss: 2.11672\n",
      "[255]\tvalid_0's multi_logloss: 1.96771\tvalid_1's multi_logloss: 2.11669\n",
      "[260]\tvalid_0's multi_logloss: 1.96509\tvalid_1's multi_logloss: 2.11662\n",
      "[265]\tvalid_0's multi_logloss: 1.96243\tvalid_1's multi_logloss: 2.11658\n",
      "[270]\tvalid_0's multi_logloss: 1.95979\tvalid_1's multi_logloss: 2.1166\n",
      "[275]\tvalid_0's multi_logloss: 1.95724\tvalid_1's multi_logloss: 2.11656\n",
      "[280]\tvalid_0's multi_logloss: 1.95476\tvalid_1's multi_logloss: 2.11651\n",
      "[285]\tvalid_0's multi_logloss: 1.95225\tvalid_1's multi_logloss: 2.11651\n",
      "[290]\tvalid_0's multi_logloss: 1.94973\tvalid_1's multi_logloss: 2.11648\n",
      "[295]\tvalid_0's multi_logloss: 1.9473\tvalid_1's multi_logloss: 2.11647\n",
      "[300]\tvalid_0's multi_logloss: 1.94487\tvalid_1's multi_logloss: 2.11646\n",
      "[305]\tvalid_0's multi_logloss: 1.94249\tvalid_1's multi_logloss: 2.11645\n",
      "[310]\tvalid_0's multi_logloss: 1.94011\tvalid_1's multi_logloss: 2.11641\n",
      "[315]\tvalid_0's multi_logloss: 1.93773\tvalid_1's multi_logloss: 2.11639\n",
      "[320]\tvalid_0's multi_logloss: 1.93537\tvalid_1's multi_logloss: 2.11637\n",
      "[325]\tvalid_0's multi_logloss: 1.93301\tvalid_1's multi_logloss: 2.11638\n",
      "[330]\tvalid_0's multi_logloss: 1.93068\tvalid_1's multi_logloss: 2.11639\n",
      "[335]\tvalid_0's multi_logloss: 1.92843\tvalid_1's multi_logloss: 2.11639\n",
      "[340]\tvalid_0's multi_logloss: 1.9262\tvalid_1's multi_logloss: 2.11636\n",
      "[345]\tvalid_0's multi_logloss: 1.92393\tvalid_1's multi_logloss: 2.11635\n",
      "[350]\tvalid_0's multi_logloss: 1.9217\tvalid_1's multi_logloss: 2.11636\n",
      "[355]\tvalid_0's multi_logloss: 1.91947\tvalid_1's multi_logloss: 2.11636\n",
      "[360]\tvalid_0's multi_logloss: 1.91723\tvalid_1's multi_logloss: 2.11633\n",
      "[365]\tvalid_0's multi_logloss: 1.91506\tvalid_1's multi_logloss: 2.11634\n",
      "[370]\tvalid_0's multi_logloss: 1.91288\tvalid_1's multi_logloss: 2.11633\n",
      "[375]\tvalid_0's multi_logloss: 1.91067\tvalid_1's multi_logloss: 2.11633\n",
      "[380]\tvalid_0's multi_logloss: 1.90849\tvalid_1's multi_logloss: 2.11635\n",
      "[385]\tvalid_0's multi_logloss: 1.90635\tvalid_1's multi_logloss: 2.11635\n",
      "[390]\tvalid_0's multi_logloss: 1.90431\tvalid_1's multi_logloss: 2.11634\n",
      "[395]\tvalid_0's multi_logloss: 1.90215\tvalid_1's multi_logloss: 2.11634\n",
      "[400]\tvalid_0's multi_logloss: 1.90003\tvalid_1's multi_logloss: 2.11635\n",
      "[405]\tvalid_0's multi_logloss: 1.89794\tvalid_1's multi_logloss: 2.11634\n",
      "[410]\tvalid_0's multi_logloss: 1.89583\tvalid_1's multi_logloss: 2.11636\n",
      "[415]\tvalid_0's multi_logloss: 1.89369\tvalid_1's multi_logloss: 2.11636\n",
      "[420]\tvalid_0's multi_logloss: 1.89163\tvalid_1's multi_logloss: 2.11635\n",
      "[425]\tvalid_0's multi_logloss: 1.88958\tvalid_1's multi_logloss: 2.11636\n",
      "[430]\tvalid_0's multi_logloss: 1.88758\tvalid_1's multi_logloss: 2.11637\n",
      "[435]\tvalid_0's multi_logloss: 1.88557\tvalid_1's multi_logloss: 2.11641\n",
      "[440]\tvalid_0's multi_logloss: 1.88353\tvalid_1's multi_logloss: 2.11643\n",
      "[445]\tvalid_0's multi_logloss: 1.88157\tvalid_1's multi_logloss: 2.11644\n",
      "[450]\tvalid_0's multi_logloss: 1.87962\tvalid_1's multi_logloss: 2.11641\n",
      "[455]\tvalid_0's multi_logloss: 1.87763\tvalid_1's multi_logloss: 2.11644\n",
      "[460]\tvalid_0's multi_logloss: 1.87572\tvalid_1's multi_logloss: 2.11644\n",
      "[465]\tvalid_0's multi_logloss: 1.87385\tvalid_1's multi_logloss: 2.11645\n",
      "Early stopping, best iteration is:\n",
      "[369]\tvalid_0's multi_logloss: 1.91331\tvalid_1's multi_logloss: 2.11633\n",
      "val rmse: 472.9734382644283\n",
      "val mae: 291.2156831983945\n",
      "runtime: 1328.390137910843\n",
      "\n",
      "2 fold...\n",
      "Training until validation scores don't improve for 100 rounds.\n",
      "[5]\tvalid_0's multi_logloss: 2.95349\tvalid_1's multi_logloss: 2.95661\n",
      "[10]\tvalid_0's multi_logloss: 2.71494\tvalid_1's multi_logloss: 2.72075\n",
      "[15]\tvalid_0's multi_logloss: 2.56416\tvalid_1's multi_logloss: 2.57249\n",
      "[20]\tvalid_0's multi_logloss: 2.45862\tvalid_1's multi_logloss: 2.46942\n",
      "[25]\tvalid_0's multi_logloss: 2.38075\tvalid_1's multi_logloss: 2.394\n",
      "[30]\tvalid_0's multi_logloss: 2.32147\tvalid_1's multi_logloss: 2.33717\n",
      "[35]\tvalid_0's multi_logloss: 2.27538\tvalid_1's multi_logloss: 2.29358\n",
      "[40]\tvalid_0's multi_logloss: 2.23889\tvalid_1's multi_logloss: 2.25962\n",
      "[45]\tvalid_0's multi_logloss: 2.20954\tvalid_1's multi_logloss: 2.23286\n",
      "[50]\tvalid_0's multi_logloss: 2.18571\tvalid_1's multi_logloss: 2.21165\n",
      "[55]\tvalid_0's multi_logloss: 2.16604\tvalid_1's multi_logloss: 2.19469\n",
      "[60]\tvalid_0's multi_logloss: 2.14967\tvalid_1's multi_logloss: 2.1811\n",
      "[65]\tvalid_0's multi_logloss: 2.1358\tvalid_1's multi_logloss: 2.17015\n",
      "[70]\tvalid_0's multi_logloss: 2.12394\tvalid_1's multi_logloss: 2.16127\n",
      "[75]\tvalid_0's multi_logloss: 2.1137\tvalid_1's multi_logloss: 2.15405\n",
      "[80]\tvalid_0's multi_logloss: 2.10471\tvalid_1's multi_logloss: 2.14815\n",
      "[85]\tvalid_0's multi_logloss: 2.09673\tvalid_1's multi_logloss: 2.1433\n",
      "[90]\tvalid_0's multi_logloss: 2.08955\tvalid_1's multi_logloss: 2.13931\n",
      "[95]\tvalid_0's multi_logloss: 2.08301\tvalid_1's multi_logloss: 2.13601\n",
      "[100]\tvalid_0's multi_logloss: 2.07698\tvalid_1's multi_logloss: 2.13325\n",
      "[105]\tvalid_0's multi_logloss: 2.07142\tvalid_1's multi_logloss: 2.13106\n",
      "[110]\tvalid_0's multi_logloss: 2.06621\tvalid_1's multi_logloss: 2.12918\n",
      "[115]\tvalid_0's multi_logloss: 2.06128\tvalid_1's multi_logloss: 2.12761\n",
      "[120]\tvalid_0's multi_logloss: 2.05656\tvalid_1's multi_logloss: 2.12632\n",
      "[125]\tvalid_0's multi_logloss: 2.05213\tvalid_1's multi_logloss: 2.12521\n",
      "[130]\tvalid_0's multi_logloss: 2.04779\tvalid_1's multi_logloss: 2.12427\n",
      "[135]\tvalid_0's multi_logloss: 2.04364\tvalid_1's multi_logloss: 2.12346\n",
      "[140]\tvalid_0's multi_logloss: 2.03963\tvalid_1's multi_logloss: 2.12279\n",
      "[145]\tvalid_0's multi_logloss: 2.03566\tvalid_1's multi_logloss: 2.1222\n",
      "[150]\tvalid_0's multi_logloss: 2.03184\tvalid_1's multi_logloss: 2.12171\n"
     ]
    },
    {
     "name": "stdout",
     "output_type": "stream",
     "text": [
      "[155]\tvalid_0's multi_logloss: 2.02819\tvalid_1's multi_logloss: 2.12125\n",
      "[160]\tvalid_0's multi_logloss: 2.02456\tvalid_1's multi_logloss: 2.1209\n",
      "[165]\tvalid_0's multi_logloss: 2.02107\tvalid_1's multi_logloss: 2.12059\n",
      "[170]\tvalid_0's multi_logloss: 2.01763\tvalid_1's multi_logloss: 2.12034\n",
      "[175]\tvalid_0's multi_logloss: 2.01424\tvalid_1's multi_logloss: 2.12006\n",
      "[180]\tvalid_0's multi_logloss: 2.01095\tvalid_1's multi_logloss: 2.11988\n",
      "[185]\tvalid_0's multi_logloss: 2.00774\tvalid_1's multi_logloss: 2.11969\n",
      "[190]\tvalid_0's multi_logloss: 2.00448\tvalid_1's multi_logloss: 2.11953\n",
      "[195]\tvalid_0's multi_logloss: 2.00133\tvalid_1's multi_logloss: 2.11935\n",
      "[200]\tvalid_0's multi_logloss: 1.99821\tvalid_1's multi_logloss: 2.11922\n",
      "[205]\tvalid_0's multi_logloss: 1.99519\tvalid_1's multi_logloss: 2.11914\n",
      "[210]\tvalid_0's multi_logloss: 1.99217\tvalid_1's multi_logloss: 2.11906\n",
      "[215]\tvalid_0's multi_logloss: 1.98925\tvalid_1's multi_logloss: 2.11898\n",
      "[220]\tvalid_0's multi_logloss: 1.98631\tvalid_1's multi_logloss: 2.11887\n",
      "[225]\tvalid_0's multi_logloss: 1.9834\tvalid_1's multi_logloss: 2.11875\n",
      "[230]\tvalid_0's multi_logloss: 1.9806\tvalid_1's multi_logloss: 2.11866\n",
      "[235]\tvalid_0's multi_logloss: 1.97782\tvalid_1's multi_logloss: 2.11858\n",
      "[240]\tvalid_0's multi_logloss: 1.97508\tvalid_1's multi_logloss: 2.11851\n",
      "[245]\tvalid_0's multi_logloss: 1.97239\tvalid_1's multi_logloss: 2.11846\n",
      "[250]\tvalid_0's multi_logloss: 1.96966\tvalid_1's multi_logloss: 2.1184\n",
      "[255]\tvalid_0's multi_logloss: 1.96701\tvalid_1's multi_logloss: 2.11835\n",
      "[260]\tvalid_0's multi_logloss: 1.96441\tvalid_1's multi_logloss: 2.11833\n",
      "[265]\tvalid_0's multi_logloss: 1.96181\tvalid_1's multi_logloss: 2.11832\n",
      "[270]\tvalid_0's multi_logloss: 1.95924\tvalid_1's multi_logloss: 2.11828\n",
      "[275]\tvalid_0's multi_logloss: 1.9567\tvalid_1's multi_logloss: 2.11826\n",
      "[280]\tvalid_0's multi_logloss: 1.9542\tvalid_1's multi_logloss: 2.11826\n",
      "[285]\tvalid_0's multi_logloss: 1.95177\tvalid_1's multi_logloss: 2.11825\n",
      "[290]\tvalid_0's multi_logloss: 1.9493\tvalid_1's multi_logloss: 2.11823\n",
      "[295]\tvalid_0's multi_logloss: 1.94678\tvalid_1's multi_logloss: 2.11822\n",
      "[300]\tvalid_0's multi_logloss: 1.94433\tvalid_1's multi_logloss: 2.11822\n",
      "[305]\tvalid_0's multi_logloss: 1.94196\tvalid_1's multi_logloss: 2.11821\n",
      "[310]\tvalid_0's multi_logloss: 1.93958\tvalid_1's multi_logloss: 2.11821\n",
      "[315]\tvalid_0's multi_logloss: 1.9372\tvalid_1's multi_logloss: 2.1182\n",
      "[320]\tvalid_0's multi_logloss: 1.93488\tvalid_1's multi_logloss: 2.11814\n",
      "[325]\tvalid_0's multi_logloss: 1.93252\tvalid_1's multi_logloss: 2.11815\n",
      "[330]\tvalid_0's multi_logloss: 1.93025\tvalid_1's multi_logloss: 2.11812\n",
      "[335]\tvalid_0's multi_logloss: 1.92796\tvalid_1's multi_logloss: 2.11811\n",
      "[340]\tvalid_0's multi_logloss: 1.92569\tvalid_1's multi_logloss: 2.11813\n",
      "[345]\tvalid_0's multi_logloss: 1.92343\tvalid_1's multi_logloss: 2.11808\n",
      "[350]\tvalid_0's multi_logloss: 1.92117\tvalid_1's multi_logloss: 2.11808\n",
      "[355]\tvalid_0's multi_logloss: 1.91895\tvalid_1's multi_logloss: 2.11807\n",
      "[360]\tvalid_0's multi_logloss: 1.91671\tvalid_1's multi_logloss: 2.11808\n",
      "[365]\tvalid_0's multi_logloss: 1.91453\tvalid_1's multi_logloss: 2.1181\n",
      "[370]\tvalid_0's multi_logloss: 1.91234\tvalid_1's multi_logloss: 2.11808\n",
      "[375]\tvalid_0's multi_logloss: 1.91018\tvalid_1's multi_logloss: 2.11807\n",
      "[380]\tvalid_0's multi_logloss: 1.90802\tvalid_1's multi_logloss: 2.11809\n",
      "[385]\tvalid_0's multi_logloss: 1.90592\tvalid_1's multi_logloss: 2.11807\n",
      "[390]\tvalid_0's multi_logloss: 1.90373\tvalid_1's multi_logloss: 2.11808\n",
      "[395]\tvalid_0's multi_logloss: 1.90161\tvalid_1's multi_logloss: 2.11806\n",
      "[400]\tvalid_0's multi_logloss: 1.89948\tvalid_1's multi_logloss: 2.11802\n",
      "[405]\tvalid_0's multi_logloss: 1.89742\tvalid_1's multi_logloss: 2.11806\n",
      "[410]\tvalid_0's multi_logloss: 1.89539\tvalid_1's multi_logloss: 2.11809\n",
      "[415]\tvalid_0's multi_logloss: 1.89332\tvalid_1's multi_logloss: 2.11812\n",
      "[420]\tvalid_0's multi_logloss: 1.89125\tvalid_1's multi_logloss: 2.11812\n",
      "[425]\tvalid_0's multi_logloss: 1.88921\tvalid_1's multi_logloss: 2.11815\n",
      "[430]\tvalid_0's multi_logloss: 1.88719\tvalid_1's multi_logloss: 2.1182\n",
      "[435]\tvalid_0's multi_logloss: 1.8852\tvalid_1's multi_logloss: 2.11822\n",
      "[440]\tvalid_0's multi_logloss: 1.88321\tvalid_1's multi_logloss: 2.11823\n",
      "[445]\tvalid_0's multi_logloss: 1.88127\tvalid_1's multi_logloss: 2.11823\n",
      "[450]\tvalid_0's multi_logloss: 1.8792\tvalid_1's multi_logloss: 2.11824\n",
      "[455]\tvalid_0's multi_logloss: 1.87722\tvalid_1's multi_logloss: 2.11825\n",
      "[460]\tvalid_0's multi_logloss: 1.87524\tvalid_1's multi_logloss: 2.11827\n",
      "[465]\tvalid_0's multi_logloss: 1.87328\tvalid_1's multi_logloss: 2.11828\n",
      "[470]\tvalid_0's multi_logloss: 1.87137\tvalid_1's multi_logloss: 2.1183\n",
      "[475]\tvalid_0's multi_logloss: 1.86942\tvalid_1's multi_logloss: 2.11833\n",
      "[480]\tvalid_0's multi_logloss: 1.86752\tvalid_1's multi_logloss: 2.11836\n",
      "[485]\tvalid_0's multi_logloss: 1.86552\tvalid_1's multi_logloss: 2.1184\n",
      "[490]\tvalid_0's multi_logloss: 1.86366\tvalid_1's multi_logloss: 2.1184\n",
      "[495]\tvalid_0's multi_logloss: 1.8618\tvalid_1's multi_logloss: 2.11843\n",
      "[500]\tvalid_0's multi_logloss: 1.8599\tvalid_1's multi_logloss: 2.11845\n",
      "Early stopping, best iteration is:\n",
      "[400]\tvalid_0's multi_logloss: 1.89948\tvalid_1's multi_logloss: 2.11802\n",
      "val rmse: 468.1790452869289\n",
      "val mae: 289.47992059971824\n",
      "runtime: 1322.9415621757507\n",
      "\n",
      "3 fold...\n",
      "Training until validation scores don't improve for 100 rounds.\n",
      "[5]\tvalid_0's multi_logloss: 2.95322\tvalid_1's multi_logloss: 2.95597\n",
      "[10]\tvalid_0's multi_logloss: 2.7149\tvalid_1's multi_logloss: 2.72017\n",
      "[15]\tvalid_0's multi_logloss: 2.56421\tvalid_1's multi_logloss: 2.57192\n",
      "[20]\tvalid_0's multi_logloss: 2.45877\tvalid_1's multi_logloss: 2.46887\n",
      "[25]\tvalid_0's multi_logloss: 2.38095\tvalid_1's multi_logloss: 2.3934\n",
      "[30]\tvalid_0's multi_logloss: 2.32173\tvalid_1's multi_logloss: 2.33653\n",
      "[35]\tvalid_0's multi_logloss: 2.27566\tvalid_1's multi_logloss: 2.29289\n",
      "[40]\tvalid_0's multi_logloss: 2.23916\tvalid_1's multi_logloss: 2.25883\n",
      "[45]\tvalid_0's multi_logloss: 2.20987\tvalid_1's multi_logloss: 2.23204\n",
      "[50]\tvalid_0's multi_logloss: 2.18604\tvalid_1's multi_logloss: 2.2108\n",
      "[55]\tvalid_0's multi_logloss: 2.16644\tvalid_1's multi_logloss: 2.19383\n",
      "[60]\tvalid_0's multi_logloss: 2.15004\tvalid_1's multi_logloss: 2.1802\n",
      "[65]\tvalid_0's multi_logloss: 2.1362\tvalid_1's multi_logloss: 2.16921\n",
      "[70]\tvalid_0's multi_logloss: 2.12439\tvalid_1's multi_logloss: 2.16025\n",
      "[75]\tvalid_0's multi_logloss: 2.11413\tvalid_1's multi_logloss: 2.15297\n",
      "[80]\tvalid_0's multi_logloss: 2.10517\tvalid_1's multi_logloss: 2.14701\n",
      "[85]\tvalid_0's multi_logloss: 2.09719\tvalid_1's multi_logloss: 2.14216\n",
      "[90]\tvalid_0's multi_logloss: 2.09003\tvalid_1's multi_logloss: 2.13809\n",
      "[95]\tvalid_0's multi_logloss: 2.08349\tvalid_1's multi_logloss: 2.13478\n",
      "[100]\tvalid_0's multi_logloss: 2.07746\tvalid_1's multi_logloss: 2.13204\n",
      "[105]\tvalid_0's multi_logloss: 2.07189\tvalid_1's multi_logloss: 2.12977\n",
      "[110]\tvalid_0's multi_logloss: 2.0667\tvalid_1's multi_logloss: 2.12786\n",
      "[115]\tvalid_0's multi_logloss: 2.06181\tvalid_1's multi_logloss: 2.12623\n",
      "[120]\tvalid_0's multi_logloss: 2.05712\tvalid_1's multi_logloss: 2.12488\n",
      "[125]\tvalid_0's multi_logloss: 2.05265\tvalid_1's multi_logloss: 2.12373\n",
      "[130]\tvalid_0's multi_logloss: 2.04839\tvalid_1's multi_logloss: 2.12277\n",
      "[135]\tvalid_0's multi_logloss: 2.04428\tvalid_1's multi_logloss: 2.12195\n",
      "[140]\tvalid_0's multi_logloss: 2.04033\tvalid_1's multi_logloss: 2.12123\n",
      "[145]\tvalid_0's multi_logloss: 2.03643\tvalid_1's multi_logloss: 2.12064\n",
      "[150]\tvalid_0's multi_logloss: 2.03264\tvalid_1's multi_logloss: 2.12017\n",
      "[155]\tvalid_0's multi_logloss: 2.02899\tvalid_1's multi_logloss: 2.11974\n",
      "[160]\tvalid_0's multi_logloss: 2.02544\tvalid_1's multi_logloss: 2.11935\n",
      "[165]\tvalid_0's multi_logloss: 2.02186\tvalid_1's multi_logloss: 2.11904\n",
      "[170]\tvalid_0's multi_logloss: 2.01831\tvalid_1's multi_logloss: 2.11874\n",
      "[175]\tvalid_0's multi_logloss: 2.0149\tvalid_1's multi_logloss: 2.11849\n",
      "[180]\tvalid_0's multi_logloss: 2.01157\tvalid_1's multi_logloss: 2.11827\n",
      "[185]\tvalid_0's multi_logloss: 2.0083\tvalid_1's multi_logloss: 2.11803\n",
      "[190]\tvalid_0's multi_logloss: 2.0051\tvalid_1's multi_logloss: 2.11784\n",
      "[195]\tvalid_0's multi_logloss: 2.00191\tvalid_1's multi_logloss: 2.11769\n",
      "[200]\tvalid_0's multi_logloss: 1.99879\tvalid_1's multi_logloss: 2.11756\n",
      "[205]\tvalid_0's multi_logloss: 1.99574\tvalid_1's multi_logloss: 2.11739\n"
     ]
    },
    {
     "name": "stdout",
     "output_type": "stream",
     "text": [
      "[210]\tvalid_0's multi_logloss: 1.99273\tvalid_1's multi_logloss: 2.11727\n",
      "[215]\tvalid_0's multi_logloss: 1.98975\tvalid_1's multi_logloss: 2.11715\n",
      "[220]\tvalid_0's multi_logloss: 1.98686\tvalid_1's multi_logloss: 2.117\n",
      "[225]\tvalid_0's multi_logloss: 1.98401\tvalid_1's multi_logloss: 2.1169\n",
      "[230]\tvalid_0's multi_logloss: 1.98123\tvalid_1's multi_logloss: 2.11679\n",
      "[235]\tvalid_0's multi_logloss: 1.9785\tvalid_1's multi_logloss: 2.11669\n",
      "[240]\tvalid_0's multi_logloss: 1.97576\tvalid_1's multi_logloss: 2.11664\n",
      "[245]\tvalid_0's multi_logloss: 1.97304\tvalid_1's multi_logloss: 2.11656\n",
      "[250]\tvalid_0's multi_logloss: 1.97035\tvalid_1's multi_logloss: 2.11651\n",
      "[255]\tvalid_0's multi_logloss: 1.96776\tvalid_1's multi_logloss: 2.11646\n",
      "[260]\tvalid_0's multi_logloss: 1.96514\tvalid_1's multi_logloss: 2.11644\n",
      "[265]\tvalid_0's multi_logloss: 1.96249\tvalid_1's multi_logloss: 2.11639\n",
      "[270]\tvalid_0's multi_logloss: 1.95996\tvalid_1's multi_logloss: 2.11636\n",
      "[275]\tvalid_0's multi_logloss: 1.95745\tvalid_1's multi_logloss: 2.11627\n",
      "[280]\tvalid_0's multi_logloss: 1.95491\tvalid_1's multi_logloss: 2.1162\n",
      "[285]\tvalid_0's multi_logloss: 1.9524\tvalid_1's multi_logloss: 2.11621\n",
      "[290]\tvalid_0's multi_logloss: 1.94993\tvalid_1's multi_logloss: 2.11616\n",
      "[295]\tvalid_0's multi_logloss: 1.94749\tvalid_1's multi_logloss: 2.11614\n",
      "[300]\tvalid_0's multi_logloss: 1.94508\tvalid_1's multi_logloss: 2.11611\n",
      "[305]\tvalid_0's multi_logloss: 1.94267\tvalid_1's multi_logloss: 2.1161\n",
      "[310]\tvalid_0's multi_logloss: 1.94033\tvalid_1's multi_logloss: 2.11607\n",
      "[315]\tvalid_0's multi_logloss: 1.93797\tvalid_1's multi_logloss: 2.11603\n",
      "[320]\tvalid_0's multi_logloss: 1.9356\tvalid_1's multi_logloss: 2.11599\n",
      "[325]\tvalid_0's multi_logloss: 1.93323\tvalid_1's multi_logloss: 2.11597\n",
      "[330]\tvalid_0's multi_logloss: 1.93089\tvalid_1's multi_logloss: 2.11594\n",
      "[335]\tvalid_0's multi_logloss: 1.92854\tvalid_1's multi_logloss: 2.11594\n",
      "[340]\tvalid_0's multi_logloss: 1.92631\tvalid_1's multi_logloss: 2.11596\n",
      "[345]\tvalid_0's multi_logloss: 1.92404\tvalid_1's multi_logloss: 2.11595\n",
      "[350]\tvalid_0's multi_logloss: 1.92183\tvalid_1's multi_logloss: 2.11594\n",
      "[355]\tvalid_0's multi_logloss: 1.91966\tvalid_1's multi_logloss: 2.11596\n",
      "[360]\tvalid_0's multi_logloss: 1.91747\tvalid_1's multi_logloss: 2.11595\n",
      "[365]\tvalid_0's multi_logloss: 1.91525\tvalid_1's multi_logloss: 2.11593\n",
      "[370]\tvalid_0's multi_logloss: 1.9131\tvalid_1's multi_logloss: 2.11591\n",
      "[375]\tvalid_0's multi_logloss: 1.91094\tvalid_1's multi_logloss: 2.11591\n"
     ]
    }
   ],
   "source": [
    "skf = StratifiedKFold(n_splits=5, shuffle=True, random_state=2019)\n",
    "clf = LGBMClassifier(\n",
    "    n_jobs=87,\n",
    "    learning_rate=0.05,\n",
    "    n_estimators=10000,\n",
    "    subsample=0.8,\n",
    "    subsample_freq=1,\n",
    "    colsample_bytree=0.8,\n",
    "    random_state=2019\n",
    ")\n",
    "amt_oof = np.zeros(train_num)\n",
    "prob_oof = np.zeros((train_num, 33))\n",
    "test_pred_prob = np.zeros((test_values.shape[0], 33))\n",
    "for i, (trn_idx, val_idx) in enumerate(skf.split(train_values, clf_labels)):\n",
    "    print(i, 'fold...')\n",
    "    t = time.time()\n",
    "\n",
    "    trn_x, trn_y = train_values[trn_idx], clf_labels[trn_idx]\n",
    "    val_x, val_y = train_values[val_idx], clf_labels[val_idx]\n",
    "    val_repay_amt = amt_labels[val_idx]\n",
    "    val_due_amt = train_due_amt_df.iloc[val_idx]\n",
    "\n",
    "    clf.fit(\n",
    "        trn_x, trn_y,\n",
    "        eval_set=[(trn_x, trn_y), (val_x, val_y)],\n",
    "        early_stopping_rounds=100, verbose=5, feature_name=list(feature_name)\n",
    "    )\n",
    "    # shape = (-1, 33)\n",
    "    val_pred_prob_everyday = clf.predict_proba(val_x, num_iteration=clf.best_iteration_)\n",
    "    prob_oof[val_idx] = val_pred_prob_everyday\n",
    "    val_pred_prob_today = [val_pred_prob_everyday[i][val_y[i]] for i in range(val_pred_prob_everyday.shape[0])]\n",
    "    val_pred_repay_amt = val_due_amt['due_amt'].values * val_pred_prob_today\n",
    "    print('val rmse:', np.sqrt(mean_squared_error(val_repay_amt, val_pred_repay_amt)))\n",
    "    print('val mae:', mean_absolute_error(val_repay_amt, val_pred_repay_amt))\n",
    "    amt_oof[val_idx] = val_pred_repay_amt\n",
    "    test_pred_prob += clf.predict_proba(test_values, num_iteration=clf.best_iteration_) / skf.n_splits\n",
    "\n",
    "    print('runtime: {}\\n'.format(time.time() - t))\n",
    "\n",
    "print('\\ncv rmse:', np.sqrt(mean_squared_error(amt_labels, amt_oof)))\n",
    "print('cv mae:', mean_absolute_error(amt_labels, amt_oof))\n",
    "print('cv logloss:', log_loss(clf_labels, prob_oof))\n",
    "print('cv acc:', accuracy_score(clf_labels, np.argmax(prob_oof, axis=1)))"
   ]
  },
  {
   "cell_type": "code",
   "execution_count": null,
   "metadata": {},
   "outputs": [],
   "source": [
    "# # 原本的输出\n",
    "# prob_cols = ['prob_{}'.format(i) for i in range(33)]\n",
    "# for i, f in enumerate(prob_cols):\n",
    "#     sub[f] = test_pred_prob[:, i]\n",
    "# sub_example = pd.read_csv('dataset/submission.csv', parse_dates=['repay_date'])\n",
    "# sub_example = sub_example.merge(sub, on='listing_id', how='left')\n",
    "# sub_example['days'] = (sub_example['repay_date'] - sub_example['auditing_date']).dt.days\n",
    "# # shape = (-1, 33)\n",
    "# test_prob = sub_example[prob_cols].values\n",
    "# test_labels = sub_example['days'].values\n",
    "# test_prob = [test_prob[i][test_labels[i]] for i in range(test_prob.shape[0])]\n",
    "# sub_example['repay_amt'] = sub_example['due_amt'] * test_prob\n",
    "# sub_example[['listing_id', 'repay_date', 'repay_amt']].to_csv('sub.csv', index=False)\n",
    "\n"
   ]
  },
  {
   "cell_type": "code",
   "execution_count": null,
   "metadata": {},
   "outputs": [],
   "source": [
    "import pickle\n",
    "with open(\"test_pred_prob6.pkl\", 'wb') as f:\n",
    "    pickle.dump(test_pred_prob, f)"
   ]
  },
  {
   "cell_type": "code",
   "execution_count": null,
   "metadata": {},
   "outputs": [],
   "source": [
    "prob_cols = ['prob_{}'.format(i) for i in range(33)]"
   ]
  },
  {
   "cell_type": "code",
   "execution_count": null,
   "metadata": {},
   "outputs": [],
   "source": [
    "for i, f in enumerate(prob_cols):\n",
    "    sub[f] = test_pred_prob[:, i]"
   ]
  },
  {
   "cell_type": "code",
   "execution_count": null,
   "metadata": {},
   "outputs": [],
   "source": [
    "sub_example = pd.read_csv('dataset/submission.csv', parse_dates=['repay_date'])"
   ]
  },
  {
   "cell_type": "code",
   "execution_count": null,
   "metadata": {},
   "outputs": [],
   "source": [
    "sub_example = sub_example.merge(sub, on='listing_id', how='left')"
   ]
  },
  {
   "cell_type": "code",
   "execution_count": null,
   "metadata": {},
   "outputs": [],
   "source": [
    "def add_1_month(s):\n",
    "    s = s.strftime('%F')\n",
    "    y, m, d = str(s).split('-')\n",
    "    y = int(y)\n",
    "    m = int(m)\n",
    "    d = int(d)\n",
    "    m = m + 1\n",
    "    if m == 13:\n",
    "        m = 1\n",
    "        y = y + 1\n",
    "    if m in [4,6,9,11]:\n",
    "        if d == 31:\n",
    "            d = 30\n",
    "    if m == 2:\n",
    "        if d in [29, 30, 31]:\n",
    "            if y in [2012, 2016]:\n",
    "                d = 29\n",
    "            else:\n",
    "                d = 28\n",
    "    return datetime.datetime.strptime(str(y)+'-'+str(m)+'-'+str(d), '%Y-%m-%d')"
   ]
  },
  {
   "cell_type": "code",
   "execution_count": null,
   "metadata": {},
   "outputs": [],
   "source": [
    "from tqdm import tqdm, tqdm_notebook\n",
    "tqdm_notebook().pandas()"
   ]
  },
  {
   "cell_type": "code",
   "execution_count": null,
   "metadata": {},
   "outputs": [],
   "source": [
    "sub_example['due_date'] = sub_example['auditing_date'].parallel_apply(add_1_month)"
   ]
  },
  {
   "cell_type": "code",
   "execution_count": null,
   "metadata": {},
   "outputs": [],
   "source": [
    "sub_example.head()"
   ]
  },
  {
   "cell_type": "code",
   "execution_count": null,
   "metadata": {},
   "outputs": [],
   "source": [
    "sub_example['days'] = (sub_example['due_date'] - sub_example['repay_date']).dt.days"
   ]
  },
  {
   "cell_type": "code",
   "execution_count": null,
   "metadata": {},
   "outputs": [],
   "source": [
    "sub_example.head()"
   ]
  },
  {
   "cell_type": "code",
   "execution_count": null,
   "metadata": {},
   "outputs": [],
   "source": [
    "test_prob = sub_example[prob_cols].values"
   ]
  },
  {
   "cell_type": "code",
   "execution_count": null,
   "metadata": {},
   "outputs": [],
   "source": [
    "test_labels = sub_example['days'].values"
   ]
  },
  {
   "cell_type": "code",
   "execution_count": null,
   "metadata": {},
   "outputs": [],
   "source": [
    "test_prob = [test_prob[i][test_labels[i]] for i in range(test_prob.shape[0])]"
   ]
  },
  {
   "cell_type": "code",
   "execution_count": null,
   "metadata": {},
   "outputs": [],
   "source": [
    "sub_example['repay_amt'] = sub_example['due_amt'] * test_prob"
   ]
  },
  {
   "cell_type": "code",
   "execution_count": null,
   "metadata": {},
   "outputs": [],
   "source": [
    "sub_example[['listing_id', 'repay_date', 'repay_amt']].to_csv(f\"sub_{datetime.datetime.now().strftime('%Y-%m-%d %H-%M-%S')}.csv\", index=False)"
   ]
  },
  {
   "cell_type": "code",
   "execution_count": null,
   "metadata": {},
   "outputs": [],
   "source": [
    "lgb.plot_importance(clf, max_num_features=50,figsize=(10,10))"
   ]
  },
  {
   "cell_type": "code",
   "execution_count": null,
   "metadata": {},
   "outputs": [],
   "source": [
    "sub_example['prob'] = test_prob"
   ]
  },
  {
   "cell_type": "code",
   "execution_count": null,
   "metadata": {},
   "outputs": [],
   "source": [
    "threshold_up = 0.57\n",
    "id_with_highpro = sub_example[sub_example['prob']>=threshold_up]['listing_id']"
   ]
  },
  {
   "cell_type": "code",
   "execution_count": null,
   "metadata": {},
   "outputs": [],
   "source": [
    "sub_example.loc[sub_example['listing_id'].isin(id_with_highpro.values),'repay_amt']=0"
   ]
  },
  {
   "cell_type": "code",
   "execution_count": null,
   "metadata": {},
   "outputs": [],
   "source": [
    "sub_example['repay_amt']= sub_example.apply(lambda x:x['repay_amt'] if x['prob']<threshold_up else x['due_amt'],axis=1)"
   ]
  },
  {
   "cell_type": "code",
   "execution_count": null,
   "metadata": {},
   "outputs": [],
   "source": [
    "sub_example[['listing_id', 'repay_date', 'repay_amt']].to_csv(f\"sub_{datetime.datetime.now().strftime('%Y-%m-%d %H-%M-%S')}_0_{threshold_up}.csv\", index=False)"
   ]
  },
  {
   "cell_type": "code",
   "execution_count": null,
   "metadata": {},
   "outputs": [],
   "source": [
    "sub_example.groupby('repay_date').apply(lambda x:x['repay_amt'].sum()).plot(kind='line')"
   ]
  },
  {
   "cell_type": "markdown",
   "metadata": {},
   "source": [
    "def alter(df, date, a):\n",
    "    \"\"\"\n",
    "    data就是要增加的日期\n",
    "    a就是这天增加的比例\n",
    "    \"\"\"\n",
    "    if date not in df['repay_date'].values:\n",
    "        return df\n",
    "    else:\n",
    "        dates = df['repay_date'].tolist()\n",
    "        dates.remove(date)\n",
    "        df = df.set_index('repay_date')\n",
    "        b = df.loc[date, 'repay_amt'] * a\n",
    "        df.loc[date, 'repay_amt'] += b\n",
    "        df.loc[dates, 'repay_amt'] -= b / len(dates)\n",
    "        df.reset_index(inplace=True)\n",
    "        return df"
   ]
  },
  {
   "cell_type": "markdown",
   "metadata": {},
   "source": [
    "sub_example_1 = sub_example.copy()"
   ]
  },
  {
   "cell_type": "markdown",
   "metadata": {},
   "source": [
    "sub_example_1['repay_date']=sub_example_1['repay_date'].astype(str)"
   ]
  },
  {
   "cell_type": "markdown",
   "metadata": {},
   "source": [
    "sub_example_1 = sub_example_1.groupby('listing_id', as_index=False).apply(alter, date=\"2019-03-29\", a=0.1).reset_index(drop=True)[['listing_id', 'repay_date', 'repay_amt']]\n",
    "sub_example_1 = sub_example_1.groupby('listing_id', as_index=False).apply(alter, date=\"2019-03-30\", a=0.1).reset_index(drop=True)[['listing_id', 'repay_date', 'repay_amt']]\n",
    "sub_example_1 = sub_example_1.groupby('listing_id', as_index=False).apply(alter, date=\"2019-03-31\", a=0.1).reset_index(drop=True)[['listing_id', 'repay_date', 'repay_amt']]"
   ]
  },
  {
   "cell_type": "markdown",
   "metadata": {},
   "source": [
    "sub_example_1.to_csv(\"sub_ex.csv\",index=False)"
   ]
  },
  {
   "cell_type": "markdown",
   "metadata": {},
   "source": [
    "# 下面这行的结果告诉我一下"
   ]
  },
  {
   "cell_type": "code",
   "execution_count": null,
   "metadata": {},
   "outputs": [],
   "source": [
    "#df_bkup = sub_example.copy()"
   ]
  },
  {
   "cell_type": "code",
   "execution_count": null,
   "metadata": {},
   "outputs": [],
   "source": [
    "#sub_example['prob'] = test_prob "
   ]
  },
  {
   "cell_type": "code",
   "execution_count": null,
   "metadata": {},
   "outputs": [],
   "source": [
    "#sub_example.sort_values(by='prob',ascending = False).drop_duplicates('listing_id').reset_index(drop=True).prob.describe()"
   ]
  },
  {
   "cell_type": "code",
   "execution_count": null,
   "metadata": {},
   "outputs": [],
   "source": [
    "#for threshold in [0.1, 0.15, 0.2, 0.25]:  # 这里的threshold可以根据上面给我看的describe进行修改\n",
    "#    sub_example['repay_amt'] = sub_example.apply(lambda x:x['due_amt'] * x['prob'] if x['prob'] > threshold else 0, axis=1)\n",
    "#    sub_example[['listing_id', 'repay_date', 'repay_amt']].to_csv(f\"sub_{datetime.datetime.now().strftime('%Y-%m-%d %H-%M-%S')}_{threshold}.csv\", index=False)\n"
   ]
  },
  {
   "cell_type": "code",
   "execution_count": null,
   "metadata": {},
   "outputs": [],
   "source": [
    "#for threshold in [0.1, 0.15, 0.2, 0.25]:  # 这里的threshold可以根据上面给我看的describe进行修改\n",
    "#    sub_example['repay_amt'] = sub_example.apply(lambda x:x['due_amt'] * x['prob'] if x['prob'] > threshold else 0, axis=1)\n",
    "#    sub_example_fin=sub_example[['listing_id', 'repay_date', 'repay_amt']]\n",
    "#    sub_example_fin[sub_example_fin['repay_amt']!=0].to_csv(f\"sub_{datetime.datetime.now().strftime('%Y-%m-%d %H-%M-%S')}_{threshold}.csv\", index=False)"
   ]
  }
 ],
 "metadata": {
  "kernelspec": {
   "display_name": "Python 3",
   "language": "python",
   "name": "python3"
  },
  "language_info": {
   "codemirror_mode": {
    "name": "ipython",
    "version": 3
   },
   "file_extension": ".py",
   "mimetype": "text/x-python",
   "name": "python",
   "nbconvert_exporter": "python",
   "pygments_lexer": "ipython3",
   "version": "3.7.3"
  }
 },
 "nbformat": 4,
 "nbformat_minor": 2
}
