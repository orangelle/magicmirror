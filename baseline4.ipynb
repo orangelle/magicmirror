{
 "cells": [
  {
   "cell_type": "code",
   "execution_count": 2,
   "metadata": {},
   "outputs": [],
   "source": [
    "import pandas as pd\n",
    "import numpy as np\n",
    "from sklearn.model_selection import StratifiedKFold\n",
    "from lightgbm.sklearn import LGBMClassifier\n",
    "from sklearn.metrics import mean_squared_error, mean_absolute_error, log_loss, accuracy_score\n",
    "from sklearn.feature_extraction.text import CountVectorizer\n",
    "from scipy import sparse\n",
    "from scipy.stats import kurtosis\n",
    "import time\n",
    "import warnings\n",
    "warnings.filterwarnings('ignore')\n",
    "pd.set_option('display.max_columns', None)\n",
    "import datetime"
   ]
  },
  {
   "cell_type": "code",
   "execution_count": 13,
   "metadata": {},
   "outputs": [],
   "source": [
    "train_df = pd.read_csv('dataset/train.csv', parse_dates=['auditing_date', 'due_date', 'repay_date'])"
   ]
  },
  {
   "cell_type": "code",
   "execution_count": 3,
   "metadata": {},
   "outputs": [
    {
     "data": {
      "text/html": [
       "<div>\n",
       "<style scoped>\n",
       "    .dataframe tbody tr th:only-of-type {\n",
       "        vertical-align: middle;\n",
       "    }\n",
       "\n",
       "    .dataframe tbody tr th {\n",
       "        vertical-align: top;\n",
       "    }\n",
       "\n",
       "    .dataframe thead th {\n",
       "        text-align: right;\n",
       "    }\n",
       "</style>\n",
       "<table border=\"1\" class=\"dataframe\">\n",
       "  <thead>\n",
       "    <tr style=\"text-align: right;\">\n",
       "      <th></th>\n",
       "      <th>user_id</th>\n",
       "      <th>listing_id</th>\n",
       "      <th>auditing_date</th>\n",
       "      <th>due_date</th>\n",
       "      <th>due_amt</th>\n",
       "      <th>repay_date</th>\n",
       "      <th>repay_amt</th>\n",
       "    </tr>\n",
       "  </thead>\n",
       "  <tbody>\n",
       "    <tr>\n",
       "      <th>0</th>\n",
       "      <td>748147</td>\n",
       "      <td>3163926</td>\n",
       "      <td>2018-04-25</td>\n",
       "      <td>2018-05-25</td>\n",
       "      <td>72.1167</td>\n",
       "      <td>2018-05-25</td>\n",
       "      <td>72.1167</td>\n",
       "    </tr>\n",
       "    <tr>\n",
       "      <th>1</th>\n",
       "      <td>672952</td>\n",
       "      <td>3698760</td>\n",
       "      <td>2018-06-09</td>\n",
       "      <td>2018-07-09</td>\n",
       "      <td>258.7045</td>\n",
       "      <td>2018-07-08</td>\n",
       "      <td>258.7045</td>\n",
       "    </tr>\n",
       "    <tr>\n",
       "      <th>2</th>\n",
       "      <td>404196</td>\n",
       "      <td>2355665</td>\n",
       "      <td>2018-02-18</td>\n",
       "      <td>2018-03-18</td>\n",
       "      <td>307.9270</td>\n",
       "      <td>\\N</td>\n",
       "      <td>\\N</td>\n",
       "    </tr>\n",
       "    <tr>\n",
       "      <th>3</th>\n",
       "      <td>342769</td>\n",
       "      <td>1994522</td>\n",
       "      <td>2018-01-13</td>\n",
       "      <td>2018-02-13</td>\n",
       "      <td>252.9809</td>\n",
       "      <td>2018-02-13</td>\n",
       "      <td>252.9809</td>\n",
       "    </tr>\n",
       "    <tr>\n",
       "      <th>4</th>\n",
       "      <td>828139</td>\n",
       "      <td>3602352</td>\n",
       "      <td>2018-06-01</td>\n",
       "      <td>2018-07-01</td>\n",
       "      <td>107.6503</td>\n",
       "      <td>2018-06-25</td>\n",
       "      <td>107.6503</td>\n",
       "    </tr>\n",
       "  </tbody>\n",
       "</table>\n",
       "</div>"
      ],
      "text/plain": [
       "   user_id  listing_id auditing_date   due_date   due_amt  repay_date  \\\n",
       "0   748147     3163926    2018-04-25 2018-05-25   72.1167  2018-05-25   \n",
       "1   672952     3698760    2018-06-09 2018-07-09  258.7045  2018-07-08   \n",
       "2   404196     2355665    2018-02-18 2018-03-18  307.9270          \\N   \n",
       "3   342769     1994522    2018-01-13 2018-02-13  252.9809  2018-02-13   \n",
       "4   828139     3602352    2018-06-01 2018-07-01  107.6503  2018-06-25   \n",
       "\n",
       "  repay_amt  \n",
       "0   72.1167  \n",
       "1  258.7045  \n",
       "2        \\N  \n",
       "3  252.9809  \n",
       "4  107.6503  "
      ]
     },
     "execution_count": 3,
     "metadata": {},
     "output_type": "execute_result"
    }
   ],
   "source": [
    "train_df.head()"
   ]
  },
  {
   "cell_type": "code",
   "execution_count": 4,
   "metadata": {},
   "outputs": [],
   "source": [
    "def plus_1_day(s):\n",
    "    return s + datetime.timedelta(days=1)"
   ]
  },
  {
   "cell_type": "code",
   "execution_count": 5,
   "metadata": {},
   "outputs": [],
   "source": [
    "# 如果违约,还款日期为due_date的后一天\n",
    "train_df['repay_date'] = train_df[['due_date', 'repay_date']].apply(\n",
    "    lambda x: x['repay_date'] if x['repay_date'] != '\\\\N' else plus_1_day(x['due_date']), axis=1\n",
    ")"
   ]
  },
  {
   "cell_type": "code",
   "execution_count": 6,
   "metadata": {},
   "outputs": [
    {
     "data": {
      "text/html": [
       "<div>\n",
       "<style scoped>\n",
       "    .dataframe tbody tr th:only-of-type {\n",
       "        vertical-align: middle;\n",
       "    }\n",
       "\n",
       "    .dataframe tbody tr th {\n",
       "        vertical-align: top;\n",
       "    }\n",
       "\n",
       "    .dataframe thead th {\n",
       "        text-align: right;\n",
       "    }\n",
       "</style>\n",
       "<table border=\"1\" class=\"dataframe\">\n",
       "  <thead>\n",
       "    <tr style=\"text-align: right;\">\n",
       "      <th></th>\n",
       "      <th>user_id</th>\n",
       "      <th>listing_id</th>\n",
       "      <th>auditing_date</th>\n",
       "      <th>due_date</th>\n",
       "      <th>due_amt</th>\n",
       "      <th>repay_date</th>\n",
       "      <th>repay_amt</th>\n",
       "    </tr>\n",
       "  </thead>\n",
       "  <tbody>\n",
       "    <tr>\n",
       "      <th>0</th>\n",
       "      <td>748147</td>\n",
       "      <td>3163926</td>\n",
       "      <td>2018-04-25</td>\n",
       "      <td>2018-05-25</td>\n",
       "      <td>72.1167</td>\n",
       "      <td>2018-05-25</td>\n",
       "      <td>72.1167</td>\n",
       "    </tr>\n",
       "    <tr>\n",
       "      <th>1</th>\n",
       "      <td>672952</td>\n",
       "      <td>3698760</td>\n",
       "      <td>2018-06-09</td>\n",
       "      <td>2018-07-09</td>\n",
       "      <td>258.7045</td>\n",
       "      <td>2018-07-08</td>\n",
       "      <td>258.7045</td>\n",
       "    </tr>\n",
       "    <tr>\n",
       "      <th>2</th>\n",
       "      <td>404196</td>\n",
       "      <td>2355665</td>\n",
       "      <td>2018-02-18</td>\n",
       "      <td>2018-03-18</td>\n",
       "      <td>307.9270</td>\n",
       "      <td>2018-03-19</td>\n",
       "      <td>\\N</td>\n",
       "    </tr>\n",
       "    <tr>\n",
       "      <th>3</th>\n",
       "      <td>342769</td>\n",
       "      <td>1994522</td>\n",
       "      <td>2018-01-13</td>\n",
       "      <td>2018-02-13</td>\n",
       "      <td>252.9809</td>\n",
       "      <td>2018-02-13</td>\n",
       "      <td>252.9809</td>\n",
       "    </tr>\n",
       "    <tr>\n",
       "      <th>4</th>\n",
       "      <td>828139</td>\n",
       "      <td>3602352</td>\n",
       "      <td>2018-06-01</td>\n",
       "      <td>2018-07-01</td>\n",
       "      <td>107.6503</td>\n",
       "      <td>2018-06-25</td>\n",
       "      <td>107.6503</td>\n",
       "    </tr>\n",
       "  </tbody>\n",
       "</table>\n",
       "</div>"
      ],
      "text/plain": [
       "   user_id  listing_id auditing_date   due_date   due_amt repay_date repay_amt\n",
       "0   748147     3163926    2018-04-25 2018-05-25   72.1167 2018-05-25   72.1167\n",
       "1   672952     3698760    2018-06-09 2018-07-09  258.7045 2018-07-08  258.7045\n",
       "2   404196     2355665    2018-02-18 2018-03-18  307.9270 2018-03-19        \\N\n",
       "3   342769     1994522    2018-01-13 2018-02-13  252.9809 2018-02-13  252.9809\n",
       "4   828139     3602352    2018-06-01 2018-07-01  107.6503 2018-06-25  107.6503"
      ]
     },
     "execution_count": 6,
     "metadata": {},
     "output_type": "execute_result"
    }
   ],
   "source": [
    "train_df.head()"
   ]
  },
  {
   "cell_type": "code",
   "execution_count": 7,
   "metadata": {},
   "outputs": [],
   "source": [
    "# 如果违约,还款金额为0\n",
    "train_df['repay_amt'] = train_df['repay_amt'].apply(lambda x: x if x != '\\\\N' else 0).astype('float32')"
   ]
  },
  {
   "cell_type": "code",
   "execution_count": 8,
   "metadata": {},
   "outputs": [
    {
     "data": {
      "text/html": [
       "<div>\n",
       "<style scoped>\n",
       "    .dataframe tbody tr th:only-of-type {\n",
       "        vertical-align: middle;\n",
       "    }\n",
       "\n",
       "    .dataframe tbody tr th {\n",
       "        vertical-align: top;\n",
       "    }\n",
       "\n",
       "    .dataframe thead th {\n",
       "        text-align: right;\n",
       "    }\n",
       "</style>\n",
       "<table border=\"1\" class=\"dataframe\">\n",
       "  <thead>\n",
       "    <tr style=\"text-align: right;\">\n",
       "      <th></th>\n",
       "      <th>user_id</th>\n",
       "      <th>listing_id</th>\n",
       "      <th>auditing_date</th>\n",
       "      <th>due_date</th>\n",
       "      <th>due_amt</th>\n",
       "      <th>repay_date</th>\n",
       "      <th>repay_amt</th>\n",
       "    </tr>\n",
       "  </thead>\n",
       "  <tbody>\n",
       "    <tr>\n",
       "      <th>0</th>\n",
       "      <td>748147</td>\n",
       "      <td>3163926</td>\n",
       "      <td>2018-04-25</td>\n",
       "      <td>2018-05-25</td>\n",
       "      <td>72.1167</td>\n",
       "      <td>2018-05-25</td>\n",
       "      <td>72.116699</td>\n",
       "    </tr>\n",
       "    <tr>\n",
       "      <th>1</th>\n",
       "      <td>672952</td>\n",
       "      <td>3698760</td>\n",
       "      <td>2018-06-09</td>\n",
       "      <td>2018-07-09</td>\n",
       "      <td>258.7045</td>\n",
       "      <td>2018-07-08</td>\n",
       "      <td>258.704498</td>\n",
       "    </tr>\n",
       "    <tr>\n",
       "      <th>2</th>\n",
       "      <td>404196</td>\n",
       "      <td>2355665</td>\n",
       "      <td>2018-02-18</td>\n",
       "      <td>2018-03-18</td>\n",
       "      <td>307.9270</td>\n",
       "      <td>2018-03-19</td>\n",
       "      <td>0.000000</td>\n",
       "    </tr>\n",
       "    <tr>\n",
       "      <th>3</th>\n",
       "      <td>342769</td>\n",
       "      <td>1994522</td>\n",
       "      <td>2018-01-13</td>\n",
       "      <td>2018-02-13</td>\n",
       "      <td>252.9809</td>\n",
       "      <td>2018-02-13</td>\n",
       "      <td>252.980896</td>\n",
       "    </tr>\n",
       "    <tr>\n",
       "      <th>4</th>\n",
       "      <td>828139</td>\n",
       "      <td>3602352</td>\n",
       "      <td>2018-06-01</td>\n",
       "      <td>2018-07-01</td>\n",
       "      <td>107.6503</td>\n",
       "      <td>2018-06-25</td>\n",
       "      <td>107.650299</td>\n",
       "    </tr>\n",
       "  </tbody>\n",
       "</table>\n",
       "</div>"
      ],
      "text/plain": [
       "   user_id  listing_id auditing_date   due_date   due_amt repay_date  \\\n",
       "0   748147     3163926    2018-04-25 2018-05-25   72.1167 2018-05-25   \n",
       "1   672952     3698760    2018-06-09 2018-07-09  258.7045 2018-07-08   \n",
       "2   404196     2355665    2018-02-18 2018-03-18  307.9270 2018-03-19   \n",
       "3   342769     1994522    2018-01-13 2018-02-13  252.9809 2018-02-13   \n",
       "4   828139     3602352    2018-06-01 2018-07-01  107.6503 2018-06-25   \n",
       "\n",
       "    repay_amt  \n",
       "0   72.116699  \n",
       "1  258.704498  \n",
       "2    0.000000  \n",
       "3  252.980896  \n",
       "4  107.650299  "
      ]
     },
     "execution_count": 8,
     "metadata": {},
     "output_type": "execute_result"
    }
   ],
   "source": [
    "train_df.head()"
   ]
  },
  {
   "cell_type": "code",
   "execution_count": 9,
   "metadata": {},
   "outputs": [],
   "source": [
    "# 错误做法,用还款日-成立日\n",
    "# train_df['label'] = (train_df['repay_date'] - train_df['auditing_date']).dt.days\n",
    "# train_df['label'].value_counts(sort=False)"
   ]
  },
  {
   "cell_type": "code",
   "execution_count": 10,
   "metadata": {},
   "outputs": [],
   "source": [
    "# 设定label\n",
    "train_df['label'] = (train_df['due_date'] - train_df['repay_date']).dt.days"
   ]
  },
  {
   "cell_type": "code",
   "execution_count": 11,
   "metadata": {},
   "outputs": [
    {
     "data": {
      "text/html": [
       "<div>\n",
       "<style scoped>\n",
       "    .dataframe tbody tr th:only-of-type {\n",
       "        vertical-align: middle;\n",
       "    }\n",
       "\n",
       "    .dataframe tbody tr th {\n",
       "        vertical-align: top;\n",
       "    }\n",
       "\n",
       "    .dataframe thead th {\n",
       "        text-align: right;\n",
       "    }\n",
       "</style>\n",
       "<table border=\"1\" class=\"dataframe\">\n",
       "  <thead>\n",
       "    <tr style=\"text-align: right;\">\n",
       "      <th></th>\n",
       "      <th>user_id</th>\n",
       "      <th>listing_id</th>\n",
       "      <th>auditing_date</th>\n",
       "      <th>due_date</th>\n",
       "      <th>due_amt</th>\n",
       "      <th>repay_date</th>\n",
       "      <th>repay_amt</th>\n",
       "      <th>label</th>\n",
       "    </tr>\n",
       "  </thead>\n",
       "  <tbody>\n",
       "    <tr>\n",
       "      <th>0</th>\n",
       "      <td>748147</td>\n",
       "      <td>3163926</td>\n",
       "      <td>2018-04-25</td>\n",
       "      <td>2018-05-25</td>\n",
       "      <td>72.1167</td>\n",
       "      <td>2018-05-25</td>\n",
       "      <td>72.116699</td>\n",
       "      <td>0</td>\n",
       "    </tr>\n",
       "    <tr>\n",
       "      <th>1</th>\n",
       "      <td>672952</td>\n",
       "      <td>3698760</td>\n",
       "      <td>2018-06-09</td>\n",
       "      <td>2018-07-09</td>\n",
       "      <td>258.7045</td>\n",
       "      <td>2018-07-08</td>\n",
       "      <td>258.704498</td>\n",
       "      <td>1</td>\n",
       "    </tr>\n",
       "    <tr>\n",
       "      <th>2</th>\n",
       "      <td>404196</td>\n",
       "      <td>2355665</td>\n",
       "      <td>2018-02-18</td>\n",
       "      <td>2018-03-18</td>\n",
       "      <td>307.9270</td>\n",
       "      <td>2018-03-19</td>\n",
       "      <td>0.000000</td>\n",
       "      <td>-1</td>\n",
       "    </tr>\n",
       "    <tr>\n",
       "      <th>3</th>\n",
       "      <td>342769</td>\n",
       "      <td>1994522</td>\n",
       "      <td>2018-01-13</td>\n",
       "      <td>2018-02-13</td>\n",
       "      <td>252.9809</td>\n",
       "      <td>2018-02-13</td>\n",
       "      <td>252.980896</td>\n",
       "      <td>0</td>\n",
       "    </tr>\n",
       "    <tr>\n",
       "      <th>4</th>\n",
       "      <td>828139</td>\n",
       "      <td>3602352</td>\n",
       "      <td>2018-06-01</td>\n",
       "      <td>2018-07-01</td>\n",
       "      <td>107.6503</td>\n",
       "      <td>2018-06-25</td>\n",
       "      <td>107.650299</td>\n",
       "      <td>6</td>\n",
       "    </tr>\n",
       "  </tbody>\n",
       "</table>\n",
       "</div>"
      ],
      "text/plain": [
       "   user_id  listing_id auditing_date   due_date   due_amt repay_date  \\\n",
       "0   748147     3163926    2018-04-25 2018-05-25   72.1167 2018-05-25   \n",
       "1   672952     3698760    2018-06-09 2018-07-09  258.7045 2018-07-08   \n",
       "2   404196     2355665    2018-02-18 2018-03-18  307.9270 2018-03-19   \n",
       "3   342769     1994522    2018-01-13 2018-02-13  252.9809 2018-02-13   \n",
       "4   828139     3602352    2018-06-01 2018-07-01  107.6503 2018-06-25   \n",
       "\n",
       "    repay_amt  label  \n",
       "0   72.116699      0  \n",
       "1  258.704498      1  \n",
       "2    0.000000     -1  \n",
       "3  252.980896      0  \n",
       "4  107.650299      6  "
      ]
     },
     "execution_count": 11,
     "metadata": {},
     "output_type": "execute_result"
    }
   ],
   "source": [
    "train_df.head()"
   ]
  },
  {
   "cell_type": "code",
   "execution_count": 12,
   "metadata": {},
   "outputs": [
    {
     "data": {
      "text/plain": [
       " 0     408187\n",
       " 1     121085\n",
       " 2      59430\n",
       " 3      56404\n",
       " 4      26425\n",
       " 5      21380\n",
       " 6      17568\n",
       " 7      14797\n",
       " 8      12993\n",
       " 9      11393\n",
       " 10      9984\n",
       " 11      9002\n",
       " 12      8219\n",
       " 13      7688\n",
       " 14      6920\n",
       " 15      6443\n",
       " 16      6231\n",
       " 17      5832\n",
       " 18      5492\n",
       " 19      5108\n",
       " 20      4788\n",
       " 21      4504\n",
       " 22      4295\n",
       " 23      4197\n",
       " 24      3922\n",
       " 25      3934\n",
       " 26      3930\n",
       " 27      4102\n",
       " 28      4677\n",
       " 29      5645\n",
       " 30      9865\n",
       " 31      8368\n",
       "-1     117192\n",
       "Name: label, dtype: int64"
      ]
     },
     "execution_count": 12,
     "metadata": {},
     "output_type": "execute_result"
    }
   ],
   "source": [
    "train_df['label'].value_counts(sort=False)"
   ]
  },
  {
   "cell_type": "code",
   "execution_count": 13,
   "metadata": {},
   "outputs": [
    {
     "data": {
      "text/plain": [
       "33"
      ]
     },
     "execution_count": 13,
     "metadata": {},
     "output_type": "execute_result"
    }
   ],
   "source": [
    "train_df['label'].nunique()"
   ]
  },
  {
   "cell_type": "code",
   "execution_count": 14,
   "metadata": {},
   "outputs": [],
   "source": [
    "# train_df.loc[train_df['repay_amt'] == -1, 'label'] = 32 错误写法\n",
    "train_df['label'].replace(-1, 32, inplace=True)"
   ]
  },
  {
   "cell_type": "code",
   "execution_count": 15,
   "metadata": {},
   "outputs": [
    {
     "data": {
      "text/plain": [
       "0     408187\n",
       "1     121085\n",
       "2      59430\n",
       "3      56404\n",
       "4      26425\n",
       "5      21380\n",
       "6      17568\n",
       "7      14797\n",
       "8      12993\n",
       "9      11393\n",
       "10      9984\n",
       "11      9002\n",
       "12      8219\n",
       "13      7688\n",
       "14      6920\n",
       "15      6443\n",
       "16      6231\n",
       "17      5832\n",
       "18      5492\n",
       "19      5108\n",
       "20      4788\n",
       "21      4504\n",
       "22      4295\n",
       "23      4197\n",
       "24      3922\n",
       "25      3934\n",
       "26      3930\n",
       "27      4102\n",
       "28      4677\n",
       "29      5645\n",
       "30      9865\n",
       "31      8368\n",
       "32    117192\n",
       "Name: label, dtype: int64"
      ]
     },
     "execution_count": 15,
     "metadata": {},
     "output_type": "execute_result"
    }
   ],
   "source": [
    "train_df['label'].value_counts(sort=False)"
   ]
  },
  {
   "cell_type": "code",
   "execution_count": 16,
   "metadata": {},
   "outputs": [],
   "source": [
    "clf_labels = train_df['label'].values"
   ]
  },
  {
   "cell_type": "code",
   "execution_count": 17,
   "metadata": {},
   "outputs": [
    {
     "data": {
      "text/plain": [
       "(1000000,)"
      ]
     },
     "execution_count": 17,
     "metadata": {},
     "output_type": "execute_result"
    }
   ],
   "source": [
    "clf_labels.shape"
   ]
  },
  {
   "cell_type": "code",
   "execution_count": 18,
   "metadata": {},
   "outputs": [],
   "source": [
    "amt_labels = train_df['repay_amt'].values"
   ]
  },
  {
   "cell_type": "code",
   "execution_count": 19,
   "metadata": {},
   "outputs": [],
   "source": [
    "del train_df['label'], train_df['repay_amt'], train_df['repay_date']\n"
   ]
  },
  {
   "cell_type": "code",
   "execution_count": 20,
   "metadata": {},
   "outputs": [
    {
     "data": {
      "text/plain": [
       "array([ 72.1167, 258.7045,   0.    , ..., 258.7045, 140.7993, 180.9695],\n",
       "      dtype=float32)"
      ]
     },
     "execution_count": 20,
     "metadata": {},
     "output_type": "execute_result"
    }
   ],
   "source": [
    "amt_labels"
   ]
  },
  {
   "cell_type": "code",
   "execution_count": 21,
   "metadata": {},
   "outputs": [
    {
     "data": {
      "text/plain": [
       "0           72.1167\n",
       "1          258.7045\n",
       "2          307.9270\n",
       "3          252.9809\n",
       "4          107.6503\n",
       "5          201.0499\n",
       "6         3730.9948\n",
       "7         1040.5302\n",
       "8          133.9311\n",
       "9          394.3774\n",
       "10         145.1170\n",
       "11         199.9221\n",
       "12         292.3439\n",
       "13         104.1686\n",
       "14         259.7528\n",
       "15         634.1695\n",
       "16        1131.5995\n",
       "17         195.7454\n",
       "18        1027.7126\n",
       "19         195.7454\n",
       "20         320.5188\n",
       "21         109.0835\n",
       "22         131.6416\n",
       "23         225.1639\n",
       "24         133.9311\n",
       "25         483.4584\n",
       "26        1389.7108\n",
       "27         486.1024\n",
       "28         209.1453\n",
       "29         190.6062\n",
       "            ...    \n",
       "999970     323.8476\n",
       "999971     394.6893\n",
       "999972     460.9070\n",
       "999973     728.3711\n",
       "999974      84.7085\n",
       "999975    1062.6251\n",
       "999976      97.3003\n",
       "999977     102.1022\n",
       "999978      90.4321\n",
       "999979     510.0640\n",
       "999980    2069.3485\n",
       "999981     112.5742\n",
       "999982     291.9417\n",
       "999983     107.5574\n",
       "999984     533.2005\n",
       "999985     556.0866\n",
       "999986     168.4249\n",
       "999987     250.6915\n",
       "999988     509.3960\n",
       "999989     202.6137\n",
       "999990     296.8603\n",
       "999991     945.8228\n",
       "999992     107.6027\n",
       "999993     473.8610\n",
       "999994     613.5647\n",
       "999995     286.5978\n",
       "999996      89.2874\n",
       "999997     258.7045\n",
       "999998     140.7993\n",
       "999999     180.9695\n",
       "Name: due_amt, Length: 1000000, dtype: float64"
      ]
     },
     "execution_count": 21,
     "metadata": {},
     "output_type": "execute_result"
    }
   ],
   "source": [
    "train_df['due_amt']"
   ]
  },
  {
   "cell_type": "code",
   "execution_count": 22,
   "metadata": {},
   "outputs": [],
   "source": [
    "train_due_amt_df = train_df[['due_amt']]"
   ]
  },
  {
   "cell_type": "code",
   "execution_count": 23,
   "metadata": {},
   "outputs": [],
   "source": [
    "train_num = train_df.shape[0]\n"
   ]
  },
  {
   "cell_type": "code",
   "execution_count": 24,
   "metadata": {},
   "outputs": [],
   "source": [
    "test_df = pd.read_csv('dataset/test.csv', parse_dates=['auditing_date', 'due_date'])"
   ]
  },
  {
   "cell_type": "code",
   "execution_count": 25,
   "metadata": {},
   "outputs": [
    {
     "data": {
      "text/html": [
       "<div>\n",
       "<style scoped>\n",
       "    .dataframe tbody tr th:only-of-type {\n",
       "        vertical-align: middle;\n",
       "    }\n",
       "\n",
       "    .dataframe tbody tr th {\n",
       "        vertical-align: top;\n",
       "    }\n",
       "\n",
       "    .dataframe thead th {\n",
       "        text-align: right;\n",
       "    }\n",
       "</style>\n",
       "<table border=\"1\" class=\"dataframe\">\n",
       "  <thead>\n",
       "    <tr style=\"text-align: right;\">\n",
       "      <th></th>\n",
       "      <th>user_id</th>\n",
       "      <th>listing_id</th>\n",
       "      <th>auditing_date</th>\n",
       "      <th>due_date</th>\n",
       "      <th>due_amt</th>\n",
       "    </tr>\n",
       "  </thead>\n",
       "  <tbody>\n",
       "    <tr>\n",
       "      <th>0</th>\n",
       "      <td>498765</td>\n",
       "      <td>5431438</td>\n",
       "      <td>2019-03-12</td>\n",
       "      <td>2019-04-12</td>\n",
       "      <td>138.5903</td>\n",
       "    </tr>\n",
       "    <tr>\n",
       "      <th>1</th>\n",
       "      <td>34524</td>\n",
       "      <td>5443211</td>\n",
       "      <td>2019-03-15</td>\n",
       "      <td>2019-04-15</td>\n",
       "      <td>208.0805</td>\n",
       "    </tr>\n",
       "    <tr>\n",
       "      <th>2</th>\n",
       "      <td>821741</td>\n",
       "      <td>5461707</td>\n",
       "      <td>2019-03-22</td>\n",
       "      <td>2019-04-22</td>\n",
       "      <td>421.2097</td>\n",
       "    </tr>\n",
       "    <tr>\n",
       "      <th>3</th>\n",
       "      <td>263534</td>\n",
       "      <td>5472320</td>\n",
       "      <td>2019-03-26</td>\n",
       "      <td>2019-04-26</td>\n",
       "      <td>212.6537</td>\n",
       "    </tr>\n",
       "    <tr>\n",
       "      <th>4</th>\n",
       "      <td>238853</td>\n",
       "      <td>5459750</td>\n",
       "      <td>2019-03-21</td>\n",
       "      <td>2019-04-21</td>\n",
       "      <td>817.4593</td>\n",
       "    </tr>\n",
       "  </tbody>\n",
       "</table>\n",
       "</div>"
      ],
      "text/plain": [
       "   user_id  listing_id auditing_date   due_date   due_amt\n",
       "0   498765     5431438    2019-03-12 2019-04-12  138.5903\n",
       "1    34524     5443211    2019-03-15 2019-04-15  208.0805\n",
       "2   821741     5461707    2019-03-22 2019-04-22  421.2097\n",
       "3   263534     5472320    2019-03-26 2019-04-26  212.6537\n",
       "4   238853     5459750    2019-03-21 2019-04-21  817.4593"
      ]
     },
     "execution_count": 25,
     "metadata": {},
     "output_type": "execute_result"
    }
   ],
   "source": [
    "test_df.head()"
   ]
  },
  {
   "cell_type": "markdown",
   "metadata": {},
   "source": [
    "# 不删除user_id,我觉得还有用"
   ]
  },
  {
   "cell_type": "code",
   "execution_count": 26,
   "metadata": {},
   "outputs": [],
   "source": [
    "# sub = test_df[['listing_id', 'auditing_date', 'due_amt', 'due_date']]\n",
    "sub = test_df[['user_id', 'listing_id', 'auditing_date', 'due_amt', 'due_date']]\n"
   ]
  },
  {
   "cell_type": "code",
   "execution_count": 27,
   "metadata": {},
   "outputs": [
    {
     "data": {
      "text/html": [
       "<div>\n",
       "<style scoped>\n",
       "    .dataframe tbody tr th:only-of-type {\n",
       "        vertical-align: middle;\n",
       "    }\n",
       "\n",
       "    .dataframe tbody tr th {\n",
       "        vertical-align: top;\n",
       "    }\n",
       "\n",
       "    .dataframe thead th {\n",
       "        text-align: right;\n",
       "    }\n",
       "</style>\n",
       "<table border=\"1\" class=\"dataframe\">\n",
       "  <thead>\n",
       "    <tr style=\"text-align: right;\">\n",
       "      <th></th>\n",
       "      <th>user_id</th>\n",
       "      <th>listing_id</th>\n",
       "      <th>auditing_date</th>\n",
       "      <th>due_amt</th>\n",
       "      <th>due_date</th>\n",
       "    </tr>\n",
       "  </thead>\n",
       "  <tbody>\n",
       "    <tr>\n",
       "      <th>0</th>\n",
       "      <td>498765</td>\n",
       "      <td>5431438</td>\n",
       "      <td>2019-03-12</td>\n",
       "      <td>138.5903</td>\n",
       "      <td>2019-04-12</td>\n",
       "    </tr>\n",
       "    <tr>\n",
       "      <th>1</th>\n",
       "      <td>34524</td>\n",
       "      <td>5443211</td>\n",
       "      <td>2019-03-15</td>\n",
       "      <td>208.0805</td>\n",
       "      <td>2019-04-15</td>\n",
       "    </tr>\n",
       "    <tr>\n",
       "      <th>2</th>\n",
       "      <td>821741</td>\n",
       "      <td>5461707</td>\n",
       "      <td>2019-03-22</td>\n",
       "      <td>421.2097</td>\n",
       "      <td>2019-04-22</td>\n",
       "    </tr>\n",
       "    <tr>\n",
       "      <th>3</th>\n",
       "      <td>263534</td>\n",
       "      <td>5472320</td>\n",
       "      <td>2019-03-26</td>\n",
       "      <td>212.6537</td>\n",
       "      <td>2019-04-26</td>\n",
       "    </tr>\n",
       "    <tr>\n",
       "      <th>4</th>\n",
       "      <td>238853</td>\n",
       "      <td>5459750</td>\n",
       "      <td>2019-03-21</td>\n",
       "      <td>817.4593</td>\n",
       "      <td>2019-04-21</td>\n",
       "    </tr>\n",
       "  </tbody>\n",
       "</table>\n",
       "</div>"
      ],
      "text/plain": [
       "   user_id  listing_id auditing_date   due_amt   due_date\n",
       "0   498765     5431438    2019-03-12  138.5903 2019-04-12\n",
       "1    34524     5443211    2019-03-15  208.0805 2019-04-15\n",
       "2   821741     5461707    2019-03-22  421.2097 2019-04-22\n",
       "3   263534     5472320    2019-03-26  212.6537 2019-04-26\n",
       "4   238853     5459750    2019-03-21  817.4593 2019-04-21"
      ]
     },
     "execution_count": 27,
     "metadata": {},
     "output_type": "execute_result"
    }
   ],
   "source": [
    "sub.head()"
   ]
  },
  {
   "cell_type": "code",
   "execution_count": 28,
   "metadata": {},
   "outputs": [],
   "source": [
    "df = pd.concat([train_df, test_df], axis=0, ignore_index=True)\n"
   ]
  },
  {
   "cell_type": "code",
   "execution_count": 29,
   "metadata": {},
   "outputs": [
    {
     "data": {
      "text/plain": [
       "(130000, 5)"
      ]
     },
     "execution_count": 29,
     "metadata": {},
     "output_type": "execute_result"
    }
   ],
   "source": [
    "test_df.shape"
   ]
  },
  {
   "cell_type": "code",
   "execution_count": 30,
   "metadata": {},
   "outputs": [
    {
     "data": {
      "text/plain": [
       "(1130000, 5)"
      ]
     },
     "execution_count": 30,
     "metadata": {},
     "output_type": "execute_result"
    }
   ],
   "source": [
    "df.shape"
   ]
  },
  {
   "cell_type": "code",
   "execution_count": 31,
   "metadata": {},
   "outputs": [
    {
     "data": {
      "text/html": [
       "<div>\n",
       "<style scoped>\n",
       "    .dataframe tbody tr th:only-of-type {\n",
       "        vertical-align: middle;\n",
       "    }\n",
       "\n",
       "    .dataframe tbody tr th {\n",
       "        vertical-align: top;\n",
       "    }\n",
       "\n",
       "    .dataframe thead th {\n",
       "        text-align: right;\n",
       "    }\n",
       "</style>\n",
       "<table border=\"1\" class=\"dataframe\">\n",
       "  <thead>\n",
       "    <tr style=\"text-align: right;\">\n",
       "      <th></th>\n",
       "      <th>user_id</th>\n",
       "      <th>listing_id</th>\n",
       "      <th>auditing_date</th>\n",
       "      <th>due_date</th>\n",
       "      <th>due_amt</th>\n",
       "    </tr>\n",
       "  </thead>\n",
       "  <tbody>\n",
       "    <tr>\n",
       "      <th>1129995</th>\n",
       "      <td>580040</td>\n",
       "      <td>5287412</td>\n",
       "      <td>2019-02-01</td>\n",
       "      <td>2019-03-01</td>\n",
       "      <td>1227.8448</td>\n",
       "    </tr>\n",
       "    <tr>\n",
       "      <th>1129996</th>\n",
       "      <td>495129</td>\n",
       "      <td>5461576</td>\n",
       "      <td>2019-03-22</td>\n",
       "      <td>2019-04-22</td>\n",
       "      <td>174.9248</td>\n",
       "    </tr>\n",
       "    <tr>\n",
       "      <th>1129997</th>\n",
       "      <td>233442</td>\n",
       "      <td>5319333</td>\n",
       "      <td>2019-02-10</td>\n",
       "      <td>2019-03-10</td>\n",
       "      <td>168.3364</td>\n",
       "    </tr>\n",
       "    <tr>\n",
       "      <th>1129998</th>\n",
       "      <td>20165</td>\n",
       "      <td>5336095</td>\n",
       "      <td>2019-02-15</td>\n",
       "      <td>2019-03-15</td>\n",
       "      <td>350.2759</td>\n",
       "    </tr>\n",
       "    <tr>\n",
       "      <th>1129999</th>\n",
       "      <td>265473</td>\n",
       "      <td>5460170</td>\n",
       "      <td>2019-03-21</td>\n",
       "      <td>2019-04-21</td>\n",
       "      <td>293.8277</td>\n",
       "    </tr>\n",
       "  </tbody>\n",
       "</table>\n",
       "</div>"
      ],
      "text/plain": [
       "         user_id  listing_id auditing_date   due_date    due_amt\n",
       "1129995   580040     5287412    2019-02-01 2019-03-01  1227.8448\n",
       "1129996   495129     5461576    2019-03-22 2019-04-22   174.9248\n",
       "1129997   233442     5319333    2019-02-10 2019-03-10   168.3364\n",
       "1129998    20165     5336095    2019-02-15 2019-03-15   350.2759\n",
       "1129999   265473     5460170    2019-03-21 2019-04-21   293.8277"
      ]
     },
     "execution_count": 31,
     "metadata": {},
     "output_type": "execute_result"
    }
   ],
   "source": [
    "df.tail()"
   ]
  },
  {
   "cell_type": "code",
   "execution_count": 32,
   "metadata": {},
   "outputs": [],
   "source": [
    "listing_info_df = pd.read_csv('dataset/listing_info.csv')\n"
   ]
  },
  {
   "cell_type": "code",
   "execution_count": 33,
   "metadata": {},
   "outputs": [
    {
     "data": {
      "text/html": [
       "<div>\n",
       "<style scoped>\n",
       "    .dataframe tbody tr th:only-of-type {\n",
       "        vertical-align: middle;\n",
       "    }\n",
       "\n",
       "    .dataframe tbody tr th {\n",
       "        vertical-align: top;\n",
       "    }\n",
       "\n",
       "    .dataframe thead th {\n",
       "        text-align: right;\n",
       "    }\n",
       "</style>\n",
       "<table border=\"1\" class=\"dataframe\">\n",
       "  <thead>\n",
       "    <tr style=\"text-align: right;\">\n",
       "      <th></th>\n",
       "      <th>user_id</th>\n",
       "      <th>listing_id</th>\n",
       "      <th>auditing_date</th>\n",
       "      <th>term</th>\n",
       "      <th>rate</th>\n",
       "      <th>principal</th>\n",
       "    </tr>\n",
       "  </thead>\n",
       "  <tbody>\n",
       "    <tr>\n",
       "      <th>0</th>\n",
       "      <td>316610</td>\n",
       "      <td>1556649</td>\n",
       "      <td>2017-11-26</td>\n",
       "      <td>9</td>\n",
       "      <td>7.6</td>\n",
       "      <td>4800</td>\n",
       "    </tr>\n",
       "    <tr>\n",
       "      <th>1</th>\n",
       "      <td>62002</td>\n",
       "      <td>1556633</td>\n",
       "      <td>2017-11-26</td>\n",
       "      <td>6</td>\n",
       "      <td>7.6</td>\n",
       "      <td>4000</td>\n",
       "    </tr>\n",
       "    <tr>\n",
       "      <th>2</th>\n",
       "      <td>192135</td>\n",
       "      <td>1556629</td>\n",
       "      <td>2017-11-26</td>\n",
       "      <td>12</td>\n",
       "      <td>8.0</td>\n",
       "      <td>8660</td>\n",
       "    </tr>\n",
       "    <tr>\n",
       "      <th>3</th>\n",
       "      <td>487382</td>\n",
       "      <td>1556628</td>\n",
       "      <td>2017-11-26</td>\n",
       "      <td>9</td>\n",
       "      <td>7.6</td>\n",
       "      <td>4780</td>\n",
       "    </tr>\n",
       "    <tr>\n",
       "      <th>4</th>\n",
       "      <td>235186</td>\n",
       "      <td>1556627</td>\n",
       "      <td>2017-11-26</td>\n",
       "      <td>9</td>\n",
       "      <td>7.6</td>\n",
       "      <td>1480</td>\n",
       "    </tr>\n",
       "  </tbody>\n",
       "</table>\n",
       "</div>"
      ],
      "text/plain": [
       "   user_id  listing_id auditing_date  term  rate  principal\n",
       "0   316610     1556649    2017-11-26     9   7.6       4800\n",
       "1    62002     1556633    2017-11-26     6   7.6       4000\n",
       "2   192135     1556629    2017-11-26    12   8.0       8660\n",
       "3   487382     1556628    2017-11-26     9   7.6       4780\n",
       "4   235186     1556627    2017-11-26     9   7.6       1480"
      ]
     },
     "execution_count": 33,
     "metadata": {},
     "output_type": "execute_result"
    }
   ],
   "source": [
    "listing_info_df.head()"
   ]
  },
  {
   "cell_type": "code",
   "execution_count": 34,
   "metadata": {},
   "outputs": [
    {
     "data": {
      "text/html": [
       "<div>\n",
       "<style scoped>\n",
       "    .dataframe tbody tr th:only-of-type {\n",
       "        vertical-align: middle;\n",
       "    }\n",
       "\n",
       "    .dataframe tbody tr th {\n",
       "        vertical-align: top;\n",
       "    }\n",
       "\n",
       "    .dataframe thead th {\n",
       "        text-align: right;\n",
       "    }\n",
       "</style>\n",
       "<table border=\"1\" class=\"dataframe\">\n",
       "  <thead>\n",
       "    <tr style=\"text-align: right;\">\n",
       "      <th></th>\n",
       "      <th>user_id</th>\n",
       "      <th>auditing_date</th>\n",
       "      <th>due_date</th>\n",
       "      <th>due_amt</th>\n",
       "    </tr>\n",
       "    <tr>\n",
       "      <th>listing_id</th>\n",
       "      <th></th>\n",
       "      <th></th>\n",
       "      <th></th>\n",
       "      <th></th>\n",
       "    </tr>\n",
       "  </thead>\n",
       "  <tbody>\n",
       "    <tr>\n",
       "      <th>3163926</th>\n",
       "      <td>748147</td>\n",
       "      <td>2018-04-25</td>\n",
       "      <td>2018-05-25</td>\n",
       "      <td>72.1167</td>\n",
       "    </tr>\n",
       "    <tr>\n",
       "      <th>3698760</th>\n",
       "      <td>672952</td>\n",
       "      <td>2018-06-09</td>\n",
       "      <td>2018-07-09</td>\n",
       "      <td>258.7045</td>\n",
       "    </tr>\n",
       "    <tr>\n",
       "      <th>2355665</th>\n",
       "      <td>404196</td>\n",
       "      <td>2018-02-18</td>\n",
       "      <td>2018-03-18</td>\n",
       "      <td>307.9270</td>\n",
       "    </tr>\n",
       "    <tr>\n",
       "      <th>1994522</th>\n",
       "      <td>342769</td>\n",
       "      <td>2018-01-13</td>\n",
       "      <td>2018-02-13</td>\n",
       "      <td>252.9809</td>\n",
       "    </tr>\n",
       "    <tr>\n",
       "      <th>3602352</th>\n",
       "      <td>828139</td>\n",
       "      <td>2018-06-01</td>\n",
       "      <td>2018-07-01</td>\n",
       "      <td>107.6503</td>\n",
       "    </tr>\n",
       "  </tbody>\n",
       "</table>\n",
       "</div>"
      ],
      "text/plain": [
       "            user_id auditing_date   due_date   due_amt\n",
       "listing_id                                            \n",
       "3163926      748147    2018-04-25 2018-05-25   72.1167\n",
       "3698760      672952    2018-06-09 2018-07-09  258.7045\n",
       "2355665      404196    2018-02-18 2018-03-18  307.9270\n",
       "1994522      342769    2018-01-13 2018-02-13  252.9809\n",
       "3602352      828139    2018-06-01 2018-07-01  107.6503"
      ]
     },
     "execution_count": 34,
     "metadata": {},
     "output_type": "execute_result"
    }
   ],
   "source": [
    "train_df.set_index('listing_id').head()"
   ]
  },
  {
   "cell_type": "code",
   "execution_count": 35,
   "metadata": {},
   "outputs": [
    {
     "data": {
      "text/plain": [
       "user_id              748147\n",
       "auditing_date    2018-04-25\n",
       "term                      9\n",
       "rate                    7.2\n",
       "principal               630\n",
       "Name: 3163926, dtype: object"
      ]
     },
     "execution_count": 35,
     "metadata": {},
     "output_type": "execute_result"
    }
   ],
   "source": [
    "listing_info_df.set_index('listing_id').loc[3163926]"
   ]
  },
  {
   "cell_type": "code",
   "execution_count": 36,
   "metadata": {},
   "outputs": [
    {
     "data": {
      "text/plain": [
       "649.0503"
      ]
     },
     "execution_count": 36,
     "metadata": {},
     "output_type": "execute_result"
    }
   ],
   "source": [
    "72.1167*9"
   ]
  },
  {
   "cell_type": "code",
   "execution_count": 37,
   "metadata": {},
   "outputs": [],
   "source": [
    "# 630 * (0.072/12 * (1+0.072/12)^9)/(((1+0.072/12)^9)-1) = 72.23"
   ]
  },
  {
   "cell_type": "code",
   "execution_count": 38,
   "metadata": {},
   "outputs": [],
   "source": [
    "del listing_info_df['user_id'], listing_info_df['auditing_date']\n"
   ]
  },
  {
   "cell_type": "code",
   "execution_count": 39,
   "metadata": {},
   "outputs": [
    {
     "data": {
      "text/html": [
       "<div>\n",
       "<style scoped>\n",
       "    .dataframe tbody tr th:only-of-type {\n",
       "        vertical-align: middle;\n",
       "    }\n",
       "\n",
       "    .dataframe tbody tr th {\n",
       "        vertical-align: top;\n",
       "    }\n",
       "\n",
       "    .dataframe thead th {\n",
       "        text-align: right;\n",
       "    }\n",
       "</style>\n",
       "<table border=\"1\" class=\"dataframe\">\n",
       "  <thead>\n",
       "    <tr style=\"text-align: right;\">\n",
       "      <th></th>\n",
       "      <th>listing_id</th>\n",
       "      <th>term</th>\n",
       "      <th>rate</th>\n",
       "      <th>principal</th>\n",
       "    </tr>\n",
       "  </thead>\n",
       "  <tbody>\n",
       "    <tr>\n",
       "      <th>0</th>\n",
       "      <td>1556649</td>\n",
       "      <td>9</td>\n",
       "      <td>7.6</td>\n",
       "      <td>4800</td>\n",
       "    </tr>\n",
       "    <tr>\n",
       "      <th>1</th>\n",
       "      <td>1556633</td>\n",
       "      <td>6</td>\n",
       "      <td>7.6</td>\n",
       "      <td>4000</td>\n",
       "    </tr>\n",
       "    <tr>\n",
       "      <th>2</th>\n",
       "      <td>1556629</td>\n",
       "      <td>12</td>\n",
       "      <td>8.0</td>\n",
       "      <td>8660</td>\n",
       "    </tr>\n",
       "    <tr>\n",
       "      <th>3</th>\n",
       "      <td>1556628</td>\n",
       "      <td>9</td>\n",
       "      <td>7.6</td>\n",
       "      <td>4780</td>\n",
       "    </tr>\n",
       "    <tr>\n",
       "      <th>4</th>\n",
       "      <td>1556627</td>\n",
       "      <td>9</td>\n",
       "      <td>7.6</td>\n",
       "      <td>1480</td>\n",
       "    </tr>\n",
       "  </tbody>\n",
       "</table>\n",
       "</div>"
      ],
      "text/plain": [
       "   listing_id  term  rate  principal\n",
       "0     1556649     9   7.6       4800\n",
       "1     1556633     6   7.6       4000\n",
       "2     1556629    12   8.0       8660\n",
       "3     1556628     9   7.6       4780\n",
       "4     1556627     9   7.6       1480"
      ]
     },
     "execution_count": 39,
     "metadata": {},
     "output_type": "execute_result"
    }
   ],
   "source": [
    "listing_info_df.head()"
   ]
  },
  {
   "cell_type": "markdown",
   "metadata": {},
   "source": [
    "# 新加几个特征"
   ]
  },
  {
   "cell_type": "code",
   "execution_count": 40,
   "metadata": {},
   "outputs": [],
   "source": [
    "listing_info_df['平均每月借款金额'] = listing_info_df['principal'] / listing_info_df['term']\n"
   ]
  },
  {
   "cell_type": "code",
   "execution_count": 41,
   "metadata": {},
   "outputs": [
    {
     "data": {
      "text/html": [
       "<div>\n",
       "<style scoped>\n",
       "    .dataframe tbody tr th:only-of-type {\n",
       "        vertical-align: middle;\n",
       "    }\n",
       "\n",
       "    .dataframe tbody tr th {\n",
       "        vertical-align: top;\n",
       "    }\n",
       "\n",
       "    .dataframe thead th {\n",
       "        text-align: right;\n",
       "    }\n",
       "</style>\n",
       "<table border=\"1\" class=\"dataframe\">\n",
       "  <thead>\n",
       "    <tr style=\"text-align: right;\">\n",
       "      <th></th>\n",
       "      <th>listing_id</th>\n",
       "      <th>term</th>\n",
       "      <th>rate</th>\n",
       "      <th>principal</th>\n",
       "      <th>平均每月借款金额</th>\n",
       "    </tr>\n",
       "  </thead>\n",
       "  <tbody>\n",
       "    <tr>\n",
       "      <th>0</th>\n",
       "      <td>1556649</td>\n",
       "      <td>9</td>\n",
       "      <td>7.6</td>\n",
       "      <td>4800</td>\n",
       "      <td>533.333333</td>\n",
       "    </tr>\n",
       "    <tr>\n",
       "      <th>1</th>\n",
       "      <td>1556633</td>\n",
       "      <td>6</td>\n",
       "      <td>7.6</td>\n",
       "      <td>4000</td>\n",
       "      <td>666.666667</td>\n",
       "    </tr>\n",
       "    <tr>\n",
       "      <th>2</th>\n",
       "      <td>1556629</td>\n",
       "      <td>12</td>\n",
       "      <td>8.0</td>\n",
       "      <td>8660</td>\n",
       "      <td>721.666667</td>\n",
       "    </tr>\n",
       "    <tr>\n",
       "      <th>3</th>\n",
       "      <td>1556628</td>\n",
       "      <td>9</td>\n",
       "      <td>7.6</td>\n",
       "      <td>4780</td>\n",
       "      <td>531.111111</td>\n",
       "    </tr>\n",
       "    <tr>\n",
       "      <th>4</th>\n",
       "      <td>1556627</td>\n",
       "      <td>9</td>\n",
       "      <td>7.6</td>\n",
       "      <td>1480</td>\n",
       "      <td>164.444444</td>\n",
       "    </tr>\n",
       "  </tbody>\n",
       "</table>\n",
       "</div>"
      ],
      "text/plain": [
       "   listing_id  term  rate  principal    平均每月借款金额\n",
       "0     1556649     9   7.6       4800  533.333333\n",
       "1     1556633     6   7.6       4000  666.666667\n",
       "2     1556629    12   8.0       8660  721.666667\n",
       "3     1556628     9   7.6       4780  531.111111\n",
       "4     1556627     9   7.6       1480  164.444444"
      ]
     },
     "execution_count": 41,
     "metadata": {},
     "output_type": "execute_result"
    }
   ],
   "source": [
    "listing_info_df.head()"
   ]
  },
  {
   "cell_type": "code",
   "execution_count": 42,
   "metadata": {},
   "outputs": [],
   "source": [
    "df = df.merge(listing_info_df, on='listing_id', how='left')\n"
   ]
  },
  {
   "cell_type": "code",
   "execution_count": 43,
   "metadata": {},
   "outputs": [
    {
     "data": {
      "text/html": [
       "<div>\n",
       "<style scoped>\n",
       "    .dataframe tbody tr th:only-of-type {\n",
       "        vertical-align: middle;\n",
       "    }\n",
       "\n",
       "    .dataframe tbody tr th {\n",
       "        vertical-align: top;\n",
       "    }\n",
       "\n",
       "    .dataframe thead th {\n",
       "        text-align: right;\n",
       "    }\n",
       "</style>\n",
       "<table border=\"1\" class=\"dataframe\">\n",
       "  <thead>\n",
       "    <tr style=\"text-align: right;\">\n",
       "      <th></th>\n",
       "      <th>user_id</th>\n",
       "      <th>listing_id</th>\n",
       "      <th>auditing_date</th>\n",
       "      <th>due_date</th>\n",
       "      <th>due_amt</th>\n",
       "      <th>term</th>\n",
       "      <th>rate</th>\n",
       "      <th>principal</th>\n",
       "      <th>平均每月借款金额</th>\n",
       "    </tr>\n",
       "  </thead>\n",
       "  <tbody>\n",
       "    <tr>\n",
       "      <th>0</th>\n",
       "      <td>748147</td>\n",
       "      <td>3163926</td>\n",
       "      <td>2018-04-25</td>\n",
       "      <td>2018-05-25</td>\n",
       "      <td>72.1167</td>\n",
       "      <td>9</td>\n",
       "      <td>7.2</td>\n",
       "      <td>630</td>\n",
       "      <td>70.000000</td>\n",
       "    </tr>\n",
       "    <tr>\n",
       "      <th>1</th>\n",
       "      <td>672952</td>\n",
       "      <td>3698760</td>\n",
       "      <td>2018-06-09</td>\n",
       "      <td>2018-07-09</td>\n",
       "      <td>258.7045</td>\n",
       "      <td>9</td>\n",
       "      <td>7.2</td>\n",
       "      <td>2260</td>\n",
       "      <td>251.111111</td>\n",
       "    </tr>\n",
       "    <tr>\n",
       "      <th>2</th>\n",
       "      <td>404196</td>\n",
       "      <td>2355665</td>\n",
       "      <td>2018-02-18</td>\n",
       "      <td>2018-03-18</td>\n",
       "      <td>307.9270</td>\n",
       "      <td>9</td>\n",
       "      <td>7.2</td>\n",
       "      <td>2690</td>\n",
       "      <td>298.888889</td>\n",
       "    </tr>\n",
       "    <tr>\n",
       "      <th>3</th>\n",
       "      <td>342769</td>\n",
       "      <td>1994522</td>\n",
       "      <td>2018-01-13</td>\n",
       "      <td>2018-02-13</td>\n",
       "      <td>252.9809</td>\n",
       "      <td>9</td>\n",
       "      <td>7.2</td>\n",
       "      <td>2210</td>\n",
       "      <td>245.555556</td>\n",
       "    </tr>\n",
       "    <tr>\n",
       "      <th>4</th>\n",
       "      <td>828139</td>\n",
       "      <td>3602352</td>\n",
       "      <td>2018-06-01</td>\n",
       "      <td>2018-07-01</td>\n",
       "      <td>107.6503</td>\n",
       "      <td>6</td>\n",
       "      <td>8.6</td>\n",
       "      <td>630</td>\n",
       "      <td>105.000000</td>\n",
       "    </tr>\n",
       "  </tbody>\n",
       "</table>\n",
       "</div>"
      ],
      "text/plain": [
       "   user_id  listing_id auditing_date   due_date   due_amt  term  rate  \\\n",
       "0   748147     3163926    2018-04-25 2018-05-25   72.1167     9   7.2   \n",
       "1   672952     3698760    2018-06-09 2018-07-09  258.7045     9   7.2   \n",
       "2   404196     2355665    2018-02-18 2018-03-18  307.9270     9   7.2   \n",
       "3   342769     1994522    2018-01-13 2018-02-13  252.9809     9   7.2   \n",
       "4   828139     3602352    2018-06-01 2018-07-01  107.6503     6   8.6   \n",
       "\n",
       "   principal    平均每月借款金额  \n",
       "0        630   70.000000  \n",
       "1       2260  251.111111  \n",
       "2       2690  298.888889  \n",
       "3       2210  245.555556  \n",
       "4        630  105.000000  "
      ]
     },
     "execution_count": 43,
     "metadata": {},
     "output_type": "execute_result"
    }
   ],
   "source": [
    "df.head()"
   ]
  },
  {
   "cell_type": "code",
   "execution_count": null,
   "metadata": {},
   "outputs": [],
   "source": []
  },
  {
   "cell_type": "code",
   "execution_count": 44,
   "metadata": {},
   "outputs": [],
   "source": [
    "def chu(s):\n",
    "    s= s.strip()\n",
    "    a, b = s[s.find(\"'\")+1:s.find(\"']\")].split('/')\n",
    "    df_s = s[:s.find('[')]\n",
    "    print(' = ' + df_s+\"['\"+a+\"'] / \" + df_s + \"['\" + b + \"']\")\n",
    "    \n",
    "def jian(s):\n",
    "    s= s.strip()\n",
    "    a, b = s[s.find(\"'\")+1:s.find(\"']\")].split('-')\n",
    "    df_s = s[:s.find('[')]\n",
    "    print(' = ' + df_s+\"['\"+a+\"'] - \" + df_s + \"['\" + b + \"']\")"
   ]
  },
  {
   "cell_type": "code",
   "execution_count": 45,
   "metadata": {},
   "outputs": [],
   "source": [
    "# 新增cate特征\n",
    "cate_cols2 = []"
   ]
  },
  {
   "cell_type": "code",
   "execution_count": 46,
   "metadata": {},
   "outputs": [],
   "source": [
    "\n",
    "df['总还款金额'] = df['term'] * df['due_amt']\n",
    "df['总利息'] = df['总还款金额'] - df['principal']\n",
    "df['每月利息'] = df['总利息'] / df['term']\n",
    "df['总利息/总还款金额'] = df['总利息'] / df['总还款金额']\n",
    "df['平均每月借款金额/due_amt'] = df['平均每月借款金额'] / df['due_amt']\n",
    "df['总利息/principal'] = df['总利息'] / df['principal']\n",
    "df['总利息/总还款金额'] = df['总利息'] / df['总还款金额']\n",
    "df['还款期限日'] = (df['due_date'] - df['auditing_date']).dt.days\n",
    "df['首期平均每日还款'] = df['due_amt'] / df['还款期限日']\n",
    "df['due_date星期几'] = df['due_date'].dt.dayofweek\n",
    "df['auditing_date星期几'] = df['auditing_date'].dt.dayofweek\n",
    "df['due_date是当月第几日'] = df['due_date'].dt.day\n",
    "df['auditing_date是当月第几日'] = df['auditing_date'].dt.day\n"
   ]
  },
  {
   "cell_type": "code",
   "execution_count": 47,
   "metadata": {},
   "outputs": [],
   "source": [
    "cate_cols2.append('due_date星期几')\n",
    "cate_cols2.append('auditing_date星期几')"
   ]
  },
  {
   "cell_type": "code",
   "execution_count": 48,
   "metadata": {},
   "outputs": [
    {
     "name": "stdout",
     "output_type": "stream",
     "text": [
      " = df['总利息'] / df['总还款金额']\n"
     ]
    }
   ],
   "source": [
    "s = \"df['总利息/总还款金额']\"\n",
    "\n",
    "chu(s)\n"
   ]
  },
  {
   "cell_type": "code",
   "execution_count": 49,
   "metadata": {},
   "outputs": [
    {
     "name": "stdout",
     "output_type": "stream",
     "text": [
      " = df['总还款金额'] - df['principal']\n"
     ]
    }
   ],
   "source": [
    "s = \"df['总还款金额-principal']\"\n",
    "\n",
    "jian(s)"
   ]
  },
  {
   "cell_type": "code",
   "execution_count": 50,
   "metadata": {},
   "outputs": [
    {
     "data": {
      "text/html": [
       "<div>\n",
       "<style scoped>\n",
       "    .dataframe tbody tr th:only-of-type {\n",
       "        vertical-align: middle;\n",
       "    }\n",
       "\n",
       "    .dataframe tbody tr th {\n",
       "        vertical-align: top;\n",
       "    }\n",
       "\n",
       "    .dataframe thead th {\n",
       "        text-align: right;\n",
       "    }\n",
       "</style>\n",
       "<table border=\"1\" class=\"dataframe\">\n",
       "  <thead>\n",
       "    <tr style=\"text-align: right;\">\n",
       "      <th></th>\n",
       "      <th>user_id</th>\n",
       "      <th>listing_id</th>\n",
       "      <th>auditing_date</th>\n",
       "      <th>due_date</th>\n",
       "      <th>due_amt</th>\n",
       "      <th>term</th>\n",
       "      <th>rate</th>\n",
       "      <th>principal</th>\n",
       "      <th>平均每月借款金额</th>\n",
       "      <th>总还款金额</th>\n",
       "      <th>总利息</th>\n",
       "      <th>每月利息</th>\n",
       "      <th>总利息/总还款金额</th>\n",
       "      <th>平均每月借款金额/due_amt</th>\n",
       "      <th>总利息/principal</th>\n",
       "      <th>还款期限日</th>\n",
       "      <th>首期平均每日还款</th>\n",
       "      <th>due_date星期几</th>\n",
       "      <th>auditing_date星期几</th>\n",
       "      <th>due_date是当月第几日</th>\n",
       "      <th>auditing_date是当月第几日</th>\n",
       "    </tr>\n",
       "  </thead>\n",
       "  <tbody>\n",
       "    <tr>\n",
       "      <th>0</th>\n",
       "      <td>748147</td>\n",
       "      <td>3163926</td>\n",
       "      <td>2018-04-25</td>\n",
       "      <td>2018-05-25</td>\n",
       "      <td>72.1167</td>\n",
       "      <td>9</td>\n",
       "      <td>7.2</td>\n",
       "      <td>630</td>\n",
       "      <td>70.000000</td>\n",
       "      <td>649.0503</td>\n",
       "      <td>19.0503</td>\n",
       "      <td>2.116700</td>\n",
       "      <td>0.029351</td>\n",
       "      <td>0.970649</td>\n",
       "      <td>0.030239</td>\n",
       "      <td>30</td>\n",
       "      <td>2.403890</td>\n",
       "      <td>4</td>\n",
       "      <td>2</td>\n",
       "      <td>25</td>\n",
       "      <td>25</td>\n",
       "    </tr>\n",
       "    <tr>\n",
       "      <th>1</th>\n",
       "      <td>672952</td>\n",
       "      <td>3698760</td>\n",
       "      <td>2018-06-09</td>\n",
       "      <td>2018-07-09</td>\n",
       "      <td>258.7045</td>\n",
       "      <td>9</td>\n",
       "      <td>7.2</td>\n",
       "      <td>2260</td>\n",
       "      <td>251.111111</td>\n",
       "      <td>2328.3405</td>\n",
       "      <td>68.3405</td>\n",
       "      <td>7.593389</td>\n",
       "      <td>0.029352</td>\n",
       "      <td>0.970648</td>\n",
       "      <td>0.030239</td>\n",
       "      <td>30</td>\n",
       "      <td>8.623483</td>\n",
       "      <td>0</td>\n",
       "      <td>5</td>\n",
       "      <td>9</td>\n",
       "      <td>9</td>\n",
       "    </tr>\n",
       "    <tr>\n",
       "      <th>2</th>\n",
       "      <td>404196</td>\n",
       "      <td>2355665</td>\n",
       "      <td>2018-02-18</td>\n",
       "      <td>2018-03-18</td>\n",
       "      <td>307.9270</td>\n",
       "      <td>9</td>\n",
       "      <td>7.2</td>\n",
       "      <td>2690</td>\n",
       "      <td>298.888889</td>\n",
       "      <td>2771.3430</td>\n",
       "      <td>81.3430</td>\n",
       "      <td>9.038111</td>\n",
       "      <td>0.029351</td>\n",
       "      <td>0.970649</td>\n",
       "      <td>0.030239</td>\n",
       "      <td>28</td>\n",
       "      <td>10.997393</td>\n",
       "      <td>6</td>\n",
       "      <td>6</td>\n",
       "      <td>18</td>\n",
       "      <td>18</td>\n",
       "    </tr>\n",
       "    <tr>\n",
       "      <th>3</th>\n",
       "      <td>342769</td>\n",
       "      <td>1994522</td>\n",
       "      <td>2018-01-13</td>\n",
       "      <td>2018-02-13</td>\n",
       "      <td>252.9809</td>\n",
       "      <td>9</td>\n",
       "      <td>7.2</td>\n",
       "      <td>2210</td>\n",
       "      <td>245.555556</td>\n",
       "      <td>2276.8281</td>\n",
       "      <td>66.8281</td>\n",
       "      <td>7.425344</td>\n",
       "      <td>0.029351</td>\n",
       "      <td>0.970649</td>\n",
       "      <td>0.030239</td>\n",
       "      <td>31</td>\n",
       "      <td>8.160674</td>\n",
       "      <td>1</td>\n",
       "      <td>5</td>\n",
       "      <td>13</td>\n",
       "      <td>13</td>\n",
       "    </tr>\n",
       "    <tr>\n",
       "      <th>4</th>\n",
       "      <td>828139</td>\n",
       "      <td>3602352</td>\n",
       "      <td>2018-06-01</td>\n",
       "      <td>2018-07-01</td>\n",
       "      <td>107.6503</td>\n",
       "      <td>6</td>\n",
       "      <td>8.6</td>\n",
       "      <td>630</td>\n",
       "      <td>105.000000</td>\n",
       "      <td>645.9018</td>\n",
       "      <td>15.9018</td>\n",
       "      <td>2.650300</td>\n",
       "      <td>0.024620</td>\n",
       "      <td>0.975380</td>\n",
       "      <td>0.025241</td>\n",
       "      <td>30</td>\n",
       "      <td>3.588343</td>\n",
       "      <td>6</td>\n",
       "      <td>4</td>\n",
       "      <td>1</td>\n",
       "      <td>1</td>\n",
       "    </tr>\n",
       "  </tbody>\n",
       "</table>\n",
       "</div>"
      ],
      "text/plain": [
       "   user_id  listing_id auditing_date   due_date   due_amt  term  rate  \\\n",
       "0   748147     3163926    2018-04-25 2018-05-25   72.1167     9   7.2   \n",
       "1   672952     3698760    2018-06-09 2018-07-09  258.7045     9   7.2   \n",
       "2   404196     2355665    2018-02-18 2018-03-18  307.9270     9   7.2   \n",
       "3   342769     1994522    2018-01-13 2018-02-13  252.9809     9   7.2   \n",
       "4   828139     3602352    2018-06-01 2018-07-01  107.6503     6   8.6   \n",
       "\n",
       "   principal    平均每月借款金额      总还款金额      总利息      每月利息  总利息/总还款金额  \\\n",
       "0        630   70.000000   649.0503  19.0503  2.116700   0.029351   \n",
       "1       2260  251.111111  2328.3405  68.3405  7.593389   0.029352   \n",
       "2       2690  298.888889  2771.3430  81.3430  9.038111   0.029351   \n",
       "3       2210  245.555556  2276.8281  66.8281  7.425344   0.029351   \n",
       "4        630  105.000000   645.9018  15.9018  2.650300   0.024620   \n",
       "\n",
       "   平均每月借款金额/due_amt  总利息/principal  还款期限日   首期平均每日还款  due_date星期几  \\\n",
       "0          0.970649       0.030239     30   2.403890            4   \n",
       "1          0.970648       0.030239     30   8.623483            0   \n",
       "2          0.970649       0.030239     28  10.997393            6   \n",
       "3          0.970649       0.030239     31   8.160674            1   \n",
       "4          0.975380       0.025241     30   3.588343            6   \n",
       "\n",
       "   auditing_date星期几  due_date是当月第几日  auditing_date是当月第几日  \n",
       "0                 2              25                   25  \n",
       "1                 5               9                    9  \n",
       "2                 6              18                   18  \n",
       "3                 5              13                   13  \n",
       "4                 4               1                    1  "
      ]
     },
     "execution_count": 50,
     "metadata": {},
     "output_type": "execute_result"
    }
   ],
   "source": [
    "df.head()"
   ]
  },
  {
   "cell_type": "markdown",
   "metadata": {},
   "source": [
    "# user_info"
   ]
  },
  {
   "cell_type": "code",
   "execution_count": 3,
   "metadata": {},
   "outputs": [],
   "source": [
    "user_info_df = pd.read_csv('dataset/user_info.csv', parse_dates=['reg_mon', 'insertdate'])"
   ]
  },
  {
   "cell_type": "code",
   "execution_count": 53,
   "metadata": {},
   "outputs": [
    {
     "data": {
      "text/html": [
       "<div>\n",
       "<style scoped>\n",
       "    .dataframe tbody tr th:only-of-type {\n",
       "        vertical-align: middle;\n",
       "    }\n",
       "\n",
       "    .dataframe tbody tr th {\n",
       "        vertical-align: top;\n",
       "    }\n",
       "\n",
       "    .dataframe thead th {\n",
       "        text-align: right;\n",
       "    }\n",
       "</style>\n",
       "<table border=\"1\" class=\"dataframe\">\n",
       "  <thead>\n",
       "    <tr style=\"text-align: right;\">\n",
       "      <th></th>\n",
       "      <th>user_id</th>\n",
       "      <th>reg_mon</th>\n",
       "      <th>gender</th>\n",
       "      <th>age</th>\n",
       "      <th>cell_province</th>\n",
       "      <th>id_province</th>\n",
       "      <th>id_city</th>\n",
       "      <th>insertdate</th>\n",
       "    </tr>\n",
       "  </thead>\n",
       "  <tbody>\n",
       "    <tr>\n",
       "      <th>0</th>\n",
       "      <td>483833</td>\n",
       "      <td>2017-04-01</td>\n",
       "      <td>男</td>\n",
       "      <td>19</td>\n",
       "      <td>c29</td>\n",
       "      <td>c26</td>\n",
       "      <td>c26241</td>\n",
       "      <td>2018-12-11</td>\n",
       "    </tr>\n",
       "    <tr>\n",
       "      <th>1</th>\n",
       "      <td>156772</td>\n",
       "      <td>2016-05-01</td>\n",
       "      <td>男</td>\n",
       "      <td>31</td>\n",
       "      <td>c11</td>\n",
       "      <td>c11</td>\n",
       "      <td>c11159</td>\n",
       "      <td>2018-02-13</td>\n",
       "    </tr>\n",
       "    <tr>\n",
       "      <th>2</th>\n",
       "      <td>173388</td>\n",
       "      <td>2016-05-01</td>\n",
       "      <td>男</td>\n",
       "      <td>34</td>\n",
       "      <td>c02</td>\n",
       "      <td>c02</td>\n",
       "      <td>c02182</td>\n",
       "      <td>2018-08-21</td>\n",
       "    </tr>\n",
       "    <tr>\n",
       "      <th>3</th>\n",
       "      <td>199107</td>\n",
       "      <td>2016-07-01</td>\n",
       "      <td>女</td>\n",
       "      <td>25</td>\n",
       "      <td>c09</td>\n",
       "      <td>c09</td>\n",
       "      <td>c09046</td>\n",
       "      <td>2018-06-05</td>\n",
       "    </tr>\n",
       "    <tr>\n",
       "      <th>4</th>\n",
       "      <td>122560</td>\n",
       "      <td>2016-03-01</td>\n",
       "      <td>男</td>\n",
       "      <td>23</td>\n",
       "      <td>c05</td>\n",
       "      <td>c05</td>\n",
       "      <td>c05193</td>\n",
       "      <td>2018-04-02</td>\n",
       "    </tr>\n",
       "  </tbody>\n",
       "</table>\n",
       "</div>"
      ],
      "text/plain": [
       "   user_id    reg_mon gender  age cell_province id_province id_city insertdate\n",
       "0   483833 2017-04-01      男   19           c29         c26  c26241 2018-12-11\n",
       "1   156772 2016-05-01      男   31           c11         c11  c11159 2018-02-13\n",
       "2   173388 2016-05-01      男   34           c02         c02  c02182 2018-08-21\n",
       "3   199107 2016-07-01      女   25           c09         c09  c09046 2018-06-05\n",
       "4   122560 2016-03-01      男   23           c05         c05  c05193 2018-04-02"
      ]
     },
     "execution_count": 53,
     "metadata": {},
     "output_type": "execute_result"
    }
   ],
   "source": [
    "user_info_df.head()"
   ]
  },
  {
   "cell_type": "code",
   "execution_count": 58,
   "metadata": {},
   "outputs": [],
   "source": [
    "user_info_df.rename(columns={'insertdate': 'info_insert_date'}, inplace=True)\n"
   ]
  },
  {
   "cell_type": "code",
   "execution_count": 59,
   "metadata": {},
   "outputs": [
    {
     "data": {
      "text/plain": [
       "670044    3\n",
       "567844    3\n",
       "799738    3\n",
       "66268     3\n",
       "336069    3\n",
       "Name: user_id, dtype: int64"
      ]
     },
     "execution_count": 59,
     "metadata": {},
     "output_type": "execute_result"
    }
   ],
   "source": [
    "user_info_df['user_id'].value_counts().head()"
   ]
  },
  {
   "cell_type": "markdown",
   "metadata": {},
   "source": [
    "下面这行是选最新数据,但是原则上我们用的数据必须是在auditing_date之前的数据,所以最好别这么简单地去重了"
   ]
  },
  {
   "cell_type": "code",
   "execution_count": 64,
   "metadata": {},
   "outputs": [],
   "source": [
    "# user_info_df = user_info_df.sort_values(by='info_insert_date', ascending=False).drop_duplicates('user_id').reset_index(drop=True)"
   ]
  },
  {
   "cell_type": "markdown",
   "metadata": {},
   "source": [
    "通过一个时间对比控制不使用未来数据"
   ]
  },
  {
   "cell_type": "code",
   "execution_count": 310,
   "metadata": {},
   "outputs": [],
   "source": [
    "def merge_before_auditing(df, df2, df2_time='info_insert_date', on='user_id', check_nan='gender'):\n",
    "    df3 = df.merge(df2, on=on, how='left')\n",
    "    if df3[check_nan].isna().sum() > 0:\n",
    "        print('存在空值,需要小心检查一下')\n",
    "#         return df3\n",
    "    \n",
    "    # 去除掉未来时间的数据\n",
    "    df4 = df3[(df3['auditing_date']>=df3[df2_time])|(df3[check_nan].isna())]\n",
    "    \n",
    "    # 使用剩下数据中最新的数据\n",
    "    df5 = df4.sort_values(df2_time, ascending=False).drop_duplicates('listing_id')\n",
    "    \n",
    "    # 防止一条数据都没有\n",
    "    df6 = df.merge(df5, on=df.columns.tolist(), how='outer') # redundant?\n",
    "    return df6"
   ]
  },
  {
   "cell_type": "code",
   "execution_count": 311,
   "metadata": {},
   "outputs": [],
   "source": [
    "df = merge_before_auditing(df, user_info_df, df2_time='info_insert_date', on='user_id', check_nan='gender')"
   ]
  },
  {
   "cell_type": "markdown",
   "metadata": {},
   "source": [
    "这块还没做特征"
   ]
  },
  {
   "cell_type": "markdown",
   "metadata": {},
   "source": [
    "# user_taglist"
   ]
  },
  {
   "cell_type": "code",
   "execution_count": 8,
   "metadata": {},
   "outputs": [],
   "source": [
    "user_tag_df = pd.read_csv('dataset/user_taglist.csv', parse_dates=['insertdate'])"
   ]
  },
  {
   "cell_type": "code",
   "execution_count": 9,
   "metadata": {},
   "outputs": [
    {
     "data": {
      "text/plain": [
       "False"
      ]
     },
     "execution_count": 9,
     "metadata": {},
     "output_type": "execute_result"
    }
   ],
   "source": [
    "user_tag_df.taglist.isnull().any()"
   ]
  },
  {
   "cell_type": "code",
   "execution_count": 235,
   "metadata": {},
   "outputs": [
    {
     "data": {
      "text/html": [
       "<div>\n",
       "<style scoped>\n",
       "    .dataframe tbody tr th:only-of-type {\n",
       "        vertical-align: middle;\n",
       "    }\n",
       "\n",
       "    .dataframe tbody tr th {\n",
       "        vertical-align: top;\n",
       "    }\n",
       "\n",
       "    .dataframe thead th {\n",
       "        text-align: right;\n",
       "    }\n",
       "</style>\n",
       "<table border=\"1\" class=\"dataframe\">\n",
       "  <thead>\n",
       "    <tr style=\"text-align: right;\">\n",
       "      <th></th>\n",
       "      <th>user_id</th>\n",
       "      <th>taglist</th>\n",
       "      <th>tag_insert_date</th>\n",
       "    </tr>\n",
       "  </thead>\n",
       "  <tbody>\n",
       "    <tr>\n",
       "      <th>0</th>\n",
       "      <td>113401</td>\n",
       "      <td>4707|473|3498|4759|1654|298|2869|1164|212|1885...</td>\n",
       "      <td>2018-10-03</td>\n",
       "    </tr>\n",
       "    <tr>\n",
       "      <th>1</th>\n",
       "      <td>378358</td>\n",
       "      <td>751|2207|1100|2099|1832|1911|5347|2254|171|360...</td>\n",
       "      <td>2018-11-30</td>\n",
       "    </tr>\n",
       "    <tr>\n",
       "      <th>2</th>\n",
       "      <td>434838</td>\n",
       "      <td>877|3795|5628|70|2684|691|719|4228|631|1541|12...</td>\n",
       "      <td>2018-03-25</td>\n",
       "    </tr>\n",
       "    <tr>\n",
       "      <th>3</th>\n",
       "      <td>577061</td>\n",
       "      <td>2431|3242|340|1823|4020|4357|164|620|2168|1192...</td>\n",
       "      <td>2018-05-25</td>\n",
       "    </tr>\n",
       "    <tr>\n",
       "      <th>4</th>\n",
       "      <td>566753</td>\n",
       "      <td>3980|3125|1819|1333|1177|3972|621|5800|3632|16...</td>\n",
       "      <td>2018-12-02</td>\n",
       "    </tr>\n",
       "    <tr>\n",
       "      <th>5</th>\n",
       "      <td>257271</td>\n",
       "      <td>3688|141|1059|1616|247|3527|2788|2431|2706|234...</td>\n",
       "      <td>2018-06-20</td>\n",
       "    </tr>\n",
       "    <tr>\n",
       "      <th>6</th>\n",
       "      <td>286758</td>\n",
       "      <td>4073|5474|1583|449|244|676|2306|3755|440|3688|...</td>\n",
       "      <td>2018-03-12</td>\n",
       "    </tr>\n",
       "    <tr>\n",
       "      <th>7</th>\n",
       "      <td>279566</td>\n",
       "      <td>2266|1330|3744|424|2018|1318|436|2410|956|2785...</td>\n",
       "      <td>2018-07-15</td>\n",
       "    </tr>\n",
       "    <tr>\n",
       "      <th>8</th>\n",
       "      <td>842520</td>\n",
       "      <td>2018|4288|3133|5733|2212|181|942|2072|3440|165...</td>\n",
       "      <td>2018-06-07</td>\n",
       "    </tr>\n",
       "    <tr>\n",
       "      <th>9</th>\n",
       "      <td>374058</td>\n",
       "      <td>440|4185|2264|4381|1137|1059|3760|2649|620|530...</td>\n",
       "      <td>2018-04-11</td>\n",
       "    </tr>\n",
       "  </tbody>\n",
       "</table>\n",
       "</div>"
      ],
      "text/plain": [
       "   user_id                                            taglist tag_insert_date\n",
       "0   113401  4707|473|3498|4759|1654|298|2869|1164|212|1885...      2018-10-03\n",
       "1   378358  751|2207|1100|2099|1832|1911|5347|2254|171|360...      2018-11-30\n",
       "2   434838  877|3795|5628|70|2684|691|719|4228|631|1541|12...      2018-03-25\n",
       "3   577061  2431|3242|340|1823|4020|4357|164|620|2168|1192...      2018-05-25\n",
       "4   566753  3980|3125|1819|1333|1177|3972|621|5800|3632|16...      2018-12-02\n",
       "5   257271  3688|141|1059|1616|247|3527|2788|2431|2706|234...      2018-06-20\n",
       "6   286758  4073|5474|1583|449|244|676|2306|3755|440|3688|...      2018-03-12\n",
       "7   279566  2266|1330|3744|424|2018|1318|436|2410|956|2785...      2018-07-15\n",
       "8   842520  2018|4288|3133|5733|2212|181|942|2072|3440|165...      2018-06-07\n",
       "9   374058  440|4185|2264|4381|1137|1059|3760|2649|620|530...      2018-04-11"
      ]
     },
     "execution_count": 235,
     "metadata": {},
     "output_type": "execute_result"
    }
   ],
   "source": [
    "user_tag_df.head(10)"
   ]
  },
  {
   "cell_type": "code",
   "execution_count": 211,
   "metadata": {},
   "outputs": [],
   "source": [
    "user_tag_df.rename(columns={'insertdate': 'tag_insert_date'}, inplace=True)\n"
   ]
  },
  {
   "cell_type": "markdown",
   "metadata": {},
   "source": [
    "user_tag_df也不能都用最新的数据"
   ]
  },
  {
   "cell_type": "code",
   "execution_count": 231,
   "metadata": {},
   "outputs": [
    {
     "name": "stdout",
     "output_type": "stream",
     "text": [
      "存在空值,需要重新检查一下\n"
     ]
    }
   ],
   "source": [
    "df = merge_before_auditing(df, user_tag_df, df2_time='tag_insert_date', on='user_id', check_nan='taglist')"
   ]
  },
  {
   "cell_type": "code",
   "execution_count": null,
   "metadata": {},
   "outputs": [],
   "source": [
    "# user_tag_df = user_tag_df.sort_values(by='tag_insert_date', ascending=False).drop_duplicates('user_id').reset_index(drop=True)\n"
   ]
  },
  {
   "cell_type": "code",
   "execution_count": null,
   "metadata": {},
   "outputs": [],
   "source": [
    "# df = df.merge(user_tag_df, on='user_id', how='left')"
   ]
  },
  {
   "cell_type": "markdown",
   "metadata": {},
   "source": [
    "# user_repay_logs"
   ]
  },
  {
   "cell_type": "code",
   "execution_count": 10,
   "metadata": {},
   "outputs": [],
   "source": [
    "repay_log_df = pd.read_csv('dataset/user_repay_logs.csv', parse_dates=['due_date', 'repay_date'])"
   ]
  },
  {
   "cell_type": "code",
   "execution_count": 11,
   "metadata": {},
   "outputs": [],
   "source": [
    "repay_log_df = repay_log_df[repay_log_df['order_id'] == 1].reset_index(drop=True)"
   ]
  },
  {
   "cell_type": "code",
   "execution_count": 14,
   "metadata": {
    "scrolled": true
   },
   "outputs": [
    {
     "data": {
      "text/html": [
       "<div>\n",
       "<style scoped>\n",
       "    .dataframe tbody tr th:only-of-type {\n",
       "        vertical-align: middle;\n",
       "    }\n",
       "\n",
       "    .dataframe tbody tr th {\n",
       "        vertical-align: top;\n",
       "    }\n",
       "\n",
       "    .dataframe thead th {\n",
       "        text-align: right;\n",
       "    }\n",
       "</style>\n",
       "<table border=\"1\" class=\"dataframe\">\n",
       "  <thead>\n",
       "    <tr style=\"text-align: right;\">\n",
       "      <th></th>\n",
       "      <th>user_id</th>\n",
       "      <th>listing_id</th>\n",
       "      <th>order_id</th>\n",
       "      <th>due_date</th>\n",
       "      <th>due_amt</th>\n",
       "      <th>repay_date</th>\n",
       "      <th>repay_amt</th>\n",
       "    </tr>\n",
       "  </thead>\n",
       "  <tbody>\n",
       "    <tr>\n",
       "      <th>2544012</th>\n",
       "      <td>882692</td>\n",
       "      <td>5482798</td>\n",
       "      <td>1</td>\n",
       "      <td>2019-04-30</td>\n",
       "      <td>576.0161</td>\n",
       "      <td>2019-03-30</td>\n",
       "      <td>576.0161</td>\n",
       "    </tr>\n",
       "    <tr>\n",
       "      <th>2117425</th>\n",
       "      <td>785337</td>\n",
       "      <td>5481718</td>\n",
       "      <td>1</td>\n",
       "      <td>2019-04-30</td>\n",
       "      <td>144.3660</td>\n",
       "      <td>2019-03-30</td>\n",
       "      <td>144.3660</td>\n",
       "    </tr>\n",
       "    <tr>\n",
       "      <th>1459650</th>\n",
       "      <td>882692</td>\n",
       "      <td>5482750</td>\n",
       "      <td>1</td>\n",
       "      <td>2019-04-30</td>\n",
       "      <td>195.7588</td>\n",
       "      <td>2019-03-30</td>\n",
       "      <td>195.7588</td>\n",
       "    </tr>\n",
       "    <tr>\n",
       "      <th>2143042</th>\n",
       "      <td>920572</td>\n",
       "      <td>5481601</td>\n",
       "      <td>1</td>\n",
       "      <td>2019-04-30</td>\n",
       "      <td>107.0008</td>\n",
       "      <td>2019-03-30</td>\n",
       "      <td>107.0008</td>\n",
       "    </tr>\n",
       "    <tr>\n",
       "      <th>2339237</th>\n",
       "      <td>882692</td>\n",
       "      <td>5482707</td>\n",
       "      <td>1</td>\n",
       "      <td>2019-04-30</td>\n",
       "      <td>195.7588</td>\n",
       "      <td>2019-03-30</td>\n",
       "      <td>195.7588</td>\n",
       "    </tr>\n",
       "  </tbody>\n",
       "</table>\n",
       "</div>"
      ],
      "text/plain": [
       "         user_id  listing_id  order_id   due_date   due_amt repay_date  \\\n",
       "2544012   882692     5482798         1 2019-04-30  576.0161 2019-03-30   \n",
       "2117425   785337     5481718         1 2019-04-30  144.3660 2019-03-30   \n",
       "1459650   882692     5482750         1 2019-04-30  195.7588 2019-03-30   \n",
       "2143042   920572     5481601         1 2019-04-30  107.0008 2019-03-30   \n",
       "2339237   882692     5482707         1 2019-04-30  195.7588 2019-03-30   \n",
       "\n",
       "         repay_amt  \n",
       "2544012   576.0161  \n",
       "2117425   144.3660  \n",
       "1459650   195.7588  \n",
       "2143042   107.0008  \n",
       "2339237   195.7588  "
      ]
     },
     "execution_count": 14,
     "metadata": {},
     "output_type": "execute_result"
    }
   ],
   "source": [
    "repay_log_df.sort_values(by='due_date',ascending=False).head()"
   ]
  },
  {
   "cell_type": "code",
   "execution_count": null,
   "metadata": {},
   "outputs": [],
   "source": [
    "repay_log_df['repay'] = repay_log_df['repay_date'].astype('str').apply(lambda x: 1 if x != '2200-01-01' else 0)"
   ]
  },
  {
   "cell_type": "code",
   "execution_count": null,
   "metadata": {},
   "outputs": [],
   "source": [
    "repay_log_df.head()"
   ]
  },
  {
   "cell_type": "code",
   "execution_count": null,
   "metadata": {},
   "outputs": [],
   "source": [
    "repay_log_df['early_repay_days'] = (repay_log_df['due_date'] - repay_log_df['repay_date']).dt.days"
   ]
  },
  {
   "cell_type": "code",
   "execution_count": null,
   "metadata": {},
   "outputs": [],
   "source": [
    "repay_log_df.head()"
   ]
  },
  {
   "cell_type": "code",
   "execution_count": null,
   "metadata": {},
   "outputs": [],
   "source": [
    "repay_log_df['early_repay_days'] = repay_log_df['early_repay_days'].apply(lambda x: x if x >= 0 else -1)"
   ]
  },
  {
   "cell_type": "code",
   "execution_count": null,
   "metadata": {},
   "outputs": [],
   "source": [
    "repay_log_df['repay_date'] = repay_log_df[['repay_date','due_date']].apply(\n",
    "    lambda x: x['repay_date'] if x['repay_date']!= '2200-01-01' else x['due_date'])"
   ]
  },
  {
   "cell_type": "code",
   "execution_count": null,
   "metadata": {},
   "outputs": [],
   "source": [
    "for f in ['listing_id', 'order_id', 'due_date', 'repay_date', 'repay_amt']:\n",
    "    del repay_log-df[f]"
   ]
  },
  {
   "cell_type": "code",
   "execution_count": null,
   "metadata": {},
   "outputs": [],
   "source": [
    "# for f in ['listing_id', 'order_id', 'due_date', 'repay_date', 'repay_amt']:\n",
    "#    del repay_log_df[f]"
   ]
  },
  {
   "cell_type": "code",
   "execution_count": null,
   "metadata": {},
   "outputs": [],
   "source": [
    "group = repay_log_df.groupby('user_id', as_index=False)\n"
   ]
  },
  {
   "cell_type": "code",
   "execution_count": null,
   "metadata": {},
   "outputs": [],
   "source": [
    "repay_log_df = repay_log_df.merge(\n",
    "    group['repay'].agg({'repay_mean': 'mean'}), on='user_id', how='left'\n",
    ")"
   ]
  },
  {
   "cell_type": "code",
   "execution_count": null,
   "metadata": {},
   "outputs": [],
   "source": [
    "repay_log_df.head()"
   ]
  },
  {
   "cell_type": "code",
   "execution_count": null,
   "metadata": {},
   "outputs": [],
   "source": [
    "repay_log_df = repay_log_df.merge(\n",
    "    group['early_repay_days'].agg({\n",
    "        'early_repay_days_max': 'max', 'early_repay_days_median': 'median', 'early_repay_days_sum': 'sum',\n",
    "        'early_repay_days_mean': 'mean', 'early_repay_days_std': 'std'\n",
    "    }), on='user_id', how='left'\n",
    ")"
   ]
  },
  {
   "cell_type": "code",
   "execution_count": null,
   "metadata": {},
   "outputs": [],
   "source": [
    "repay_log_df.head()"
   ]
  },
  {
   "cell_type": "code",
   "execution_count": null,
   "metadata": {},
   "outputs": [],
   "source": [
    "repay_log_df = repay_log_df.merge(\n",
    "    group['due_amt'].agg({\n",
    "        'due_amt_max': 'max', 'due_amt_min': 'min', 'due_amt_median': 'median',\n",
    "        'due_amt_mean': 'mean', 'due_amt_sum': 'sum', 'due_amt_std': 'std',\n",
    "        'due_amt_skew': 'skew', 'due_amt_kurt': kurtosis, 'due_amt_ptp': np.ptp\n",
    "    }), on='user_id', how='left'\n",
    ")"
   ]
  },
  {
   "cell_type": "code",
   "execution_count": null,
   "metadata": {},
   "outputs": [],
   "source": [
    "del repay_log_df['repay'], repay_log_df['early_repay_days'], repay_log_df['due_amt']"
   ]
  },
  {
   "cell_type": "code",
   "execution_count": null,
   "metadata": {},
   "outputs": [],
   "source": [
    "repay_log_df.shape"
   ]
  },
  {
   "cell_type": "code",
   "execution_count": null,
   "metadata": {},
   "outputs": [],
   "source": [
    "repay_log_df = repay_log_df.drop_duplicates('user_id').reset_index(drop=True)\n"
   ]
  },
  {
   "cell_type": "code",
   "execution_count": null,
   "metadata": {},
   "outputs": [],
   "source": [
    "repay_log_df.shape"
   ]
  },
  {
   "cell_type": "code",
   "execution_count": null,
   "metadata": {},
   "outputs": [],
   "source": [
    "df = df.merge(repay_log_df, on='user_id', how='left')\n"
   ]
  },
  {
   "cell_type": "code",
   "execution_count": null,
   "metadata": {},
   "outputs": [],
   "source": [
    "cate_cols = ['gender', 'cell_province', 'id_province', 'id_city']\n"
   ]
  },
  {
   "cell_type": "code",
   "execution_count": null,
   "metadata": {},
   "outputs": [],
   "source": [
    "# 这个lgb应该有参数可以直接传 lgb.train(categorical_feature=cate_cols)\n",
    "for f in cate_cols:\n",
    "    df[f] = df[f].map(dict(zip(df[f].unique(), range(df[f].nunique())))).astype('int32')"
   ]
  },
  {
   "cell_type": "code",
   "execution_count": null,
   "metadata": {},
   "outputs": [],
   "source": [
    "df['due_amt_per_days'] = df['due_amt'] / (train_df['due_date'] - train_df['auditing_date']).dt.days\n"
   ]
  },
  {
   "cell_type": "code",
   "execution_count": null,
   "metadata": {},
   "outputs": [],
   "source": [
    "date_cols = ['auditing_date', 'due_date', 'reg_mon', 'info_insert_date', 'tag_insert_date']\n"
   ]
  },
  {
   "cell_type": "code",
   "execution_count": null,
   "metadata": {},
   "outputs": [],
   "source": [
    "for f in date_cols:\n",
    "    if f in ['reg_mon', 'info_insert_date', 'tag_insert_date']:\n",
    "        df[f + '_year'] = df[f].dt.year\n",
    "    df[f + '_month'] = df[f].dt.month\n",
    "    if f in ['auditing_date', 'due_date', 'info_insert_date', 'tag_insert_date']:\n",
    "        df[f + '_day'] = df[f].dt.day\n",
    "        df[f + '_dayofweek'] = df[f].dt.dayofweek"
   ]
  },
  {
   "cell_type": "code",
   "execution_count": null,
   "metadata": {},
   "outputs": [],
   "source": [
    "df.drop(columns=date_cols, axis=1, inplace=True)\n"
   ]
  },
  {
   "cell_type": "code",
   "execution_count": null,
   "metadata": {},
   "outputs": [],
   "source": [
    "df['taglist'] = df['taglist'].astype('str').apply(lambda x: x.strip().replace('|', ' ').strip())\n"
   ]
  },
  {
   "cell_type": "code",
   "execution_count": null,
   "metadata": {},
   "outputs": [],
   "source": [
    "tag_cv = CountVectorizer(min_df=10, max_df=0.9).fit_transform(df['taglist'])\n"
   ]
  },
  {
   "cell_type": "code",
   "execution_count": null,
   "metadata": {},
   "outputs": [],
   "source": [
    "tag_cv"
   ]
  },
  {
   "cell_type": "code",
   "execution_count": null,
   "metadata": {},
   "outputs": [],
   "source": [
    "del df['user_id'], df['listing_id'], df['taglist']\n"
   ]
  },
  {
   "cell_type": "code",
   "execution_count": null,
   "metadata": {},
   "outputs": [],
   "source": [
    "# 也可以用lgb.train(categorical_features=cate_cols)\n",
    "df = pd.get_dummies(df, columns=cate_cols)\n"
   ]
  },
  {
   "cell_type": "code",
   "execution_count": null,
   "metadata": {},
   "outputs": [],
   "source": [
    "df = sparse.hstack((df.values, tag_cv), format='csr', dtype='float32')\n"
   ]
  },
  {
   "cell_type": "code",
   "execution_count": null,
   "metadata": {},
   "outputs": [],
   "source": [
    "train_values, test_values = df[:train_num], df[train_num:]\n"
   ]
  },
  {
   "cell_type": "code",
   "execution_count": null,
   "metadata": {},
   "outputs": [],
   "source": [
    "skf = StratifiedKFold(n_splits=5, shuffle=True, random_state=2019)\n",
    "clf = LGBMClassifier(\n",
    "    n_jobs=43,\n",
    "    learning_rate=0.05,\n",
    "    n_estimators=10000,\n",
    "    subsample=0.8,\n",
    "    subsample_freq=1,\n",
    "    colsample_bytree=0.8,\n",
    "    random_state=2019\n",
    ")\n",
    "amt_oof = np.zeros(train_num)\n",
    "prob_oof = np.zeros((train_num, 33))\n",
    "test_pred_prob = np.zeros((test_values.shape[0], 33))\n",
    "for i, (trn_idx, val_idx) in enumerate(skf.split(train_values, clf_labels)):\n",
    "    print(i, 'fold...')\n",
    "    t = time.time()\n",
    "\n",
    "    trn_x, trn_y = train_values[trn_idx], clf_labels[trn_idx]\n",
    "    val_x, val_y = train_values[val_idx], clf_labels[val_idx]\n",
    "    val_repay_amt = amt_labels[val_idx]\n",
    "    val_due_amt = train_due_amt_df.iloc[val_idx]\n",
    "\n",
    "    clf.fit(\n",
    "        trn_x, trn_y,\n",
    "        eval_set=[(trn_x, trn_y), (val_x, val_y)],\n",
    "        early_stopping_rounds=100, verbose=5\n",
    "    )\n",
    "    # shepe = (-1, 33)\n",
    "    val_pred_prob_everyday = clf.predict_proba(val_x, num_iteration=clf.best_iteration_)\n",
    "    prob_oof[val_idx] = val_pred_prob_everyday\n",
    "    val_pred_prob_today = [val_pred_prob_everyday[i][val_y[i]] for i in range(val_pred_prob_everyday.shape[0])]\n",
    "    val_pred_repay_amt = val_due_amt['due_amt'].values * val_pred_prob_today\n",
    "    print('val rmse:', np.sqrt(mean_squared_error(val_repay_amt, val_pred_repay_amt)))\n",
    "    print('val mae:', mean_absolute_error(val_repay_amt, val_pred_repay_amt))\n",
    "    amt_oof[val_idx] = val_pred_repay_amt\n",
    "    test_pred_prob += clf.predict_proba(test_values, num_iteration=clf.best_iteration_) / skf.n_splits\n",
    "\n",
    "    print('runtime: {}\\n'.format(time.time() - t))\n",
    "\n",
    "print('\\ncv rmse:', np.sqrt(mean_squared_error(amt_labels, amt_oof)))\n",
    "print('cv mae:', mean_absolute_error(amt_labels, amt_oof))\n",
    "print('cv logloss:', log_loss(clf_labels, prob_oof))\n",
    "print('cv acc:', accuracy_score(clf_labels, np.argmax(prob_oof, axis=1)))"
   ]
  },
  {
   "cell_type": "code",
   "execution_count": null,
   "metadata": {},
   "outputs": [],
   "source": [
    "# # 原本的输出\n",
    "# prob_cols = ['prob_{}'.format(i) for i in range(33)]\n",
    "# for i, f in enumerate(prob_cols):\n",
    "#     sub[f] = test_pred_prob[:, i]\n",
    "# sub_example = pd.read_csv('dataset/submission.csv', parse_dates=['repay_date'])\n",
    "# sub_example = sub_example.merge(sub, on='listing_id', how='left')\n",
    "# sub_example['days'] = (sub_example['repay_date'] - sub_example['auditing_date']).dt.days\n",
    "# # shape = (-1, 33)\n",
    "# test_prob = sub_example[prob_cols].values\n",
    "# test_labels = sub_example['days'].values\n",
    "# test_prob = [test_prob[i][test_labels[i]] for i in range(test_prob.shape[0])]\n",
    "# sub_example['repay_amt'] = sub_example['due_amt'] * test_prob\n",
    "# sub_example[['listing_id', 'repay_date', 'repay_amt']].to_csv('sub.csv', index=False)\n",
    "\n"
   ]
  },
  {
   "cell_type": "code",
   "execution_count": null,
   "metadata": {},
   "outputs": [],
   "source": [
    "import pickle\n",
    "with open('test_pred_prob.pkl', 'wb') as f:\n",
    "    pickle.dump(test_pred_prob, f)"
   ]
  },
  {
   "cell_type": "code",
   "execution_count": null,
   "metadata": {},
   "outputs": [],
   "source": [
    "prob_cols = ['prob_{}'.format(i) for i in range(33)]\n"
   ]
  },
  {
   "cell_type": "code",
   "execution_count": null,
   "metadata": {},
   "outputs": [],
   "source": [
    "for i, f in enumerate(prob_cols):\n",
    "    sub[f] = test_pred_prob[:, i]"
   ]
  },
  {
   "cell_type": "code",
   "execution_count": null,
   "metadata": {},
   "outputs": [],
   "source": [
    "sub_example = pd.read_csv('dataset/submission.csv', parse_dates=['repay_date'])\n"
   ]
  },
  {
   "cell_type": "code",
   "execution_count": null,
   "metadata": {},
   "outputs": [],
   "source": [
    "sub_example = sub_example.merge(sub, on='listing_id', how='left')\n"
   ]
  },
  {
   "cell_type": "code",
   "execution_count": null,
   "metadata": {},
   "outputs": [],
   "source": [
    "def add_1_month(s):\n",
    "    s = s.strftime('%F')\n",
    "    y, m, d = str(s).split('-')\n",
    "    y = int(y)\n",
    "    m = int(m)\n",
    "    d = int(d)\n",
    "    m = m + 1\n",
    "    if m == 13:\n",
    "        m = 1\n",
    "        y = y + 1\n",
    "    if m in [4,6,9,11]:\n",
    "        if d == 31:\n",
    "            d = 30\n",
    "    if m == 2:\n",
    "        if d in [29, 30, 31]:\n",
    "            if y in [2012, 2016]:\n",
    "                d = 29\n",
    "            else:\n",
    "                d = 28\n",
    "    return datetime.datetime.strptime(str(y)+'-'+str(m)+'-'+str(d), '%Y-%m-%d')"
   ]
  },
  {
   "cell_type": "code",
   "execution_count": null,
   "metadata": {},
   "outputs": [],
   "source": [
    "from tqdm import tqdm, tqdm_notebook\n",
    "tqdm_notebook().pandas()"
   ]
  },
  {
   "cell_type": "code",
   "execution_count": null,
   "metadata": {},
   "outputs": [],
   "source": [
    "sub_example['due_date'] = sub_example['auditing_date'].progress_apply(add_1_month)"
   ]
  },
  {
   "cell_type": "code",
   "execution_count": null,
   "metadata": {},
   "outputs": [],
   "source": [
    "sub_example.head()"
   ]
  },
  {
   "cell_type": "code",
   "execution_count": null,
   "metadata": {},
   "outputs": [],
   "source": [
    "sub_example['days'] = (sub_example['due_date'] - sub_example['repay_date']).dt.days\n"
   ]
  },
  {
   "cell_type": "code",
   "execution_count": null,
   "metadata": {},
   "outputs": [],
   "source": [
    "sub_example.head()"
   ]
  },
  {
   "cell_type": "code",
   "execution_count": null,
   "metadata": {},
   "outputs": [],
   "source": [
    "test_prob = sub_example[prob_cols].values\n"
   ]
  },
  {
   "cell_type": "code",
   "execution_count": null,
   "metadata": {},
   "outputs": [],
   "source": [
    "test_labels = sub_example['days'].values\n"
   ]
  },
  {
   "cell_type": "code",
   "execution_count": null,
   "metadata": {},
   "outputs": [],
   "source": [
    "test_prob = [test_prob[i][test_labels[i]] for i in range(test_prob.shape[0])]\n"
   ]
  },
  {
   "cell_type": "code",
   "execution_count": null,
   "metadata": {},
   "outputs": [],
   "source": [
    "sub_example['repay_amt'] = sub_example['due_amt'] * test_prob\n"
   ]
  },
  {
   "cell_type": "code",
   "execution_count": null,
   "metadata": {},
   "outputs": [],
   "source": [
    "\"sub_{datetime.datetime.now().strftime('%Y-%m-%d %H-%M-%S')}.csv\""
   ]
  },
  {
   "cell_type": "code",
   "execution_count": null,
   "metadata": {},
   "outputs": [],
   "source": [
    "sub_example[['listing_id', 'repay_date', 'repay_amt']].to_csv(f\"sub_{datetime.datetime.now().strftime('%Y-%m-%d %H-%M-%S')}.csv\", index=False)\n"
   ]
  },
  {
   "cell_type": "markdown",
   "metadata": {},
   "source": [
    "# 下面这行的结果告诉我一下"
   ]
  },
  {
   "cell_type": "code",
   "execution_count": null,
   "metadata": {},
   "outputs": [],
   "source": [
    "df_bkup = sub_example.copy()"
   ]
  },
  {
   "cell_type": "code",
   "execution_count": null,
   "metadata": {},
   "outputs": [],
   "source": [
    "sub_example['prob'] = test_prob "
   ]
  },
  {
   "cell_type": "code",
   "execution_count": null,
   "metadata": {},
   "outputs": [],
   "source": [
    "sub_example.sort_values(by='prob',ascending = False).drop_duplicates('listing_id').reset_index(drop=True).prob.describe()"
   ]
  },
  {
   "cell_type": "code",
   "execution_count": null,
   "metadata": {},
   "outputs": [],
   "source": [
    "for threshold in [0.1, 0.15, 0.2, 0.25]:  # 这里的threshold可以根据上面给我看的describe进行修改\n",
    "    sub_example['repay_amt'] = sub_example.apply(lambda x:x['due_amt'] * x['prob'] if x['prob'] > threshold else 0, axis=1)\n",
    "    sub_example[['listing_id', 'repay_date', 'repay_amt']].to_csv(f\"sub_{datetime.datetime.now().strftime('%Y-%m-%d %H-%M-%S')}_{threshold}.csv\", index=False)\n"
   ]
  },
  {
   "cell_type": "code",
   "execution_count": null,
   "metadata": {},
   "outputs": [],
   "source": [
    "for threshold in [0.1, 0.15, 0.2, 0.25]:  # 这里的threshold可以根据上面给我看的describe进行修改\n",
    "    sub_example['repay_amt'] = sub_example.apply(lambda x:x['due_amt'] * x['prob'] if x['prob'] > threshold else 0, axis=1)\n",
    "    sub_example_fin=sub_example[['listing_id', 'repay_date', 'repay_amt']]\n",
    "    sub_example_fin[sub_example_fin['repay_amt']!=0].to_csv(f\"sub_{datetime.datetime.now().strftime('%Y-%m-%d %H-%M-%S')}_{threshold}.csv\", index=False)"
   ]
  }
 ],
 "metadata": {
  "kernelspec": {
   "display_name": "Python 3",
   "language": "python",
   "name": "python3"
  },
  "language_info": {
   "codemirror_mode": {
    "name": "ipython",
    "version": 3
   },
   "file_extension": ".py",
   "mimetype": "text/x-python",
   "name": "python",
   "nbconvert_exporter": "python",
   "pygments_lexer": "ipython3",
   "version": "3.7.3"
  }
 },
 "nbformat": 4,
 "nbformat_minor": 2
}
