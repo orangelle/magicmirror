{
 "cells": [
  {
   "cell_type": "code",
   "execution_count": 1,
   "metadata": {},
   "outputs": [],
   "source": [
    "import pandas as pd\n",
    "import numpy as np\n",
    "from sklearn.model_selection import StratifiedKFold\n",
    "from lightgbm.sklearn import LGBMClassifier\n",
    "from sklearn.metrics import mean_squared_error, mean_absolute_error, log_loss, accuracy_score\n",
    "from sklearn.feature_extraction.text import CountVectorizer\n",
    "from scipy import sparse\n",
    "from scipy.stats import kurtosis\n",
    "import time\n",
    "import warnings\n",
    "warnings.filterwarnings('ignore')\n",
    "pd.set_option('display.max_columns', None)\n",
    "import datetime"
   ]
  },
  {
   "cell_type": "code",
   "execution_count": 2,
   "metadata": {},
   "outputs": [],
   "source": [
    "train_df = pd.read_csv('dataset/train.csv', parse_dates=['auditing_date', 'due_date', 'repay_date'])\n"
   ]
  },
  {
   "cell_type": "code",
   "execution_count": 3,
   "metadata": {},
   "outputs": [
    {
     "data": {
      "text/html": [
       "<div>\n",
       "<style scoped>\n",
       "    .dataframe tbody tr th:only-of-type {\n",
       "        vertical-align: middle;\n",
       "    }\n",
       "\n",
       "    .dataframe tbody tr th {\n",
       "        vertical-align: top;\n",
       "    }\n",
       "\n",
       "    .dataframe thead th {\n",
       "        text-align: right;\n",
       "    }\n",
       "</style>\n",
       "<table border=\"1\" class=\"dataframe\">\n",
       "  <thead>\n",
       "    <tr style=\"text-align: right;\">\n",
       "      <th></th>\n",
       "      <th>user_id</th>\n",
       "      <th>listing_id</th>\n",
       "      <th>auditing_date</th>\n",
       "      <th>due_date</th>\n",
       "      <th>due_amt</th>\n",
       "      <th>repay_date</th>\n",
       "      <th>repay_amt</th>\n",
       "    </tr>\n",
       "  </thead>\n",
       "  <tbody>\n",
       "    <tr>\n",
       "      <th>0</th>\n",
       "      <td>748147</td>\n",
       "      <td>3163926</td>\n",
       "      <td>2018-04-25</td>\n",
       "      <td>2018-05-25</td>\n",
       "      <td>72.1167</td>\n",
       "      <td>2018-05-25</td>\n",
       "      <td>72.1167</td>\n",
       "    </tr>\n",
       "    <tr>\n",
       "      <th>1</th>\n",
       "      <td>672952</td>\n",
       "      <td>3698760</td>\n",
       "      <td>2018-06-09</td>\n",
       "      <td>2018-07-09</td>\n",
       "      <td>258.7045</td>\n",
       "      <td>2018-07-08</td>\n",
       "      <td>258.7045</td>\n",
       "    </tr>\n",
       "    <tr>\n",
       "      <th>2</th>\n",
       "      <td>404196</td>\n",
       "      <td>2355665</td>\n",
       "      <td>2018-02-18</td>\n",
       "      <td>2018-03-18</td>\n",
       "      <td>307.9270</td>\n",
       "      <td>\\N</td>\n",
       "      <td>\\N</td>\n",
       "    </tr>\n",
       "    <tr>\n",
       "      <th>3</th>\n",
       "      <td>342769</td>\n",
       "      <td>1994522</td>\n",
       "      <td>2018-01-13</td>\n",
       "      <td>2018-02-13</td>\n",
       "      <td>252.9809</td>\n",
       "      <td>2018-02-13</td>\n",
       "      <td>252.9809</td>\n",
       "    </tr>\n",
       "    <tr>\n",
       "      <th>4</th>\n",
       "      <td>828139</td>\n",
       "      <td>3602352</td>\n",
       "      <td>2018-06-01</td>\n",
       "      <td>2018-07-01</td>\n",
       "      <td>107.6503</td>\n",
       "      <td>2018-06-25</td>\n",
       "      <td>107.6503</td>\n",
       "    </tr>\n",
       "  </tbody>\n",
       "</table>\n",
       "</div>"
      ],
      "text/plain": [
       "   user_id  listing_id auditing_date   due_date   due_amt  repay_date  \\\n",
       "0   748147     3163926    2018-04-25 2018-05-25   72.1167  2018-05-25   \n",
       "1   672952     3698760    2018-06-09 2018-07-09  258.7045  2018-07-08   \n",
       "2   404196     2355665    2018-02-18 2018-03-18  307.9270          \\N   \n",
       "3   342769     1994522    2018-01-13 2018-02-13  252.9809  2018-02-13   \n",
       "4   828139     3602352    2018-06-01 2018-07-01  107.6503  2018-06-25   \n",
       "\n",
       "  repay_amt  \n",
       "0   72.1167  \n",
       "1  258.7045  \n",
       "2        \\N  \n",
       "3  252.9809  \n",
       "4  107.6503  "
      ]
     },
     "execution_count": 3,
     "metadata": {},
     "output_type": "execute_result"
    }
   ],
   "source": [
    "train_df.head()"
   ]
  },
  {
   "cell_type": "code",
   "execution_count": 4,
   "metadata": {},
   "outputs": [],
   "source": [
    "def plus_1_day(s):\n",
    "    return s + datetime.timedelta(days=1)"
   ]
  },
  {
   "cell_type": "code",
   "execution_count": 5,
   "metadata": {},
   "outputs": [],
   "source": [
    "# 如果违约,还款日期为due_date的后一天\n",
    "train_df['repay_date'] = train_df[['due_date', 'repay_date']].apply(\n",
    "    lambda x: x['repay_date'] if x['repay_date'] != '\\\\N' else plus_1_day(x['due_date']), axis=1\n",
    ")"
   ]
  },
  {
   "cell_type": "code",
   "execution_count": 6,
   "metadata": {},
   "outputs": [
    {
     "data": {
      "text/html": [
       "<div>\n",
       "<style scoped>\n",
       "    .dataframe tbody tr th:only-of-type {\n",
       "        vertical-align: middle;\n",
       "    }\n",
       "\n",
       "    .dataframe tbody tr th {\n",
       "        vertical-align: top;\n",
       "    }\n",
       "\n",
       "    .dataframe thead th {\n",
       "        text-align: right;\n",
       "    }\n",
       "</style>\n",
       "<table border=\"1\" class=\"dataframe\">\n",
       "  <thead>\n",
       "    <tr style=\"text-align: right;\">\n",
       "      <th></th>\n",
       "      <th>user_id</th>\n",
       "      <th>listing_id</th>\n",
       "      <th>auditing_date</th>\n",
       "      <th>due_date</th>\n",
       "      <th>due_amt</th>\n",
       "      <th>repay_date</th>\n",
       "      <th>repay_amt</th>\n",
       "    </tr>\n",
       "  </thead>\n",
       "  <tbody>\n",
       "    <tr>\n",
       "      <th>0</th>\n",
       "      <td>748147</td>\n",
       "      <td>3163926</td>\n",
       "      <td>2018-04-25</td>\n",
       "      <td>2018-05-25</td>\n",
       "      <td>72.1167</td>\n",
       "      <td>2018-05-25</td>\n",
       "      <td>72.1167</td>\n",
       "    </tr>\n",
       "    <tr>\n",
       "      <th>1</th>\n",
       "      <td>672952</td>\n",
       "      <td>3698760</td>\n",
       "      <td>2018-06-09</td>\n",
       "      <td>2018-07-09</td>\n",
       "      <td>258.7045</td>\n",
       "      <td>2018-07-08</td>\n",
       "      <td>258.7045</td>\n",
       "    </tr>\n",
       "    <tr>\n",
       "      <th>2</th>\n",
       "      <td>404196</td>\n",
       "      <td>2355665</td>\n",
       "      <td>2018-02-18</td>\n",
       "      <td>2018-03-18</td>\n",
       "      <td>307.9270</td>\n",
       "      <td>2018-03-19</td>\n",
       "      <td>\\N</td>\n",
       "    </tr>\n",
       "    <tr>\n",
       "      <th>3</th>\n",
       "      <td>342769</td>\n",
       "      <td>1994522</td>\n",
       "      <td>2018-01-13</td>\n",
       "      <td>2018-02-13</td>\n",
       "      <td>252.9809</td>\n",
       "      <td>2018-02-13</td>\n",
       "      <td>252.9809</td>\n",
       "    </tr>\n",
       "    <tr>\n",
       "      <th>4</th>\n",
       "      <td>828139</td>\n",
       "      <td>3602352</td>\n",
       "      <td>2018-06-01</td>\n",
       "      <td>2018-07-01</td>\n",
       "      <td>107.6503</td>\n",
       "      <td>2018-06-25</td>\n",
       "      <td>107.6503</td>\n",
       "    </tr>\n",
       "  </tbody>\n",
       "</table>\n",
       "</div>"
      ],
      "text/plain": [
       "   user_id  listing_id auditing_date   due_date   due_amt repay_date repay_amt\n",
       "0   748147     3163926    2018-04-25 2018-05-25   72.1167 2018-05-25   72.1167\n",
       "1   672952     3698760    2018-06-09 2018-07-09  258.7045 2018-07-08  258.7045\n",
       "2   404196     2355665    2018-02-18 2018-03-18  307.9270 2018-03-19        \\N\n",
       "3   342769     1994522    2018-01-13 2018-02-13  252.9809 2018-02-13  252.9809\n",
       "4   828139     3602352    2018-06-01 2018-07-01  107.6503 2018-06-25  107.6503"
      ]
     },
     "execution_count": 6,
     "metadata": {},
     "output_type": "execute_result"
    }
   ],
   "source": [
    "train_df.head()"
   ]
  },
  {
   "cell_type": "code",
   "execution_count": 7,
   "metadata": {},
   "outputs": [],
   "source": [
    "# 如果违约,还款金额为0\n",
    "train_df['repay_amt'] = train_df['repay_amt'].apply(lambda x: x if x != '\\\\N' else 0).astype('float32')"
   ]
  },
  {
   "cell_type": "code",
   "execution_count": 8,
   "metadata": {},
   "outputs": [
    {
     "data": {
      "text/html": [
       "<div>\n",
       "<style scoped>\n",
       "    .dataframe tbody tr th:only-of-type {\n",
       "        vertical-align: middle;\n",
       "    }\n",
       "\n",
       "    .dataframe tbody tr th {\n",
       "        vertical-align: top;\n",
       "    }\n",
       "\n",
       "    .dataframe thead th {\n",
       "        text-align: right;\n",
       "    }\n",
       "</style>\n",
       "<table border=\"1\" class=\"dataframe\">\n",
       "  <thead>\n",
       "    <tr style=\"text-align: right;\">\n",
       "      <th></th>\n",
       "      <th>user_id</th>\n",
       "      <th>listing_id</th>\n",
       "      <th>auditing_date</th>\n",
       "      <th>due_date</th>\n",
       "      <th>due_amt</th>\n",
       "      <th>repay_date</th>\n",
       "      <th>repay_amt</th>\n",
       "    </tr>\n",
       "  </thead>\n",
       "  <tbody>\n",
       "    <tr>\n",
       "      <th>0</th>\n",
       "      <td>748147</td>\n",
       "      <td>3163926</td>\n",
       "      <td>2018-04-25</td>\n",
       "      <td>2018-05-25</td>\n",
       "      <td>72.1167</td>\n",
       "      <td>2018-05-25</td>\n",
       "      <td>72.116699</td>\n",
       "    </tr>\n",
       "    <tr>\n",
       "      <th>1</th>\n",
       "      <td>672952</td>\n",
       "      <td>3698760</td>\n",
       "      <td>2018-06-09</td>\n",
       "      <td>2018-07-09</td>\n",
       "      <td>258.7045</td>\n",
       "      <td>2018-07-08</td>\n",
       "      <td>258.704498</td>\n",
       "    </tr>\n",
       "    <tr>\n",
       "      <th>2</th>\n",
       "      <td>404196</td>\n",
       "      <td>2355665</td>\n",
       "      <td>2018-02-18</td>\n",
       "      <td>2018-03-18</td>\n",
       "      <td>307.9270</td>\n",
       "      <td>2018-03-19</td>\n",
       "      <td>0.000000</td>\n",
       "    </tr>\n",
       "    <tr>\n",
       "      <th>3</th>\n",
       "      <td>342769</td>\n",
       "      <td>1994522</td>\n",
       "      <td>2018-01-13</td>\n",
       "      <td>2018-02-13</td>\n",
       "      <td>252.9809</td>\n",
       "      <td>2018-02-13</td>\n",
       "      <td>252.980896</td>\n",
       "    </tr>\n",
       "    <tr>\n",
       "      <th>4</th>\n",
       "      <td>828139</td>\n",
       "      <td>3602352</td>\n",
       "      <td>2018-06-01</td>\n",
       "      <td>2018-07-01</td>\n",
       "      <td>107.6503</td>\n",
       "      <td>2018-06-25</td>\n",
       "      <td>107.650299</td>\n",
       "    </tr>\n",
       "  </tbody>\n",
       "</table>\n",
       "</div>"
      ],
      "text/plain": [
       "   user_id  listing_id auditing_date   due_date   due_amt repay_date  \\\n",
       "0   748147     3163926    2018-04-25 2018-05-25   72.1167 2018-05-25   \n",
       "1   672952     3698760    2018-06-09 2018-07-09  258.7045 2018-07-08   \n",
       "2   404196     2355665    2018-02-18 2018-03-18  307.9270 2018-03-19   \n",
       "3   342769     1994522    2018-01-13 2018-02-13  252.9809 2018-02-13   \n",
       "4   828139     3602352    2018-06-01 2018-07-01  107.6503 2018-06-25   \n",
       "\n",
       "    repay_amt  \n",
       "0   72.116699  \n",
       "1  258.704498  \n",
       "2    0.000000  \n",
       "3  252.980896  \n",
       "4  107.650299  "
      ]
     },
     "execution_count": 8,
     "metadata": {},
     "output_type": "execute_result"
    }
   ],
   "source": [
    "train_df.head()"
   ]
  },
  {
   "cell_type": "code",
   "execution_count": 9,
   "metadata": {},
   "outputs": [],
   "source": [
    "# 错误做法,用还款日-成立日\n",
    "# train_df['label'] = (train_df['repay_date'] - train_df['auditing_date']).dt.days\n",
    "# train_df['label'].value_counts(sort=False)"
   ]
  },
  {
   "cell_type": "code",
   "execution_count": 10,
   "metadata": {},
   "outputs": [],
   "source": [
    "# 设定label\n",
    "train_df['label'] = (train_df['due_date'] - train_df['repay_date']).dt.days"
   ]
  },
  {
   "cell_type": "code",
   "execution_count": 11,
   "metadata": {},
   "outputs": [
    {
     "data": {
      "text/html": [
       "<div>\n",
       "<style scoped>\n",
       "    .dataframe tbody tr th:only-of-type {\n",
       "        vertical-align: middle;\n",
       "    }\n",
       "\n",
       "    .dataframe tbody tr th {\n",
       "        vertical-align: top;\n",
       "    }\n",
       "\n",
       "    .dataframe thead th {\n",
       "        text-align: right;\n",
       "    }\n",
       "</style>\n",
       "<table border=\"1\" class=\"dataframe\">\n",
       "  <thead>\n",
       "    <tr style=\"text-align: right;\">\n",
       "      <th></th>\n",
       "      <th>user_id</th>\n",
       "      <th>listing_id</th>\n",
       "      <th>auditing_date</th>\n",
       "      <th>due_date</th>\n",
       "      <th>due_amt</th>\n",
       "      <th>repay_date</th>\n",
       "      <th>repay_amt</th>\n",
       "      <th>label</th>\n",
       "    </tr>\n",
       "  </thead>\n",
       "  <tbody>\n",
       "    <tr>\n",
       "      <th>0</th>\n",
       "      <td>748147</td>\n",
       "      <td>3163926</td>\n",
       "      <td>2018-04-25</td>\n",
       "      <td>2018-05-25</td>\n",
       "      <td>72.1167</td>\n",
       "      <td>2018-05-25</td>\n",
       "      <td>72.116699</td>\n",
       "      <td>0</td>\n",
       "    </tr>\n",
       "    <tr>\n",
       "      <th>1</th>\n",
       "      <td>672952</td>\n",
       "      <td>3698760</td>\n",
       "      <td>2018-06-09</td>\n",
       "      <td>2018-07-09</td>\n",
       "      <td>258.7045</td>\n",
       "      <td>2018-07-08</td>\n",
       "      <td>258.704498</td>\n",
       "      <td>1</td>\n",
       "    </tr>\n",
       "    <tr>\n",
       "      <th>2</th>\n",
       "      <td>404196</td>\n",
       "      <td>2355665</td>\n",
       "      <td>2018-02-18</td>\n",
       "      <td>2018-03-18</td>\n",
       "      <td>307.9270</td>\n",
       "      <td>2018-03-19</td>\n",
       "      <td>0.000000</td>\n",
       "      <td>-1</td>\n",
       "    </tr>\n",
       "    <tr>\n",
       "      <th>3</th>\n",
       "      <td>342769</td>\n",
       "      <td>1994522</td>\n",
       "      <td>2018-01-13</td>\n",
       "      <td>2018-02-13</td>\n",
       "      <td>252.9809</td>\n",
       "      <td>2018-02-13</td>\n",
       "      <td>252.980896</td>\n",
       "      <td>0</td>\n",
       "    </tr>\n",
       "    <tr>\n",
       "      <th>4</th>\n",
       "      <td>828139</td>\n",
       "      <td>3602352</td>\n",
       "      <td>2018-06-01</td>\n",
       "      <td>2018-07-01</td>\n",
       "      <td>107.6503</td>\n",
       "      <td>2018-06-25</td>\n",
       "      <td>107.650299</td>\n",
       "      <td>6</td>\n",
       "    </tr>\n",
       "  </tbody>\n",
       "</table>\n",
       "</div>"
      ],
      "text/plain": [
       "   user_id  listing_id auditing_date   due_date   due_amt repay_date  \\\n",
       "0   748147     3163926    2018-04-25 2018-05-25   72.1167 2018-05-25   \n",
       "1   672952     3698760    2018-06-09 2018-07-09  258.7045 2018-07-08   \n",
       "2   404196     2355665    2018-02-18 2018-03-18  307.9270 2018-03-19   \n",
       "3   342769     1994522    2018-01-13 2018-02-13  252.9809 2018-02-13   \n",
       "4   828139     3602352    2018-06-01 2018-07-01  107.6503 2018-06-25   \n",
       "\n",
       "    repay_amt  label  \n",
       "0   72.116699      0  \n",
       "1  258.704498      1  \n",
       "2    0.000000     -1  \n",
       "3  252.980896      0  \n",
       "4  107.650299      6  "
      ]
     },
     "execution_count": 11,
     "metadata": {},
     "output_type": "execute_result"
    }
   ],
   "source": [
    "train_df.head()"
   ]
  },
  {
   "cell_type": "code",
   "execution_count": 12,
   "metadata": {},
   "outputs": [
    {
     "data": {
      "text/plain": [
       " 0     408187\n",
       " 1     121085\n",
       " 2      59430\n",
       " 3      56404\n",
       " 4      26425\n",
       " 5      21380\n",
       " 6      17568\n",
       " 7      14797\n",
       " 8      12993\n",
       " 9      11393\n",
       " 10      9984\n",
       " 11      9002\n",
       " 12      8219\n",
       " 13      7688\n",
       " 14      6920\n",
       " 15      6443\n",
       " 16      6231\n",
       " 17      5832\n",
       " 18      5492\n",
       " 19      5108\n",
       " 20      4788\n",
       " 21      4504\n",
       " 22      4295\n",
       " 23      4197\n",
       " 24      3922\n",
       " 25      3934\n",
       " 26      3930\n",
       " 27      4102\n",
       " 28      4677\n",
       " 29      5645\n",
       " 30      9865\n",
       " 31      8368\n",
       "-1     117192\n",
       "Name: label, dtype: int64"
      ]
     },
     "execution_count": 12,
     "metadata": {},
     "output_type": "execute_result"
    }
   ],
   "source": [
    "train_df['label'].value_counts(sort=False)"
   ]
  },
  {
   "cell_type": "code",
   "execution_count": 13,
   "metadata": {},
   "outputs": [
    {
     "data": {
      "text/plain": [
       "33"
      ]
     },
     "execution_count": 13,
     "metadata": {},
     "output_type": "execute_result"
    }
   ],
   "source": [
    "train_df['label'].nunique()"
   ]
  },
  {
   "cell_type": "code",
   "execution_count": 14,
   "metadata": {},
   "outputs": [],
   "source": [
    "# train_df.loc[train_df['repay_amt'] == -1, 'label'] = 32 错误写法\n",
    "train_df['label'].replace(-1, 32, inplace=True)"
   ]
  },
  {
   "cell_type": "code",
   "execution_count": 15,
   "metadata": {},
   "outputs": [
    {
     "data": {
      "text/plain": [
       "0     408187\n",
       "1     121085\n",
       "2      59430\n",
       "3      56404\n",
       "4      26425\n",
       "5      21380\n",
       "6      17568\n",
       "7      14797\n",
       "8      12993\n",
       "9      11393\n",
       "10      9984\n",
       "11      9002\n",
       "12      8219\n",
       "13      7688\n",
       "14      6920\n",
       "15      6443\n",
       "16      6231\n",
       "17      5832\n",
       "18      5492\n",
       "19      5108\n",
       "20      4788\n",
       "21      4504\n",
       "22      4295\n",
       "23      4197\n",
       "24      3922\n",
       "25      3934\n",
       "26      3930\n",
       "27      4102\n",
       "28      4677\n",
       "29      5645\n",
       "30      9865\n",
       "31      8368\n",
       "32    117192\n",
       "Name: label, dtype: int64"
      ]
     },
     "execution_count": 15,
     "metadata": {},
     "output_type": "execute_result"
    }
   ],
   "source": [
    "train_df['label'].value_counts(sort=False)"
   ]
  },
  {
   "cell_type": "code",
   "execution_count": 16,
   "metadata": {},
   "outputs": [],
   "source": [
    "clf_labels = train_df['label'].values"
   ]
  },
  {
   "cell_type": "code",
   "execution_count": 17,
   "metadata": {},
   "outputs": [
    {
     "data": {
      "text/plain": [
       "(1000000,)"
      ]
     },
     "execution_count": 17,
     "metadata": {},
     "output_type": "execute_result"
    }
   ],
   "source": [
    "clf_labels.shape"
   ]
  },
  {
   "cell_type": "code",
   "execution_count": 18,
   "metadata": {},
   "outputs": [],
   "source": [
    "amt_labels = train_df['repay_amt'].values"
   ]
  },
  {
   "cell_type": "code",
   "execution_count": 19,
   "metadata": {},
   "outputs": [],
   "source": [
    "del train_df['label'], train_df['repay_amt'], train_df['repay_date']\n"
   ]
  },
  {
   "cell_type": "code",
   "execution_count": 20,
   "metadata": {},
   "outputs": [
    {
     "data": {
      "text/plain": [
       "array([ 72.1167, 258.7045,   0.    , ..., 258.7045, 140.7993, 180.9695],\n",
       "      dtype=float32)"
      ]
     },
     "execution_count": 20,
     "metadata": {},
     "output_type": "execute_result"
    }
   ],
   "source": [
    "amt_labels"
   ]
  },
  {
   "cell_type": "code",
   "execution_count": 21,
   "metadata": {},
   "outputs": [
    {
     "data": {
      "text/plain": [
       "0           72.1167\n",
       "1          258.7045\n",
       "2          307.9270\n",
       "3          252.9809\n",
       "4          107.6503\n",
       "5          201.0499\n",
       "6         3730.9948\n",
       "7         1040.5302\n",
       "8          133.9311\n",
       "9          394.3774\n",
       "10         145.1170\n",
       "11         199.9221\n",
       "12         292.3439\n",
       "13         104.1686\n",
       "14         259.7528\n",
       "15         634.1695\n",
       "16        1131.5995\n",
       "17         195.7454\n",
       "18        1027.7126\n",
       "19         195.7454\n",
       "20         320.5188\n",
       "21         109.0835\n",
       "22         131.6416\n",
       "23         225.1639\n",
       "24         133.9311\n",
       "25         483.4584\n",
       "26        1389.7108\n",
       "27         486.1024\n",
       "28         209.1453\n",
       "29         190.6062\n",
       "            ...    \n",
       "999970     323.8476\n",
       "999971     394.6893\n",
       "999972     460.9070\n",
       "999973     728.3711\n",
       "999974      84.7085\n",
       "999975    1062.6251\n",
       "999976      97.3003\n",
       "999977     102.1022\n",
       "999978      90.4321\n",
       "999979     510.0640\n",
       "999980    2069.3485\n",
       "999981     112.5742\n",
       "999982     291.9417\n",
       "999983     107.5574\n",
       "999984     533.2005\n",
       "999985     556.0866\n",
       "999986     168.4249\n",
       "999987     250.6915\n",
       "999988     509.3960\n",
       "999989     202.6137\n",
       "999990     296.8603\n",
       "999991     945.8228\n",
       "999992     107.6027\n",
       "999993     473.8610\n",
       "999994     613.5647\n",
       "999995     286.5978\n",
       "999996      89.2874\n",
       "999997     258.7045\n",
       "999998     140.7993\n",
       "999999     180.9695\n",
       "Name: due_amt, Length: 1000000, dtype: float64"
      ]
     },
     "execution_count": 21,
     "metadata": {},
     "output_type": "execute_result"
    }
   ],
   "source": [
    "train_df['due_amt']"
   ]
  },
  {
   "cell_type": "code",
   "execution_count": 22,
   "metadata": {},
   "outputs": [],
   "source": [
    "train_due_amt_df = train_df[['due_amt']]"
   ]
  },
  {
   "cell_type": "code",
   "execution_count": 23,
   "metadata": {},
   "outputs": [],
   "source": [
    "train_num = train_df.shape[0]\n"
   ]
  },
  {
   "cell_type": "code",
   "execution_count": 24,
   "metadata": {},
   "outputs": [],
   "source": [
    "test_df = pd.read_csv('dataset/test.csv', parse_dates=['auditing_date', 'due_date'])"
   ]
  },
  {
   "cell_type": "code",
   "execution_count": 25,
   "metadata": {},
   "outputs": [
    {
     "data": {
      "text/html": [
       "<div>\n",
       "<style scoped>\n",
       "    .dataframe tbody tr th:only-of-type {\n",
       "        vertical-align: middle;\n",
       "    }\n",
       "\n",
       "    .dataframe tbody tr th {\n",
       "        vertical-align: top;\n",
       "    }\n",
       "\n",
       "    .dataframe thead th {\n",
       "        text-align: right;\n",
       "    }\n",
       "</style>\n",
       "<table border=\"1\" class=\"dataframe\">\n",
       "  <thead>\n",
       "    <tr style=\"text-align: right;\">\n",
       "      <th></th>\n",
       "      <th>user_id</th>\n",
       "      <th>listing_id</th>\n",
       "      <th>auditing_date</th>\n",
       "      <th>due_date</th>\n",
       "      <th>due_amt</th>\n",
       "    </tr>\n",
       "  </thead>\n",
       "  <tbody>\n",
       "    <tr>\n",
       "      <th>0</th>\n",
       "      <td>498765</td>\n",
       "      <td>5431438</td>\n",
       "      <td>2019-03-12</td>\n",
       "      <td>2019-04-12</td>\n",
       "      <td>138.5903</td>\n",
       "    </tr>\n",
       "    <tr>\n",
       "      <th>1</th>\n",
       "      <td>34524</td>\n",
       "      <td>5443211</td>\n",
       "      <td>2019-03-15</td>\n",
       "      <td>2019-04-15</td>\n",
       "      <td>208.0805</td>\n",
       "    </tr>\n",
       "    <tr>\n",
       "      <th>2</th>\n",
       "      <td>821741</td>\n",
       "      <td>5461707</td>\n",
       "      <td>2019-03-22</td>\n",
       "      <td>2019-04-22</td>\n",
       "      <td>421.2097</td>\n",
       "    </tr>\n",
       "    <tr>\n",
       "      <th>3</th>\n",
       "      <td>263534</td>\n",
       "      <td>5472320</td>\n",
       "      <td>2019-03-26</td>\n",
       "      <td>2019-04-26</td>\n",
       "      <td>212.6537</td>\n",
       "    </tr>\n",
       "    <tr>\n",
       "      <th>4</th>\n",
       "      <td>238853</td>\n",
       "      <td>5459750</td>\n",
       "      <td>2019-03-21</td>\n",
       "      <td>2019-04-21</td>\n",
       "      <td>817.4593</td>\n",
       "    </tr>\n",
       "  </tbody>\n",
       "</table>\n",
       "</div>"
      ],
      "text/plain": [
       "   user_id  listing_id auditing_date   due_date   due_amt\n",
       "0   498765     5431438    2019-03-12 2019-04-12  138.5903\n",
       "1    34524     5443211    2019-03-15 2019-04-15  208.0805\n",
       "2   821741     5461707    2019-03-22 2019-04-22  421.2097\n",
       "3   263534     5472320    2019-03-26 2019-04-26  212.6537\n",
       "4   238853     5459750    2019-03-21 2019-04-21  817.4593"
      ]
     },
     "execution_count": 25,
     "metadata": {},
     "output_type": "execute_result"
    }
   ],
   "source": [
    "test_df.head()"
   ]
  },
  {
   "cell_type": "code",
   "execution_count": 106,
   "metadata": {},
   "outputs": [],
   "source": [
    "sub = test_df[['listing_id', 'auditing_date', 'due_amt', 'due_date']]\n"
   ]
  },
  {
   "cell_type": "code",
   "execution_count": 107,
   "metadata": {},
   "outputs": [
    {
     "data": {
      "text/html": [
       "<div>\n",
       "<style scoped>\n",
       "    .dataframe tbody tr th:only-of-type {\n",
       "        vertical-align: middle;\n",
       "    }\n",
       "\n",
       "    .dataframe tbody tr th {\n",
       "        vertical-align: top;\n",
       "    }\n",
       "\n",
       "    .dataframe thead th {\n",
       "        text-align: right;\n",
       "    }\n",
       "</style>\n",
       "<table border=\"1\" class=\"dataframe\">\n",
       "  <thead>\n",
       "    <tr style=\"text-align: right;\">\n",
       "      <th></th>\n",
       "      <th>listing_id</th>\n",
       "      <th>auditing_date</th>\n",
       "      <th>due_amt</th>\n",
       "      <th>due_date</th>\n",
       "    </tr>\n",
       "  </thead>\n",
       "  <tbody>\n",
       "    <tr>\n",
       "      <th>0</th>\n",
       "      <td>5431438</td>\n",
       "      <td>2019-03-12</td>\n",
       "      <td>138.5903</td>\n",
       "      <td>2019-04-12</td>\n",
       "    </tr>\n",
       "    <tr>\n",
       "      <th>1</th>\n",
       "      <td>5443211</td>\n",
       "      <td>2019-03-15</td>\n",
       "      <td>208.0805</td>\n",
       "      <td>2019-04-15</td>\n",
       "    </tr>\n",
       "    <tr>\n",
       "      <th>2</th>\n",
       "      <td>5461707</td>\n",
       "      <td>2019-03-22</td>\n",
       "      <td>421.2097</td>\n",
       "      <td>2019-04-22</td>\n",
       "    </tr>\n",
       "    <tr>\n",
       "      <th>3</th>\n",
       "      <td>5472320</td>\n",
       "      <td>2019-03-26</td>\n",
       "      <td>212.6537</td>\n",
       "      <td>2019-04-26</td>\n",
       "    </tr>\n",
       "    <tr>\n",
       "      <th>4</th>\n",
       "      <td>5459750</td>\n",
       "      <td>2019-03-21</td>\n",
       "      <td>817.4593</td>\n",
       "      <td>2019-04-21</td>\n",
       "    </tr>\n",
       "  </tbody>\n",
       "</table>\n",
       "</div>"
      ],
      "text/plain": [
       "   listing_id auditing_date   due_amt   due_date\n",
       "0     5431438    2019-03-12  138.5903 2019-04-12\n",
       "1     5443211    2019-03-15  208.0805 2019-04-15\n",
       "2     5461707    2019-03-22  421.2097 2019-04-22\n",
       "3     5472320    2019-03-26  212.6537 2019-04-26\n",
       "4     5459750    2019-03-21  817.4593 2019-04-21"
      ]
     },
     "execution_count": 107,
     "metadata": {},
     "output_type": "execute_result"
    }
   ],
   "source": [
    "sub.head()"
   ]
  },
  {
   "cell_type": "code",
   "execution_count": 28,
   "metadata": {},
   "outputs": [],
   "source": [
    "df = pd.concat([train_df, test_df], axis=0, ignore_index=True)\n"
   ]
  },
  {
   "cell_type": "code",
   "execution_count": 29,
   "metadata": {},
   "outputs": [
    {
     "data": {
      "text/plain": [
       "(130000, 5)"
      ]
     },
     "execution_count": 29,
     "metadata": {},
     "output_type": "execute_result"
    }
   ],
   "source": [
    "test_df.shape"
   ]
  },
  {
   "cell_type": "code",
   "execution_count": 30,
   "metadata": {},
   "outputs": [
    {
     "data": {
      "text/plain": [
       "(1130000, 5)"
      ]
     },
     "execution_count": 30,
     "metadata": {},
     "output_type": "execute_result"
    }
   ],
   "source": [
    "df.shape"
   ]
  },
  {
   "cell_type": "code",
   "execution_count": 31,
   "metadata": {},
   "outputs": [
    {
     "data": {
      "text/html": [
       "<div>\n",
       "<style scoped>\n",
       "    .dataframe tbody tr th:only-of-type {\n",
       "        vertical-align: middle;\n",
       "    }\n",
       "\n",
       "    .dataframe tbody tr th {\n",
       "        vertical-align: top;\n",
       "    }\n",
       "\n",
       "    .dataframe thead th {\n",
       "        text-align: right;\n",
       "    }\n",
       "</style>\n",
       "<table border=\"1\" class=\"dataframe\">\n",
       "  <thead>\n",
       "    <tr style=\"text-align: right;\">\n",
       "      <th></th>\n",
       "      <th>user_id</th>\n",
       "      <th>listing_id</th>\n",
       "      <th>auditing_date</th>\n",
       "      <th>due_date</th>\n",
       "      <th>due_amt</th>\n",
       "    </tr>\n",
       "  </thead>\n",
       "  <tbody>\n",
       "    <tr>\n",
       "      <th>1129995</th>\n",
       "      <td>580040</td>\n",
       "      <td>5287412</td>\n",
       "      <td>2019-02-01</td>\n",
       "      <td>2019-03-01</td>\n",
       "      <td>1227.8448</td>\n",
       "    </tr>\n",
       "    <tr>\n",
       "      <th>1129996</th>\n",
       "      <td>495129</td>\n",
       "      <td>5461576</td>\n",
       "      <td>2019-03-22</td>\n",
       "      <td>2019-04-22</td>\n",
       "      <td>174.9248</td>\n",
       "    </tr>\n",
       "    <tr>\n",
       "      <th>1129997</th>\n",
       "      <td>233442</td>\n",
       "      <td>5319333</td>\n",
       "      <td>2019-02-10</td>\n",
       "      <td>2019-03-10</td>\n",
       "      <td>168.3364</td>\n",
       "    </tr>\n",
       "    <tr>\n",
       "      <th>1129998</th>\n",
       "      <td>20165</td>\n",
       "      <td>5336095</td>\n",
       "      <td>2019-02-15</td>\n",
       "      <td>2019-03-15</td>\n",
       "      <td>350.2759</td>\n",
       "    </tr>\n",
       "    <tr>\n",
       "      <th>1129999</th>\n",
       "      <td>265473</td>\n",
       "      <td>5460170</td>\n",
       "      <td>2019-03-21</td>\n",
       "      <td>2019-04-21</td>\n",
       "      <td>293.8277</td>\n",
       "    </tr>\n",
       "  </tbody>\n",
       "</table>\n",
       "</div>"
      ],
      "text/plain": [
       "         user_id  listing_id auditing_date   due_date    due_amt\n",
       "1129995   580040     5287412    2019-02-01 2019-03-01  1227.8448\n",
       "1129996   495129     5461576    2019-03-22 2019-04-22   174.9248\n",
       "1129997   233442     5319333    2019-02-10 2019-03-10   168.3364\n",
       "1129998    20165     5336095    2019-02-15 2019-03-15   350.2759\n",
       "1129999   265473     5460170    2019-03-21 2019-04-21   293.8277"
      ]
     },
     "execution_count": 31,
     "metadata": {},
     "output_type": "execute_result"
    }
   ],
   "source": [
    "df.tail()"
   ]
  },
  {
   "cell_type": "code",
   "execution_count": 32,
   "metadata": {},
   "outputs": [],
   "source": [
    "listing_info_df = pd.read_csv('dataset/listing_info.csv')\n"
   ]
  },
  {
   "cell_type": "code",
   "execution_count": 33,
   "metadata": {},
   "outputs": [
    {
     "data": {
      "text/html": [
       "<div>\n",
       "<style scoped>\n",
       "    .dataframe tbody tr th:only-of-type {\n",
       "        vertical-align: middle;\n",
       "    }\n",
       "\n",
       "    .dataframe tbody tr th {\n",
       "        vertical-align: top;\n",
       "    }\n",
       "\n",
       "    .dataframe thead th {\n",
       "        text-align: right;\n",
       "    }\n",
       "</style>\n",
       "<table border=\"1\" class=\"dataframe\">\n",
       "  <thead>\n",
       "    <tr style=\"text-align: right;\">\n",
       "      <th></th>\n",
       "      <th>user_id</th>\n",
       "      <th>listing_id</th>\n",
       "      <th>auditing_date</th>\n",
       "      <th>term</th>\n",
       "      <th>rate</th>\n",
       "      <th>principal</th>\n",
       "    </tr>\n",
       "  </thead>\n",
       "  <tbody>\n",
       "    <tr>\n",
       "      <th>0</th>\n",
       "      <td>316610</td>\n",
       "      <td>1556649</td>\n",
       "      <td>2017-11-26</td>\n",
       "      <td>9</td>\n",
       "      <td>7.6</td>\n",
       "      <td>4800</td>\n",
       "    </tr>\n",
       "    <tr>\n",
       "      <th>1</th>\n",
       "      <td>62002</td>\n",
       "      <td>1556633</td>\n",
       "      <td>2017-11-26</td>\n",
       "      <td>6</td>\n",
       "      <td>7.6</td>\n",
       "      <td>4000</td>\n",
       "    </tr>\n",
       "    <tr>\n",
       "      <th>2</th>\n",
       "      <td>192135</td>\n",
       "      <td>1556629</td>\n",
       "      <td>2017-11-26</td>\n",
       "      <td>12</td>\n",
       "      <td>8.0</td>\n",
       "      <td>8660</td>\n",
       "    </tr>\n",
       "    <tr>\n",
       "      <th>3</th>\n",
       "      <td>487382</td>\n",
       "      <td>1556628</td>\n",
       "      <td>2017-11-26</td>\n",
       "      <td>9</td>\n",
       "      <td>7.6</td>\n",
       "      <td>4780</td>\n",
       "    </tr>\n",
       "    <tr>\n",
       "      <th>4</th>\n",
       "      <td>235186</td>\n",
       "      <td>1556627</td>\n",
       "      <td>2017-11-26</td>\n",
       "      <td>9</td>\n",
       "      <td>7.6</td>\n",
       "      <td>1480</td>\n",
       "    </tr>\n",
       "  </tbody>\n",
       "</table>\n",
       "</div>"
      ],
      "text/plain": [
       "   user_id  listing_id auditing_date  term  rate  principal\n",
       "0   316610     1556649    2017-11-26     9   7.6       4800\n",
       "1    62002     1556633    2017-11-26     6   7.6       4000\n",
       "2   192135     1556629    2017-11-26    12   8.0       8660\n",
       "3   487382     1556628    2017-11-26     9   7.6       4780\n",
       "4   235186     1556627    2017-11-26     9   7.6       1480"
      ]
     },
     "execution_count": 33,
     "metadata": {},
     "output_type": "execute_result"
    }
   ],
   "source": [
    "listing_info_df.head()"
   ]
  },
  {
   "cell_type": "code",
   "execution_count": 34,
   "metadata": {},
   "outputs": [],
   "source": [
    "del listing_info_df['user_id'], listing_info_df['auditing_date']\n"
   ]
  },
  {
   "cell_type": "code",
   "execution_count": 35,
   "metadata": {},
   "outputs": [
    {
     "data": {
      "text/html": [
       "<div>\n",
       "<style scoped>\n",
       "    .dataframe tbody tr th:only-of-type {\n",
       "        vertical-align: middle;\n",
       "    }\n",
       "\n",
       "    .dataframe tbody tr th {\n",
       "        vertical-align: top;\n",
       "    }\n",
       "\n",
       "    .dataframe thead th {\n",
       "        text-align: right;\n",
       "    }\n",
       "</style>\n",
       "<table border=\"1\" class=\"dataframe\">\n",
       "  <thead>\n",
       "    <tr style=\"text-align: right;\">\n",
       "      <th></th>\n",
       "      <th>listing_id</th>\n",
       "      <th>term</th>\n",
       "      <th>rate</th>\n",
       "      <th>principal</th>\n",
       "    </tr>\n",
       "  </thead>\n",
       "  <tbody>\n",
       "    <tr>\n",
       "      <th>0</th>\n",
       "      <td>1556649</td>\n",
       "      <td>9</td>\n",
       "      <td>7.6</td>\n",
       "      <td>4800</td>\n",
       "    </tr>\n",
       "    <tr>\n",
       "      <th>1</th>\n",
       "      <td>1556633</td>\n",
       "      <td>6</td>\n",
       "      <td>7.6</td>\n",
       "      <td>4000</td>\n",
       "    </tr>\n",
       "    <tr>\n",
       "      <th>2</th>\n",
       "      <td>1556629</td>\n",
       "      <td>12</td>\n",
       "      <td>8.0</td>\n",
       "      <td>8660</td>\n",
       "    </tr>\n",
       "    <tr>\n",
       "      <th>3</th>\n",
       "      <td>1556628</td>\n",
       "      <td>9</td>\n",
       "      <td>7.6</td>\n",
       "      <td>4780</td>\n",
       "    </tr>\n",
       "    <tr>\n",
       "      <th>4</th>\n",
       "      <td>1556627</td>\n",
       "      <td>9</td>\n",
       "      <td>7.6</td>\n",
       "      <td>1480</td>\n",
       "    </tr>\n",
       "  </tbody>\n",
       "</table>\n",
       "</div>"
      ],
      "text/plain": [
       "   listing_id  term  rate  principal\n",
       "0     1556649     9   7.6       4800\n",
       "1     1556633     6   7.6       4000\n",
       "2     1556629    12   8.0       8660\n",
       "3     1556628     9   7.6       4780\n",
       "4     1556627     9   7.6       1480"
      ]
     },
     "execution_count": 35,
     "metadata": {},
     "output_type": "execute_result"
    }
   ],
   "source": [
    "listing_info_df.head()"
   ]
  },
  {
   "cell_type": "code",
   "execution_count": 36,
   "metadata": {},
   "outputs": [],
   "source": [
    "df = df.merge(listing_info_df, on='listing_id', how='left')\n"
   ]
  },
  {
   "cell_type": "code",
   "execution_count": 37,
   "metadata": {},
   "outputs": [
    {
     "data": {
      "text/html": [
       "<div>\n",
       "<style scoped>\n",
       "    .dataframe tbody tr th:only-of-type {\n",
       "        vertical-align: middle;\n",
       "    }\n",
       "\n",
       "    .dataframe tbody tr th {\n",
       "        vertical-align: top;\n",
       "    }\n",
       "\n",
       "    .dataframe thead th {\n",
       "        text-align: right;\n",
       "    }\n",
       "</style>\n",
       "<table border=\"1\" class=\"dataframe\">\n",
       "  <thead>\n",
       "    <tr style=\"text-align: right;\">\n",
       "      <th></th>\n",
       "      <th>user_id</th>\n",
       "      <th>listing_id</th>\n",
       "      <th>auditing_date</th>\n",
       "      <th>due_date</th>\n",
       "      <th>due_amt</th>\n",
       "      <th>term</th>\n",
       "      <th>rate</th>\n",
       "      <th>principal</th>\n",
       "    </tr>\n",
       "  </thead>\n",
       "  <tbody>\n",
       "    <tr>\n",
       "      <th>0</th>\n",
       "      <td>748147</td>\n",
       "      <td>3163926</td>\n",
       "      <td>2018-04-25</td>\n",
       "      <td>2018-05-25</td>\n",
       "      <td>72.1167</td>\n",
       "      <td>9</td>\n",
       "      <td>7.2</td>\n",
       "      <td>630</td>\n",
       "    </tr>\n",
       "    <tr>\n",
       "      <th>1</th>\n",
       "      <td>672952</td>\n",
       "      <td>3698760</td>\n",
       "      <td>2018-06-09</td>\n",
       "      <td>2018-07-09</td>\n",
       "      <td>258.7045</td>\n",
       "      <td>9</td>\n",
       "      <td>7.2</td>\n",
       "      <td>2260</td>\n",
       "    </tr>\n",
       "    <tr>\n",
       "      <th>2</th>\n",
       "      <td>404196</td>\n",
       "      <td>2355665</td>\n",
       "      <td>2018-02-18</td>\n",
       "      <td>2018-03-18</td>\n",
       "      <td>307.9270</td>\n",
       "      <td>9</td>\n",
       "      <td>7.2</td>\n",
       "      <td>2690</td>\n",
       "    </tr>\n",
       "    <tr>\n",
       "      <th>3</th>\n",
       "      <td>342769</td>\n",
       "      <td>1994522</td>\n",
       "      <td>2018-01-13</td>\n",
       "      <td>2018-02-13</td>\n",
       "      <td>252.9809</td>\n",
       "      <td>9</td>\n",
       "      <td>7.2</td>\n",
       "      <td>2210</td>\n",
       "    </tr>\n",
       "    <tr>\n",
       "      <th>4</th>\n",
       "      <td>828139</td>\n",
       "      <td>3602352</td>\n",
       "      <td>2018-06-01</td>\n",
       "      <td>2018-07-01</td>\n",
       "      <td>107.6503</td>\n",
       "      <td>6</td>\n",
       "      <td>8.6</td>\n",
       "      <td>630</td>\n",
       "    </tr>\n",
       "  </tbody>\n",
       "</table>\n",
       "</div>"
      ],
      "text/plain": [
       "   user_id  listing_id auditing_date   due_date   due_amt  term  rate  \\\n",
       "0   748147     3163926    2018-04-25 2018-05-25   72.1167     9   7.2   \n",
       "1   672952     3698760    2018-06-09 2018-07-09  258.7045     9   7.2   \n",
       "2   404196     2355665    2018-02-18 2018-03-18  307.9270     9   7.2   \n",
       "3   342769     1994522    2018-01-13 2018-02-13  252.9809     9   7.2   \n",
       "4   828139     3602352    2018-06-01 2018-07-01  107.6503     6   8.6   \n",
       "\n",
       "   principal  \n",
       "0        630  \n",
       "1       2260  \n",
       "2       2690  \n",
       "3       2210  \n",
       "4        630  "
      ]
     },
     "execution_count": 37,
     "metadata": {},
     "output_type": "execute_result"
    }
   ],
   "source": [
    "df.head()"
   ]
  },
  {
   "cell_type": "code",
   "execution_count": 38,
   "metadata": {},
   "outputs": [],
   "source": [
    "user_info_df = pd.read_csv('dataset/user_info.csv', parse_dates=['reg_mon', 'insertdate'])\n"
   ]
  },
  {
   "cell_type": "code",
   "execution_count": 39,
   "metadata": {},
   "outputs": [
    {
     "data": {
      "text/html": [
       "<div>\n",
       "<style scoped>\n",
       "    .dataframe tbody tr th:only-of-type {\n",
       "        vertical-align: middle;\n",
       "    }\n",
       "\n",
       "    .dataframe tbody tr th {\n",
       "        vertical-align: top;\n",
       "    }\n",
       "\n",
       "    .dataframe thead th {\n",
       "        text-align: right;\n",
       "    }\n",
       "</style>\n",
       "<table border=\"1\" class=\"dataframe\">\n",
       "  <thead>\n",
       "    <tr style=\"text-align: right;\">\n",
       "      <th></th>\n",
       "      <th>user_id</th>\n",
       "      <th>reg_mon</th>\n",
       "      <th>gender</th>\n",
       "      <th>age</th>\n",
       "      <th>cell_province</th>\n",
       "      <th>id_province</th>\n",
       "      <th>id_city</th>\n",
       "      <th>insertdate</th>\n",
       "    </tr>\n",
       "  </thead>\n",
       "  <tbody>\n",
       "    <tr>\n",
       "      <th>0</th>\n",
       "      <td>483833</td>\n",
       "      <td>2017-04-01</td>\n",
       "      <td>男</td>\n",
       "      <td>19</td>\n",
       "      <td>c29</td>\n",
       "      <td>c26</td>\n",
       "      <td>c26241</td>\n",
       "      <td>2018-12-11</td>\n",
       "    </tr>\n",
       "    <tr>\n",
       "      <th>1</th>\n",
       "      <td>156772</td>\n",
       "      <td>2016-05-01</td>\n",
       "      <td>男</td>\n",
       "      <td>31</td>\n",
       "      <td>c11</td>\n",
       "      <td>c11</td>\n",
       "      <td>c11159</td>\n",
       "      <td>2018-02-13</td>\n",
       "    </tr>\n",
       "    <tr>\n",
       "      <th>2</th>\n",
       "      <td>173388</td>\n",
       "      <td>2016-05-01</td>\n",
       "      <td>男</td>\n",
       "      <td>34</td>\n",
       "      <td>c02</td>\n",
       "      <td>c02</td>\n",
       "      <td>c02182</td>\n",
       "      <td>2018-08-21</td>\n",
       "    </tr>\n",
       "    <tr>\n",
       "      <th>3</th>\n",
       "      <td>199107</td>\n",
       "      <td>2016-07-01</td>\n",
       "      <td>女</td>\n",
       "      <td>25</td>\n",
       "      <td>c09</td>\n",
       "      <td>c09</td>\n",
       "      <td>c09046</td>\n",
       "      <td>2018-06-05</td>\n",
       "    </tr>\n",
       "    <tr>\n",
       "      <th>4</th>\n",
       "      <td>122560</td>\n",
       "      <td>2016-03-01</td>\n",
       "      <td>男</td>\n",
       "      <td>23</td>\n",
       "      <td>c05</td>\n",
       "      <td>c05</td>\n",
       "      <td>c05193</td>\n",
       "      <td>2018-04-02</td>\n",
       "    </tr>\n",
       "  </tbody>\n",
       "</table>\n",
       "</div>"
      ],
      "text/plain": [
       "   user_id    reg_mon gender  age cell_province id_province id_city insertdate\n",
       "0   483833 2017-04-01      男   19           c29         c26  c26241 2018-12-11\n",
       "1   156772 2016-05-01      男   31           c11         c11  c11159 2018-02-13\n",
       "2   173388 2016-05-01      男   34           c02         c02  c02182 2018-08-21\n",
       "3   199107 2016-07-01      女   25           c09         c09  c09046 2018-06-05\n",
       "4   122560 2016-03-01      男   23           c05         c05  c05193 2018-04-02"
      ]
     },
     "execution_count": 39,
     "metadata": {},
     "output_type": "execute_result"
    }
   ],
   "source": [
    "user_info_df.head()"
   ]
  },
  {
   "cell_type": "code",
   "execution_count": null,
   "metadata": {},
   "outputs": [],
   "source": []
  },
  {
   "cell_type": "code",
   "execution_count": 40,
   "metadata": {},
   "outputs": [],
   "source": [
    "user_info_df.rename(columns={'insertdate': 'info_insert_date'}, inplace=True)\n"
   ]
  },
  {
   "cell_type": "code",
   "execution_count": 41,
   "metadata": {},
   "outputs": [
    {
     "data": {
      "text/plain": [
       "670044    3\n",
       "567844    3\n",
       "799738    3\n",
       "66268     3\n",
       "336069    3\n",
       "Name: user_id, dtype: int64"
      ]
     },
     "execution_count": 41,
     "metadata": {},
     "output_type": "execute_result"
    }
   ],
   "source": [
    "user_info_df['user_id'].value_counts().head()"
   ]
  },
  {
   "cell_type": "code",
   "execution_count": 42,
   "metadata": {},
   "outputs": [],
   "source": [
    "user_info_df = user_info_df.sort_values(by='info_insert_date', ascending=False).drop_duplicates('user_id').reset_index(drop=True)\n"
   ]
  },
  {
   "cell_type": "code",
   "execution_count": 43,
   "metadata": {},
   "outputs": [
    {
     "data": {
      "text/plain": [
       "2047      1\n",
       "798931    1\n",
       "901357    1\n",
       "903404    1\n",
       "913643    1\n",
       "Name: user_id, dtype: int64"
      ]
     },
     "execution_count": 43,
     "metadata": {},
     "output_type": "execute_result"
    }
   ],
   "source": [
    "user_info_df['user_id'].value_counts().head()"
   ]
  },
  {
   "cell_type": "code",
   "execution_count": 44,
   "metadata": {},
   "outputs": [
    {
     "data": {
      "text/html": [
       "<div>\n",
       "<style scoped>\n",
       "    .dataframe tbody tr th:only-of-type {\n",
       "        vertical-align: middle;\n",
       "    }\n",
       "\n",
       "    .dataframe tbody tr th {\n",
       "        vertical-align: top;\n",
       "    }\n",
       "\n",
       "    .dataframe thead th {\n",
       "        text-align: right;\n",
       "    }\n",
       "</style>\n",
       "<table border=\"1\" class=\"dataframe\">\n",
       "  <thead>\n",
       "    <tr style=\"text-align: right;\">\n",
       "      <th></th>\n",
       "      <th>user_id</th>\n",
       "      <th>reg_mon</th>\n",
       "      <th>gender</th>\n",
       "      <th>age</th>\n",
       "      <th>cell_province</th>\n",
       "      <th>id_province</th>\n",
       "      <th>id_city</th>\n",
       "      <th>info_insert_date</th>\n",
       "    </tr>\n",
       "  </thead>\n",
       "  <tbody>\n",
       "    <tr>\n",
       "      <th>0</th>\n",
       "      <td>907196</td>\n",
       "      <td>2018-09-01</td>\n",
       "      <td>男</td>\n",
       "      <td>30</td>\n",
       "      <td>c04</td>\n",
       "      <td>c11</td>\n",
       "      <td>c11076</td>\n",
       "      <td>2019-03-30</td>\n",
       "    </tr>\n",
       "    <tr>\n",
       "      <th>1</th>\n",
       "      <td>504119</td>\n",
       "      <td>2017-05-01</td>\n",
       "      <td>男</td>\n",
       "      <td>30</td>\n",
       "      <td>c02</td>\n",
       "      <td>c02</td>\n",
       "      <td>c02139</td>\n",
       "      <td>2019-03-30</td>\n",
       "    </tr>\n",
       "    <tr>\n",
       "      <th>2</th>\n",
       "      <td>909870</td>\n",
       "      <td>2018-10-01</td>\n",
       "      <td>男</td>\n",
       "      <td>25</td>\n",
       "      <td>c02</td>\n",
       "      <td>c02</td>\n",
       "      <td>c02321</td>\n",
       "      <td>2019-03-30</td>\n",
       "    </tr>\n",
       "    <tr>\n",
       "      <th>3</th>\n",
       "      <td>542229</td>\n",
       "      <td>2017-06-01</td>\n",
       "      <td>男</td>\n",
       "      <td>35</td>\n",
       "      <td>c09</td>\n",
       "      <td>c09</td>\n",
       "      <td>c09205</td>\n",
       "      <td>2019-03-30</td>\n",
       "    </tr>\n",
       "    <tr>\n",
       "      <th>4</th>\n",
       "      <td>554821</td>\n",
       "      <td>2017-06-01</td>\n",
       "      <td>男</td>\n",
       "      <td>27</td>\n",
       "      <td>c04</td>\n",
       "      <td>c04</td>\n",
       "      <td>c04344</td>\n",
       "      <td>2019-03-30</td>\n",
       "    </tr>\n",
       "  </tbody>\n",
       "</table>\n",
       "</div>"
      ],
      "text/plain": [
       "   user_id    reg_mon gender  age cell_province id_province id_city  \\\n",
       "0   907196 2018-09-01      男   30           c04         c11  c11076   \n",
       "1   504119 2017-05-01      男   30           c02         c02  c02139   \n",
       "2   909870 2018-10-01      男   25           c02         c02  c02321   \n",
       "3   542229 2017-06-01      男   35           c09         c09  c09205   \n",
       "4   554821 2017-06-01      男   27           c04         c04  c04344   \n",
       "\n",
       "  info_insert_date  \n",
       "0       2019-03-30  \n",
       "1       2019-03-30  \n",
       "2       2019-03-30  \n",
       "3       2019-03-30  \n",
       "4       2019-03-30  "
      ]
     },
     "execution_count": 44,
     "metadata": {},
     "output_type": "execute_result"
    }
   ],
   "source": [
    "user_info_df.head()"
   ]
  },
  {
   "cell_type": "code",
   "execution_count": 45,
   "metadata": {},
   "outputs": [],
   "source": [
    "df = df.merge(user_info_df, on='user_id', how='left')\n"
   ]
  },
  {
   "cell_type": "code",
   "execution_count": 46,
   "metadata": {},
   "outputs": [
    {
     "data": {
      "text/html": [
       "<div>\n",
       "<style scoped>\n",
       "    .dataframe tbody tr th:only-of-type {\n",
       "        vertical-align: middle;\n",
       "    }\n",
       "\n",
       "    .dataframe tbody tr th {\n",
       "        vertical-align: top;\n",
       "    }\n",
       "\n",
       "    .dataframe thead th {\n",
       "        text-align: right;\n",
       "    }\n",
       "</style>\n",
       "<table border=\"1\" class=\"dataframe\">\n",
       "  <thead>\n",
       "    <tr style=\"text-align: right;\">\n",
       "      <th></th>\n",
       "      <th>user_id</th>\n",
       "      <th>listing_id</th>\n",
       "      <th>auditing_date</th>\n",
       "      <th>due_date</th>\n",
       "      <th>due_amt</th>\n",
       "      <th>term</th>\n",
       "      <th>rate</th>\n",
       "      <th>principal</th>\n",
       "      <th>reg_mon</th>\n",
       "      <th>gender</th>\n",
       "      <th>age</th>\n",
       "      <th>cell_province</th>\n",
       "      <th>id_province</th>\n",
       "      <th>id_city</th>\n",
       "      <th>info_insert_date</th>\n",
       "    </tr>\n",
       "  </thead>\n",
       "  <tbody>\n",
       "    <tr>\n",
       "      <th>0</th>\n",
       "      <td>748147</td>\n",
       "      <td>3163926</td>\n",
       "      <td>2018-04-25</td>\n",
       "      <td>2018-05-25</td>\n",
       "      <td>72.1167</td>\n",
       "      <td>9</td>\n",
       "      <td>7.2</td>\n",
       "      <td>630</td>\n",
       "      <td>2017-12-01</td>\n",
       "      <td>男</td>\n",
       "      <td>21</td>\n",
       "      <td>c20</td>\n",
       "      <td>c20</td>\n",
       "      <td>c20089</td>\n",
       "      <td>2018-04-24</td>\n",
       "    </tr>\n",
       "    <tr>\n",
       "      <th>1</th>\n",
       "      <td>672952</td>\n",
       "      <td>3698760</td>\n",
       "      <td>2018-06-09</td>\n",
       "      <td>2018-07-09</td>\n",
       "      <td>258.7045</td>\n",
       "      <td>9</td>\n",
       "      <td>7.2</td>\n",
       "      <td>2260</td>\n",
       "      <td>2017-09-01</td>\n",
       "      <td>男</td>\n",
       "      <td>37</td>\n",
       "      <td>c14</td>\n",
       "      <td>c17</td>\n",
       "      <td>c17250</td>\n",
       "      <td>2018-06-04</td>\n",
       "    </tr>\n",
       "    <tr>\n",
       "      <th>2</th>\n",
       "      <td>404196</td>\n",
       "      <td>2355665</td>\n",
       "      <td>2018-02-18</td>\n",
       "      <td>2018-03-18</td>\n",
       "      <td>307.9270</td>\n",
       "      <td>9</td>\n",
       "      <td>7.2</td>\n",
       "      <td>2690</td>\n",
       "      <td>2017-02-01</td>\n",
       "      <td>男</td>\n",
       "      <td>24</td>\n",
       "      <td>c04</td>\n",
       "      <td>c04</td>\n",
       "      <td>c04251</td>\n",
       "      <td>2018-02-17</td>\n",
       "    </tr>\n",
       "    <tr>\n",
       "      <th>3</th>\n",
       "      <td>342769</td>\n",
       "      <td>1994522</td>\n",
       "      <td>2018-01-13</td>\n",
       "      <td>2018-02-13</td>\n",
       "      <td>252.9809</td>\n",
       "      <td>9</td>\n",
       "      <td>7.2</td>\n",
       "      <td>2210</td>\n",
       "      <td>2016-12-01</td>\n",
       "      <td>男</td>\n",
       "      <td>23</td>\n",
       "      <td>c17</td>\n",
       "      <td>c17</td>\n",
       "      <td>c17246</td>\n",
       "      <td>2018-01-12</td>\n",
       "    </tr>\n",
       "    <tr>\n",
       "      <th>4</th>\n",
       "      <td>828139</td>\n",
       "      <td>3602352</td>\n",
       "      <td>2018-06-01</td>\n",
       "      <td>2018-07-01</td>\n",
       "      <td>107.6503</td>\n",
       "      <td>6</td>\n",
       "      <td>8.6</td>\n",
       "      <td>630</td>\n",
       "      <td>2018-04-01</td>\n",
       "      <td>男</td>\n",
       "      <td>23</td>\n",
       "      <td>c02</td>\n",
       "      <td>c17</td>\n",
       "      <td>c17096</td>\n",
       "      <td>2018-05-31</td>\n",
       "    </tr>\n",
       "  </tbody>\n",
       "</table>\n",
       "</div>"
      ],
      "text/plain": [
       "   user_id  listing_id auditing_date   due_date   due_amt  term  rate  \\\n",
       "0   748147     3163926    2018-04-25 2018-05-25   72.1167     9   7.2   \n",
       "1   672952     3698760    2018-06-09 2018-07-09  258.7045     9   7.2   \n",
       "2   404196     2355665    2018-02-18 2018-03-18  307.9270     9   7.2   \n",
       "3   342769     1994522    2018-01-13 2018-02-13  252.9809     9   7.2   \n",
       "4   828139     3602352    2018-06-01 2018-07-01  107.6503     6   8.6   \n",
       "\n",
       "   principal    reg_mon gender  age cell_province id_province id_city  \\\n",
       "0        630 2017-12-01      男   21           c20         c20  c20089   \n",
       "1       2260 2017-09-01      男   37           c14         c17  c17250   \n",
       "2       2690 2017-02-01      男   24           c04         c04  c04251   \n",
       "3       2210 2016-12-01      男   23           c17         c17  c17246   \n",
       "4        630 2018-04-01      男   23           c02         c17  c17096   \n",
       "\n",
       "  info_insert_date  \n",
       "0       2018-04-24  \n",
       "1       2018-06-04  \n",
       "2       2018-02-17  \n",
       "3       2018-01-12  \n",
       "4       2018-05-31  "
      ]
     },
     "execution_count": 46,
     "metadata": {},
     "output_type": "execute_result"
    }
   ],
   "source": [
    "df.head()"
   ]
  },
  {
   "cell_type": "code",
   "execution_count": 47,
   "metadata": {},
   "outputs": [],
   "source": [
    "user_tag_df = pd.read_csv('dataset/user_taglist.csv', parse_dates=['insertdate'])\n"
   ]
  },
  {
   "cell_type": "code",
   "execution_count": 48,
   "metadata": {},
   "outputs": [
    {
     "data": {
      "text/html": [
       "<div>\n",
       "<style scoped>\n",
       "    .dataframe tbody tr th:only-of-type {\n",
       "        vertical-align: middle;\n",
       "    }\n",
       "\n",
       "    .dataframe tbody tr th {\n",
       "        vertical-align: top;\n",
       "    }\n",
       "\n",
       "    .dataframe thead th {\n",
       "        text-align: right;\n",
       "    }\n",
       "</style>\n",
       "<table border=\"1\" class=\"dataframe\">\n",
       "  <thead>\n",
       "    <tr style=\"text-align: right;\">\n",
       "      <th></th>\n",
       "      <th>user_id</th>\n",
       "      <th>taglist</th>\n",
       "      <th>insertdate</th>\n",
       "    </tr>\n",
       "  </thead>\n",
       "  <tbody>\n",
       "    <tr>\n",
       "      <th>0</th>\n",
       "      <td>113401</td>\n",
       "      <td>4707|473|3498|4759|1654|298|2869|1164|212|1885...</td>\n",
       "      <td>2018-10-03</td>\n",
       "    </tr>\n",
       "    <tr>\n",
       "      <th>1</th>\n",
       "      <td>378358</td>\n",
       "      <td>751|2207|1100|2099|1832|1911|5347|2254|171|360...</td>\n",
       "      <td>2018-11-30</td>\n",
       "    </tr>\n",
       "    <tr>\n",
       "      <th>2</th>\n",
       "      <td>434838</td>\n",
       "      <td>877|3795|5628|70|2684|691|719|4228|631|1541|12...</td>\n",
       "      <td>2018-03-25</td>\n",
       "    </tr>\n",
       "    <tr>\n",
       "      <th>3</th>\n",
       "      <td>577061</td>\n",
       "      <td>2431|3242|340|1823|4020|4357|164|620|2168|1192...</td>\n",
       "      <td>2018-05-25</td>\n",
       "    </tr>\n",
       "    <tr>\n",
       "      <th>4</th>\n",
       "      <td>566753</td>\n",
       "      <td>3980|3125|1819|1333|1177|3972|621|5800|3632|16...</td>\n",
       "      <td>2018-12-02</td>\n",
       "    </tr>\n",
       "  </tbody>\n",
       "</table>\n",
       "</div>"
      ],
      "text/plain": [
       "   user_id                                            taglist insertdate\n",
       "0   113401  4707|473|3498|4759|1654|298|2869|1164|212|1885... 2018-10-03\n",
       "1   378358  751|2207|1100|2099|1832|1911|5347|2254|171|360... 2018-11-30\n",
       "2   434838  877|3795|5628|70|2684|691|719|4228|631|1541|12... 2018-03-25\n",
       "3   577061  2431|3242|340|1823|4020|4357|164|620|2168|1192... 2018-05-25\n",
       "4   566753  3980|3125|1819|1333|1177|3972|621|5800|3632|16... 2018-12-02"
      ]
     },
     "execution_count": 48,
     "metadata": {},
     "output_type": "execute_result"
    }
   ],
   "source": [
    "user_tag_df.head()"
   ]
  },
  {
   "cell_type": "code",
   "execution_count": 49,
   "metadata": {},
   "outputs": [],
   "source": [
    "user_tag_df.rename(columns={'insertdate': 'tag_insert_date'}, inplace=True)\n"
   ]
  },
  {
   "cell_type": "code",
   "execution_count": 50,
   "metadata": {},
   "outputs": [],
   "source": [
    "user_tag_df = user_tag_df.sort_values(by='tag_insert_date', ascending=False).drop_duplicates('user_id').reset_index(drop=True)\n"
   ]
  },
  {
   "cell_type": "code",
   "execution_count": 51,
   "metadata": {},
   "outputs": [],
   "source": [
    "df = df.merge(user_tag_df, on='user_id', how='left')\n"
   ]
  },
  {
   "cell_type": "code",
   "execution_count": 52,
   "metadata": {},
   "outputs": [],
   "source": [
    "repay_log_df = pd.read_csv('dataset/user_repay_logs.csv', parse_dates=['due_date', 'repay_date'])\n"
   ]
  },
  {
   "cell_type": "code",
   "execution_count": 53,
   "metadata": {},
   "outputs": [
    {
     "data": {
      "text/html": [
       "<div>\n",
       "<style scoped>\n",
       "    .dataframe tbody tr th:only-of-type {\n",
       "        vertical-align: middle;\n",
       "    }\n",
       "\n",
       "    .dataframe tbody tr th {\n",
       "        vertical-align: top;\n",
       "    }\n",
       "\n",
       "    .dataframe thead th {\n",
       "        text-align: right;\n",
       "    }\n",
       "</style>\n",
       "<table border=\"1\" class=\"dataframe\">\n",
       "  <thead>\n",
       "    <tr style=\"text-align: right;\">\n",
       "      <th></th>\n",
       "      <th>user_id</th>\n",
       "      <th>listing_id</th>\n",
       "      <th>order_id</th>\n",
       "      <th>due_date</th>\n",
       "      <th>due_amt</th>\n",
       "      <th>repay_date</th>\n",
       "      <th>repay_amt</th>\n",
       "    </tr>\n",
       "  </thead>\n",
       "  <tbody>\n",
       "    <tr>\n",
       "      <th>0</th>\n",
       "      <td>748483</td>\n",
       "      <td>1858122</td>\n",
       "      <td>6</td>\n",
       "      <td>2018-06-29</td>\n",
       "      <td>528.6365</td>\n",
       "      <td>2018-06-20</td>\n",
       "      <td>528.6365</td>\n",
       "    </tr>\n",
       "    <tr>\n",
       "      <th>1</th>\n",
       "      <td>748483</td>\n",
       "      <td>1858122</td>\n",
       "      <td>4</td>\n",
       "      <td>2018-04-29</td>\n",
       "      <td>528.6365</td>\n",
       "      <td>2200-01-01</td>\n",
       "      <td>528.6365</td>\n",
       "    </tr>\n",
       "    <tr>\n",
       "      <th>2</th>\n",
       "      <td>748483</td>\n",
       "      <td>1858122</td>\n",
       "      <td>7</td>\n",
       "      <td>2018-07-29</td>\n",
       "      <td>528.6365</td>\n",
       "      <td>2018-06-20</td>\n",
       "      <td>528.6365</td>\n",
       "    </tr>\n",
       "    <tr>\n",
       "      <th>3</th>\n",
       "      <td>748483</td>\n",
       "      <td>1858122</td>\n",
       "      <td>5</td>\n",
       "      <td>2018-05-29</td>\n",
       "      <td>528.6365</td>\n",
       "      <td>2018-05-29</td>\n",
       "      <td>528.6365</td>\n",
       "    </tr>\n",
       "    <tr>\n",
       "      <th>4</th>\n",
       "      <td>748483</td>\n",
       "      <td>1858122</td>\n",
       "      <td>1</td>\n",
       "      <td>2018-01-29</td>\n",
       "      <td>528.6365</td>\n",
       "      <td>2018-01-28</td>\n",
       "      <td>528.6365</td>\n",
       "    </tr>\n",
       "  </tbody>\n",
       "</table>\n",
       "</div>"
      ],
      "text/plain": [
       "   user_id  listing_id  order_id   due_date   due_amt repay_date  repay_amt\n",
       "0   748483     1858122         6 2018-06-29  528.6365 2018-06-20   528.6365\n",
       "1   748483     1858122         4 2018-04-29  528.6365 2200-01-01   528.6365\n",
       "2   748483     1858122         7 2018-07-29  528.6365 2018-06-20   528.6365\n",
       "3   748483     1858122         5 2018-05-29  528.6365 2018-05-29   528.6365\n",
       "4   748483     1858122         1 2018-01-29  528.6365 2018-01-28   528.6365"
      ]
     },
     "execution_count": 53,
     "metadata": {},
     "output_type": "execute_result"
    }
   ],
   "source": [
    "repay_log_df.head()"
   ]
  },
  {
   "cell_type": "code",
   "execution_count": 54,
   "metadata": {},
   "outputs": [],
   "source": [
    "repay_log_df = repay_log_df[repay_log_df['order_id'] == 1].reset_index(drop=True)\n"
   ]
  },
  {
   "cell_type": "code",
   "execution_count": 55,
   "metadata": {},
   "outputs": [],
   "source": [
    "repay_log_df['repay'] = repay_log_df['repay_date'].astype('str').apply(lambda x: 1 if x != '2200-01-01' else 0)\n"
   ]
  },
  {
   "cell_type": "code",
   "execution_count": 56,
   "metadata": {},
   "outputs": [
    {
     "data": {
      "text/html": [
       "<div>\n",
       "<style scoped>\n",
       "    .dataframe tbody tr th:only-of-type {\n",
       "        vertical-align: middle;\n",
       "    }\n",
       "\n",
       "    .dataframe tbody tr th {\n",
       "        vertical-align: top;\n",
       "    }\n",
       "\n",
       "    .dataframe thead th {\n",
       "        text-align: right;\n",
       "    }\n",
       "</style>\n",
       "<table border=\"1\" class=\"dataframe\">\n",
       "  <thead>\n",
       "    <tr style=\"text-align: right;\">\n",
       "      <th></th>\n",
       "      <th>user_id</th>\n",
       "      <th>listing_id</th>\n",
       "      <th>order_id</th>\n",
       "      <th>due_date</th>\n",
       "      <th>due_amt</th>\n",
       "      <th>repay_date</th>\n",
       "      <th>repay_amt</th>\n",
       "      <th>repay</th>\n",
       "    </tr>\n",
       "  </thead>\n",
       "  <tbody>\n",
       "    <tr>\n",
       "      <th>0</th>\n",
       "      <td>748483</td>\n",
       "      <td>1858122</td>\n",
       "      <td>1</td>\n",
       "      <td>2018-01-29</td>\n",
       "      <td>528.6365</td>\n",
       "      <td>2018-01-28</td>\n",
       "      <td>528.6365</td>\n",
       "      <td>1</td>\n",
       "    </tr>\n",
       "    <tr>\n",
       "      <th>1</th>\n",
       "      <td>369368</td>\n",
       "      <td>3900565</td>\n",
       "      <td>1</td>\n",
       "      <td>2018-08-03</td>\n",
       "      <td>385.5078</td>\n",
       "      <td>2018-07-22</td>\n",
       "      <td>385.5078</td>\n",
       "      <td>1</td>\n",
       "    </tr>\n",
       "    <tr>\n",
       "      <th>2</th>\n",
       "      <td>749102</td>\n",
       "      <td>1699160</td>\n",
       "      <td>1</td>\n",
       "      <td>2018-01-11</td>\n",
       "      <td>338.5357</td>\n",
       "      <td>2017-12-11</td>\n",
       "      <td>338.5357</td>\n",
       "      <td>1</td>\n",
       "    </tr>\n",
       "    <tr>\n",
       "      <th>3</th>\n",
       "      <td>385257</td>\n",
       "      <td>2204015</td>\n",
       "      <td>1</td>\n",
       "      <td>2018-03-03</td>\n",
       "      <td>1106.1967</td>\n",
       "      <td>2018-03-02</td>\n",
       "      <td>1106.1967</td>\n",
       "      <td>1</td>\n",
       "    </tr>\n",
       "    <tr>\n",
       "      <th>4</th>\n",
       "      <td>648677</td>\n",
       "      <td>3811960</td>\n",
       "      <td>1</td>\n",
       "      <td>2018-07-23</td>\n",
       "      <td>385.5078</td>\n",
       "      <td>2018-07-04</td>\n",
       "      <td>385.5078</td>\n",
       "      <td>1</td>\n",
       "    </tr>\n",
       "  </tbody>\n",
       "</table>\n",
       "</div>"
      ],
      "text/plain": [
       "   user_id  listing_id  order_id   due_date    due_amt repay_date  repay_amt  \\\n",
       "0   748483     1858122         1 2018-01-29   528.6365 2018-01-28   528.6365   \n",
       "1   369368     3900565         1 2018-08-03   385.5078 2018-07-22   385.5078   \n",
       "2   749102     1699160         1 2018-01-11   338.5357 2017-12-11   338.5357   \n",
       "3   385257     2204015         1 2018-03-03  1106.1967 2018-03-02  1106.1967   \n",
       "4   648677     3811960         1 2018-07-23   385.5078 2018-07-04   385.5078   \n",
       "\n",
       "   repay  \n",
       "0      1  \n",
       "1      1  \n",
       "2      1  \n",
       "3      1  \n",
       "4      1  "
      ]
     },
     "execution_count": 56,
     "metadata": {},
     "output_type": "execute_result"
    }
   ],
   "source": [
    "repay_log_df.head()"
   ]
  },
  {
   "cell_type": "code",
   "execution_count": 57,
   "metadata": {},
   "outputs": [],
   "source": [
    "repay_log_df['early_repay_days'] = (repay_log_df['due_date'] - repay_log_df['repay_date']).dt.days\n"
   ]
  },
  {
   "cell_type": "code",
   "execution_count": 58,
   "metadata": {},
   "outputs": [
    {
     "data": {
      "text/html": [
       "<div>\n",
       "<style scoped>\n",
       "    .dataframe tbody tr th:only-of-type {\n",
       "        vertical-align: middle;\n",
       "    }\n",
       "\n",
       "    .dataframe tbody tr th {\n",
       "        vertical-align: top;\n",
       "    }\n",
       "\n",
       "    .dataframe thead th {\n",
       "        text-align: right;\n",
       "    }\n",
       "</style>\n",
       "<table border=\"1\" class=\"dataframe\">\n",
       "  <thead>\n",
       "    <tr style=\"text-align: right;\">\n",
       "      <th></th>\n",
       "      <th>user_id</th>\n",
       "      <th>listing_id</th>\n",
       "      <th>order_id</th>\n",
       "      <th>due_date</th>\n",
       "      <th>due_amt</th>\n",
       "      <th>repay_date</th>\n",
       "      <th>repay_amt</th>\n",
       "      <th>repay</th>\n",
       "      <th>early_repay_days</th>\n",
       "    </tr>\n",
       "  </thead>\n",
       "  <tbody>\n",
       "    <tr>\n",
       "      <th>0</th>\n",
       "      <td>748483</td>\n",
       "      <td>1858122</td>\n",
       "      <td>1</td>\n",
       "      <td>2018-01-29</td>\n",
       "      <td>528.6365</td>\n",
       "      <td>2018-01-28</td>\n",
       "      <td>528.6365</td>\n",
       "      <td>1</td>\n",
       "      <td>1</td>\n",
       "    </tr>\n",
       "    <tr>\n",
       "      <th>1</th>\n",
       "      <td>369368</td>\n",
       "      <td>3900565</td>\n",
       "      <td>1</td>\n",
       "      <td>2018-08-03</td>\n",
       "      <td>385.5078</td>\n",
       "      <td>2018-07-22</td>\n",
       "      <td>385.5078</td>\n",
       "      <td>1</td>\n",
       "      <td>12</td>\n",
       "    </tr>\n",
       "    <tr>\n",
       "      <th>2</th>\n",
       "      <td>749102</td>\n",
       "      <td>1699160</td>\n",
       "      <td>1</td>\n",
       "      <td>2018-01-11</td>\n",
       "      <td>338.5357</td>\n",
       "      <td>2017-12-11</td>\n",
       "      <td>338.5357</td>\n",
       "      <td>1</td>\n",
       "      <td>31</td>\n",
       "    </tr>\n",
       "    <tr>\n",
       "      <th>3</th>\n",
       "      <td>385257</td>\n",
       "      <td>2204015</td>\n",
       "      <td>1</td>\n",
       "      <td>2018-03-03</td>\n",
       "      <td>1106.1967</td>\n",
       "      <td>2018-03-02</td>\n",
       "      <td>1106.1967</td>\n",
       "      <td>1</td>\n",
       "      <td>1</td>\n",
       "    </tr>\n",
       "    <tr>\n",
       "      <th>4</th>\n",
       "      <td>648677</td>\n",
       "      <td>3811960</td>\n",
       "      <td>1</td>\n",
       "      <td>2018-07-23</td>\n",
       "      <td>385.5078</td>\n",
       "      <td>2018-07-04</td>\n",
       "      <td>385.5078</td>\n",
       "      <td>1</td>\n",
       "      <td>19</td>\n",
       "    </tr>\n",
       "  </tbody>\n",
       "</table>\n",
       "</div>"
      ],
      "text/plain": [
       "   user_id  listing_id  order_id   due_date    due_amt repay_date  repay_amt  \\\n",
       "0   748483     1858122         1 2018-01-29   528.6365 2018-01-28   528.6365   \n",
       "1   369368     3900565         1 2018-08-03   385.5078 2018-07-22   385.5078   \n",
       "2   749102     1699160         1 2018-01-11   338.5357 2017-12-11   338.5357   \n",
       "3   385257     2204015         1 2018-03-03  1106.1967 2018-03-02  1106.1967   \n",
       "4   648677     3811960         1 2018-07-23   385.5078 2018-07-04   385.5078   \n",
       "\n",
       "   repay  early_repay_days  \n",
       "0      1                 1  \n",
       "1      1                12  \n",
       "2      1                31  \n",
       "3      1                 1  \n",
       "4      1                19  "
      ]
     },
     "execution_count": 58,
     "metadata": {},
     "output_type": "execute_result"
    }
   ],
   "source": [
    "repay_log_df.head()"
   ]
  },
  {
   "cell_type": "code",
   "execution_count": 59,
   "metadata": {},
   "outputs": [],
   "source": [
    "repay_log_df['early_repay_days'] = repay_log_df['early_repay_days'].apply(lambda x: x if x >= 0 else -1)\n"
   ]
  },
  {
   "cell_type": "code",
   "execution_count": 60,
   "metadata": {},
   "outputs": [],
   "source": [
    "for f in ['listing_id', 'order_id', 'due_date', 'repay_date', 'repay_amt']:\n",
    "    del repay_log_df[f]"
   ]
  },
  {
   "cell_type": "code",
   "execution_count": 61,
   "metadata": {},
   "outputs": [],
   "source": [
    "group = repay_log_df.groupby('user_id', as_index=False)\n"
   ]
  },
  {
   "cell_type": "code",
   "execution_count": 62,
   "metadata": {},
   "outputs": [],
   "source": [
    "repay_log_df = repay_log_df.merge(\n",
    "    group['repay'].agg({'repay_mean': 'mean'}), on='user_id', how='left'\n",
    ")"
   ]
  },
  {
   "cell_type": "code",
   "execution_count": 63,
   "metadata": {},
   "outputs": [
    {
     "data": {
      "text/html": [
       "<div>\n",
       "<style scoped>\n",
       "    .dataframe tbody tr th:only-of-type {\n",
       "        vertical-align: middle;\n",
       "    }\n",
       "\n",
       "    .dataframe tbody tr th {\n",
       "        vertical-align: top;\n",
       "    }\n",
       "\n",
       "    .dataframe thead th {\n",
       "        text-align: right;\n",
       "    }\n",
       "</style>\n",
       "<table border=\"1\" class=\"dataframe\">\n",
       "  <thead>\n",
       "    <tr style=\"text-align: right;\">\n",
       "      <th></th>\n",
       "      <th>user_id</th>\n",
       "      <th>due_amt</th>\n",
       "      <th>repay</th>\n",
       "      <th>early_repay_days</th>\n",
       "      <th>repay_mean</th>\n",
       "    </tr>\n",
       "  </thead>\n",
       "  <tbody>\n",
       "    <tr>\n",
       "      <th>0</th>\n",
       "      <td>748483</td>\n",
       "      <td>528.6365</td>\n",
       "      <td>1</td>\n",
       "      <td>1</td>\n",
       "      <td>1.0</td>\n",
       "    </tr>\n",
       "    <tr>\n",
       "      <th>1</th>\n",
       "      <td>369368</td>\n",
       "      <td>385.5078</td>\n",
       "      <td>1</td>\n",
       "      <td>12</td>\n",
       "      <td>1.0</td>\n",
       "    </tr>\n",
       "    <tr>\n",
       "      <th>2</th>\n",
       "      <td>749102</td>\n",
       "      <td>338.5357</td>\n",
       "      <td>1</td>\n",
       "      <td>31</td>\n",
       "      <td>1.0</td>\n",
       "    </tr>\n",
       "    <tr>\n",
       "      <th>3</th>\n",
       "      <td>385257</td>\n",
       "      <td>1106.1967</td>\n",
       "      <td>1</td>\n",
       "      <td>1</td>\n",
       "      <td>1.0</td>\n",
       "    </tr>\n",
       "    <tr>\n",
       "      <th>4</th>\n",
       "      <td>648677</td>\n",
       "      <td>385.5078</td>\n",
       "      <td>1</td>\n",
       "      <td>19</td>\n",
       "      <td>1.0</td>\n",
       "    </tr>\n",
       "  </tbody>\n",
       "</table>\n",
       "</div>"
      ],
      "text/plain": [
       "   user_id    due_amt  repay  early_repay_days  repay_mean\n",
       "0   748483   528.6365      1                 1         1.0\n",
       "1   369368   385.5078      1                12         1.0\n",
       "2   749102   338.5357      1                31         1.0\n",
       "3   385257  1106.1967      1                 1         1.0\n",
       "4   648677   385.5078      1                19         1.0"
      ]
     },
     "execution_count": 63,
     "metadata": {},
     "output_type": "execute_result"
    }
   ],
   "source": [
    "repay_log_df.head()"
   ]
  },
  {
   "cell_type": "code",
   "execution_count": 64,
   "metadata": {},
   "outputs": [],
   "source": [
    "repay_log_df = repay_log_df.merge(\n",
    "    group['early_repay_days'].agg({\n",
    "        'early_repay_days_max': 'max', 'early_repay_days_median': 'median', 'early_repay_days_sum': 'sum',\n",
    "        'early_repay_days_mean': 'mean', 'early_repay_days_std': 'std'\n",
    "    }), on='user_id', how='left'\n",
    ")"
   ]
  },
  {
   "cell_type": "code",
   "execution_count": 65,
   "metadata": {},
   "outputs": [
    {
     "data": {
      "text/html": [
       "<div>\n",
       "<style scoped>\n",
       "    .dataframe tbody tr th:only-of-type {\n",
       "        vertical-align: middle;\n",
       "    }\n",
       "\n",
       "    .dataframe tbody tr th {\n",
       "        vertical-align: top;\n",
       "    }\n",
       "\n",
       "    .dataframe thead th {\n",
       "        text-align: right;\n",
       "    }\n",
       "</style>\n",
       "<table border=\"1\" class=\"dataframe\">\n",
       "  <thead>\n",
       "    <tr style=\"text-align: right;\">\n",
       "      <th></th>\n",
       "      <th>user_id</th>\n",
       "      <th>due_amt</th>\n",
       "      <th>repay</th>\n",
       "      <th>early_repay_days</th>\n",
       "      <th>repay_mean</th>\n",
       "      <th>early_repay_days_max</th>\n",
       "      <th>early_repay_days_median</th>\n",
       "      <th>early_repay_days_sum</th>\n",
       "      <th>early_repay_days_mean</th>\n",
       "      <th>early_repay_days_std</th>\n",
       "    </tr>\n",
       "  </thead>\n",
       "  <tbody>\n",
       "    <tr>\n",
       "      <th>0</th>\n",
       "      <td>748483</td>\n",
       "      <td>528.6365</td>\n",
       "      <td>1</td>\n",
       "      <td>1</td>\n",
       "      <td>1.0</td>\n",
       "      <td>14</td>\n",
       "      <td>0.5</td>\n",
       "      <td>15</td>\n",
       "      <td>3.750000</td>\n",
       "      <td>6.849574</td>\n",
       "    </tr>\n",
       "    <tr>\n",
       "      <th>1</th>\n",
       "      <td>369368</td>\n",
       "      <td>385.5078</td>\n",
       "      <td>1</td>\n",
       "      <td>12</td>\n",
       "      <td>1.0</td>\n",
       "      <td>18</td>\n",
       "      <td>12.0</td>\n",
       "      <td>34</td>\n",
       "      <td>11.333333</td>\n",
       "      <td>7.023769</td>\n",
       "    </tr>\n",
       "    <tr>\n",
       "      <th>2</th>\n",
       "      <td>749102</td>\n",
       "      <td>338.5357</td>\n",
       "      <td>1</td>\n",
       "      <td>31</td>\n",
       "      <td>1.0</td>\n",
       "      <td>31</td>\n",
       "      <td>31.0</td>\n",
       "      <td>31</td>\n",
       "      <td>31.000000</td>\n",
       "      <td>NaN</td>\n",
       "    </tr>\n",
       "    <tr>\n",
       "      <th>3</th>\n",
       "      <td>385257</td>\n",
       "      <td>1106.1967</td>\n",
       "      <td>1</td>\n",
       "      <td>1</td>\n",
       "      <td>1.0</td>\n",
       "      <td>12</td>\n",
       "      <td>2.0</td>\n",
       "      <td>19</td>\n",
       "      <td>3.800000</td>\n",
       "      <td>4.658326</td>\n",
       "    </tr>\n",
       "    <tr>\n",
       "      <th>4</th>\n",
       "      <td>648677</td>\n",
       "      <td>385.5078</td>\n",
       "      <td>1</td>\n",
       "      <td>19</td>\n",
       "      <td>1.0</td>\n",
       "      <td>31</td>\n",
       "      <td>18.0</td>\n",
       "      <td>501</td>\n",
       "      <td>17.892857</td>\n",
       "      <td>10.640034</td>\n",
       "    </tr>\n",
       "  </tbody>\n",
       "</table>\n",
       "</div>"
      ],
      "text/plain": [
       "   user_id    due_amt  repay  early_repay_days  repay_mean  \\\n",
       "0   748483   528.6365      1                 1         1.0   \n",
       "1   369368   385.5078      1                12         1.0   \n",
       "2   749102   338.5357      1                31         1.0   \n",
       "3   385257  1106.1967      1                 1         1.0   \n",
       "4   648677   385.5078      1                19         1.0   \n",
       "\n",
       "   early_repay_days_max  early_repay_days_median  early_repay_days_sum  \\\n",
       "0                    14                      0.5                    15   \n",
       "1                    18                     12.0                    34   \n",
       "2                    31                     31.0                    31   \n",
       "3                    12                      2.0                    19   \n",
       "4                    31                     18.0                   501   \n",
       "\n",
       "   early_repay_days_mean  early_repay_days_std  \n",
       "0               3.750000              6.849574  \n",
       "1              11.333333              7.023769  \n",
       "2              31.000000                   NaN  \n",
       "3               3.800000              4.658326  \n",
       "4              17.892857             10.640034  "
      ]
     },
     "execution_count": 65,
     "metadata": {},
     "output_type": "execute_result"
    }
   ],
   "source": [
    "repay_log_df.head()"
   ]
  },
  {
   "cell_type": "code",
   "execution_count": 66,
   "metadata": {},
   "outputs": [],
   "source": [
    "repay_log_df = repay_log_df.merge(\n",
    "    group['due_amt'].agg({\n",
    "        'due_amt_max': 'max', 'due_amt_min': 'min', 'due_amt_median': 'median',\n",
    "        'due_amt_mean': 'mean', 'due_amt_sum': 'sum', 'due_amt_std': 'std',\n",
    "        'due_amt_skew': 'skew', 'due_amt_kurt': kurtosis, 'due_amt_ptp': np.ptp\n",
    "    }), on='user_id', how='left'\n",
    ")"
   ]
  },
  {
   "cell_type": "code",
   "execution_count": 67,
   "metadata": {},
   "outputs": [],
   "source": [
    "del repay_log_df['repay'], repay_log_df['early_repay_days'], repay_log_df['due_amt']"
   ]
  },
  {
   "cell_type": "code",
   "execution_count": 68,
   "metadata": {},
   "outputs": [
    {
     "data": {
      "text/plain": [
       "(2768985, 17)"
      ]
     },
     "execution_count": 68,
     "metadata": {},
     "output_type": "execute_result"
    }
   ],
   "source": [
    "repay_log_df.shape"
   ]
  },
  {
   "cell_type": "code",
   "execution_count": 69,
   "metadata": {},
   "outputs": [],
   "source": [
    "repay_log_df = repay_log_df.drop_duplicates('user_id').reset_index(drop=True)\n"
   ]
  },
  {
   "cell_type": "code",
   "execution_count": 70,
   "metadata": {},
   "outputs": [
    {
     "data": {
      "text/plain": [
       "(796610, 17)"
      ]
     },
     "execution_count": 70,
     "metadata": {},
     "output_type": "execute_result"
    }
   ],
   "source": [
    "repay_log_df.shape"
   ]
  },
  {
   "cell_type": "code",
   "execution_count": 71,
   "metadata": {},
   "outputs": [],
   "source": [
    "df = df.merge(repay_log_df, on='user_id', how='left')\n"
   ]
  },
  {
   "cell_type": "code",
   "execution_count": 72,
   "metadata": {},
   "outputs": [],
   "source": [
    "cate_cols = ['gender', 'cell_province', 'id_province', 'id_city']\n"
   ]
  },
  {
   "cell_type": "code",
   "execution_count": 73,
   "metadata": {},
   "outputs": [],
   "source": [
    "# 这个lgb应该有参数可以直接传 lgb.train(categorical_feature=cate_cols)\n",
    "for f in cate_cols:\n",
    "    df[f] = df[f].map(dict(zip(df[f].unique(), range(df[f].nunique())))).astype('int32')"
   ]
  },
  {
   "cell_type": "code",
   "execution_count": 74,
   "metadata": {},
   "outputs": [],
   "source": [
    "df['due_amt_per_days'] = df['due_amt'] / (train_df['due_date'] - train_df['auditing_date']).dt.days\n"
   ]
  },
  {
   "cell_type": "code",
   "execution_count": 75,
   "metadata": {},
   "outputs": [],
   "source": [
    "date_cols = ['auditing_date', 'due_date', 'reg_mon', 'info_insert_date', 'tag_insert_date']\n"
   ]
  },
  {
   "cell_type": "code",
   "execution_count": 76,
   "metadata": {},
   "outputs": [],
   "source": [
    "for f in date_cols:\n",
    "    if f in ['reg_mon', 'info_insert_date', 'tag_insert_date']:\n",
    "        df[f + '_year'] = df[f].dt.year\n",
    "    df[f + '_month'] = df[f].dt.month\n",
    "    if f in ['auditing_date', 'due_date', 'info_insert_date', 'tag_insert_date']:\n",
    "        df[f + '_day'] = df[f].dt.day\n",
    "        df[f + '_dayofweek'] = df[f].dt.dayofweek"
   ]
  },
  {
   "cell_type": "code",
   "execution_count": 77,
   "metadata": {},
   "outputs": [],
   "source": [
    "df.drop(columns=date_cols, axis=1, inplace=True)\n"
   ]
  },
  {
   "cell_type": "code",
   "execution_count": 79,
   "metadata": {},
   "outputs": [],
   "source": [
    "df['taglist'] = df['taglist'].astype('str').apply(lambda x: x.strip().replace('|', ' ').strip())\n"
   ]
  },
  {
   "cell_type": "code",
   "execution_count": 81,
   "metadata": {},
   "outputs": [],
   "source": [
    "tag_cv = CountVectorizer(min_df=10, max_df=0.9).fit_transform(df['taglist'])\n"
   ]
  },
  {
   "cell_type": "code",
   "execution_count": 82,
   "metadata": {},
   "outputs": [
    {
     "data": {
      "text/plain": [
       "<1130000x5977 sparse matrix of type '<class 'numpy.int64'>'\n",
       "\twith 55377908 stored elements in Compressed Sparse Row format>"
      ]
     },
     "execution_count": 82,
     "metadata": {},
     "output_type": "execute_result"
    }
   ],
   "source": [
    "tag_cv"
   ]
  },
  {
   "cell_type": "code",
   "execution_count": 83,
   "metadata": {},
   "outputs": [],
   "source": [
    "del df['user_id'], df['listing_id'], df['taglist']\n"
   ]
  },
  {
   "cell_type": "code",
   "execution_count": 84,
   "metadata": {},
   "outputs": [],
   "source": [
    "# 也可以用lgb.train(categorical_features=cate_cols)\n",
    "df = pd.get_dummies(df, columns=cate_cols)\n"
   ]
  },
  {
   "cell_type": "code",
   "execution_count": 85,
   "metadata": {},
   "outputs": [],
   "source": [
    "df = sparse.hstack((df.values, tag_cv), format='csr', dtype='float32')\n"
   ]
  },
  {
   "cell_type": "code",
   "execution_count": 86,
   "metadata": {},
   "outputs": [],
   "source": [
    "train_values, test_values = df[:train_num], df[train_num:]\n"
   ]
  },
  {
   "cell_type": "code",
   "execution_count": null,
   "metadata": {},
   "outputs": [],
   "source": [
    "skf = StratifiedKFold(n_splits=5, shuffle=True, random_state=2019)\n",
    "clf = LGBMClassifier(\n",
    "    learning_rate=0.05,\n",
    "    n_estimators=10000,\n",
    "    subsample=0.8,\n",
    "    subsample_freq=1,\n",
    "    colsample_bytree=0.8,\n",
    "    random_state=2019\n",
    ")\n",
    "amt_oof = np.zeros(train_num)\n",
    "prob_oof = np.zeros((train_num, 33))\n",
    "test_pred_prob = np.zeros((test_values.shape[0], 33))\n",
    "for i, (trn_idx, val_idx) in enumerate(skf.split(train_values, clf_labels)):\n",
    "    print(i, 'fold...')\n",
    "    t = time.time()\n",
    "\n",
    "    trn_x, trn_y = train_values[trn_idx], clf_labels[trn_idx]\n",
    "    val_x, val_y = train_values[val_idx], clf_labels[val_idx]\n",
    "    val_repay_amt = amt_labels[val_idx]\n",
    "    val_due_amt = train_due_amt_df.iloc[val_idx]\n",
    "\n",
    "    clf.fit(\n",
    "        trn_x, trn_y,\n",
    "        eval_set=[(trn_x, trn_y), (val_x, val_y)],\n",
    "        early_stopping_rounds=100, verbose=5\n",
    "    )\n",
    "    # shepe = (-1, 33)\n",
    "    val_pred_prob_everyday = clf.predict_proba(val_x, num_iteration=clf.best_iteration_)\n",
    "    prob_oof[val_idx] = val_pred_prob_everyday\n",
    "    val_pred_prob_today = [val_pred_prob_everyday[i][val_y[i]] for i in range(val_pred_prob_everyday.shape[0])]\n",
    "    val_pred_repay_amt = val_due_amt['due_amt'].values * val_pred_prob_today\n",
    "    print('val rmse:', np.sqrt(mean_squared_error(val_repay_amt, val_pred_repay_amt)))\n",
    "    print('val mae:', mean_absolute_error(val_repay_amt, val_pred_repay_amt))\n",
    "    amt_oof[val_idx] = val_pred_repay_amt\n",
    "    test_pred_prob += clf.predict_proba(test_values, num_iteration=clf.best_iteration_) / skf.n_splits\n",
    "\n",
    "    print('runtime: {}\\n'.format(time.time() - t))\n",
    "\n",
    "print('\\ncv rmse:', np.sqrt(mean_squared_error(amt_labels, amt_oof)))\n",
    "print('cv mae:', mean_absolute_error(amt_labels, amt_oof))\n",
    "print('cv logloss:', log_loss(clf_labels, prob_oof))\n",
    "print('cv acc:', accuracy_score(clf_labels, np.argmax(prob_oof, axis=1)))"
   ]
  },
  {
   "cell_type": "code",
   "execution_count": null,
   "metadata": {},
   "outputs": [],
   "source": [
    "# # 原本的输出\n",
    "# prob_cols = ['prob_{}'.format(i) for i in range(33)]\n",
    "# for i, f in enumerate(prob_cols):\n",
    "#     sub[f] = test_pred_prob[:, i]\n",
    "# sub_example = pd.read_csv('dataset/submission.csv', parse_dates=['repay_date'])\n",
    "# sub_example = sub_example.merge(sub, on='listing_id', how='left')\n",
    "# sub_example['days'] = (sub_example['repay_date'] - sub_example['auditing_date']).dt.days\n",
    "# # shape = (-1, 33)\n",
    "# test_prob = sub_example[prob_cols].values\n",
    "# test_labels = sub_example['days'].values\n",
    "# test_prob = [test_prob[i][test_labels[i]] for i in range(test_prob.shape[0])]\n",
    "# sub_example['repay_amt'] = sub_example['due_amt'] * test_prob\n",
    "# sub_example[['listing_id', 'repay_date', 'repay_amt']].to_csv('sub.csv', index=False)\n",
    "\n"
   ]
  },
  {
   "cell_type": "code",
   "execution_count": 151,
   "metadata": {},
   "outputs": [],
   "source": [
    "import pickle\n",
    "with open('test_pred_prob.pkl', 'wb') as f:\n",
    "    pickle.dump(test_pred_prob, f)"
   ]
  },
  {
   "cell_type": "code",
   "execution_count": 139,
   "metadata": {},
   "outputs": [],
   "source": [
    "prob_cols = ['prob_{}'.format(i) for i in range(33)]\n"
   ]
  },
  {
   "cell_type": "code",
   "execution_count": null,
   "metadata": {},
   "outputs": [],
   "source": [
    "for i, f in enumerate(prob_cols):\n",
    "    sub[f] = test_pred_prob[:, i]"
   ]
  },
  {
   "cell_type": "code",
   "execution_count": 89,
   "metadata": {},
   "outputs": [],
   "source": [
    "sub_example = pd.read_csv('dataset/submission.csv', parse_dates=['repay_date'])\n"
   ]
  },
  {
   "cell_type": "code",
   "execution_count": 91,
   "metadata": {},
   "outputs": [],
   "source": [
    "sub_example = sub_example.merge(sub, on='listing_id', how='left')\n"
   ]
  },
  {
   "cell_type": "code",
   "execution_count": 121,
   "metadata": {},
   "outputs": [],
   "source": [
    "def add_1_month(s):\n",
    "    s = s.strftime('%F')\n",
    "    y, m, d = str(s).split('-')\n",
    "    y = int(y)\n",
    "    m = int(m)\n",
    "    d = int(d)\n",
    "    m = m + 1\n",
    "    if m == 13:\n",
    "        m = 1\n",
    "        y = y + 1\n",
    "    if m in [4,6,9,11]:\n",
    "        if d == 31:\n",
    "            d = 30\n",
    "    if m == 2:\n",
    "        if d in [29, 30, 31]:\n",
    "            if y in [2012, 2016]:\n",
    "                d = 29\n",
    "            else:\n",
    "                d = 28\n",
    "    return datetime.datetime.strptime(str(y)+'-'+str(m)+'-'+str(d), '%Y-%m-%d')"
   ]
  },
  {
   "cell_type": "code",
   "execution_count": 123,
   "metadata": {},
   "outputs": [
    {
     "data": {
      "application/vnd.jupyter.widget-view+json": {
       "model_id": "bbdb1f0405d94b00b4a719431ce7047c",
       "version_major": 2,
       "version_minor": 0
      },
      "text/plain": [
       "HBox(children=(IntProgress(value=1, bar_style='info', max=1), HTML(value='')))"
      ]
     },
     "metadata": {},
     "output_type": "display_data"
    },
    {
     "name": "stdout",
     "output_type": "stream",
     "text": [
      "\n"
     ]
    }
   ],
   "source": [
    "from tqdm import tqdm, tqdm_notebook\n",
    "tqdm_notebook().pandas()"
   ]
  },
  {
   "cell_type": "code",
   "execution_count": 124,
   "metadata": {},
   "outputs": [
    {
     "data": {
      "application/vnd.jupyter.widget-view+json": {
       "model_id": "ef55c44e4efb4806bfec03265c4c3223",
       "version_major": 2,
       "version_minor": 0
      },
      "text/plain": [
       "HBox(children=(IntProgress(value=0, max=3987078), HTML(value='')))"
      ]
     },
     "metadata": {},
     "output_type": "display_data"
    },
    {
     "name": "stdout",
     "output_type": "stream",
     "text": [
      "\n"
     ]
    }
   ],
   "source": [
    "sub_example['due_date'] = sub_example['auditing_date'].progress_apply(add_1_month)"
   ]
  },
  {
   "cell_type": "code",
   "execution_count": 125,
   "metadata": {},
   "outputs": [
    {
     "data": {
      "text/html": [
       "<div>\n",
       "<style scoped>\n",
       "    .dataframe tbody tr th:only-of-type {\n",
       "        vertical-align: middle;\n",
       "    }\n",
       "\n",
       "    .dataframe tbody tr th {\n",
       "        vertical-align: top;\n",
       "    }\n",
       "\n",
       "    .dataframe thead th {\n",
       "        text-align: right;\n",
       "    }\n",
       "</style>\n",
       "<table border=\"1\" class=\"dataframe\">\n",
       "  <thead>\n",
       "    <tr style=\"text-align: right;\">\n",
       "      <th></th>\n",
       "      <th>listing_id</th>\n",
       "      <th>repay_amt</th>\n",
       "      <th>repay_date</th>\n",
       "      <th>auditing_date</th>\n",
       "      <th>due_amt</th>\n",
       "      <th>days</th>\n",
       "      <th>due_date</th>\n",
       "    </tr>\n",
       "  </thead>\n",
       "  <tbody>\n",
       "    <tr>\n",
       "      <th>0</th>\n",
       "      <td>5431438</td>\n",
       "      <td>4.3309</td>\n",
       "      <td>2019-03-12</td>\n",
       "      <td>2019-03-12</td>\n",
       "      <td>138.5903</td>\n",
       "      <td>0</td>\n",
       "      <td>2019-04-12</td>\n",
       "    </tr>\n",
       "    <tr>\n",
       "      <th>1</th>\n",
       "      <td>5431438</td>\n",
       "      <td>4.3309</td>\n",
       "      <td>2019-03-13</td>\n",
       "      <td>2019-03-12</td>\n",
       "      <td>138.5903</td>\n",
       "      <td>1</td>\n",
       "      <td>2019-04-12</td>\n",
       "    </tr>\n",
       "    <tr>\n",
       "      <th>2</th>\n",
       "      <td>5431438</td>\n",
       "      <td>4.3309</td>\n",
       "      <td>2019-03-14</td>\n",
       "      <td>2019-03-12</td>\n",
       "      <td>138.5903</td>\n",
       "      <td>2</td>\n",
       "      <td>2019-04-12</td>\n",
       "    </tr>\n",
       "    <tr>\n",
       "      <th>3</th>\n",
       "      <td>5431438</td>\n",
       "      <td>4.3309</td>\n",
       "      <td>2019-03-15</td>\n",
       "      <td>2019-03-12</td>\n",
       "      <td>138.5903</td>\n",
       "      <td>3</td>\n",
       "      <td>2019-04-12</td>\n",
       "    </tr>\n",
       "    <tr>\n",
       "      <th>4</th>\n",
       "      <td>5431438</td>\n",
       "      <td>4.3309</td>\n",
       "      <td>2019-03-16</td>\n",
       "      <td>2019-03-12</td>\n",
       "      <td>138.5903</td>\n",
       "      <td>4</td>\n",
       "      <td>2019-04-12</td>\n",
       "    </tr>\n",
       "  </tbody>\n",
       "</table>\n",
       "</div>"
      ],
      "text/plain": [
       "   listing_id  repay_amt repay_date auditing_date   due_amt  days   due_date\n",
       "0     5431438     4.3309 2019-03-12    2019-03-12  138.5903     0 2019-04-12\n",
       "1     5431438     4.3309 2019-03-13    2019-03-12  138.5903     1 2019-04-12\n",
       "2     5431438     4.3309 2019-03-14    2019-03-12  138.5903     2 2019-04-12\n",
       "3     5431438     4.3309 2019-03-15    2019-03-12  138.5903     3 2019-04-12\n",
       "4     5431438     4.3309 2019-03-16    2019-03-12  138.5903     4 2019-04-12"
      ]
     },
     "execution_count": 125,
     "metadata": {},
     "output_type": "execute_result"
    }
   ],
   "source": [
    "sub_example.head()"
   ]
  },
  {
   "cell_type": "code",
   "execution_count": 137,
   "metadata": {},
   "outputs": [],
   "source": [
    "sub_example['days'] = (sub_example['due_date'] - sub_example['repay_date']).dt.days\n"
   ]
  },
  {
   "cell_type": "code",
   "execution_count": 138,
   "metadata": {},
   "outputs": [
    {
     "data": {
      "text/html": [
       "<div>\n",
       "<style scoped>\n",
       "    .dataframe tbody tr th:only-of-type {\n",
       "        vertical-align: middle;\n",
       "    }\n",
       "\n",
       "    .dataframe tbody tr th {\n",
       "        vertical-align: top;\n",
       "    }\n",
       "\n",
       "    .dataframe thead th {\n",
       "        text-align: right;\n",
       "    }\n",
       "</style>\n",
       "<table border=\"1\" class=\"dataframe\">\n",
       "  <thead>\n",
       "    <tr style=\"text-align: right;\">\n",
       "      <th></th>\n",
       "      <th>listing_id</th>\n",
       "      <th>repay_amt</th>\n",
       "      <th>repay_date</th>\n",
       "      <th>auditing_date</th>\n",
       "      <th>due_amt</th>\n",
       "      <th>days</th>\n",
       "      <th>due_date</th>\n",
       "    </tr>\n",
       "  </thead>\n",
       "  <tbody>\n",
       "    <tr>\n",
       "      <th>0</th>\n",
       "      <td>5431438</td>\n",
       "      <td>4.3309</td>\n",
       "      <td>2019-03-12</td>\n",
       "      <td>2019-03-12</td>\n",
       "      <td>138.5903</td>\n",
       "      <td>31</td>\n",
       "      <td>2019-04-12</td>\n",
       "    </tr>\n",
       "    <tr>\n",
       "      <th>1</th>\n",
       "      <td>5431438</td>\n",
       "      <td>4.3309</td>\n",
       "      <td>2019-03-13</td>\n",
       "      <td>2019-03-12</td>\n",
       "      <td>138.5903</td>\n",
       "      <td>30</td>\n",
       "      <td>2019-04-12</td>\n",
       "    </tr>\n",
       "    <tr>\n",
       "      <th>2</th>\n",
       "      <td>5431438</td>\n",
       "      <td>4.3309</td>\n",
       "      <td>2019-03-14</td>\n",
       "      <td>2019-03-12</td>\n",
       "      <td>138.5903</td>\n",
       "      <td>29</td>\n",
       "      <td>2019-04-12</td>\n",
       "    </tr>\n",
       "    <tr>\n",
       "      <th>3</th>\n",
       "      <td>5431438</td>\n",
       "      <td>4.3309</td>\n",
       "      <td>2019-03-15</td>\n",
       "      <td>2019-03-12</td>\n",
       "      <td>138.5903</td>\n",
       "      <td>28</td>\n",
       "      <td>2019-04-12</td>\n",
       "    </tr>\n",
       "    <tr>\n",
       "      <th>4</th>\n",
       "      <td>5431438</td>\n",
       "      <td>4.3309</td>\n",
       "      <td>2019-03-16</td>\n",
       "      <td>2019-03-12</td>\n",
       "      <td>138.5903</td>\n",
       "      <td>27</td>\n",
       "      <td>2019-04-12</td>\n",
       "    </tr>\n",
       "  </tbody>\n",
       "</table>\n",
       "</div>"
      ],
      "text/plain": [
       "   listing_id  repay_amt repay_date auditing_date   due_amt  days   due_date\n",
       "0     5431438     4.3309 2019-03-12    2019-03-12  138.5903    31 2019-04-12\n",
       "1     5431438     4.3309 2019-03-13    2019-03-12  138.5903    30 2019-04-12\n",
       "2     5431438     4.3309 2019-03-14    2019-03-12  138.5903    29 2019-04-12\n",
       "3     5431438     4.3309 2019-03-15    2019-03-12  138.5903    28 2019-04-12\n",
       "4     5431438     4.3309 2019-03-16    2019-03-12  138.5903    27 2019-04-12"
      ]
     },
     "execution_count": 138,
     "metadata": {},
     "output_type": "execute_result"
    }
   ],
   "source": [
    "sub_example.head()"
   ]
  },
  {
   "cell_type": "code",
   "execution_count": null,
   "metadata": {},
   "outputs": [],
   "source": [
    "test_prob = sub_example[prob_cols].values\n"
   ]
  },
  {
   "cell_type": "code",
   "execution_count": 119,
   "metadata": {},
   "outputs": [
    {
     "data": {
      "text/plain": [
       "datetime.datetime(2018, 4, 2, 0, 0)"
      ]
     },
     "execution_count": 119,
     "metadata": {},
     "output_type": "execute_result"
    }
   ],
   "source": [
    "test_labels = sub_example['days'].values\n"
   ]
  },
  {
   "cell_type": "code",
   "execution_count": null,
   "metadata": {},
   "outputs": [],
   "source": [
    "test_prob = [test_prob[i][test_labels[i]] for i in range(test_prob.shape[0])]\n"
   ]
  },
  {
   "cell_type": "code",
   "execution_count": null,
   "metadata": {},
   "outputs": [],
   "source": [
    "sub_example['repay_amt'] = sub_example['due_amt'] * test_prob\n"
   ]
  },
  {
   "cell_type": "code",
   "execution_count": 148,
   "metadata": {},
   "outputs": [
    {
     "data": {
      "text/plain": [
       "'2019-06-24 17-33-18'"
      ]
     },
     "execution_count": 148,
     "metadata": {},
     "output_type": "execute_result"
    }
   ],
   "source": []
  },
  {
   "cell_type": "code",
   "execution_count": null,
   "metadata": {},
   "outputs": [],
   "source": [
    "sub_example[['listing_id', 'repay_date', 'repay_amt']].to_csv(f'sub_{datetime.datetime.now().strftime('%Y-%m-%d %H-%M-%S')}.csv', index=False)\n"
   ]
  },
  {
   "cell_type": "markdown",
   "metadata": {},
   "source": [
    "# 下面这行的结果告诉我一下"
   ]
  },
  {
   "cell_type": "code",
   "execution_count": null,
   "metadata": {},
   "outputs": [],
   "source": [
    "pd.Series(test_prob).describe()"
   ]
  },
  {
   "cell_type": "markdown",
   "metadata": {},
   "source": [
    "# 下面这段会额外生成四个提交文件,全部提交看看"
   ]
  },
  {
   "cell_type": "code",
   "execution_count": null,
   "metadata": {},
   "outputs": [],
   "source": [
    "for threshold in [0.1, 0.15, 0.2, 0.25]:  # 这里的threshold可以根据上面给我看的describe进行修改\n",
    "    sub_example['repay_amt'] = sub_example['due_amt'] * test_prob if test_prob > threshold else 0\n",
    "    sub_example[['listing_id', 'repay_date', 'repay_amt']].to_csv(f'sub_{datetime.datetime.now().strftime('%Y-%m-%d %H-%M-%S')}_{threshold}.csv', index=False)\n"
   ]
  }
 ],
 "metadata": {
  "kernelspec": {
   "display_name": "Python 3",
   "language": "python",
   "name": "python3"
  },
  "language_info": {
   "codemirror_mode": {
    "name": "ipython",
    "version": 3
   },
   "file_extension": ".py",
   "mimetype": "text/x-python",
   "name": "python",
   "nbconvert_exporter": "python",
   "pygments_lexer": "ipython3",
   "version": "3.7.3"
  }
 },
 "nbformat": 4,
 "nbformat_minor": 2
}
